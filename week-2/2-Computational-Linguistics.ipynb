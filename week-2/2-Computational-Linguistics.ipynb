{
 "cells": [
  {
   "cell_type": "markdown",
   "metadata": {},
   "source": [
    "# Week 2 - Counting Words & Phrases (Computational Linguistics)\n",
    "This week, we take text corpora that we have developed, spidered, scraped, and encoded, and we find and count words, simple and parsed phrases and explore the statistical properties of those counts (e.g., word frequency distributions). Initially, we model how to search corpora for keywords or phrases. Next, we examine the distributions of terms and phrases across a corpus, and the correlation between different words and phrase counts. In order to do this effectively, we coarsely disambiguate words based of part-of-speech (POS) tagging, and normalize them through stemming and lemmatization. Next we distinguish *important* words and phrase within the corpus, and image them with Wordls! Then we calculate word frequenceis, conditional frequences (the frequency of word *shock* conditional on the presence of word *awe*), and statistically significant collocations of lengths 2 through $n$. Finally, we calculate and visualize Differences (Divergences and Distances) between the word frequency distributions from two corpora. \n",
    "\n",
    "Then we shift to focus not simply on the *ideas* in a corpus, but also extracting precise *claims*. This process involves a sequential pipeline of classifying and structuring tokens from text, each of which generates potentially useful data for the content analyst. Steps in this process, which we examine in this notebook, include: 1) tagging words by their part of speech (POS) to reveal the linguistic role they play in the sentence (e.g., Verb, Noun, Adjective, etc.); 2) tagging words as named entities (NER) such as places or organizations; 3) structuring or \"parsing\" sentences into nested phrases that are local to, describe or depend on one another; and 4) extracting informational claims from those phrases.\n",
    "\n",
    "We will be introducing spaCy as a package for Computational Linguistics, and also walk you through how to use the Davies Corpora. \n",
    "\n",
    "While we wish to avoid using NLTK for heavy corpus analysis, some of its smaller functions can still be useful.\n",
    "\n",
    "Of course, for final projects that draw on these tools, we encourage you to install the software on your own machines or shared servers at the university (RCC, SSRC) in order to perform these operations on much more text. \n",
    "\n",
    "For this notebook we will be using the following packages:\n"
   ]
  },
  {
   "cell_type": "code",
   "execution_count": 1,
   "metadata": {},
   "outputs": [],
   "source": [
    "#Special module written for this class\n",
    "#This provides access to data and to helper functions from previous weeks\n",
    "import lucem_illud #just in case, regularly update your lucem_illud with the following code: pip install git+git://github.com/UChicago-Computational-Content-Analysis/lucem_illud.git\n",
    "\n",
    "#All these packages need to be installed from pip\n",
    "import requests #for http requests\n",
    "import pandas #gives us DataFrames\n",
    "import matplotlib.pyplot as plt #For graphics\n",
    "import wordcloud #Makes word clouds\n",
    "import numpy as np #For divergences/distances\n",
    "import scipy #For divergences/distances\n",
    "import seaborn as sns #makes our plots look nicer\n",
    "import sklearn.manifold #For a manifold plot\n",
    "import json #For API responses\n",
    "import urllib.parse #For joining urls\n",
    "\n",
    "# comp-linguistics\n",
    "import spacy\n",
    "\n",
    "#Displays the graphs\n",
    "import graphviz #You also need to install the command line graphviz\n",
    "\n",
    "#These are from the standard library\n",
    "import os.path\n",
    "import zipfile\n",
    "import subprocess\n",
    "import io\n",
    "import tempfile\n",
    "\n",
    "#This 'magic' command makes the plots work better\n",
    "#in the notebook, don't use it outside of a notebook\n",
    "%matplotlib inline"
   ]
  },
  {
   "cell_type": "markdown",
   "metadata": {},
   "source": [
    "# Retrieving exemplary corpora\n",
    "\n",
    "To get started we will need some examples. Let's start by downloading one of the corpuses from the Davies set purchased for this class and developed by a computational linguist at Brigham Young University. We can get a list of works available from the [corpora here](https://www.english-corpora.org/).\n",
    "\n",
    "In this notebook, I will be accessing the data locally - you also have access to this data through the Dropbox download link. The same code can be modified slighlty to access the rest of the corpora on RCC. \n",
    "There is a notebook describing this process in the same repository, as well as in the same directory on RCC."
   ]
  },
  {
   "cell_type": "code",
   "execution_count": 2,
   "metadata": {},
   "outputs": [],
   "source": [
    "corpus_name = \"/Users/wenqianzhang/Desktop/2022Winter/CCA/data/Movies/\" \n",
    "# corpus_name = \"Movies\""
   ]
  },
  {
   "cell_type": "markdown",
   "metadata": {},
   "source": [
    "Just to be clear, your corpus_name should be different since you're not bhargav. Modify the corpus_name with your directory. This method extracts the text from the zip files and stroes the raw data."
   ]
  },
  {
   "cell_type": "code",
   "execution_count": 3,
   "metadata": {},
   "outputs": [],
   "source": [
    "def loadcorpus(corpus_name, corpus_style=\"text\"):\n",
    "    texts_raw = {}\n",
    "    for file in os.listdir(corpus_name + \"/\"):\n",
    "        if corpus_style in file:\n",
    "            print(file)\n",
    "            zfile = zipfile.ZipFile(corpus_name + \"/\" + file)\n",
    "            for file in zfile.namelist():\n",
    "                texts_raw[file] = []\n",
    "                with zfile.open(file) as f:\n",
    "                    for line in f:\n",
    "                        texts_raw[file].append(line)\n",
    "    return texts_raw"
   ]
  },
  {
   "cell_type": "code",
   "execution_count": 4,
   "metadata": {},
   "outputs": [
    {
     "name": "stdout",
     "output_type": "stream",
     "text": [
      "text_13_idi.zip\n",
      "text_16_qll.zip\n",
      "text_32_ldf.zip\n",
      "text_19_gvc.zip\n",
      "text_05_nko.zip\n",
      "text_17_arp.zip\n",
      "text_01_ote.zip\n",
      "text_28_rfy.zip\n",
      "text_31_akv.zip\n",
      "text_22_etp.zip\n",
      "text_11_uoy.zip\n",
      "text_09_oii.zip\n",
      "text_06_jfy.zip\n",
      "text_14_lnc.zip\n",
      "text_08_loh.zip\n",
      "text_33_kje.zip\n",
      "text_30_wkp.zip\n",
      "text_07_oma.zip\n",
      "text_03_mnq.zip\n",
      "text_21_fqa.zip\n",
      "text_29_oye.zip\n",
      "text_27_fle.zip\n",
      "text_23_fmh.zip\n",
      "text_12_rcq.zip\n",
      "text_00_myn.zip\n",
      "text_10_aoy.zip\n",
      "text_04_mlq.zip\n",
      "text_20_cde.zip\n",
      "text_02_mqu.zip\n",
      "text_26_ngj.zip\n",
      "text_24_ywo.zip\n",
      "text_18_jfj.zip\n",
      "text_25_byg.zip\n",
      "text_15_guo.zip\n"
     ]
    }
   ],
   "source": [
    "movie_raw = loadcorpus(corpus_name)"
   ]
  },
  {
   "cell_type": "code",
   "execution_count": 5,
   "metadata": {},
   "outputs": [
    {
     "data": {
      "text/plain": [
       "[b'\\r\\n',\n",
       " b'@@216680 Hey , I \\'m talking to you Give me 600 dollars You wish ! That \\'s all we \\'ve left And you still go to gamble Shut up I earn the money Even that you ca n\\'t take it for gamble Shut up What \\'re you doing ? Bastard , I \\'m gon na beat you You gambling pig , I \\'ll beat the shit out of you You bitch I \\'ll beat you You dare to hit me with something ! I \\'ll kill you All you know is gambling I \\'ll beat you What \\'re you doing ? Let go of me Stop You \\'ll kill Mom Mom , are you all right ? Do n\\'t touch my money Dad , where \\'re you going ? Go away Dad , do n\\'t go Get lost Dad , come back You take Marble with you The way she \\'s now Do you want to give me trouble ? I \\'m in more trouble than you I am a woman I \\'m a sailor You take care of Marble Just gamble a bit less is enough to raise the kid No way Raising her would be like raising others @ @ @ @ @ @ @ @ @ @ take care of her Marry her when she grows up And you tell her to be smart Do n\\'t marry a gambler Hey , you want a quarrel ? No , never This is the last time You \\'re SO right Do n\\'t rush ... Everyone will have a share Why so crowded ? What \\'re they doing ? Worshipping ancestors With all those many things ? Hey , Granny , Come on Come and take a bite The dishes are good this year Right Marble , have some I \\'ll go get my share of pork This is a leg-washing basin Hey , how can you say that ? Let \\'s go get a share of pork Your share ? You wish ! That \\'s only for boys Yeah , I have a wee-wee . Have you ? Aunty Chiang Lin , one more baby this year ? Yes You are the best in your family Hey , you think it \\'s my will I was compelled by my stupid husband Come on . Let \\'s worship first Eat some roast pork We have a lot of it Honey @ @ @ @ @ @ @ @ @ @ baby ? Yes . Only with Chinese blood What do you mean ? It means I give you a green hat Oh , that goes with my clothes then Eat , no more talk ! So rude . Take it home Get up , go We \\'re going back home Be quick Honey Hey , make a stance Hold it ... Master , every time we \\'ve to stand in a pose If you could teach us something else please Okay Shaolin Masters learn poses for years Hold it ... Okay . I \\'ll teach you something new Watch me See . Get to it Seeing Shanghai Beach in Mainland Here I \\'m still watching it everyday I \\'m so tired Tired ? Let \\'s go to bed for rest I hate Chau Yun Fa the most He did n\\'t marry when I \\'m in China As soon as I \\'m here , he got married You ca n\\'t come to Hong Kong if you do n\\'t marry me You said you are big boss Having a big business Now that I \\'m in Hong Kong ... I \\'m still @ @ @ @ @ @ @ @ @ @ for myself Then I ought to feel much more sorry You ca n\\'t even lay an egg This year I can only get one share of pork And you \\'re blaming me for it ? Damn monkey ... What \\'s going on ? A letter for you Oh , it \\'s you Your monkey glared at me fiercely Will you open it for me ? Read it to me . I am quite illiterate Stop it . Do n\\'t bother him Let me help you . Give me the letter Postman \\'s duty is to deliver and read letters He reads for Aunt Jiao How can you compare to her ? Aunty Jiao is 83 years old Hello , dubbing room Martin ? Martin is working Are you lying to me ? Why should I lie ? I know he \\'s free . Get him You listen yourself then Hello , what \\'s the noise ? Is someone being raped ? Martin , your telephone Hello What took you so long ? Recording is going on Do n\\'t mess around Yes , I know . I wo n\\'t Honey , @ @ @ @ @ @ @ @ @ @ did you spend so much ? I was late for work ... so I took a taxi On your way back do n\\'t forget to buy vegetables Okay And buy a pair of slippers for me Got it , honey I \\'ll hang up . Bye Would n\\'t marry if you know your wife is so bad ! Take pity for the rest of my life Hey , what \\'s on your neck ? Nothing You look piteous She \\'s the piteous one The vampire is here Grandma , grandma Someone is fighting Grandma , grandma Come over quickly What happened ? Someone is fighting Fighting ? Yes Where ? Over there ! You see it ? I spare you this time . No next time Sorry , let me kiss you Cut the bullshit . Go to bed I need to work tomorrow Where at ? That villa over there ! Wow , it looks beautiful Who lives there ? Snow White Kidding , there \\'s no Snow White Oh , murder That \\'s the pig scream Why \\'s the pig screaming so late at night ? Shorty \\'s @ @ @ @ @ @ @ @ @ @ late ? So the government wo n\\'t know But how could a pig \\'s scream be so terrible ? Why ? Why are n\\'t you tired ? Why are n\\'t you sleepy ? Why have n\\'t you gone to bed ? Why are you so nosy ? Go to sleep ! Here \\'s the kitchen Oil . Salt . Sauce . Vinegar . All there Go tidy up Ask me if you have any question Come dance with me Come on Come Dance I \\'ll teach you . Do n\\'t be afraid Damn dog ! Damn it ! What \\'s such a big deal to be rich ? Pay for my pants Sorry . I do n\\'t mean to be rude Be careful next time Miss , it seems I \\'ve seen you somewhere Of course you have I \\'ll be the Miss Hong Kong in next contest I have nine posters at the Ferry pier And I \\'ve been handing out my photographs all around Never seen one as rude as you Chang Jin This girl is great . She lives in your village ? Of course she \\'s @ @ @ @ @ @ @ @ @ @ And the ugly one\\'s only live in your village Miss , I want my BALL back We \\'re back from Holland Shall we make a friendship ? My dad said she got married Married ? No way Look at her curves ! She sure knows how to keep fit Maybe she never takes birth-control pills Hey , pals Be nice to a girl , huh ? What do you mean ? You think you \\'re a kungfu master ? Get the ball back Okay We \\'re friends . If you do n\\'t give me face At least for my Dad \\'s sake ... let \\'s not make a fuss of this Are you alright ? He hits me . Beat him Stop Just playing . Stop What \\'re you on about ? I \\'ve stopped . Why do n\\'t you stop ? I \\'ll let you go , damn kid Do n\\'t let me see you again I \\'ll kill you next time Let \\'s go , go Waste of strength ! Post-boy . You think you \\'re good We \\'re taking pity on you Yeah Go , go Your @ @ @ @ @ @ @ @ @ @ Sorry to bother you again Please sign Where \\'s Wang ? He went to Kowloon on business Oh , you \\'re bleeding ? Who hurt you ? Let me help you Suppressing anger is not a good thing What ? Let me clean your wound No Okay , I wo n\\'t touch you I \\'ll give you some water , do it yourself How often do you deliver each day ? What are you drawing so late at night ? Go to bed . You have class tomorrow Go to sleep now Dad , I \\'m going to school now Go now . Do n\\'t be late Okay , I know A shepherd drove sheep on the hill Watching farmers farming below ... Jin Bao I have twenty of them Give me one No way My uncle smuggled it from Mainland What is it ? How about I exchange one with a secret What secret ? Last night the White Man tortured his wife I do n\\'t believe you He \\'s so coward to his wife he \\'ll never beat her Then will you give me ? What kind of @ @ @ @ @ @ @ @ @ @ shepherd laughed ... Master Good morning , teacher I \\'ve taught you ... to write yourselves a letter And learn to write your home address That \\'d help uncle Postman to deliver No , Mister Postman Oh yes , calling \\' uncle \\' is too old Yes Now come out to get your letter when I call you Wang Jia Leung Here Wang Shi Chung Here Shu Ker Ying Here She \\'s a cripple ! Do n\\'t laugh at her Wang Jia Hao Here Wang Jie Hwa Here Wang Wan Wen Here Wang Tian Sheng Here Marble Mister You have a letter from your dad Your Grandma said he \\'s in Panama What has he written ? Just ask your Grandma No My Dad is dead Do n\\'t curse him I do n\\'t like him Go away Go away Let me go Let me go ... Damn dog Go away Let go of me The damn dog bites anything it sees I always get bitten when delivering letters Do n\\'t tell people about it I wo n\\'t . I \\'ll do as you said You \\'ll be responsible if anyone @ @ @ @ @ @ @ @ @ @ your secret Let \\'s hook our pinkies I \\'ll be true to my word Wait for me ? When I \\'m young no-one likes me I hope someone would love me like crazy If not , I hope I have lots of money If no money , I wish I can be famous Let everyone know me at least If I have nothing else I hope I \\'m prettier than others Staying pretty longer is okay Being a woman is indeed tragic ! But you have everything now How poor of you , silly girl ? You never stay with me overnight You \\'d better find an excuse to convince me My wife does n\\'t understand me Take any man in the world Not one would say his wife understands him I really love you Not for your money Do n\\'t think you \\'re Santa Claus Why would I do this ? So cheap ! Go to bed early Do n\\'t abuse drugs Wang , give me a red cloth Okay Lin , give him a red cloth Big one or small one ? Big one , of course Did @ @ @ @ @ @ @ @ @ @ You think old Wang can do that ? You are good Your hand is so white , I believe you \\'d have made it Lin , go to work if you \\'ve nothing else Okay , five dollars Bin , why did you have to come yourself to buy ? What else do you need ? Nothing else . I \\'ll come later See you I know all the neighbours around here Hey , get the button fastened I ca n\\'t breath if I fasten up Or you buy me a new dress Okay , okay Let me take you to the discount stall Discount stalls only sell cheap stuff I want to visit the fashion shop Look at you Just two months here you \\'ve learned it I learned all about it long before I came Then you be good I \\'ll buy you anything you want Okay ? Then ai n\\'t I good enough now ? Good , you \\'re good Sir , I would like to know ... if there \\'s a new villa here ? You \\'ve real talent Among the mistresses of my husband You @ @ @ @ @ @ @ @ @ @ you want ? Sure He \\'s my Santa Claus You think you \\'re young ? Whatever . I \\'m younger than you I heard you \\'re a dancer What kind of dance are you good at ? The kind that takes hard work ... and looks like mad jumping You have money now Why work so hard ? Is money everything ? No ? Depends on the person Do n\\'t say you love my man No , we use each other What are you laughing at ? One night your husband told me ... his wife does n\\'t understand him He lies , you fool It \\'s not bad he lies to me in that way My husband is sure in bad luck He has a mistress like you He is in luck actually Because he met me You \\'re just a whore What are you here for ? You \\'re great Let me show you something No . Okay , you can go now You do n\\'t like me a bit ? Like you what ? What good are you ? Oh , I dare not Do n\\'t be @ @ @ @ @ @ @ @ @ @ hand Get up , get up Be serious . Come One more time I ca n\\'t Use the hip . Come . Ready Go See , you can do it Got weak hips . I ca n\\'t get up Forget it You are a porn star . No need to get up You bald head You should be an extra forever Oh , I am now Yao Ju , come Coming You play with him Hold it Get me a suit from the wardrobe What \\'s that for ? Meet your girlfriend That one You want it however she looks You take all whatever the age My girl is beautiful And who is that ? Nanny ! Yao Ju Who \\'s she ? I do n\\'t know Why do you always come to me ? I have things to do Then I \\'ll wait for you You have to wait a long time I \\'ll wait for you Then you have to wait a long time What \\'s wrong with me ? At least I am with single mind Why do you hit her ? Yeah , why do you @ @ @ @ @ @ @ @ @ @ dare I \\'ll kill you You do n\\'t want me You dump me after you have had sex with me Is n\\'t it just for money ? No , it is n\\'t for money I love you I am not for money I really love you You \\'re crazy Just make a run Or I \\'ll cut you to pieces Damn shameless bitch Let \\'s play rubber-band rope Come , let \\'s play rubber-band rope Come on Do n\\'t go Come In any event let \\'s clarify our relationship today You have a husband My husband is no use Lower your voice What \\'re you afraid of ? No need to fear if you dare to do it In short , I \\'ll give you money Money ... yes , I \\'ll need a lot of it You think you can afford ? You \\'re prepared , huh ? Let me tell you now My cousin will come next month He \\'d need cash for permit and ID card That takes 50,000 dollars Are you worth it ? Maybe I \\'m not worth it But if I spread word of @ @ @ @ @ @ @ @ @ @ And that woman is more trouble enough You think I do n\\'t know she \\'s a mistress Just think what if her man knows ... of your affair ! Perhaps you can bear losing face She ca n\\'t You have no money , she has You hit me ! My husband never dare hit me . How dare you ! Rape ! Help ! I \\'m being raped ... please help ! Help ! Rape ! Someone rapes me Stop it . That will kill her Hey , that \\'s not enough What \\'s that for ? It \\'s for you Carnation Like it ? Carnation is only for mothers Mother \\'s Day ? Do you ever give anything to your Mom ? She wants nothing She only wants money As if someone would marry you ! She \\'ll have three kids in her teens Get fat as a barrel and smell bad She \\'ll get up every day at six-thirty Cook an egg for your breakfast And says it \\'s good for you Every week you go to Kowloon for tea once Every half a year you \\'d take @ @ @ @ @ @ @ @ @ @ ? No At least I have everything But you do n\\'t have a husband That \\'s okay to me You say so for sure I \\'ll go now If he does n\\'t find me on the phone ... then I \\'ll truly have nothing If he lies to his wife , he can lie to you Are you sure he has no-one else ? That \\'s none of your business What about me ? I left that woman because of you What about this ? I do n\\'t even know who \\'d get the money I do n\\'t care Let go Sit \" RITA \" Miss Rita Last night I passed by your house Your dog scared me Then I fell down And dropped a ring It \\'s my husband \\'s gift You know when a man gives you some gift It \\'s no good if you were to lose it He \\'ll be unhappy Did you see it ? Help me to find it , please The ring is worth 100,000 dollars I \\'ll help you to find it Then I \\'ll wait for your news I \\'m so @ @ @ @ @ @ @ @ @ @ I studied in Grade Two I already hated women That class girl captain ... told the teacher I peeked at her And the teacher hit me hard for it I was hit so hard that it broke the ruler In university I studied the Tang dynasty poems It said women are tender and passionate But I found it to the contrary Women and mean people are hard to deal with It was n\\'t easy for me to stay away from women Now I would n\\'t want one anymore Women are poison ! You \\'re right Let \\'s toast Tonight when you \\'re home You should punish your wife hard All men are brothers ! Great . I \\'ll punish her tonight Fifty to hundred thousand each call Your threat is never-ending After this time ... Once and for all , I \\'ll leave You take this man I \\'m tired of him If you \\'re that crazy for men ... I \\'ll give my Wang to you , too Stupid Where \\'re you going ? Grandma , Grandma . Come on Murder Grandma , hurry What \\'s that serious ? @ @ @ @ @ @ @ @ @ @ ? Over there , you see ? What nonsense ! There \\'s nothing there It \\'s really a murder Hey , stop talking rubbish ! Go to bed Stop looking Kids are innocent Shorty , do n\\'t move Stop moving Shorty , Shorty It was terrible last night I saw two guys fight And then one person ... killed the other ! The killer wore a chain You know , I could ... pull out some hair from the killer But Grandma does n\\'t believe me If you \\'d please check for me What \\'re you doing ? You have n\\'t finished your hair-cut ? What happened ? Go and see Quick What is it ? Quick Come , be quick This is the White Man \\'s house This is the villa This is where Jin Bao lives I live right here That night I saw a murder in there Hey , what \\'s this ? It \\'s a watchband You ca n\\'t even recognise it in picture , stupid Hold it . Hold it . Hold it What \\'s this ? Silly fool , it \\'s Ninja That night @ @ @ @ @ @ @ @ @ @ saw two guys were fighting over there And then one man ... killed the other The killer wore a watchband too I saw it But I \\'m not scared Then I went out and took a look But he had run away I just saw some hair and a lot of footprints Now our first move ... is to check out who \\'s missing in the village ? What are you doing here ? Where \\'s your wife , uncle ? Looking for my wife at your age ? You have guts Go away I \\'ll get your Dad to take you back You \\'d better spend time on study And stop running around Go home Wang , where \\'s your wife ? My wife is sick , okay ! Nosey Have you seen the White Man and his wife ? Shin , go home for meal Hurry Always playing Marble , time for work Do n\\'t run around I \\'m working right now Look here . On the rock Here It \\'s real The White Man Women are sick , vicious ... and fierce . We should kill them @ @ @ @ @ @ @ @ @ @ have to bear with them What is the time ? Oh , time for work Get lost Why are the floor so dirty ? Hey , what \\'re you doing ? I just came early to tidy things up See , what have you done ! I ... White Man . It \\'s him Little girl Little girl Wake up Little girl Wake up You okay ? Are you all right ? But that ca n\\'t be evidence That \\'s the record in my children \\'s diary This proves that everyday he thought of murder Did your teacher tell you ... not to lie to the police ? I have more evidence Take it out I saw that after he killed his wife ... he dragged the corpse away , too That night he did n\\'t return home He went out for drinks Got drunk and slept on a rock And he cursed the women too He almost killed me What a bad White man Always thinking to kill people Chinese wo n\\'t do that The Chinese do n\\'t have that power Go and see Hi Police ? What \\'re @ @ @ @ @ @ @ @ @ @ illegal to play chess ? You have a warrant , sir ? Of course , see It \\'s marijuana Go away ... What are you looking ? Nothing good to see Move away Hey , what \\'re you doing ? He \\'s my husband He just slapped me slightly Is it illegal the husband slapping his wife ? Actually I let him slap me Why are you arresting him ? Where are you going ? I just went back to my Mama \\'s house Why do n\\'t you call me these few days ? Who is he ? His sworn brother What \\'s a \\' sworn brother \\' ? Move . Do n\\'t pretend anymore Sir , he \\'s innocent Do n\\'t arrest him Girl , do n\\'t lie Sir , please do n\\'t arrest my husband Do n\\'t arrest my husband Let him go Dear Hello , Miss Rita Why ? Why am I being fired ? How do I guess if you do n\\'t tell me ? Mister Postman . Mister ? No-one believed the murder I told you about What clue do you have ? I suspected @ @ @ @ @ @ @ @ @ @ if she \\'s dead Wang , you got mail It \\'s hot outside . Come and have a seat Have some tea Busy ? Yeah , the past few days has been killing ! A lot more people at the festival this year ! You ought to take your girlfriend along I do n\\'t have a girlfriend You \\'re kidding Where \\'s Mrs . Wang ? Can you not mention her ? Where has she gone ? I do n\\'t know where she has gone Mind your own business , kid This letter is from my wife Marble , Marble Oh , you are here ! Shorty has been calling you many times Must have found something new What did she say in the letter ? She ran away with someone Now she \\'s with someone else She told me not to think of her Even though we ca n\\'t be a couple She still thinks of writing to me I knew she is a good girl Just the men are bad That \\'s good . That bitch is gone Thank God , we \\'ll have peace now Do n\\'t @ @ @ @ @ @ @ @ @ @ is murdered What ? I go back to answer the phone Grandma said many girls ... worried that they ca n\\'t immigrate in 1997 So they all wanted to marry an old foreigner Those old men are so ugly ! More ugly than Wang You see , I do n\\'t even have time for toilet Old Wang , just a woman One left . More to come I would get you a good girl later Grandma Everyone will quarrel after getting married Stop being a match-maker If I do n\\'t help them make the match ... They will have no-one to quarrel with Let \\'s go home What a crowd ! Look How much is a pack of tissue ? Fifty cents What \\'re you doing ? Idiot I told you Wang \\'s wife is dead No , lousy kid I kept a secret for you What secret ? I wo n\\'t tell anyone About you and Wang \\'s wife Grandma Xiaoji Xiaoji Xiaoji Xiaoji Marble , get dressed . We go to pray Grandma is bad . You killed my Xiaoji You \\'ll have to compensate No other chicken @ @ @ @ @ @ @ @ @ @ doing ? I \\'m gathering the fire wood Oh , do n\\'t sit here Sit over there It \\'ll dirty your pants And you \\'ll need your Grandma to wash it I do n\\'t care What did she do ? Did she make you angry ? She \\'s a killer Jin Bao , faster Yes Shorty , Shorty The village chief gave me 10 dollars to catch grasshopper for the bird And you wo n\\'t investigate my case ? All those you mentioned as missing are still alive I do n\\'t know if you \\'re telling the truth That \\'s no fun I did n\\'t lie to you Please help me , okay Unless ... Unless what ? Unless you let me be the commander Well , you listen to me whatever I say The mission we have tonight ... is to search the suspects and evidences Especially that watchband Yes , especially the watchband Jin Bao , you watch number one to fifteen I \\'m terribly afraid Jin Ju , you watch number to thirty Especially my dad , he \\'s fierce How could your Dad be the murderer @ @ @ @ @ @ @ @ @ @ killer , I \\'ll get him You watch all the shops Okay You watch the pigsty and the doghouse You must obey the order You gather information How come I have nothing to do ? Because you walk slow That \\'s true Fine . I \\'m sick of girls crying You take my post Women are troublesome Everyone take a firecracker as weapon , pass it Use it only if you see the enemies The enemies are tough Be careful . It \\'s life-threatening Understand ? Yes Okay , let \\'s go Go If anything please say it now You do n\\'t speak and did n\\'t let me either You wo n\\'t understand even if I say it Has your husband been found ? In this situation Spreading out is n\\'t the worst . At the most we could flee How \\'d that help ? I am not afraid of getting caught I know I am poor All you love is money Help ! Help ! Shorty , do n\\'t be afraid Do n\\'t be afraid Come back Shorty \\'s spirit , come back Do n\\'t be afraid Shorty \\'s @ @ @ @ @ @ @ @ @ @ ? Who is it ? Ghost ! Open up your eye Shorty , recover Let \\'s stop the investigation , okay ? We just want you to recover Yes Yes , do n\\'t be like that Shorty , do n\\'t be afraid ... please ! Shorty \\'s spirit , come back Shorty \\'s spirit , come back What took so long ? Is it okay ? It \\'s not done yet Mine is fit for eating ? Marble , come to eat Shorty \\'s gone mad . I have no appetite Hey , come over I \\'ll let you be the host . Come It smells great Fire \\'s up It \\'s ready Do n\\'t kill her Are you alright ? Grandma will never kill your chicken I \\'ll buy you another chicken tomorrow I swear I \\'ll never kill your chick You hear me ? What \\'re you doing ? It \\'s all your fault I could watch you once I ca n\\'t watch you forever I \\'m not willing to do that I did n\\'t hate you We had been a couple before I \\'ll burn more food @ @ @ @ @ @ @ @ @ @ \\'ll offer some Chau Yun Fa \\'s photos , too Wang ... I need to talk to you urgently Open the door Wang , I have something to tell you You \\'d better brace yourself for this Do n\\'t be shocked out of mind Actually your wife is dead I knew you would be stunned Relax and listen to me The letters you got It \\'s all a farce It \\'s actually the postman The postman did it After he killed your wife ... He forged her letter to you He knew how The school taught us ... how to write to ourselves Let me see the letter . Quick Then I \\'ll get it for myself So , will you leave ? Where do we go ? To Mainland China , okay ? Whatever You do n\\'t leave until you got trouble Now you got trouble Will this all ever be exposed ? Did you leave any evidence ? The trouble is the letter you wrote What letter ? The letter you forged in her handwriting I had never written any letter So the letter Wang had received ... @ @ @ @ @ @ @ @ @ @ Marble Come . Eat something This is yours Go on ! How come I have more ? And you have less ? You take this bowl It \\'s okay for kids to eat more It \\'s sweet and tasty . Eat now Where \\'s the letter ? Oh , I forgot where I put them Eat ... It \\'s new Yes . Eat while it \\'s hot Relax , Wang Everything will come out fine He ca n\\'t run away I \\'ll move on Or grandma will scold me , bye Bye Brother Yao Where were you last night ? It \\'s late . Time to go Are you ready ? Yes You \\'re always the last Let \\'s go Where \\'s Marble ? Marble is up the hill with Wang Ready , go You see , it flies high It \\'s great It \\'s beautiful Marble , you fly it It \\'s fun Be careful . Be careful What happened ? Marble , Marble What are you doing here ? There \\'s a kite there Yes , go have a look You see Jin Bao , be careful Be @ @ @ @ @ @ @ @ @ @ down It hurts Murderer It \\'s not us He fell down by himself . It \\'s not us Where \\'s Marble ? She was just here Help ... ! Help ! Help ... ! Help ! Mister Postman ... Do n\\'t be afraid Help me Mister Postman Help me Mister Postman Marble , grab my hand Wang Inspector , see Let me Mr . Butterfly give you a lesson Do you know how to act ? Your first day at this , huh ? Sorry , Brother Lang Sorry Hey , what \\'s up ? What \\'s the matter ? They are all fools Yes , he \\'s a fool Be smart Once again Let \\'s do it again One try is okay Calm down Come again Do it better All standby Ready You \\'re shooting movies ? Master , who do you fight with ? That \\'s Wan Ji Lang ? Want a drink , master ? Who \\'s the director ? The one in red glasses A woman Yes Oh no , fell down ! Brother Ji Lang , you okay ? What \\'s wrong with you ? @ @ @ @ @ @ @ @ @ @ , come over Coming It \\'s my turn . Do n\\'t run around It \\'s all yours Yao Ju . Memorize those moves Act better Ready All standby Do it better Do n\\'t make trouble Ready ? Action ! Cut Okay Move the machine here Move it over Come , over here Like that ? Okay ? It \\'s fine You said you \\'d go to Mainland with me Really ? Of course you ca n\\'t remember I did Did you see me shooting movie ? A little bit Next week I \\'ll go to London I will write to you when I arrive You better not go If you do n\\'t go , you do n\\'t need to write You \\'d pay for my living , huh ? No big deal I do n\\'t know what to say That \\'s rubbish Okay Take care Mister Postman Marble , are you alright ? Yes Marble ... It \\'s for you Is it good ? Do you like it ? \\r\\n',\n",
       " b'@@3512517 I \\'m \\' most frightened to death . Sure , after you \\'ve done it eight or nine times , you wo n\\'t even give it a thought . - Gee , Dot , you look swell . - Am I all right ? Lovely . dddd Well , there goes the maiden \\'s prayer . I wonder how I \\'ll act . It \\'s like diving overboard-you never know how the water \\'s going to be till you hit it . - I \\'m so nervous . - Say ... if I could look like you in a wedding gown , I \\'d be a bigamist . Come on . dddd I say , is n\\'t that girl in the bride \\'s outfit a new model ? Why , yes . She \\'s a salesgirl downstairs . We \\'re trying her out . She \\'s got my okay . These guys usually make wisecracks . Do n\\'t let it bother you . I know all the answers- men have been insulting me for years . Say , beautiful . Doing anything tonight ? I \\'m taking my two pet fish out for a drive . There \\'ll be @ @ @ @ @ @ @ @ @ @ Do n\\'t talk back to them . You \\'ll get fired . When they deliver baloney at my door , I always give them a receipt . dddd Honestly , if I ever met a fella ... that did n\\'t try to date me up right off the bat , I think I \\'d fall on his neck . He \\'d probably be too weak to hold you up . Oh , men are all alike . Rich or poor- when it comes to women , they \\'ve only got one idea in their head . Take those fellas out there today- When they did n\\'t try to date you up ... you could tell what they were thinking by the way they looked at ya . And it is n\\'t only those swell society guys either . Ridin \\' the subways during the rush hour , fellas brushing \\' up against you-you know what . Or sit in the theater . Right away some stranger ... takes a seat next to you and that knee business starts . - You said it . - Do n\\'t I know it @ @ @ @ @ @ @ @ @ @ . - Good night . After all , I guess nature made men that way . It \\'s their great weakness . And how we women encourage that weakness . - Well , I don\\'t . - Oh , no . I know you do n\\'t , Dot . - Oh , Mlss Haley . - Yes , Mr . Thompson . - Good night , Dot . Good night . - So long . I just wanted to tell you how awfully well you did this afternoon . - Oh , thank you so much , Mr . Thompson . - You were marvelous . It \\'s been such a hot day- I thought you might like to take a drive . Oh , I \\'d just love to , Mr . Thompson , but , you see ... - my husband \\'s a prizefighter . - Oh . Yes . And he heard about a fella here in the store who tried to make a date with me ... and he \\'s waiting downstairs now to beat him up . - Well - Oh . - Yes . @ @ @ @ @ @ @ @ @ @ take the ride , I had nothing wrong in mind . Oh , no , Mr . Thompson . You see , I never think of things like that . Well , good night . Gee , Dot , that husband prizefighter gag \\'s a pip . I \\'m gon na use that one too . - Do n\\'t men ever think of anything else ? - Well , hardly ever . dddd dddd What are you looking at the river for , baby ? You ai n\\'t expecting anybody , are ya ? Yeah , my grandfather \\'s swimming in from Europe tonight . I got ya . Well ... when the old guy gets here , give him my best regards . You think you can spare any ? Hey , Dot . - Hey , Dot . Come on . I \\'ve got something to show ya . - What ? - There \\'s a fella over here who wo n\\'t flirt . - There ai n\\'t no such animal . - On the level . - His wife must be watching him . No , he @ @ @ @ @ @ @ @ @ @ tumble . A girl ca n\\'t get a tumble ? Wan na bet a quarter ? - That you can make him speak to you ? - Yeah ! - All right . A quarter . - The bet \\'s on . Where is he ? Come on . dd d You want a little sweet Come , come , say pretty please d d Come on , baby and beg for it d d You want a little kiss So pucker up like this d d Coax me nice and gentle , baby d - d Maybe I \\'ll fall dd - Hey . Do you have to do that ? - I \\'m singin \\' . - I had an aunt once who used to make noises like that . She called it \\' \\' neuraliga . \" Neuralgia must run in your family . Yeah ? Well , listen , kid . If you want to prove that something runs in your family , this is the spot . You got a clear deck . - I do n\\'t know whether I won or not . - @ @ @ @ @ @ @ @ @ @ bet her a quarter she could n\\'t get you to talk to her . - Which one of us wins ? - Oh . So you \\'re a couple of them smart janes , huh ? No , we \\'re not . But almost every fella we meet makes a pass at us . When my girlfriend here said you would n\\'t flirt , I just could n\\'t believe it . I suppose you think when you pass by ... guys just naturally drop dead . - No , I don\\'t . - If you do n\\'t want them to flirt with you ... what do you dress like that for ? You wear those clothes for what ? To show off the curves of your body . Look at the waist . What \\'s that so low for ? Yeah . So some guy can get an eyeful . And your dress is deliberately made for the wind to blow up over your knees . Listen , sister . If you do n\\'t want guys to salute ya , take down your flag . You \\'re like all other @ @ @ @ @ @ @ @ @ @ , you wan na call out the police . And if he do n\\'t , you wan na call the army . - You do n\\'t seem to like me . - I think you \\'re a pain in the neck . Well , my name is Dorothy Haley . You ai n\\'t kiddin \\' me a bit . You \\'re like all the other fellas . You just have a new line . That \\'s all . - You \\'ll be making a pass at us yet . - We \\'d make a great team- with my- and your conceit . - Oh , hello , Edna . - Hello there , Jane . How are you ? - Hey . My sister \\'s over here . Come over , will ya ? - Okay . - d Come on , baby d - Hey . Hey . - d You want to dd - Please . Please , will ya ? My nerves . dd Hey . Ai n\\'t there any other tune you can almost sing ? You ai n\\'t told me your name . - Joe @ @ @ @ @ @ @ @ @ @ . He drove a Ford . Did you ever meet him ? Well , I might \\'ve , at that . No . No . The guy I knew drove a Chevrolet , and his name was Fred . No . It could n\\'t have been the same guy . - Oh , you \\'re quite a kidder . - Yeah , you \\'re pretty fresh yourself . Just fresh enough . Say , what makes you such a grouch ? Janes like you . You work all day in some store ... and then you rush home to sleep at night in some stuffy tenement . And you \\'ll be content to do it for the rest of your life ... because you \\'re just a good-time girl . This is where you wan na be , with a lot of saps like that ... yellin \\' their heads off and thinkin \\' they \\'re enjoying themselves . You ai n\\'t got brains enough to realize ... that now is the time you ought a be saving your money ... and trying to make something better of yourself . @ @ @ @ @ @ @ @ @ @ ? - I \\'m here to get fresh air . But you notice I ai n\\'t spendin \\' any dough on you , do n\\'t ya ? Not even an ice cream soda . Say , listen , you big stiff . If you think I \\'m worried ... about you buying me an ice cream soda , you \\'re crazy . I would n\\'t be found dead with ya . Thanks for bringing me home . I had a swell time . Okay . Well , do you want to see me again ? Oh , I should say not . But accidents will happen . Well , I got ta go . I got ta go upstairs now . You see , my mother \\'s dead , and my brother \\'s boss of the house . He gets sore when I stay out late . You know , he \\'s careful for me . But as Edna says , you ca n\\'t watch a girl hard enough ... to keep her good if she do n\\'t want to be . Get 10 cents\\'worth of potato salad too . @ @ @ @ @ @ @ @ @ @ flat all smelled up again . Oh , I know what to get . Gee , I wish she would n\\'t holler down the stairs that way . It do n\\'t give the house no class . My mother always used to holler down the stairs . She did ? Yeah . So \\'s my old man . He sold his coat for a drink and caught pneumonia . He was a terrible lush . Gee . My old lady was nice though . - Hello , Dot . - Hello , Paula . Geez . Everything lives in this house . Nobody \\'ll speak to her anymore but me . It makes my brother sore when I do . But as Edna says , nobody knows whether a person \\'s good or bad but the person themselves . And they wo n\\'t tell . This Edna jane does most of your thinking , do n\\'t she ? Edna \\'s swell . She \\'s got a kid almost seven . She \\'s a widow . Jerome 7 ... 4-7-5-3 . Her mother \\'s been awful sick . Hello ? Esther @ @ @ @ @ @ @ @ @ @ Esther ... you got ta control yourself . 9:15 . I had just looked at the clock . You better stop in at Mr . Levant \\'s . Esther , you got ta get ahold of yourself . There \\'s things to be done . Good-bye . Your mother , Mrs . Gardner ? - Yes . - Oh , I \\'m so sorry for you . Thanks , Miss Haley . Still stays hot out , do n\\'t it ? Do you want me to go up with you , ma\\'am ? Thank you very kindly . I \\'m all right . I \\'m just a little tired , I guess . Good night . - Good night . - Good night . You know , a tenement house like this is awful funny . Here her mother \\'s dead on the fifth floor . And only this morning ... on the second floor ... Mrs . Mills had a new baby . Yeah ? Well , she did n\\'t do that kid no favor . - What do you mean ? - I mean bringing it into the @ @ @ @ @ @ @ @ @ @ take care of it . Oh , Joe , that \\'s a terrible thing to say . What \\'s the kid got to look forward to ? Starvin \\' himself to death in some tenement . Born on the second floor and ... probably die on the fifth . His whole life spent in climbin \\' three flights of stairs . - Oh , Joe , you \\'re terrible hard . - Yeah ? Well , here \\'s one guy \\'s gon na beat this game , see ? No poverty , no pinching \\' , no scrimping \\' for me . I got $580 saved up , see ? In a couple of months , I \\'m gon na have my own radio shop . Yeah . Gee , there are a lot of things in life besides just money . Yeah . Sure there \\'s a lot of things in life beside money . But you got ta have money to find them . Well ... I got ta go now . My brother will lay me out in lavender . I went to Coney Island once and @ @ @ @ @ @ @ @ @ @ . He hit me in the eye . - He did ? - Yeah . - Say , do you want me to go up with you ? - Oh , no . - That \\'d only make it worse . - Yeah ? Well , no guy \\'s gon na hit any jane I go out with , brother or no brother . Oh , he just wants to see that I keep straight . - But as Edna says-- Ah , who cares what Edna says ? Well ... I got ta go now . I told you not to bring any Llmburger cheese In here . I wo n\\'t have the flat all stunk up ! Well , It do n\\'t smell after It \\'s eaten . There \\'s a tenement for ya . A woman dies , a baby \\'s born ... and a guy \\'s wife wo n\\'t let him eat Limburger . Gee , you \\'re a funny fella , Joe . In fact , you \\'re the first guy I ever went out with that did n\\'t try to get fresh . Well @ @ @ @ @ @ @ @ @ @ , you know , I like you an awful lot . Okay . You \\'ll probably be just nutty enough to call me up at the shop . The number \\'s Schuyler 4 ... 6-5-8-3 . Four , 65 , 83 . That \\'s the way I always remember numbers . Well , good night . So long . Hey . Walt a minute . My name ain\\'tJoe . It \\'s Eddie Collins . Just a moment . Oh , Eddie . Oh , Eddie , uh , will you have this gentleman \\'s set finished by tomorrow morning ? Yes , sir . I \\'ll work on it tonight . You \\'ve got a great set . - Mmm . Your wife will enjoy that . - Oh , I have n\\'t any wife . - Oh . - That \\'s why I \\'m able to pay $300 for a radio . Well , there \\'s something to that . Of course , if you keep your radio turned on all the time ... you have the effect of a wife anyway . - Yes . - Oh , @ @ @ @ @ @ @ @ @ @ fella \\'s got the right idea . Eddie , now , you take a lesson from him . Do n\\'t get married . Not a Chinaman \\'s chance . He \\'s been getting a lot of telephone calls lately , Mr . Lathrop . - Ah . - Well , I \\'d hate to see you making any mistake , Eddie . Why , you can have your own little place in six months . - But not if you let a woman get a hold on ya . - Oh . I never even think about it . That \\'s the danger . Do you suppose any man would ever marry if he thought of it ? Why , I ca n\\'t even talk to a girl . You know , it \\'s funny about me that way . I \\'d like to be nice to women . You know , say nice things to them , like fellas can . I ca n\\'t though . I think of nice things to say . But when it comes to putting \\' em into words-I only say something sarcastic and @ @ @ @ @ @ @ @ @ @ ? - That \\'s a laugh . - Well , I hope so . Yeah . Hey , sheikh . Hello ? Hello , stupid . How are ya ? Sure , it \\'s me . Yeah . The same place . In front of Loft \\'s candy store . Listen , unconscious . Be on time . I ai n\\'t waiting \\' for any dizzy janes on a street corner , see ? Yeah . 7:30 . Okay . Uh-uh . Oh-Waiting for me , baby ? - I \\'m waiting for my husband . He \\'s the cop on this beat . - Excuse me . Yeah . - I was just going . - Well , ai n\\'t that swell . Say , you got a lot of nerve letting me stand out there in the pouring rain . Gee , I did n\\'t know it was so late . I got to foolin \\' around with this thing . Ai n\\'t it a pip ? It \\'ll bring in anything from KGO to L20 . - No kidding . - Yeah . Sweet job , huh @ @ @ @ @ @ @ @ @ @ I had to do with it . What do I care what you had to do with it ? I \\'m not Marconi ... or Edison or whoever invented the thing . - I \\'m standing out there-- All right . My mistake . Radio \\'s my job . I \\'m gon na have my own store soon . - I thought you were interested in my work . - I am interested , Eddie . But , gee , I got a right to be sore , standing out in the rain like that . Well , after all , you ca n\\'t saw sawdust . What kind of a crack is that ? \\' \\' You ca n\\'t saw sawdust . \" I mean it \\'s done . All I can do is say that I \\'m sorry . - Do you forgive me ? - Well , I got a right to be sore . All right . You \\'re sore . What are you kicking about ? - Well , I got a right . - All right . - Well ? - Well ? Aw @ @ @ @ @ @ @ @ @ @ , come on . Come on . Come on . Say it . Come on . Come on . Okay . How \\'d you ever find the place ? I remember you said it was on the third floor in the front . Come on . Take your coat off and stay a while . Oh , no , Eddie . Let \\'s go to a movie , huh ? Ah , look . It \\'s raining cats and dogs out . - Well , I ca n\\'t stay here . - What \\'s the matter with this ? My brother would rip me apart if he knew I was alone with a fella in his room . Suppose your landlady found me . Gee , she \\'d think I was a tramp or something . Ah , they do n\\'t expect nothing raw here . This ai n\\'t no $12-a-day hotel . Ah , let \\'s wait downstairs then . It might rain for an hour yet . Let \\'s stay here where they have ashtrays and things . I got ta go . Besides , it ai n\\'t @ @ @ @ @ @ @ @ @ @ you . - Did I ever get fresh with ya ? - No . But I ai n\\'t that kind of a girl . I do n\\'t go to fellas \\' rooms . Listen . I got other things to think about , see ? I \\'m gon na have my own store soon . I was talking to the boss about it only today . Oh , gee , Eddie . That \\'ll be swell . None of that mushy stuff for me . - Give us a kiss , will ya ? - Oh . None of that mushy stuff , huh ? Ah , well , a little of it \\'s all right . - Come on . Take off your coat and stay a while . - Oh , no . I ca n\\'t . Oh , no . - Eddie , now-- Come on . Take it off . Come on . - Take that hat off . - Stay - Oh , no . - Eddie , I \\'m not gon na take my hat off . - Come on . - Oh , @ @ @ @ @ @ @ @ @ @ gee . I did n\\'t know it was as late as that . - Ah , it \\'s early yet . - Well , I got ta go . Stopped raining . Hey , lookit . There \\'s a fella trying to kiss a girl . Where ? - Here . - Oh , Eddie . Oh , Eddie , please do n\\'t . I got ta go . Aw , gee . You ca n\\'t be with me two minutes but you got ta pull that \\' \\' I got ta go \" gag . Aw , no . But you do n\\'t understand . I must go . You \\'d think I was poison or something . - Oh , no , but it \\'s getting late , and I ca n\\'t stay any longer . - I know . You got ta go . Aw , Eddie . Do n\\'t get mad . I \\'m not mad . But you \\'re always talking about \\' \\' I got ta go . \" Well , I do have to go . It \\'s only about 4:00 . Yeah @ @ @ @ @ @ @ @ @ @ in my life . Oh , my brother will kill me . Aw , gee , kid . Please do n\\'t do that . If I could only find Edna . Aw , ca n\\'t you do anything without Edna \\'s help ? My brother \\'s stuck on her . If she was there , he would n\\'t be sore at me . At least he would n\\'t holler . He \\'s got a terrible temper . Well , you want to go over and try Edna \\'s house again ? No . If she was there , she \\'d open the door . She must be sleeping at her aunt\\'s . - Come on . - What are you gon na do ? I \\'m goin \\' up and tell your brother you were with me . No . You ca n\\'t go up . There \\'d only be a fight . Aw , there would n\\'t be any fight . He \\'d make one crack , I \\'d hang that in his jaw , and the fight would be all over . Oh , gee , Eddie . @ @ @ @ @ @ @ @ @ @ - Oh , do n\\'t just say ... - \\' \\' Okay . \" - Aw , gee , kid . I ai n\\'t much , and ... well , you-you know ... words do n\\'t seem to-- Aw , what are you bawling for ? - Oh , Eddie . Aw , gee , kid . I \\'m sorry . It \\'s all my fault . Me staying out till 4:00 in the morning . What \\'ll I do ? I tell ya . You can say we were gon na get married . - Oh , he \\'d find out we weren\\'t . - How ? When we did n\\'t . Well , we would . - We would ? - Would ya ? You mean you\\'re- you \\'re asking me to marry you ? Yeah . Oh . Oh , sure I will , Eddie . Okay . I \\'ll love to marry you , Eddie . You \\'ll never be sorry or anything , honest you won\\'t . - But I never thought you meant we \\'d really get married . - Neither did I . @ @ @ @ @ @ @ @ @ @ to back out , I won\\'t-- Oh . - So you want to make an argument out of it , huh ? - No . Listen . I never back out ever , see ? And let me tell you something . You ai n\\'t putting \\' nothin \\' over on me neither . - I don\\'t-- Not a thing . If I did n\\'t think ... you were the swellest jane in the world , I never would have given you a tumble . For me , nothing but the best , see ? So if you \\'ve got any idea in your nut that I \\'m the kind of guy ... runs around asking any jane to marry him , you \\'re crazy . Oh , gee , Eddie , you \\'re a scream . Why , you can-you can even make a fight out of a proposal of marriage . But you ai n\\'t kiddin \\' me . You try to make out you \\'re hard-boiled ... but you \\'re not really . Why , you \\'ve got a heart as big as anything . - And @ @ @ @ @ @ @ @ @ @ of a fella a girl can depend on . I was in love with you almost the first time we met . Oh , you \\'re fine and decent and tenderhearted . Oh , Eddie . You \\'re just the sweetest guy in all the world . - Okay . - And we can be happy . Lots of people are married and happy . I \\'m sick and tired of It . ... while you stay out till 4 . ? 00 In the morning-I said enough Is enough ! Get out , you pig ! That \\'ll never happen to us . - I should say not . - Well ? - Do you want me to go up with you ? - No . I \\'m not afraid now . I \\'m not afraid of anything now . You know ... it \\'s sort of like not being alone anymore . Yeah . It is like that , ai n\\'t it ? When \\'ll we be married ? In the morning . And I \\'ll take the day off . Say ... I \\'m kind of happy @ @ @ @ @ @ @ @ @ @ that ? Oh , Eddie . Good night , kid . Good night , darling . - Eddie . - What ? Husband . Okay . Hey , cab . Hello , Edna . What are you doing here ? Jim come over to my house about an hour ago to see if you were there . He was worried about you , so I came back here with him . I , um - I could n\\'t remember the name of that hospital ... you said you were going to to visit that girl . She must be worse , huh ? Your staying there until almost 4:00 . You mean well , Edna , but that \\'s a lot of hooey . - Where were ya ? - Where do you think , Edna ? - I \\'m gon na get married . - No . So , it \\'s as bad as that , huh ? What do you mean it \\'s as bad as that ? I thought girls brought their fellas around and showed them off first to their families . They do in families @ @ @ @ @ @ @ @ @ @ Well , not that you \\'d have brains enough to know it ... but I \\'ve been a pretty good brother to you , see ? I \\'ve been a father and a mother to ya . I \\'m supporting this house . And you \\'ve got some nerve comin \\' in at 4:00 in the morning ... tellin \\' me that you \\'re gon na get married . Why do you object ? You do n\\'t even know the fella . No , but I \\'m going to . Bring him around . Let him meet your family , like any decent fella would want to do . And after a while , if I think he \\'s all right ... you can marry him . - After a while ? - Oh , that gets a rise out of you , does it ? I thought it would . One of them rush marriages . - What do you mean ? - You know what I mean . - You do n\\'t know that I did anything wrong . - I can put two and two together . @ @ @ @ @ @ @ @ @ @ You can prove that you \\'re not . You tell me that you \\'ll wait , or I \\'ll know that you got ta marry this guy . And if that \\'s the case , I do n\\'t want you in the house . - Now , what do you think about that ? - Where \\'ll I go ? Go back where you come from , you little tramp . And get out now . You wo n\\'t take any clothes with you either . I paid for every rag you got on your back . Go on . Get out . You deserve everything you \\'re gettin \\' . Sure does . A girl brought up under the influence of a fine brother like you got . You \\'ll probably end up in the streets . That \\'s what you got in your mind , ai n\\'t it , Jim ? And I wo n\\'t be sorry for her either . No , I do n\\'t expect you to be sorry for her , Jim . But let her have her clothes . - I paid for \\' @ @ @ @ @ @ @ @ @ @ . Let her find out there ai n\\'t another man who \\'ll treat her as white as her own brother did . Go on . Let her have her clothes . All right . Get \\' em , and get out . Hey , Dot . Hey . - Where you goin \\' ? - With the kid , you big bully . You called her a tramp , did n\\'t ya ? Just because she stayed out until 4:00 in the morning and you suspect where she was . Well , I stayed out until 4:00 in the morning , and you knew where I was . So I got a pretty good idea what you think of me . I \\'ll see you in the cemetery . Go on , Dot . Wake up , Dotty . Wake up . Hello , Floyd . Ma just hollered across the air shaft ... and said that she was makin \\' breakfast for a new bride . Are you a new bride ? Yes , darling . I \\'m going to be today . - What \\'s an old one @ @ @ @ @ @ @ @ @ @ on . Run along and play now . Aw , I wan na see Dotty get out of bed . You get out of here . I wan na see Dotty get out of bed . And at his age . - What time is it ? - Almost 11:00 . - I phoned the store and said we were both sick . - Has Eddie come yet ? - Nope . - He has n\\'t ? - Not yet . - I wonder why he does n\\'t come . - Maybe it \\'s \\' cause he does n\\'t know I \\'m here . - That \\'d be a good reason . He certainly would n\\'t come to see me . Oh , he does n\\'t really dislike you , Edna . No , not dislike . He hates me . And it is n\\'t just an average , everyday , amateur kind of hatred either . I \\'ll bet that guy spends hours practicing hating me . Aw , that \\'s just his way . You know , he \\'s kind of funny . That would be great . @ @ @ @ @ @ @ @ @ @ , gee , Edna , it was swell the way you came through for me last night . - I \\'m awful grateful to ya . - And I \\'m grateful toJim . - He saved my life . - How ? Just suppose he did n\\'t turn out to be a heel last night . I \\'d have been married to him in three months , and after being nicely cemented ... with a wedding ring , the church service and everything ... I \\'d have found out what he really is . Yes , sir . He saved my life- \\' cause they send you to the chair these days for killing your husband . In the name of goodness , what are you doing ? - I \\'m trying something , but it wo n\\'t work . - What wo n\\'t ? I put some black ink in the white milk ... and the white milk turned black . But when I put the white milk in the black ink , the black wo n\\'t turn white . Put that ink away and clean up that mess @ @ @ @ @ @ @ @ @ @ what time Is It now ? It \\'s a little after 11:00 . - Where \\'d you put my stockings ? - Why , I put \\' em , uh-Is this Mrs . Cook \\'s boardinghouse ? Well , is Mr . Collins there ? Collins . Eddie Collins . He what ? He moved away ? Well-Well , he lived there last night . He moved away this morning ? Well-Well , did he say where he was moving to ? What \\'s the matter ? - He \\'s walked out on me . - Do n\\'t be a goof . He has . Oh . I wish I was dead . We all get that wish someday . Call up his store . Do you know the number ? Schuyler 4-6583 . Schuyler 4-6583 . And hurry it up , deary . There \\'s a fire . Here . Hello ? Hello , Lathrop Radio Shop ? Well , can I speak to Mr . Collins , please ? Eddie Collins . Never mind the wisecracks . He \\'s there , I wan na speak to him . @ @ @ @ @ @ @ @ @ @ to . Fresh guy trying to flirt with me . He what ? He was fired ? What for ? He said he was fired for robbin \\' the cash register . Well , you \\'re all right then . If he \\'s lost his job , it \\'s a cinch he \\'ll be here to marry ya . I ca n\\'t tell whether the fella was kiddin \\' or not . There he is now . See ? All of your troubles for nothing . Oh , gee , and I \\'m not dressed or anything . Oh , give me those stockings . I do n\\'t wan na subscribe to any magazines . I do n\\'t care if you \\'re working your way through the penitentiary . - Was that him , Edna ? - No . A book agent . Oh . What am I gon na do ? Now , stop worrying . If Eddie is only half the guy I think he is , he wo n\\'t let you down . That \\'s the trouble with us women . If we \\'d only realize that-Something @ @ @ @ @ @ @ @ @ @ ? - I \\'m cookin \\' it for ya . - A whole pound of butter . I told you a piece of butter , not a pound of butter . A pound \\'s a piece . I \\'ll go , Edna . Oh , darling , you \\'re driving me crazy . Get out into the hall . You \\'ve done all the damage in here that you can . See if you can ruin the wallpaper . - Shall I do it with a knife ? - Get out of here ! - Was n\\'t him , huh ? - No . A man selling-For goodness \\' sake , take that long face off . This is your wedding day , not your funeral . He \\'ll be here . There \\'s a mistake somewhere . That \\'s all . Yeah , last night- that was the mistake . Do n\\'t be silly . He \\'ll be here . Oh , but I love him so much . Well , you can still love him and have a cup of coffee in your stomach too . I do @ @ @ @ @ @ @ @ @ @ anything again . - Fine . Then have a glass of milk . - I do n\\'t want any milk . Oh , come on . Have a glass of milk . It \\'ll do you good . You know , the first thing that you have to learn is-I \\'m getting hysterical . Open the door , Floyd . And if it \\'s a man selling coffins , tell him we \\'ll take two . Who \\'s dead ? Oh , Eddie ! - What \\'s the matter ? - Nothing . Say , listen . You \\'re going to be a married man . The first thing you have to learn is to get accustomed to your wife \\'s tears . I was over to your house , and they said you was n\\'t there . So I took a chance and come here . I called up your house , and your landlady said that you \\'d moved . I got a bigger room across the street . My landlady was sore . That \\'s why she would n\\'t tell you where I went . And they @ @ @ @ @ @ @ @ @ @ stealing . They were kidding \\' ya . Oh , Eddie , I \\'m so happy . - Okay . - Now maybe you can eat some breakfast . We \\'ll eat downtown . We got ta get goin \\' . Go get your things . Her master \\'s voice . - Do you know how to get there ? - I \\'ll find out . - I \\'ll tell ya . You take the subway to City Hall . - Yeah ? When you get out of the train , you walk straight ahead and turn to the right . There are two exits there . You take the one to the left . Understand ? - Yeah . - Then when you get up on the street ... - you walk straight ahead-- I \\'m gon na take a cab . I \\'ll tell you which cab to take . Hey . Whose wedding is this , yours or mine ? Oh , Edna \\'s just trying to help us , Eddie . You was n\\'t on the other side when they had the war , were ya @ @ @ @ @ @ @ @ @ @ I was wondering how they ever got along without you . I phoned my orders over . Wo n\\'t you come down and see us get married ? No . I hate those things- deaths and funerals and things like that . Oh , gee , Edna . I can never thank you enough for all you \\'ve done for me . Oh , that \\'s all right , kid . I only hope you \\'re gon na be awful happy . If she ai n\\'t , you \\'ll hear from me , you big stiff . Okay . - Good luck . - So long . Good-bye . Oh , darling ! Night , now . - Hello , darling . - Hello . - What \\'s this ? - Oh . Just a couple of hunks of candy . Oh , gee , Eddie . - You know why ? - Sure . Because you love me , do n\\'t ya ? Ah-- Oh , say it . - What ? Say \\' \\' I love you , darling . \" Right out in all the light ? @ @ @ @ @ @ @ @ @ @ . Ten weeks ago today we got hitched . Aw , gee , it was sweet of you to bring me the candy . And I got news for ya . I found a store . The boss is gon na lend me a hundred bucks ... and with the 650 I got saved up , I can swing the deal . He \\'ll let me have all the radios I want on time . - What do you know about that , huh ? - That \\'ll be swell . Of course , we may have to pinch nickels for a while but ... in the end , it \\'ll all be jake . - Gee whiz , I \\'m a happy guy . - Are you , Eddie ? Yeah . I been thinkin \\' about having my own store for over two years now . And while I ai n\\'t much on tossing \\' this baloney ... and all that mush stuff ... a guy could have a worse wife than you . - Ya little squirt . - Oh , Eddie . - I love you @ @ @ @ @ @ @ @ @ @ your hat and coat on , and I \\'ll take you over and show you the place . - Oh , I ca n\\'t now . - Why not ? I \\'m waitin \\' for Edna . She phoned she \\'ll be up in a little while . - Ah , what does she want ? - Well , I wanted to ask her advice about something . - About what ? - About-Well , about the store , see what she thinks of it . Oh , gee . It \\'ll be tough if she do n\\'t like it . Oh , Eddie , that \\'s not a nice thing to say . Here she is . Now , please do n\\'t be mean to her . Come in . - Hello , Dot . - HI , Edna . How \\'s the grouch ? I thought they sent you down to Washington ... so you could tell the president how to run the country . Ooh . They sent the president up to see me . Oh , do n\\'t mind him , Edna . - He \\'s @ @ @ @ @ @ @ @ @ @ looks it . - He \\'s gon na open his own store soon . - Hmm ! I heard Wanamaker \\'s were going out of business . They probably figured the competition would be too much for \\' em . I \\'m going down to the corner and get a paper . Come on . Sit down . I \\'ve got so much to tell you . - Still in love with him ? - Oh , I \\'m just crazy about him . Edna , I \\'m going to have a baby . Oh , Dot . - I \\'m afraid . - Oh , do n\\'t be silly . - My mother had eight of_\\'em . - Yeah . My mother died having me . Yes , but things are different now . You know , the hospitals are better , and the doctors and things . No girl minds it anymore . - What does Eddie say ? - He does n\\'t know . Well , why do n\\'t you tell him ? Well , his heart \\'s so set on having that store . It \\'ll @ @ @ @ @ @ @ @ @ @ do n\\'t know what to do . Edna , I \\'m so worried . You know , if the store \\'s gon na make Eddie happy , I want him to have it . - Sure . - When I think of what happened to my mother-Unless I had everything of the best- you know , the best doctors and everything-- I \\'d be frightened . - You poor kid . Now listen . This fella you \\'re married to is all right . He \\'s 100 ? /o . I know what \\'s the matter with him . He \\'s one of those sensitive eggs . Of course , he may not like me , but what the heck . Napol ? on had a couple of enemies too . Now you tell Eddie tonight . And if I know anything about men ... he \\'ll be stopping strangers on the street tomorrow , bragging about it . - Do you really think so ? - Oh , sure . All men are alike . They puff themselves up . You \\'d think they \\'d done something . - @ @ @ @ @ @ @ @ @ @ . - He will be . I do n\\'t know though . He \\'s always yelling about living in a tenement ... and what a sin it is to have children if you ca n\\'t afford to give \\' em everything . I do n\\'t think I read anything in the papers about him being born in the White House . He was awful poor . That \\'s why he thinks like that about it . Here he is . Do n\\'t say anything . - You still here ? - No . Dld you get your paper , Eddle ? I got down there , and I did n\\'t have any change . You can get one next week . They \\'ll have a dozen new murders for you by then . Here , let me fix that tie . - It looks like a unbent pretzel . - The tie is-You only wear it . Other people have to look at it . I do n\\'t know how you ever picked this jane out for a friend . - She \\'s the dizziest dame I ever seen . @ @ @ @ @ @ @ @ @ @ , Eddie . Look what I got ! Look what I got ! - Where \\'d you get all this stuff ? - Eddie give us 60 cents to buy it . Aw , he \\'s crazy . It was - Sixty-Oh , what did you wan na come up here for anyway ? Go on outside and play . Go on . Go on . Go on now . Get out of here . Thanks a lot , Eddie ! Gim me a slice of that cone down there . Poor kids . I found \\' em downstairs in that dark hallway tryin \\' to play games . They ai n\\'t got a chance in life . Eddie , did you give him the 60 cents ? Listen , I got better things to do with my money ... than throw it away on a lot of kids . Say , you \\'re a swell egg . What are you gon na sell in your radio store ? Never mind . The way you run people \\'s business for them ... if you start butting \\' in , I @ @ @ @ @ @ @ @ @ @ Well , I \\'m going . - Remember now . Tell him . - Tell him what ? Oh , nothing , Eddie . She \\'s got a secret for ya . Oh , she \\'s got a secret for me , but you know it . Geez , you \\'re runnin \\' my house for me , too , I see . - Sure . Bye , darlin \\' . - See you tomorrow . - Bye , grouch . - So long , dizzy . - What \\'s the big secret ? - I do n\\'t know whether you \\'ll like it or not . Hey , listen , kid . I \\'m so happy about the store , I \\'d like anything . Oh . Well ? What is it ? Eddie , I \\'m going back to work . - Back to work ? - Yeah . Hey , listen . No wife of mine is goin \\' to work . - What \\'d be the harm ? - I \\'ll do all the work that \\'s to be done in this family . - What @ @ @ @ @ @ @ @ @ @ Well-Well , it gets kind of lonesome staying \\' here all day all alone . Ca n\\'t you go to picture shows and things ? You just said we \\'d have to pinch nickels . Yeah , but I did n\\'t mean we \\'d have to pinch \\' em that hard . - You do n\\'t like livin \\' in just one room . Is that it ? - Oh , it \\'s all right . But I wish we had a flat of our own or something-you know , our own furniture . Ca n\\'t you see , Eddie ? If I went to work , you could have your store just the same . And with the money I make , we could-Do you think I \\'d take money you worked for ? - Oh , it \\'d be all right . - Not with me , it would n\\'t . My idea of a husband is a guy that looks after his wife and takes care of her ... and sees that she do n\\'t want for nothin \\' . If I ca n\\'t do that , @ @ @ @ @ @ @ @ @ @ money- you work all day- or let you use it for something that I ought to be payin \\' for . Listen . They got a name for guys like that . Oh , Eddie , I did n\\'t mean to make you sore . I ai n\\'t sore . But I ai n\\'t as happy as I was . You can lay that on a line . It was our 10 weeks anniversary . And I had the store all picked out and everything . And , say , when I come in here tonight , I was walkin \\' on air . This kinda crumbs it all up . Gee , I did n\\'t know you was n\\'t satisfied . Oh , Eddie , I am satisfied . It \\'s all right . Let \\'s not talk about it . - I \\'ll bet that Edna jane put that idea in your nut . - No , she did n\\'t . Let \\'s not say any more about it . You \\'re crazy to have the store , and it \\'ll make you happy . Well , that @ @ @ @ @ @ @ @ @ @ . I \\'m the husband , and it \\'s my job to make you happy . If a husband ai n\\'t for that , he ai n\\'t for nothin \\' . Gee , I told the real estate guy I \\'d meet him tonight . I ca n\\'t make up my mind about that sign . \\' \\' Eddie Collins \" or \\' \\' Edward Collins \" ? Course , \\' \\' Eddie Collins \" is all right for a saloon or somethin \\' like that . Nope , it ai n\\'t got class enough for a radio store . I \\'ll be back in 15 or 20 minutes . And I still think that Edna jane put that idea in your nut . I was afraid you was n\\'t comin \\' . What \\'s the idea of phoning \\' me to meet you here ? - Dot and me are movin \\' here . - You \\'re movin \\' here ? Sure . I got new furniture and everything . That \\'s why I asked you to come . I thought maybe you \\'d help me put \\' em @ @ @ @ @ @ @ @ @ @ in anyway , so I figured out you might as well do it in the beginning . You \\'re moving here ? Yeah . Dot told me that secret . What \\'s that got to do with your moving and spending your money ? She wanted to go to work . - You mean that \\'s the secret she told you ? - Yeah . So I put two and two together and figured out why . She wanted a home with nice furnishings and things . - Say , how much did all this cost you ? - I shot the bankroll . - Oh , no . - Yeah . - All you \\'d saved ? - Sure . This is a swell joint . The furniture man is takin \\' charge . I bought everything new- from soup to nuts . When it \\'s finished , it \\'ll look just like a home that somebody \\'s lived in for a long time . Some surprise for the kid , huh ? Yeah , but what about your store ? Well , I figured , why let her @ @ @ @ @ @ @ @ @ @ build up a business ? I might \\'ve made a flop of the store anyhow . Not that I would \\'ve . I \\'d have made a success of it . Do n\\'t get that idea in your nut . And you spent all your savings ? Sure . She \\'s worth it . She \\'s a great kid . You \\'ll have me crying in a minute , Eddie . What for ? You would n\\'t know . Come on . You never saw anything sweller than that parlor set I bought . Come on . Wait till you get a load of the bedroom . It \\'s got sheets and pillowcases and beds and everything in it . And the kitchen- We got a lot of pots and pans . It \\'s gon na be like a party . See , I \\'m gon na tell Dot that Pat and Sue have got a new flat ... and are havin \\' a housewarming and we \\'re invited . I asked a lot of the gang , and they \\'re in on it too . It \\'s gon na @ @ @ @ @ @ @ @ @ @ parties . And the big payoff comes when I say ... \\' \\' Well , kid , how do you like your new home ? \" What do you think of the idea ? - I do n\\'t know . - You did n\\'t think it up . That \\'s why . Hey , wait a minute . Do n\\'t put that great big chair over there by the divan . - That \\'s where the chair belongs . - No , it is n\\'t . It belongs over on this side . Have n\\'t you got any sense of balance ? - You would get your mouth in it some way or another . dd Hey , hey . Wait until they get here . Aw , have a heart . I have n\\'t had any supper . And do n\\'t drink up all the punch . Here they are . Listen , Pat . Remember , this is supposed to be your home . You \\'re the host . - Right . I \\'ll take off my coat and collar . - That ai n\\'t funny . - @ @ @ @ @ @ @ @ @ @ door . Go on . I did n\\'t even know that Pat had moved from 92nd Street . Sure . They got a swell place here . - Hello , Dot . How are you ? - Hello , Sue . - Hello , Eddie . - I did n\\'t know that you \\'d moved . Oh , I \\'ve been here a week . Come in . Hi , everybody . - Hello , Chad . How are you ? - Hello , Dot . - Hello , Pat . How are you ? - Let me take your coat . - Have a schnapps . - Oh , no , thanks . Oh , gee , Sue , this is swell . Pat must have murdered a millionaire or something . Hey , you ai n\\'t seen nothin \\' yet . Come on out here and I \\'ll show you the kitchen . You \\'d think this was his house . Come on . Let \\'s eat . A closet , and it \\'s got glass in it too . And a sink and a washtub . And @ @ @ @ @ @ @ @ @ @ where you keep your salt and pepper and spices and things . In the one marked \\' \\' Salt , \" you keep the salt . In the one marked \\' \\' Pepper , \" you keep the pepper . Gee , Eddie , ai n\\'t it swell ? Look at that darling table . The guy said it was the breakfast nook . Oh , Eddie , you think we \\'ll ever have a place like this ? - Would you like to live here , kid ? - Oh , gee , would I ? - Of course , we could n\\'t afford-- Why not ? Well , we could n\\'t afford the money now . Well , why now ? - Well , you wan na get your store first . - Yeah . Oh , yeah . That \\'s right . Say , wait till you get a load of the bedroom . Come on ! Say , if Eddie can get Dot a home like this , why ca n\\'t you get me one ? I thought that \\'d crop up . - Look at @ @ @ @ @ @ @ @ @ @ , kid . There \\'s a bed . You ca n\\'t buy a better bed than that- 65 bucks . - But how did you-- Oh , Pat told me . Come on . Feel it . Just feel it . Ai n\\'t this a bed ? Not like that old egg crate we sleep in . I \\'ve never seen you so enthusiastic . The house has sure made a hit with you . Come on . Now I \\'m gon na show you somethin \\' . Just grand . There \\'s the bridges over there . And there \\'s all New York to pick from . Ai n\\'t the lights great ? And the East River . And stars . Are n\\'t they beautiful ? Not phony one\\'s either . Gee , a roof like this would be a swell place for ... kids to play . Would n\\'t it , Eddie ? You know , they could get plenty of fresh air ... and their mothers would n\\'t have to worry about streetcars ... and taxis and trucks and things . You know , rich kids could @ @ @ @ @ @ @ @ @ @ it , do n\\'t you , kid ? Oh , I think it \\'s just grand . I \\'m awful glad for Pat and Sue . Okay . We better get back to the bunch now . You said it . Sue , it \\'s the grandest flat I ever saw . - I \\'m awfully glad you like it , Dot . - Oh , it \\'s sweet for anything . Dot , sit down . Here goes . Well , kid , it \\'s yours . - Mine ? What do you mean , mine ? - Sure . Yours . This is where you \\'re gon na live . I bought it for you . - You bought it for me ? - Sure . You know that secret about goin \\' back to work ? Well , I doped it out that you was n\\'t satisfied where you \\'re livin \\' . So this is the answer . - Well , what about your store ? - Thls Is It . You spent all your money for this ? I shot the works . - You @ @ @ @ @ @ @ @ @ @ n\\'t owe a nickel on It . Well , what do ya say ? I do n\\'t know . Do n\\'t seem to make such a hit with ya now . Naturally , Eddie . She \\'s surprised . You ca n\\'t get a thing like this through your head in a minute . - Did you know he was doing it , Edna ? - Yeah , I helped him fi ? x It up . Why \\'d you let him spend all the money ? Well , folks , it looks like a bust . Oh , no , it is n\\'t , Eddie . I think it \\'s just great . I \\'m tickled to death . - You \\'re the swellest husband any girl ever had . - Okay . Dot \\'s only disappointed for you , Eddie . She was so anxious for you to have the store ... she did n\\'t want you to spend the money for anything else . - That \\'s right . - Sure . That \\'s why , dear . You know I think it \\'s just swell . @ @ @ @ @ @ @ @ @ @ , a long time dead . Live while ya can . That \\'s what I say . When I think of the way my folks used to live . They did n\\'t have enough money to support themselves ... so they go and have nine kids . My old lady used to scrub floors in an office building . 4:00 every morning she went to work- sick or well , summer or winter . I can see her goin\\'out when It was 20 below zero ... with a cough that \\'d tear the heart out of ya . And for what ? To bring up a couple ofklds and die- dle before they was ever any comfort to her . Not for Dot . Every nickel I make , she and I are gon na spend on ourselves . - My sister died bringing up-- Oh , stop it ! Ca n\\'t you stop it ! You \\'d think there was nothin \\' else in the world to talk about . All right . There , there , dear . Shh . What \\'s wrong ? Dot \\'s going to @ @ @ @ @ @ @ @ @ @ , Eddle . No , she \\'s just a little hysterical . That \\'s all . We should n\\'t have talked about those things . - That \\'s right . I guess we shouldn\\'t . - Sue told me , but I forgot . Gee , everybody in New York seems to know about it ... but the only guy that \\'s interested . Oh , gee , Eddie , I wish you \\'d let me do that . Do n\\'t be crazy , will ya ? You \\'re goin \\' to the hospital in a few weeks . You know the doc told you not to do any hard work . I do n\\'t think he knows what he \\'s talkin \\' about . I do n\\'t like him . - You want me to get you a different one ? - No . If you ca n\\'t get the best , he \\'s as good as any of the others , I guess . He \\'s all right . I worry . That \\'s all . - About what ? - About everything . You having to do @ @ @ @ @ @ @ @ @ @ and pinching \\' every nickel the way you have . I do n\\'t want a baby any more than you do . All right , all right . Now you told me that a thousand times . Let \\'s not talk about it . Is there any other doctor you got in mind ? There was somethin \\' in the paper about a society woman . The doctor \\'s name was Burgess . His picture was there . Gee , he was awful kind-lookin \\' . Not that we could get him . He \\'s only for millionaires . As long as you ca n\\'t get him , you might as well pick out the best . Whoo-ooh ! Dot ! Now do n\\'t bring her in here . I do n\\'t want her razzin \\' me . - Good morning . - Hello , Edna . - Hello , Eddie . - So long . Floyd made such a racket , I did n\\'t wait for breakfast . - Got a cup of coffee ? - Sure . Hmm . You got a new washerwoman , I see . @ @ @ @ @ @ @ @ @ @ n\\'t got enough bluing in this water . I knew somethin \\' would be wrong with it when you seen it . - Here . - Thanks . Got a cigarette ? No , I cut \\' em out . They was puttin \\' my throat on the bum . Come on , Edna . Drink this in the other room . Yeah , go on . Beat it , will ya ? You give me the willies . That \\'s good . - How do you feel ? - Oh , all right . - How do you feel when you feel bad ? - I worry . Yeah , and you worry other people too . You worry him . Your child \\'ll probably grow up to be a radio broadcaster . Gee , It \\'s 10 minutes to 8 . ? 00 . I got ta blow . Do n\\'t touch those things . I \\'ll finish \\' em when I come home . - Good-bye , darling . - So long . - So long , meddlesome . - Good-bye , grouch . Break a leg @ @ @ @ @ @ @ @ @ @ me so miserable . - What ? - He \\'s so square about everything . Says smoking hurts his throat . He cut it out so he could save the money . It does n\\'t seem fair that he should give up all his fun just because of me . Yeah , it \\'s tough on husbands . Nobody knows what a husband suffers when his wife has a baby ... and a big juicy raspberry . It must be great for a woman when everything is right- you know , when she can afford a doctor like that man Burgess ... and when she knows her husband wants the baby . You want it , do n\\'t you , Dot ? I \\'m crazy about it . That is , I would be ... if it were n\\'t for Eddie and if I was n\\'t afraid . - How do you know he does n\\'t want it ? - The things he says . I can feel it , too , in the way he acts . He does n\\'t like children . Coochie-coo . Coochie-coo . Coochie , @ @ @ @ @ @ @ @ @ @ it ? - Only seven months . Of course , all parents are proud of their children . But honestly , even if this was somebody else \\'s kid ... I \\'d have to admit it \\'s the cleverest youngster I ever saw . - Do n\\'t you think so , Mama ? - I honestly do . Hey , lookit ! The little son of a gun \\'s got ahold of my finger . That \\'s what I mean . Is n\\'t that clever ? - She \\'s a darling . Look at her . - Coochie-coo . Coochie-coo . Coochie , coochie-coo . Coochie-coo . Coochie-coo . Hey , Eddie . Eddie . Eddie . - Has Mr . Randall \\'s set been fixed for him ? - Yes , sir . - Gee , that \\'s a great kid you got . - We think so . - Say , Mr . Lathrop ? - Yes ? Do you think that a woman havin \\' a baby ... you know , that she has n\\'t always wanted ... could-could learn to love it ... you know , @ @ @ @ @ @ @ @ @ @ Your wife , eh ? She \\'s afraid . Say , there ai n\\'t any danger in these things , is there ? Well , lots of women manage to have babies ... without calling out the militia . There \\'s no danger when they have the proper attention . She should be made to have confidence in her doctor . That \\'s just it . My wife ai n\\'t got any . That \\'s not right . - She speaks of a Dr . Burgess . - Burgess ? You \\'d have to be a millionaire to have him . - Goin \\' to lunch , Eddie ? - Nah , I cut lunches out . I was gettin \\' too fat . - This Dr . Burgess is good , huh ? - And expensive . When a king is born , they send for him . I wonder how you could get in to see a guy like that . - Mr . Lathrop , will you take a look at this set , please ? - Oh , yes . Certainly . Hey , Joe . @ @ @ @ @ @ @ @ @ @ Club ? - Yeah . Do you suppose he could get me on in one of them preliminary fights ? Say , some of those boys are pretty good . - What do you wan na take a beatin \\' for ? - Ten bucks a round . Four rounds- 40 bucks . I can use that dough swell . - I can fix it for ya , but I think you \\'re nutty . - Okay . 7:00 . Say , ai n\\'t that job of yours got any hours ? A guy wanted his radio fixed , so I did it on the side . I should think you \\'d try gettin \\' home ... with your wife goin \\' to the hospital and everything . - How is she ? - She \\'s worrying herself sick . That \\'s how she is . But , gee , she ought n\\'t to do that . I do n\\'t think she knows that . You ought to tell her . - You had any supper ? - I ai n\\'t hungry . Gettin \\' your beauty sleep , kid @ @ @ @ @ @ @ @ @ @ would hurt you to hang around once in a while . Okay . That \\' \\' okay \" does me a lot of good , do n\\'t it ? Gee , kid , you know I \\'m for you , do n\\'t ya ? Well , it do n\\'t look like it . You have n\\'t spent an evening in the house for two weeks now . I do n\\'t mean to be a grouch , Eddie , but ... I \\'m frightened . Is it the doctor ? Is that what makes you afraid ? Oh , he \\'s all right , I guess . It \\'s my fault . You know , you have confidence in some people , and others you have n\\'t . There \\'s no reason . You just have . That \\'s all . Sure , I know how it is , kid . Eddie , you \\'re gon na stick around and go to the hospital with me tonight , ai n\\'t ya ? You betcha . No . Wait a minute . - I tell ya , I got ta go out-- @ @ @ @ @ @ @ @ @ @ - Oh , no . Just for a half an hour , kid . - Ca n\\'t even stay with me tonight . I \\'ll be right back . Honest I will . Mmm . Your honey is searching among the \\' \\' bees . \" Hello ? Yeah , this is his secretary . Mm-hmm . Who wants to talk to him ? Joe ? - There \\'s a Joe wants to talk to you . - Hello , Joe . Tonight ? Sure I \\'ll be there . Hey , that \\'s great . It comes just at the right time . Thanks . So long . I \\'ll be a little longer now , but I \\'ll be back at 9:00 . I got another fella to see now . - You pick a swell night to make a date . - You sure do . This ai n\\'t a date . Honest it ain\\'t . - I \\'ll be back as quick as I can . - Give my love toJenny , will ya ? - WhatJenny ? - WhateverJenny happens to be there . Okay @ @ @ @ @ @ @ @ @ @ hospital . But I \\'m sure the doctor you have is competent . It ai n\\'t that . You see , she \\'s just a kid herself , and she \\'s frightened . Her mother died that way . She read about you In the paper , Dr . Burgess . Well , of course , we never thought we could get ya . She was sayin\\'that It would be swell ... If she could get a guy like you to be with her . Did you tell her you were coming to see me ? No , sir . She and me ai n\\'t been gettin \\' along very well lately . I \\'ve been workin \\' nights . I did n\\'t tell her about it . She thinks I \\'ve been chiseling \\' on her , I guess . I ca n\\'t tell things like that . I \\'m kind of a mug that way . Of course , I could n\\'t pay you what you \\'re worth . But I tell ya . I make 45 bucks a week , and pick up 15 workin \\' nights @ @ @ @ @ @ @ @ @ @ fight tonight . And I got 381 saved up , see ? - Are you a prizefighter ? - No , sir . But a friend of mine \\'s gettin \\' me on ... in the preliminaries over at the Empire Club . I get 10 bucks a round , and I do n\\'t mind takin \\' a beating for 40 bucks . Llsten , Dr . Burgess-I always been kinda proud , see ? You know , pay my own way , take nothin \\' from nobody . But I ai n\\'t that way now , Doc . I \\'m beggin \\' you . If she knew she was gon na have you with her ... everything would be all right . But as it is ... she \\'s so sick from worry-I \\'m afraid maybe she \\'ll die . Will you do it , Doc ? I \\'ll give you the $381 I got saved up ... and I \\'ll pay you back dollar for dollar . Please do it , will ya , Doc ? So help me , God , I\\'ll- I \\'ll lay down my @ @ @ @ @ @ @ @ @ @ Thanks . - I guess I \\'m kinda nervous about this child thing . - Mm-hmm . Kinda goofy , huh ? Gee , Doc , I \\'m sorry I have n\\'t got a cigar or somethin \\' to offer ya . I cut out smokin \\' . It was hurtin \\' my throat . This is a swell dump you got here . Oh , I did n\\'t mean-Okay . Flght ! - He said 9:00 . - Do n\\'t worry . You \\'d think the least he could do would be to be with me tonight . Now , now , now . Do n\\'t get yourself all worked up . One , two-Get out . Get out . Hey , Mike , knock that fella out , will ya ? This ai n\\'t a slaughterhouse . I wanted to give him a break , but I \\'ll put him away right at the next gong . Aw , why do n\\'t ya quit ? I know what I \\'m doin \\' . I would n\\'t take a beatin \\' like that for a hundred bucks . Yeah @ @ @ @ @ @ @ @ @ @ me . One , two , three , four ... five , six ... seven , eight , nine-Uh ! Do n\\'t knock me out , will ya , buddy ? I need the cash . - My wife \\'s gon na have a kid . - Well , why did n\\'t you tell me ? I guess I ca n\\'t make it though . Hold on to me . Take a deep breath . Break it up . Thanks . Good-bye . I \\'ve arranged for the hospital . The cab will be here at 11:00 . I never thought Eddie would do this to me . But , darling , he \\'s only an hour late . Some hours are lifetimes . He \\'s walked out on me . - When \\'s the kid expected ? - Any-Anytime now . - I got two of them . - Yeah ? How long before they get to know ya ? Mine knew me inside of two months . - But of course , mine was kinda extra bright . - Yeah . Oh , gee , kid , I @ @ @ @ @ @ @ @ @ @ bad about you . - I could n\\'t help it . Could n\\'t spend a couple of minutes with me , tonight of all nights ? You know how nervous I am . But you could go to some speakeasy with a bunch of fellas ... and get your face all battered up in a drunken brawl . Is that what ya think ? That \\'s what it looks like to me . Okay . Do you want me to go with ya ? You do n\\'t have to bother about me anymore at all , Eddie . I got Burgess for ya ! - How about it , Doctor ? - Congratulations . Twins . - Twins ? - Twins . - Boys or girls ? - Both . - Twins ! - Yes , sir . The baby business is picking up . Sometimes I was here , and I was the only one . - This your first ? - Yes , and my last . I would n\\'t go through this again for all the money in the world . How many kids have you got @ @ @ @ @ @ @ @ @ @ n\\'t know . You do n\\'t know ? I know I got six . What \\'s happening upstairs , I ca n\\'t tell ya . Here I am . You \\'re the father of a fine baby girl , Mr . Vernon . - Oh , well . - Oh ! - Put him over here on the-- It was too much for him . - He \\'ll be all right . - What \\'s the matter with him ? - I \\'ve got some smelling salts . - That \\'s fine . Give him some . - He \\'ll be all right . - He \\'s as white as a sheet . He \\'ll be all right in a minute . People kid about fathers , but they do n\\'t realize ... what a guy has to go through when his wife has a baby . If he had as many as I got , he \\'d stay unconscious . He \\'s coming to now . He \\'s fine . - What happened ? - You just had a baby . I would n\\'t go through this again for @ @ @ @ @ @ @ @ @ @ , or he \\'ll faint again . - It \\'s all right , Mr . Vernon . You come with me . - Hold him up . - Gee , I \\'m gettin \\' nervous myself now . Do n\\'t be nervous . Say , Mr . Linsky , I wan na ask you a question . My wife was n\\'t any too anxious to- to have this kid . Say , in two weeks , she will be crazy about it . - Is that straight ? - They always are . Be careful . Do n\\'t let her think that you are more concerned for the baby ... than what you are for her . Women get jealous under those conditions . You know , be interested , but not anxious . After all , you \\'ve known your wife for years ... and the baby is practically a stranger . Yeah , that \\'s right . Excuse me . I got ta phone my partner . Mr . Collins ? - Yeah ? - A boy . Okay . Your wife will see you in just a @ @ @ @ @ @ @ @ @ @ you know about that ? My kid \\'s 22 hours old already . They get old very quickly when they \\'re young . - Hello , Doctor . How are they ? - Fine . Say , Doc , I \\'ve got 350 bucks here . - And I \\'ll give ya-- Yeah , well , I have your bill here . Now , I have another patient . I must hurry . - Good luck to you , my lad . - Thanks . Gee , he \\'ll never let me speak to him about money . It says paid in full . And here \\'s a check . \\' \\' Pay to the order of Mr . Edward Collins \\'s son- $50 . \" What does that mean ? He \\'s giving your boy $50 to start a bank account . And he would n\\'t let me give him anything . Gee . That \\'s a guy for ya , ai n\\'t it ? Oh , they \\'re just grand , Mrs . Linsky . Every time I have a baby , my husband gives me a new @ @ @ @ @ @ @ @ @ @ n\\'t have any more room . - What do you think of it ? - Oh . Oh , no , this is n\\'t yours . This baby \\'s six days old . She acts like she hates the child . I guess maybe she did n\\'t want it . Do parents hate children they do n\\'t want ? I heard of people like that . How do you like this one ? - Oh , it \\'s darling . - Oh , no . This is young Mussolini . dd Gee , it \\'s funny when you think of it , ai n\\'t it ? Everybody in the world was once just a little bundle like that . - Is n\\'t this one cute ? - Oh , it \\'s lovely . Just look at those little hands . Did you ever see such an adorable nose ? Gee , it \\'s swell . Do n\\'t you want to hold your baby ? Is this mine ? - Honest ? Oh . - Thls Is It . I would n\\'t cry over It , Mrs . Colllns . It @ @ @ @ @ @ @ @ @ @ . No ? Well , it \\'s the first time this baby was ever born . You can come in now . Hello , kid . - How do you feel ? - All right . Thanks for sending me the flowers . Okay . - Is that it ? - Yes , that \\'s it , and it \\'s no \\' \\' it . \" Well , I did n\\'t mean it that way . Let \\'s not talk about it . - That suits me too , kid . - I thought it would . We \\'ll take him back to the nursery now . I asked Dr . Burgess how we happened to get a fine doctor like him . He just laughed and said that you \\'d tell me . Oh , my boss knew him . He did it for him . - He give me a check for the baby \\'s bank too . - He did ? - Was n\\'t that swell of him ? - Yeah . Those big guys do a lot of work for charity . So you think of @ @ @ @ @ @ @ @ @ @ I-Well - Gee , everything I say seems to be wrong . Oh , Eddie . I \\'d give anything if- well , if things were different . Aw , everything \\'s gon na be all right , kid . We ai n\\'t gon na stop living just because we got a baby . You and me is gon na have a good time , the same as always . Why , In six months we \\'ll have forgotten we got a kid . Please go now . I \\'m tired . Sure . - When \\'ll you be home ? - In about two weeks . Well , hurry it up . I \\'ll feel like stepping \\' out a bit . - So long , kid . - So long . I \\'ll be back every day . Oh , Mrs . Linsky , she \\'s getting bigger every day . What are you going to call her ? I \\'m calling her Shelly , after my mother-in-law . Her name was Esther , but it \\'s close enough . Well , how are all the mothers today @ @ @ @ @ @ @ @ @ @ Is the cab downstairs ? - Yes . Are you ready ? Mm-hmm . - Are you leaving now ? - Yes . But I heard you tell your husband that you were going tomorrow . - I want to surprise him . - Oh . Say , listen , kid . - Have you thought this thing over ? - Yep . I could n\\'t live with a man that did n\\'t like his own child . All he thinks about is stepping out . I could n\\'t go back to Eddie for anything . I \\'d get to hate him . Well , it \\'s your funeral , kid . Well , what are you going to do with that ? Well , I thought maybe the kid would like to fool around with it . What ? A two-weeks-old baby ? Well , it \\'s only a little balloon . The doctor \\'s in the ward . You \\'ll have to wait a few minutes . - Dr . Gibson ? - Yes ? Just a minute , please . - Hurry , Nurse Parson . - @ @ @ @ @ @ @ @ @ @ . My baby . Something \\'s happened to my baby ! Somethlng \\'s happening to my baby . No , Mrs . Collins . It \\'s all right . - I want my baby ! I want my baby ! - He \\'s all right . - I want my baby ! - Please listen . I want my baby ! I want my baby ! I want my baby ! - I want my baby ! - What \\'s the matter , kid ? - Something \\'s happened to my baby . - Where ? In there ! It \\'s not your baby . There \\'s no danger . Your husband will get it . Now , everything is all right . - It \\'s all right . - He \\'s all right , kid . Look . Here he is . - He \\'s all right . - It was Mrs . Burns \\'s baby . Nothing serious . Just a little coughing spell . Oh , gee , kid . I did n\\'t know you liked it . And I thought all along that you did n\\'t @ @ @ @ @ @ @ @ @ @ in your nut . The things you said that night in the flat- you know , about your mother and everything . Well , I thought like that then . But gee , it \\'s different when you got your own kid . Hey , lookit . The little son of a gun \\'s got ahold of my finger . - Dr . Burgess said he had a finely shaped head . - He did ? Hey , look out there , buddy . You might have the future president of the United States in this cab . That \\'s what they all say . - Oh , yeah ? - Oh , Eddie . Now do n\\'t , Eddie . Hey . Let me hold him , will ya ? - You really want to , Eddie ? - Sure . Be careful . Put your arm under his head . - Okay . - There you go , baby . Say , Dr . Burgess was right about the kid \\'s head . That \\'s the best-shaped kid \\'s head I ever saw . He has a lovely @ @ @ @ @ @ @ @ @ @ give me the baby . He \\'s dribbling all over you . Dribbling ? That ai n\\'t the half of it . I \\'m wet clean through . But it \\'s okay . dddd dddd dddd dddd \\r\\n']"
      ]
     },
     "execution_count": 5,
     "metadata": {},
     "output_type": "execute_result"
    }
   ],
   "source": [
    "movie_raw['11.txt'][0:3]"
   ]
  },
  {
   "cell_type": "markdown",
   "metadata": {},
   "source": [
    "It seems messy, but nothing we can't clean. This basic method replaces some of the issues with the formatting, and prints the errors if any for debugging. Let us clean one of the raw text files.\n",
    "\n",
    "We ignore the non-unicode data for convenience in our first pass."
   ]
  },
  {
   "cell_type": "code",
   "execution_count": 6,
   "metadata": {},
   "outputs": [],
   "source": [
    "def clean_raw_text(raw_texts):\n",
    "    clean_texts = []\n",
    "    for text in raw_texts:\n",
    "        try:\n",
    "            text = text.decode(\"utf-8\")\n",
    "            clean_text = text.replace(\" \\'m\", \"'m\").replace(\" \\'ll\", \"'ll\").replace(\" \\'re\", \"'re\").replace(\" \\'s\", \"'s\").replace(\" \\'re\", \"'re\").replace(\" n\\'t\", \"n't\").replace(\" \\'ve\", \"'ve\").replace(\" /'d\", \"'d\")\n",
    "            clean_texts.append(clean_text)\n",
    "        except AttributeError:\n",
    "            # print(\"ERROR CLEANING\")\n",
    "            # print(text)\n",
    "            continue\n",
    "        except UnicodeDecodeError:\n",
    "            # print(\"Unicode Error, Skip\")\n",
    "            continue\n",
    "    return clean_texts"
   ]
  },
  {
   "cell_type": "code",
   "execution_count": 7,
   "metadata": {},
   "outputs": [],
   "source": [
    "clean_11 = clean_raw_text(movie_raw['11.txt'])"
   ]
  },
  {
   "cell_type": "code",
   "execution_count": 8,
   "metadata": {},
   "outputs": [
    {
     "data": {
      "text/plain": [
       "'@@216680 Hey , I\\'m talking to you Give me 600 dollars You wish ! That\\'s all we\\'ve left And you still go to gamble Shut up I earn the money Even that you can\\'t take it for gamble Shut up What\\'re you doing ? Bastard , I\\'m gon na beat you You gambling pig , I\\'ll beat the shit out of you You bitch I\\'ll beat you You dare to hit me with something ! I\\'ll kill you All you know is gambling I\\'ll beat you What\\'re you doing ? Let go of me Stop You\\'ll kill Mom Mom , are you all right ? Don\\'t touch my money Dad , where\\'re you going ? Go away Dad , don\\'t go Get lost Dad , come back You take Marble with you The way she\\'s now Do you want to give me trouble ? I\\'m in more trouble than you I am a woman I\\'m a sailor You take care of Marble Just gamble a bit less is enough to raise the kid No way Raising her would be like raising others @ @ @ @ @ @ @ @ @ @ take care of her Marry her when she grows up And you tell her to be smart Don\\'t marry a gambler Hey , you want a quarrel ? No , never This is the last time You\\'re SO right Don\\'t rush ... Everyone will have a share Why so crowded ? What\\'re they doing ? Worshipping ancestors With all those many things ? Hey , Granny , Come on Come and take a bite The dishes are good this year Right Marble , have some I\\'ll go get my share of pork This is a leg-washing basin Hey , how can you say that ? Let\\'s go get a share of pork Your share ? You wish ! That\\'s only for boys Yeah , I have a wee-wee . Have you ? Aunty Chiang Lin , one more baby this year ? Yes You are the best in your family Hey , you think it\\'s my will I was compelled by my stupid husband Come on . Let\\'s worship first Eat some roast pork We have a lot of it Honey @ @ @ @ @ @ @ @ @ @ baby ? Yes . Only with Chinese blood What do you mean ? It means I give you a green hat Oh , that goes with my clothes then Eat , no more talk ! So rude . Take it home Get up , go We\\'re going back home Be quick Honey Hey , make a stance Hold it ... Master , every time we\\'ve to stand in a pose If you could teach us something else please Okay Shaolin Masters learn poses for years Hold it ... Okay . I\\'ll teach you something new Watch me See . Get to it Seeing Shanghai Beach in Mainland Here I\\'m still watching it everyday I\\'m so tired Tired ? Let\\'s go to bed for rest I hate Chau Yun Fa the most He didn\\'t marry when I\\'m in China As soon as I\\'m here , he got married You can\\'t come to Hong Kong if you don\\'t marry me You said you are big boss Having a big business Now that I\\'m in Hong Kong ... I\\'m still @ @ @ @ @ @ @ @ @ @ for myself Then I ought to feel much more sorry You can\\'t even lay an egg This year I can only get one share of pork And you\\'re blaming me for it ? Damn monkey ... What\\'s going on ? A letter for you Oh , it\\'s you Your monkey glared at me fiercely Will you open it for me ? Read it to me . I am quite illiterate Stop it . Don\\'t bother him Let me help you . Give me the letter Postman\\'s duty is to deliver and read letters He reads for Aunt Jiao How can you compare to her ? Aunty Jiao is 83 years old Hello , dubbing room Martin ? Martin is working Are you lying to me ? Why should I lie ? I know he\\'s free . Get him You listen yourself then Hello , what\\'s the noise ? Is someone being raped ? Martin , your telephone Hello What took you so long ? Recording is going on Don\\'t mess around Yes , I know . I won\\'t Honey , @ @ @ @ @ @ @ @ @ @ did you spend so much ? I was late for work ... so I took a taxi On your way back don\\'t forget to buy vegetables Okay And buy a pair of slippers for me Got it , honey I\\'ll hang up . Bye Wouldn\\'t marry if you know your wife is so bad ! Take pity for the rest of my life Hey , what\\'s on your neck ? Nothing You look piteous She\\'s the piteous one The vampire is here Grandma , grandma Someone is fighting Grandma , grandma Come over quickly What happened ? Someone is fighting Fighting ? Yes Where ? Over there ! You see it ? I spare you this time . No next time Sorry , let me kiss you Cut the bullshit . Go to bed I need to work tomorrow Where at ? That villa over there ! Wow , it looks beautiful Who lives there ? Snow White Kidding , there\\'s no Snow White Oh , murder That\\'s the pig scream Why\\'s the pig screaming so late at night ? Shorty\\'s @ @ @ @ @ @ @ @ @ @ late ? So the government won\\'t know But how could a pig\\'s scream be so terrible ? Why ? Why aren\\'t you tired ? Why aren\\'t you sleepy ? Why haven\\'t you gone to bed ? Why are you so nosy ? Go to sleep ! Here\\'s the kitchen Oil . Salt . Sauce . Vinegar . All there Go tidy up Ask me if you have any question Come dance with me Come on Come Dance I\\'ll teach you . Don\\'t be afraid Damn dog ! Damn it ! What\\'s such a big deal to be rich ? Pay for my pants Sorry . I don\\'t mean to be rude Be careful next time Miss , it seems I\\'ve seen you somewhere Of course you have I\\'ll be the Miss Hong Kong in next contest I have nine posters at the Ferry pier And I\\'ve been handing out my photographs all around Never seen one as rude as you Chang Jin This girl is great . She lives in your village ? Of course she\\'s @ @ @ @ @ @ @ @ @ @ And the ugly one\\'s only live in your village Miss , I want my BALL back We\\'re back from Holland Shall we make a friendship ? My dad said she got married Married ? No way Look at her curves ! She sure knows how to keep fit Maybe she never takes birth-control pills Hey , pals Be nice to a girl , huh ? What do you mean ? You think you\\'re a kungfu master ? Get the ball back Okay We\\'re friends . If you don\\'t give me face At least for my Dad\\'s sake ... let\\'s not make a fuss of this Are you alright ? He hits me . Beat him Stop Just playing . Stop What\\'re you on about ? I\\'ve stopped . Why don\\'t you stop ? I\\'ll let you go , damn kid Don\\'t let me see you again I\\'ll kill you next time Let\\'s go , go Waste of strength ! Post-boy . You think you\\'re good We\\'re taking pity on you Yeah Go , go Your @ @ @ @ @ @ @ @ @ @ Sorry to bother you again Please sign Where\\'s Wang ? He went to Kowloon on business Oh , you\\'re bleeding ? Who hurt you ? Let me help you Suppressing anger is not a good thing What ? Let me clean your wound No Okay , I won\\'t touch you I\\'ll give you some water , do it yourself How often do you deliver each day ? What are you drawing so late at night ? Go to bed . You have class tomorrow Go to sleep now Dad , I\\'m going to school now Go now . Don\\'t be late Okay , I know A shepherd drove sheep on the hill Watching farmers farming below ... Jin Bao I have twenty of them Give me one No way My uncle smuggled it from Mainland What is it ? How about I exchange one with a secret What secret ? Last night the White Man tortured his wife I don\\'t believe you He\\'s so coward to his wife he\\'ll never beat her Then will you give me ? What kind of @ @ @ @ @ @ @ @ @ @ shepherd laughed ... Master Good morning , teacher I\\'ve taught you ... to write yourselves a letter And learn to write your home address That \\'d help uncle Postman to deliver No , Mister Postman Oh yes , calling \\' uncle \\' is too old Yes Now come out to get your letter when I call you Wang Jia Leung Here Wang Shi Chung Here Shu Ker Ying Here She\\'s a cripple ! Don\\'t laugh at her Wang Jia Hao Here Wang Jie Hwa Here Wang Wan Wen Here Wang Tian Sheng Here Marble Mister You have a letter from your dad Your Grandma said he\\'s in Panama What has he written ? Just ask your Grandma No My Dad is dead Don\\'t curse him I don\\'t like him Go away Go away Let me go Let me go ... Damn dog Go away Let go of me The damn dog bites anything it sees I always get bitten when delivering letters Don\\'t tell people about it I won\\'t . I\\'ll do as you said You\\'ll be responsible if anyone @ @ @ @ @ @ @ @ @ @ your secret Let\\'s hook our pinkies I\\'ll be true to my word Wait for me ? When I\\'m young no-one likes me I hope someone would love me like crazy If not , I hope I have lots of money If no money , I wish I can be famous Let everyone know me at least If I have nothing else I hope I\\'m prettier than others Staying pretty longer is okay Being a woman is indeed tragic ! But you have everything now How poor of you , silly girl ? You never stay with me overnight You \\'d better find an excuse to convince me My wife doesn\\'t understand me Take any man in the world Not one would say his wife understands him I really love you Not for your money Don\\'t think you\\'re Santa Claus Why would I do this ? So cheap ! Go to bed early Don\\'t abuse drugs Wang , give me a red cloth Okay Lin , give him a red cloth Big one or small one ? Big one , of course Did @ @ @ @ @ @ @ @ @ @ You think old Wang can do that ? You are good Your hand is so white , I believe you \\'d have made it Lin , go to work if you\\'ve nothing else Okay , five dollars Bin , why did you have to come yourself to buy ? What else do you need ? Nothing else . I\\'ll come later See you I know all the neighbours around here Hey , get the button fastened I can\\'t breath if I fasten up Or you buy me a new dress Okay , okay Let me take you to the discount stall Discount stalls only sell cheap stuff I want to visit the fashion shop Look at you Just two months here you\\'ve learned it I learned all about it long before I came Then you be good I\\'ll buy you anything you want Okay ? Then ain\\'t I good enough now ? Good , you\\'re good Sir , I would like to know ... if there\\'s a new villa here ? You\\'ve real talent Among the mistresses of my husband You @ @ @ @ @ @ @ @ @ @ you want ? Sure He\\'s my Santa Claus You think you\\'re young ? Whatever . I\\'m younger than you I heard you\\'re a dancer What kind of dance are you good at ? The kind that takes hard work ... and looks like mad jumping You have money now Why work so hard ? Is money everything ? No ? Depends on the person Don\\'t say you love my man No , we use each other What are you laughing at ? One night your husband told me ... his wife doesn\\'t understand him He lies , you fool It\\'s not bad he lies to me in that way My husband is sure in bad luck He has a mistress like you He is in luck actually Because he met me You\\'re just a whore What are you here for ? You\\'re great Let me show you something No . Okay , you can go now You don\\'t like me a bit ? Like you what ? What good are you ? Oh , I dare not Don\\'t be @ @ @ @ @ @ @ @ @ @ hand Get up , get up Be serious . Come One more time I can\\'t Use the hip . Come . Ready Go See , you can do it Got weak hips . I can\\'t get up Forget it You are a porn star . No need to get up You bald head You should be an extra forever Oh , I am now Yao Ju , come Coming You play with him Hold it Get me a suit from the wardrobe What\\'s that for ? Meet your girlfriend That one You want it however she looks You take all whatever the age My girl is beautiful And who is that ? Nanny ! Yao Ju Who\\'s she ? I don\\'t know Why do you always come to me ? I have things to do Then I\\'ll wait for you You have to wait a long time I\\'ll wait for you Then you have to wait a long time What\\'s wrong with me ? At least I am with single mind Why do you hit her ? Yeah , why do you @ @ @ @ @ @ @ @ @ @ dare I\\'ll kill you You don\\'t want me You dump me after you have had sex with me Isn\\'t it just for money ? No , it isn\\'t for money I love you I am not for money I really love you You\\'re crazy Just make a run Or I\\'ll cut you to pieces Damn shameless bitch Let\\'s play rubber-band rope Come , let\\'s play rubber-band rope Come on Don\\'t go Come In any event let\\'s clarify our relationship today You have a husband My husband is no use Lower your voice What\\'re you afraid of ? No need to fear if you dare to do it In short , I\\'ll give you money Money ... yes , I\\'ll need a lot of it You think you can afford ? You\\'re prepared , huh ? Let me tell you now My cousin will come next month He \\'d need cash for permit and ID card That takes 50,000 dollars Are you worth it ? Maybe I\\'m not worth it But if I spread word of @ @ @ @ @ @ @ @ @ @ And that woman is more trouble enough You think I don\\'t know she\\'s a mistress Just think what if her man knows ... of your affair ! Perhaps you can bear losing face She can\\'t You have no money , she has You hit me ! My husband never dare hit me . How dare you ! Rape ! Help ! I\\'m being raped ... please help ! Help ! Rape ! Someone rapes me Stop it . That will kill her Hey , that\\'s not enough What\\'s that for ? It\\'s for you Carnation Like it ? Carnation is only for mothers Mother\\'s Day ? Do you ever give anything to your Mom ? She wants nothing She only wants money As if someone would marry you ! She\\'ll have three kids in her teens Get fat as a barrel and smell bad She\\'ll get up every day at six-thirty Cook an egg for your breakfast And says it\\'s good for you Every week you go to Kowloon for tea once Every half a year you \\'d take @ @ @ @ @ @ @ @ @ @ ? No At least I have everything But you don\\'t have a husband That\\'s okay to me You say so for sure I\\'ll go now If he doesn\\'t find me on the phone ... then I\\'ll truly have nothing If he lies to his wife , he can lie to you Are you sure he has no-one else ? That\\'s none of your business What about me ? I left that woman because of you What about this ? I don\\'t even know who \\'d get the money I don\\'t care Let go Sit \" RITA \" Miss Rita Last night I passed by your house Your dog scared me Then I fell down And dropped a ring It\\'s my husband\\'s gift You know when a man gives you some gift It\\'s no good if you were to lose it He\\'ll be unhappy Did you see it ? Help me to find it , please The ring is worth 100,000 dollars I\\'ll help you to find it Then I\\'ll wait for your news I\\'m so @ @ @ @ @ @ @ @ @ @ I studied in Grade Two I already hated women That class girl captain ... told the teacher I peeked at her And the teacher hit me hard for it I was hit so hard that it broke the ruler In university I studied the Tang dynasty poems It said women are tender and passionate But I found it to the contrary Women and mean people are hard to deal with It wasn\\'t easy for me to stay away from women Now I wouldn\\'t want one anymore Women are poison ! You\\'re right Let\\'s toast Tonight when you\\'re home You should punish your wife hard All men are brothers ! Great . I\\'ll punish her tonight Fifty to hundred thousand each call Your threat is never-ending After this time ... Once and for all , I\\'ll leave You take this man I\\'m tired of him If you\\'re that crazy for men ... I\\'ll give my Wang to you , too Stupid Where\\'re you going ? Grandma , Grandma . Come on Murder Grandma , hurry What\\'s that serious ? @ @ @ @ @ @ @ @ @ @ ? Over there , you see ? What nonsense ! There\\'s nothing there It\\'s really a murder Hey , stop talking rubbish ! Go to bed Stop looking Kids are innocent Shorty , don\\'t move Stop moving Shorty , Shorty It was terrible last night I saw two guys fight And then one person ... killed the other ! The killer wore a chain You know , I could ... pull out some hair from the killer But Grandma doesn\\'t believe me If you \\'d please check for me What\\'re you doing ? You haven\\'t finished your hair-cut ? What happened ? Go and see Quick What is it ? Quick Come , be quick This is the White Man\\'s house This is the villa This is where Jin Bao lives I live right here That night I saw a murder in there Hey , what\\'s this ? It\\'s a watchband You can\\'t even recognise it in picture , stupid Hold it . Hold it . Hold it What\\'s this ? Silly fool , it\\'s Ninja That night @ @ @ @ @ @ @ @ @ @ saw two guys were fighting over there And then one man ... killed the other The killer wore a watchband too I saw it But I\\'m not scared Then I went out and took a look But he had run away I just saw some hair and a lot of footprints Now our first move ... is to check out who\\'s missing in the village ? What are you doing here ? Where\\'s your wife , uncle ? Looking for my wife at your age ? You have guts Go away I\\'ll get your Dad to take you back You \\'d better spend time on study And stop running around Go home Wang , where\\'s your wife ? My wife is sick , okay ! Nosey Have you seen the White Man and his wife ? Shin , go home for meal Hurry Always playing Marble , time for work Don\\'t run around I\\'m working right now Look here . On the rock Here It\\'s real The White Man Women are sick , vicious ... and fierce . We should kill them @ @ @ @ @ @ @ @ @ @ have to bear with them What is the time ? Oh , time for work Get lost Why are the floor so dirty ? Hey , what\\'re you doing ? I just came early to tidy things up See , what have you done ! I ... White Man . It\\'s him Little girl Little girl Wake up Little girl Wake up You okay ? Are you all right ? But that can\\'t be evidence That\\'s the record in my children\\'s diary This proves that everyday he thought of murder Did your teacher tell you ... not to lie to the police ? I have more evidence Take it out I saw that after he killed his wife ... he dragged the corpse away , too That night he didn\\'t return home He went out for drinks Got drunk and slept on a rock And he cursed the women too He almost killed me What a bad White man Always thinking to kill people Chinese won\\'t do that The Chinese don\\'t have that power Go and see Hi Police ? What\\'re @ @ @ @ @ @ @ @ @ @ illegal to play chess ? You have a warrant , sir ? Of course , see It\\'s marijuana Go away ... What are you looking ? Nothing good to see Move away Hey , what\\'re you doing ? He\\'s my husband He just slapped me slightly Is it illegal the husband slapping his wife ? Actually I let him slap me Why are you arresting him ? Where are you going ? I just went back to my Mama\\'s house Why don\\'t you call me these few days ? Who is he ? His sworn brother What\\'s a \\' sworn brother \\' ? Move . Don\\'t pretend anymore Sir , he\\'s innocent Don\\'t arrest him Girl , don\\'t lie Sir , please don\\'t arrest my husband Don\\'t arrest my husband Let him go Dear Hello , Miss Rita Why ? Why am I being fired ? How do I guess if you don\\'t tell me ? Mister Postman . Mister ? No-one believed the murder I told you about What clue do you have ? I suspected @ @ @ @ @ @ @ @ @ @ if she\\'s dead Wang , you got mail It\\'s hot outside . Come and have a seat Have some tea Busy ? Yeah , the past few days has been killing ! A lot more people at the festival this year ! You ought to take your girlfriend along I don\\'t have a girlfriend You\\'re kidding Where\\'s Mrs . Wang ? Can you not mention her ? Where has she gone ? I don\\'t know where she has gone Mind your own business , kid This letter is from my wife Marble , Marble Oh , you are here ! Shorty has been calling you many times Must have found something new What did she say in the letter ? She ran away with someone Now she\\'s with someone else She told me not to think of her Even though we can\\'t be a couple She still thinks of writing to me I knew she is a good girl Just the men are bad That\\'s good . That bitch is gone Thank God , we\\'ll have peace now Don\\'t @ @ @ @ @ @ @ @ @ @ is murdered What ? I go back to answer the phone Grandma said many girls ... worried that they can\\'t immigrate in 1997 So they all wanted to marry an old foreigner Those old men are so ugly ! More ugly than Wang You see , I don\\'t even have time for toilet Old Wang , just a woman One left . More to come I would get you a good girl later Grandma Everyone will quarrel after getting married Stop being a match-maker If I don\\'t help them make the match ... They will have no-one to quarrel with Let\\'s go home What a crowd ! Look How much is a pack of tissue ? Fifty cents What\\'re you doing ? Idiot I told you Wang\\'s wife is dead No , lousy kid I kept a secret for you What secret ? I won\\'t tell anyone About you and Wang\\'s wife Grandma Xiaoji Xiaoji Xiaoji Xiaoji Marble , get dressed . We go to pray Grandma is bad . You killed my Xiaoji You\\'ll have to compensate No other chicken @ @ @ @ @ @ @ @ @ @ doing ? I\\'m gathering the fire wood Oh , don\\'t sit here Sit over there It\\'ll dirty your pants And you\\'ll need your Grandma to wash it I don\\'t care What did she do ? Did she make you angry ? She\\'s a killer Jin Bao , faster Yes Shorty , Shorty The village chief gave me 10 dollars to catch grasshopper for the bird And you won\\'t investigate my case ? All those you mentioned as missing are still alive I don\\'t know if you\\'re telling the truth That\\'s no fun I didn\\'t lie to you Please help me , okay Unless ... Unless what ? Unless you let me be the commander Well , you listen to me whatever I say The mission we have tonight ... is to search the suspects and evidences Especially that watchband Yes , especially the watchband Jin Bao , you watch number one to fifteen I\\'m terribly afraid Jin Ju , you watch number to thirty Especially my dad , he\\'s fierce How could your Dad be the murderer @ @ @ @ @ @ @ @ @ @ killer , I\\'ll get him You watch all the shops Okay You watch the pigsty and the doghouse You must obey the order You gather information How come I have nothing to do ? Because you walk slow That\\'s true Fine . I\\'m sick of girls crying You take my post Women are troublesome Everyone take a firecracker as weapon , pass it Use it only if you see the enemies The enemies are tough Be careful . It\\'s life-threatening Understand ? Yes Okay , let\\'s go Go If anything please say it now You don\\'t speak and didn\\'t let me either You won\\'t understand even if I say it Has your husband been found ? In this situation Spreading out isn\\'t the worst . At the most we could flee How \\'d that help ? I am not afraid of getting caught I know I am poor All you love is money Help ! Help ! Shorty , don\\'t be afraid Don\\'t be afraid Come back Shorty\\'s spirit , come back Don\\'t be afraid Shorty\\'s @ @ @ @ @ @ @ @ @ @ ? Who is it ? Ghost ! Open up your eye Shorty , recover Let\\'s stop the investigation , okay ? We just want you to recover Yes Yes , don\\'t be like that Shorty , don\\'t be afraid ... please ! Shorty\\'s spirit , come back Shorty\\'s spirit , come back What took so long ? Is it okay ? It\\'s not done yet Mine is fit for eating ? Marble , come to eat Shorty\\'s gone mad . I have no appetite Hey , come over I\\'ll let you be the host . Come It smells great Fire\\'s up It\\'s ready Don\\'t kill her Are you alright ? Grandma will never kill your chicken I\\'ll buy you another chicken tomorrow I swear I\\'ll never kill your chick You hear me ? What\\'re you doing ? It\\'s all your fault I could watch you once I can\\'t watch you forever I\\'m not willing to do that I didn\\'t hate you We had been a couple before I\\'ll burn more food @ @ @ @ @ @ @ @ @ @\\'ll offer some Chau Yun Fa\\'s photos , too Wang ... I need to talk to you urgently Open the door Wang , I have something to tell you You \\'d better brace yourself for this Don\\'t be shocked out of mind Actually your wife is dead I knew you would be stunned Relax and listen to me The letters you got It\\'s all a farce It\\'s actually the postman The postman did it After he killed your wife ... He forged her letter to you He knew how The school taught us ... how to write to ourselves Let me see the letter . Quick Then I\\'ll get it for myself So , will you leave ? Where do we go ? To Mainland China , okay ? Whatever You don\\'t leave until you got trouble Now you got trouble Will this all ever be exposed ? Did you leave any evidence ? The trouble is the letter you wrote What letter ? The letter you forged in her handwriting I had never written any letter So the letter Wang had received ... @ @ @ @ @ @ @ @ @ @ Marble Come . Eat something This is yours Go on ! How come I have more ? And you have less ? You take this bowl It\\'s okay for kids to eat more It\\'s sweet and tasty . Eat now Where\\'s the letter ? Oh , I forgot where I put them Eat ... It\\'s new Yes . Eat while it\\'s hot Relax , Wang Everything will come out fine He can\\'t run away I\\'ll move on Or grandma will scold me , bye Bye Brother Yao Where were you last night ? It\\'s late . Time to go Are you ready ? Yes You\\'re always the last Let\\'s go Where\\'s Marble ? Marble is up the hill with Wang Ready , go You see , it flies high It\\'s great It\\'s beautiful Marble , you fly it It\\'s fun Be careful . Be careful What happened ? Marble , Marble What are you doing here ? There\\'s a kite there Yes , go have a look You see Jin Bao , be careful Be @ @ @ @ @ @ @ @ @ @ down It hurts Murderer It\\'s not us He fell down by himself . It\\'s not us Where\\'s Marble ? She was just here Help ... ! Help ! Help ... ! Help ! Mister Postman ... Don\\'t be afraid Help me Mister Postman Help me Mister Postman Marble , grab my hand Wang Inspector , see Let me Mr . Butterfly give you a lesson Do you know how to act ? Your first day at this , huh ? Sorry , Brother Lang Sorry Hey , what\\'s up ? What\\'s the matter ? They are all fools Yes , he\\'s a fool Be smart Once again Let\\'s do it again One try is okay Calm down Come again Do it better All standby Ready You\\'re shooting movies ? Master , who do you fight with ? That\\'s Wan Ji Lang ? Want a drink , master ? Who\\'s the director ? The one in red glasses A woman Yes Oh no , fell down ! Brother Ji Lang , you okay ? What\\'s wrong with you ? @ @ @ @ @ @ @ @ @ @ , come over Coming It\\'s my turn . Don\\'t run around It\\'s all yours Yao Ju . Memorize those moves Act better Ready All standby Do it better Don\\'t make trouble Ready ? Action ! Cut Okay Move the machine here Move it over Come , over here Like that ? Okay ? It\\'s fine You said you \\'d go to Mainland with me Really ? Of course you can\\'t remember I did Did you see me shooting movie ? A little bit Next week I\\'ll go to London I will write to you when I arrive You better not go If you don\\'t go , you don\\'t need to write You \\'d pay for my living , huh ? No big deal I don\\'t know what to say That\\'s rubbish Okay Take care Mister Postman Marble , are you alright ? Yes Marble ... It\\'s for you Is it good ? Do you like it ? \\r\\n'"
      ]
     },
     "execution_count": 8,
     "metadata": {},
     "output_type": "execute_result"
    }
   ],
   "source": [
    "clean_11[1]"
   ]
  },
  {
   "cell_type": "markdown",
   "metadata": {},
   "source": [
    "This method cleaned a few basic formatting errors. You are welcome to experiment and add your own code to expand on cleaning the text. Once it begins to look the way you want it to, we can start using spaCy to do some heavier cleaning. spaCy does this through the use of language models. Make sure you have the spaCy english language model loaded. "
   ]
  },
  {
   "cell_type": "code",
   "execution_count": 9,
   "metadata": {},
   "outputs": [],
   "source": [
    "nlp = spacy.load(\"en_core_web_sm\")"
   ]
  },
  {
   "cell_type": "markdown",
   "metadata": {},
   "source": [
    "This model is going to be the basis of most of the tasks which NLTK (the Natural Language Tool Kit) might have done otherwise. While NLTK uses a bunch of clunky models from multiple places, spacy neatly packs all functionality in one model. This deep trained model will start by doing our word tokenizing and normalising. These methods are already included in lucem illud, and here we will just demonstrate them outside the package so to explain what goes on under the hood.\n",
    "\n",
    "When we run text through a spacy model, it performs a lot of computation on each of the tokens. Each token is given certain attributes, such as a part of speech, information whether it is a number, a stop word, and so on. \n",
    "\n",
    "To perform a tokenization, we check if the string includes punctuation and add this token. "
   ]
  },
  {
   "cell_type": "code",
   "execution_count": 10,
   "metadata": {},
   "outputs": [],
   "source": [
    "def word_tokenize(word_list):\n",
    "    tokenized = []\n",
    "    # pass word list through language model.\n",
    "    doc = nlp(word_list)\n",
    "    for token in doc:\n",
    "        if not token.is_punct and len(token.text.strip()) > 0:\n",
    "            tokenized.append(token.text)\n",
    "    return tokenized"
   ]
  },
  {
   "cell_type": "code",
   "execution_count": 11,
   "metadata": {},
   "outputs": [
    {
     "data": {
      "text/plain": [
       "['@@216680',\n",
       " 'Hey',\n",
       " 'I',\n",
       " \"'m\",\n",
       " 'talking',\n",
       " 'to',\n",
       " 'you',\n",
       " 'Give',\n",
       " 'me',\n",
       " '600',\n",
       " 'dollars',\n",
       " 'You',\n",
       " 'wish',\n",
       " 'That',\n",
       " \"'s\",\n",
       " 'all',\n",
       " 'we',\n",
       " \"'ve\",\n",
       " 'left',\n",
       " 'And',\n",
       " 'you',\n",
       " 'still',\n",
       " 'go',\n",
       " 'to',\n",
       " 'gamble',\n",
       " 'Shut',\n",
       " 'up',\n",
       " 'I',\n",
       " 'earn',\n",
       " 'the',\n",
       " 'money',\n",
       " 'Even',\n",
       " 'that',\n",
       " 'you',\n",
       " 'ca',\n",
       " \"n't\",\n",
       " 'take',\n",
       " 'it',\n",
       " 'for',\n",
       " 'gamble',\n",
       " 'Shut',\n",
       " 'up',\n",
       " 'What',\n",
       " \"'re\",\n",
       " 'you',\n",
       " 'doing',\n",
       " 'Bastard',\n",
       " 'I',\n",
       " \"'m\",\n",
       " 'gon',\n",
       " 'na',\n",
       " 'beat',\n",
       " 'you',\n",
       " 'You',\n",
       " 'gambling',\n",
       " 'pig',\n",
       " 'I',\n",
       " \"'ll\",\n",
       " 'beat',\n",
       " 'the',\n",
       " 'shit',\n",
       " 'out',\n",
       " 'of',\n",
       " 'you',\n",
       " 'You',\n",
       " 'bitch',\n",
       " 'I',\n",
       " \"'ll\",\n",
       " 'beat',\n",
       " 'you',\n",
       " 'You',\n",
       " 'dare',\n",
       " 'to',\n",
       " 'hit',\n",
       " 'me',\n",
       " 'with',\n",
       " 'something',\n",
       " 'I',\n",
       " \"'ll\",\n",
       " 'kill',\n",
       " 'you',\n",
       " 'All',\n",
       " 'you',\n",
       " 'know',\n",
       " 'is',\n",
       " 'gambling',\n",
       " 'I',\n",
       " \"'ll\",\n",
       " 'beat',\n",
       " 'you',\n",
       " 'What',\n",
       " \"'re\",\n",
       " 'you',\n",
       " 'doing',\n",
       " 'Let',\n",
       " 'go',\n",
       " 'of',\n",
       " 'me',\n",
       " 'Stop',\n",
       " 'You',\n",
       " \"'ll\",\n",
       " 'kill',\n",
       " 'Mom',\n",
       " 'Mom',\n",
       " 'are',\n",
       " 'you',\n",
       " 'all',\n",
       " 'right',\n",
       " 'Do',\n",
       " \"n't\",\n",
       " 'touch',\n",
       " 'my',\n",
       " 'money',\n",
       " 'Dad',\n",
       " 'where',\n",
       " \"'re\",\n",
       " 'you',\n",
       " 'going',\n",
       " 'Go',\n",
       " 'away',\n",
       " 'Dad',\n",
       " 'do',\n",
       " \"n't\",\n",
       " 'go',\n",
       " 'Get',\n",
       " 'lost',\n",
       " 'Dad',\n",
       " 'come',\n",
       " 'back',\n",
       " 'You',\n",
       " 'take',\n",
       " 'Marble',\n",
       " 'with',\n",
       " 'you',\n",
       " 'The',\n",
       " 'way',\n",
       " 'she',\n",
       " \"'s\",\n",
       " 'now',\n",
       " 'Do',\n",
       " 'you',\n",
       " 'want',\n",
       " 'to',\n",
       " 'give',\n",
       " 'me',\n",
       " 'trouble',\n",
       " 'I',\n",
       " \"'m\",\n",
       " 'in',\n",
       " 'more',\n",
       " 'trouble',\n",
       " 'than',\n",
       " 'you',\n",
       " 'I',\n",
       " 'am',\n",
       " 'a',\n",
       " 'woman',\n",
       " 'I',\n",
       " \"'m\",\n",
       " 'a',\n",
       " 'sailor',\n",
       " 'You',\n",
       " 'take',\n",
       " 'care',\n",
       " 'of',\n",
       " 'Marble',\n",
       " 'Just',\n",
       " 'gamble',\n",
       " 'a',\n",
       " 'bit',\n",
       " 'less',\n",
       " 'is',\n",
       " 'enough',\n",
       " 'to',\n",
       " 'raise',\n",
       " 'the',\n",
       " 'kid',\n",
       " 'No',\n",
       " 'way',\n",
       " 'Raising',\n",
       " 'her',\n",
       " 'would',\n",
       " 'be',\n",
       " 'like',\n",
       " 'raising',\n",
       " 'others',\n",
       " 'take',\n",
       " 'care',\n",
       " 'of',\n",
       " 'her',\n",
       " 'Marry',\n",
       " 'her',\n",
       " 'when',\n",
       " 'she',\n",
       " 'grows',\n",
       " 'up',\n",
       " 'And',\n",
       " 'you',\n",
       " 'tell',\n",
       " 'her',\n",
       " 'to',\n",
       " 'be',\n",
       " 'smart',\n",
       " 'Do',\n",
       " \"n't\",\n",
       " 'marry',\n",
       " 'a',\n",
       " 'gambler',\n",
       " 'Hey',\n",
       " 'you',\n",
       " 'want',\n",
       " 'a',\n",
       " 'quarrel',\n",
       " 'No',\n",
       " 'never',\n",
       " 'This',\n",
       " 'is',\n",
       " 'the',\n",
       " 'last',\n",
       " 'time',\n",
       " 'You',\n",
       " \"'re\",\n",
       " 'SO',\n",
       " 'right',\n",
       " 'Do',\n",
       " \"n't\",\n",
       " 'rush',\n",
       " 'Everyone',\n",
       " 'will',\n",
       " 'have',\n",
       " 'a',\n",
       " 'share',\n",
       " 'Why',\n",
       " 'so',\n",
       " 'crowded',\n",
       " 'What',\n",
       " \"'re\",\n",
       " 'they',\n",
       " 'doing',\n",
       " 'Worshipping',\n",
       " 'ancestors',\n",
       " 'With',\n",
       " 'all',\n",
       " 'those',\n",
       " 'many',\n",
       " 'things',\n",
       " 'Hey',\n",
       " 'Granny',\n",
       " 'Come',\n",
       " 'on',\n",
       " 'Come',\n",
       " 'and',\n",
       " 'take',\n",
       " 'a',\n",
       " 'bite',\n",
       " 'The',\n",
       " 'dishes',\n",
       " 'are',\n",
       " 'good',\n",
       " 'this',\n",
       " 'year',\n",
       " 'Right',\n",
       " 'Marble',\n",
       " 'have',\n",
       " 'some',\n",
       " 'I',\n",
       " \"'ll\",\n",
       " 'go',\n",
       " 'get',\n",
       " 'my',\n",
       " 'share',\n",
       " 'of',\n",
       " 'pork',\n",
       " 'This',\n",
       " 'is',\n",
       " 'a',\n",
       " 'leg',\n",
       " 'washing',\n",
       " 'basin',\n",
       " 'Hey',\n",
       " 'how',\n",
       " 'can',\n",
       " 'you',\n",
       " 'say',\n",
       " 'that',\n",
       " 'Let',\n",
       " \"'s\",\n",
       " 'go',\n",
       " 'get',\n",
       " 'a',\n",
       " 'share',\n",
       " 'of',\n",
       " 'pork',\n",
       " 'Your',\n",
       " 'share',\n",
       " 'You',\n",
       " 'wish',\n",
       " 'That',\n",
       " \"'s\",\n",
       " 'only',\n",
       " 'for',\n",
       " 'boys',\n",
       " 'Yeah',\n",
       " 'I',\n",
       " 'have',\n",
       " 'a',\n",
       " 'wee',\n",
       " 'wee',\n",
       " 'Have',\n",
       " 'you',\n",
       " 'Aunty',\n",
       " 'Chiang',\n",
       " 'Lin',\n",
       " 'one',\n",
       " 'more',\n",
       " 'baby',\n",
       " 'this',\n",
       " 'year',\n",
       " 'Yes',\n",
       " 'You',\n",
       " 'are',\n",
       " 'the',\n",
       " 'best',\n",
       " 'in',\n",
       " 'your',\n",
       " 'family',\n",
       " 'Hey',\n",
       " 'you',\n",
       " 'think',\n",
       " 'it',\n",
       " \"'s\",\n",
       " 'my',\n",
       " 'will',\n",
       " 'I',\n",
       " 'was',\n",
       " 'compelled',\n",
       " 'by',\n",
       " 'my',\n",
       " 'stupid',\n",
       " 'husband',\n",
       " 'Come',\n",
       " 'on',\n",
       " 'Let',\n",
       " \"'s\",\n",
       " 'worship',\n",
       " 'first',\n",
       " 'Eat',\n",
       " 'some',\n",
       " 'roast',\n",
       " 'pork',\n",
       " 'We',\n",
       " 'have',\n",
       " 'a',\n",
       " 'lot',\n",
       " 'of',\n",
       " 'it',\n",
       " 'Honey',\n",
       " 'baby',\n",
       " 'Yes',\n",
       " 'Only',\n",
       " 'with',\n",
       " 'Chinese',\n",
       " 'blood',\n",
       " 'What',\n",
       " 'do',\n",
       " 'you',\n",
       " 'mean',\n",
       " 'It',\n",
       " 'means',\n",
       " 'I',\n",
       " 'give',\n",
       " 'you',\n",
       " 'a',\n",
       " 'green',\n",
       " 'hat',\n",
       " 'Oh',\n",
       " 'that',\n",
       " 'goes',\n",
       " 'with',\n",
       " 'my',\n",
       " 'clothes',\n",
       " 'then',\n",
       " 'Eat',\n",
       " 'no',\n",
       " 'more',\n",
       " 'talk',\n",
       " 'So',\n",
       " 'rude',\n",
       " 'Take',\n",
       " 'it',\n",
       " 'home',\n",
       " 'Get',\n",
       " 'up',\n",
       " 'go',\n",
       " 'We',\n",
       " \"'re\",\n",
       " 'going',\n",
       " 'back',\n",
       " 'home',\n",
       " 'Be',\n",
       " 'quick',\n",
       " 'Honey',\n",
       " 'Hey',\n",
       " 'make',\n",
       " 'a',\n",
       " 'stance',\n",
       " 'Hold',\n",
       " 'it',\n",
       " 'Master',\n",
       " 'every',\n",
       " 'time',\n",
       " 'we',\n",
       " \"'ve\",\n",
       " 'to',\n",
       " 'stand',\n",
       " 'in',\n",
       " 'a',\n",
       " 'pose',\n",
       " 'If',\n",
       " 'you',\n",
       " 'could',\n",
       " 'teach',\n",
       " 'us',\n",
       " 'something',\n",
       " 'else',\n",
       " 'please',\n",
       " 'Okay',\n",
       " 'Shaolin',\n",
       " 'Masters',\n",
       " 'learn',\n",
       " 'poses',\n",
       " 'for',\n",
       " 'years',\n",
       " 'Hold',\n",
       " 'it',\n",
       " 'Okay',\n",
       " 'I',\n",
       " \"'ll\",\n",
       " 'teach',\n",
       " 'you',\n",
       " 'something',\n",
       " 'new',\n",
       " 'Watch',\n",
       " 'me',\n",
       " 'See',\n",
       " 'Get',\n",
       " 'to',\n",
       " 'it',\n",
       " 'Seeing',\n",
       " 'Shanghai',\n",
       " 'Beach',\n",
       " 'in',\n",
       " 'Mainland',\n",
       " 'Here',\n",
       " 'I',\n",
       " \"'m\",\n",
       " 'still',\n",
       " 'watching',\n",
       " 'it',\n",
       " 'everyday',\n",
       " 'I',\n",
       " \"'m\",\n",
       " 'so',\n",
       " 'tired',\n",
       " 'Tired',\n",
       " 'Let',\n",
       " \"'s\",\n",
       " 'go',\n",
       " 'to',\n",
       " 'bed',\n",
       " 'for',\n",
       " 'rest',\n",
       " 'I',\n",
       " 'hate',\n",
       " 'Chau',\n",
       " 'Yun',\n",
       " 'Fa',\n",
       " 'the',\n",
       " 'most',\n",
       " 'He',\n",
       " 'did',\n",
       " \"n't\",\n",
       " 'marry',\n",
       " 'when',\n",
       " 'I',\n",
       " \"'m\",\n",
       " 'in',\n",
       " 'China',\n",
       " 'As',\n",
       " 'soon',\n",
       " 'as',\n",
       " 'I',\n",
       " \"'m\",\n",
       " 'here',\n",
       " 'he',\n",
       " 'got',\n",
       " 'married',\n",
       " 'You',\n",
       " 'ca',\n",
       " \"n't\",\n",
       " 'come',\n",
       " 'to',\n",
       " 'Hong',\n",
       " 'Kong',\n",
       " 'if',\n",
       " 'you',\n",
       " 'do',\n",
       " \"n't\",\n",
       " 'marry',\n",
       " 'me',\n",
       " 'You',\n",
       " 'said',\n",
       " 'you',\n",
       " 'are',\n",
       " 'big',\n",
       " 'boss',\n",
       " 'Having',\n",
       " 'a',\n",
       " 'big',\n",
       " 'business',\n",
       " 'Now',\n",
       " 'that',\n",
       " 'I',\n",
       " \"'m\",\n",
       " 'in',\n",
       " 'Hong',\n",
       " 'Kong',\n",
       " 'I',\n",
       " \"'m\",\n",
       " 'still',\n",
       " 'for',\n",
       " 'myself',\n",
       " 'Then',\n",
       " 'I',\n",
       " 'ought',\n",
       " 'to',\n",
       " 'feel',\n",
       " 'much',\n",
       " 'more',\n",
       " 'sorry',\n",
       " 'You',\n",
       " 'ca',\n",
       " \"n't\",\n",
       " 'even',\n",
       " 'lay',\n",
       " 'an',\n",
       " 'egg',\n",
       " 'This',\n",
       " 'year',\n",
       " 'I',\n",
       " 'can',\n",
       " 'only',\n",
       " 'get',\n",
       " 'one',\n",
       " 'share',\n",
       " 'of',\n",
       " 'pork',\n",
       " 'And',\n",
       " 'you',\n",
       " \"'re\",\n",
       " 'blaming',\n",
       " 'me',\n",
       " 'for',\n",
       " 'it',\n",
       " 'Damn',\n",
       " 'monkey',\n",
       " 'What',\n",
       " \"'s\",\n",
       " 'going',\n",
       " 'on',\n",
       " 'A',\n",
       " 'letter',\n",
       " 'for',\n",
       " 'you',\n",
       " 'Oh',\n",
       " 'it',\n",
       " \"'s\",\n",
       " 'you',\n",
       " 'Your',\n",
       " 'monkey',\n",
       " 'glared',\n",
       " 'at',\n",
       " 'me',\n",
       " 'fiercely',\n",
       " 'Will',\n",
       " 'you',\n",
       " 'open',\n",
       " 'it',\n",
       " 'for',\n",
       " 'me',\n",
       " 'Read',\n",
       " 'it',\n",
       " 'to',\n",
       " 'me',\n",
       " 'I',\n",
       " 'am',\n",
       " 'quite',\n",
       " 'illiterate',\n",
       " 'Stop',\n",
       " 'it',\n",
       " 'Do',\n",
       " \"n't\",\n",
       " 'bother',\n",
       " 'him',\n",
       " 'Let',\n",
       " 'me',\n",
       " 'help',\n",
       " 'you',\n",
       " 'Give',\n",
       " 'me',\n",
       " 'the',\n",
       " 'letter',\n",
       " 'Postman',\n",
       " \"'s\",\n",
       " 'duty',\n",
       " 'is',\n",
       " 'to',\n",
       " 'deliver',\n",
       " 'and',\n",
       " 'read',\n",
       " 'letters',\n",
       " 'He',\n",
       " 'reads',\n",
       " 'for',\n",
       " 'Aunt',\n",
       " 'Jiao',\n",
       " 'How',\n",
       " 'can',\n",
       " 'you',\n",
       " 'compare',\n",
       " 'to',\n",
       " 'her',\n",
       " 'Aunty',\n",
       " 'Jiao',\n",
       " 'is',\n",
       " '83',\n",
       " 'years',\n",
       " 'old',\n",
       " 'Hello',\n",
       " 'dubbing',\n",
       " 'room',\n",
       " 'Martin',\n",
       " 'Martin',\n",
       " 'is',\n",
       " 'working',\n",
       " 'Are',\n",
       " 'you',\n",
       " 'lying',\n",
       " 'to',\n",
       " 'me',\n",
       " 'Why',\n",
       " 'should',\n",
       " 'I',\n",
       " 'lie',\n",
       " 'I',\n",
       " 'know',\n",
       " 'he',\n",
       " \"'s\",\n",
       " 'free',\n",
       " 'Get',\n",
       " 'him',\n",
       " 'You',\n",
       " 'listen',\n",
       " 'yourself',\n",
       " 'then',\n",
       " 'Hello',\n",
       " 'what',\n",
       " \"'s\",\n",
       " 'the',\n",
       " 'noise',\n",
       " 'Is',\n",
       " 'someone',\n",
       " 'being',\n",
       " 'raped',\n",
       " 'Martin',\n",
       " 'your',\n",
       " 'telephone',\n",
       " 'Hello',\n",
       " 'What',\n",
       " 'took',\n",
       " 'you',\n",
       " 'so',\n",
       " 'long',\n",
       " 'Recording',\n",
       " 'is',\n",
       " 'going',\n",
       " 'on',\n",
       " 'Do',\n",
       " \"n't\",\n",
       " 'mess',\n",
       " 'around',\n",
       " 'Yes',\n",
       " 'I',\n",
       " 'know',\n",
       " 'I',\n",
       " 'wo',\n",
       " \"n't\",\n",
       " 'Honey',\n",
       " 'did',\n",
       " 'you',\n",
       " 'spend',\n",
       " 'so',\n",
       " 'much',\n",
       " 'I',\n",
       " 'was',\n",
       " 'late',\n",
       " 'for',\n",
       " 'work',\n",
       " 'so',\n",
       " 'I',\n",
       " 'took',\n",
       " 'a',\n",
       " 'taxi',\n",
       " 'On',\n",
       " 'your',\n",
       " 'way',\n",
       " 'back',\n",
       " 'do',\n",
       " \"n't\",\n",
       " 'forget',\n",
       " 'to',\n",
       " 'buy',\n",
       " 'vegetables',\n",
       " 'Okay',\n",
       " 'And',\n",
       " 'buy',\n",
       " 'a',\n",
       " 'pair',\n",
       " 'of',\n",
       " 'slippers',\n",
       " 'for',\n",
       " 'me',\n",
       " 'Got',\n",
       " 'it',\n",
       " 'honey',\n",
       " 'I',\n",
       " \"'ll\",\n",
       " 'hang',\n",
       " 'up',\n",
       " 'Bye',\n",
       " 'Would',\n",
       " \"n't\",\n",
       " 'marry',\n",
       " 'if',\n",
       " 'you',\n",
       " 'know',\n",
       " 'your',\n",
       " 'wife',\n",
       " 'is',\n",
       " 'so',\n",
       " 'bad',\n",
       " 'Take',\n",
       " 'pity',\n",
       " 'for',\n",
       " 'the',\n",
       " 'rest',\n",
       " 'of',\n",
       " 'my',\n",
       " 'life',\n",
       " 'Hey',\n",
       " 'what',\n",
       " \"'s\",\n",
       " 'on',\n",
       " 'your',\n",
       " 'neck',\n",
       " 'Nothing',\n",
       " 'You',\n",
       " 'look',\n",
       " 'piteous',\n",
       " 'She',\n",
       " \"'s\",\n",
       " 'the',\n",
       " 'piteous',\n",
       " 'one',\n",
       " 'The',\n",
       " 'vampire',\n",
       " 'is',\n",
       " 'here',\n",
       " 'Grandma',\n",
       " 'grandma',\n",
       " 'Someone',\n",
       " 'is',\n",
       " 'fighting',\n",
       " 'Grandma',\n",
       " 'grandma',\n",
       " 'Come',\n",
       " 'over',\n",
       " 'quickly',\n",
       " 'What',\n",
       " 'happened',\n",
       " 'Someone',\n",
       " 'is',\n",
       " 'fighting',\n",
       " 'Fighting',\n",
       " 'Yes',\n",
       " 'Where',\n",
       " 'Over',\n",
       " 'there',\n",
       " 'You',\n",
       " 'see',\n",
       " 'it',\n",
       " 'I',\n",
       " 'spare',\n",
       " 'you',\n",
       " 'this',\n",
       " 'time',\n",
       " 'No',\n",
       " 'next',\n",
       " 'time',\n",
       " 'Sorry',\n",
       " 'let',\n",
       " 'me',\n",
       " 'kiss',\n",
       " 'you',\n",
       " 'Cut',\n",
       " 'the',\n",
       " 'bullshit',\n",
       " 'Go',\n",
       " 'to',\n",
       " 'bed',\n",
       " 'I',\n",
       " 'need',\n",
       " 'to',\n",
       " 'work',\n",
       " 'tomorrow',\n",
       " 'Where',\n",
       " 'at',\n",
       " 'That',\n",
       " 'villa',\n",
       " 'over',\n",
       " 'there',\n",
       " 'Wow',\n",
       " 'it',\n",
       " 'looks',\n",
       " 'beautiful',\n",
       " 'Who',\n",
       " 'lives',\n",
       " 'there',\n",
       " 'Snow',\n",
       " 'White',\n",
       " 'Kidding',\n",
       " 'there',\n",
       " \"'s\",\n",
       " 'no',\n",
       " 'Snow',\n",
       " 'White',\n",
       " 'Oh',\n",
       " 'murder',\n",
       " 'That',\n",
       " \"'s\",\n",
       " 'the',\n",
       " 'pig',\n",
       " 'scream',\n",
       " 'Why',\n",
       " \"'s\",\n",
       " 'the',\n",
       " 'pig',\n",
       " 'screaming',\n",
       " 'so',\n",
       " 'late',\n",
       " 'at',\n",
       " 'night',\n",
       " 'Shorty',\n",
       " \"'s\",\n",
       " 'late',\n",
       " 'So',\n",
       " 'the',\n",
       " 'government',\n",
       " 'wo',\n",
       " \"n't\",\n",
       " 'know',\n",
       " 'But',\n",
       " 'how',\n",
       " 'could',\n",
       " 'a',\n",
       " 'pig',\n",
       " \"'s\",\n",
       " 'scream',\n",
       " 'be',\n",
       " 'so',\n",
       " 'terrible',\n",
       " 'Why',\n",
       " 'Why',\n",
       " 'are',\n",
       " \"n't\",\n",
       " 'you',\n",
       " 'tired',\n",
       " 'Why',\n",
       " 'are',\n",
       " \"n't\",\n",
       " 'you',\n",
       " 'sleepy',\n",
       " 'Why',\n",
       " 'have',\n",
       " \"n't\",\n",
       " 'you',\n",
       " 'gone',\n",
       " 'to',\n",
       " 'bed',\n",
       " 'Why',\n",
       " 'are',\n",
       " 'you',\n",
       " 'so',\n",
       " 'nosy',\n",
       " 'Go',\n",
       " 'to',\n",
       " 'sleep',\n",
       " 'Here',\n",
       " \"'s\",\n",
       " 'the',\n",
       " 'kitchen',\n",
       " 'Oil',\n",
       " 'Salt',\n",
       " 'Sauce',\n",
       " 'Vinegar',\n",
       " 'All',\n",
       " 'there',\n",
       " 'Go',\n",
       " 'tidy',\n",
       " 'up',\n",
       " 'Ask',\n",
       " 'me',\n",
       " 'if',\n",
       " 'you',\n",
       " 'have',\n",
       " 'any',\n",
       " 'question',\n",
       " 'Come',\n",
       " 'dance',\n",
       " 'with',\n",
       " 'me',\n",
       " 'Come',\n",
       " 'on',\n",
       " 'Come',\n",
       " 'Dance',\n",
       " 'I',\n",
       " \"'ll\",\n",
       " 'teach',\n",
       " 'you',\n",
       " 'Do',\n",
       " \"n't\",\n",
       " 'be',\n",
       " 'afraid',\n",
       " 'Damn',\n",
       " 'dog',\n",
       " 'Damn',\n",
       " 'it',\n",
       " 'What',\n",
       " \"'s\",\n",
       " 'such',\n",
       " 'a',\n",
       " 'big',\n",
       " 'deal',\n",
       " 'to',\n",
       " 'be',\n",
       " 'rich',\n",
       " 'Pay',\n",
       " 'for',\n",
       " 'my',\n",
       " 'pants',\n",
       " 'Sorry',\n",
       " 'I',\n",
       " 'do',\n",
       " \"n't\",\n",
       " 'mean',\n",
       " 'to',\n",
       " 'be',\n",
       " 'rude',\n",
       " 'Be',\n",
       " 'careful',\n",
       " 'next',\n",
       " 'time',\n",
       " 'Miss',\n",
       " 'it',\n",
       " 'seems',\n",
       " 'I',\n",
       " \"'ve\",\n",
       " 'seen',\n",
       " 'you',\n",
       " 'somewhere',\n",
       " 'Of',\n",
       " 'course',\n",
       " 'you',\n",
       " 'have',\n",
       " 'I',\n",
       " \"'ll\",\n",
       " 'be',\n",
       " 'the',\n",
       " 'Miss',\n",
       " 'Hong',\n",
       " 'Kong',\n",
       " 'in',\n",
       " 'next',\n",
       " 'contest',\n",
       " 'I',\n",
       " 'have',\n",
       " 'nine',\n",
       " 'posters',\n",
       " 'at',\n",
       " 'the',\n",
       " ...]"
      ]
     },
     "execution_count": 11,
     "metadata": {},
     "output_type": "execute_result"
    }
   ],
   "source": [
    "word_tokenize(clean_11[1])"
   ]
  },
  {
   "cell_type": "markdown",
   "metadata": {},
   "source": [
    "You can see how the sentence is broken into its constituent words. We can then do some analysis with this. \n",
    "\n",
    "Note: we still don't know which movie this is, just that it is raw movie text data. Maybe in the process of our text cleaning and counting we will come across something!"
   ]
  },
  {
   "cell_type": "markdown",
   "metadata": {},
   "source": [
    "# Counting words\n",
    "\n",
    "If we want to do some analysis we can start by simply counting the number of times each word occurs within the corpus."
   ]
  },
  {
   "cell_type": "code",
   "execution_count": 12,
   "metadata": {},
   "outputs": [],
   "source": [
    "def wordCounter(wordLst):\n",
    "    wordCounts = {}\n",
    "    for word in wordLst:\n",
    "        #We usually need to normalize the case\n",
    "        wLower = word.lower()\n",
    "        if wLower in wordCounts:\n",
    "            wordCounts[wLower] += 1\n",
    "        else:\n",
    "            wordCounts[wLower] = 1\n",
    "    #convert to DataFrame\n",
    "    countsForFrame = {'word' : [], 'count' : []}\n",
    "    for w, c in wordCounts.items():\n",
    "        countsForFrame['word'].append(w)\n",
    "        countsForFrame['count'].append(c)\n",
    "    return pandas.DataFrame(countsForFrame)"
   ]
  },
  {
   "cell_type": "code",
   "execution_count": 13,
   "metadata": {},
   "outputs": [
    {
     "data": {
      "text/html": [
       "<div>\n",
       "<style scoped>\n",
       "    .dataframe tbody tr th:only-of-type {\n",
       "        vertical-align: middle;\n",
       "    }\n",
       "\n",
       "    .dataframe tbody tr th {\n",
       "        vertical-align: top;\n",
       "    }\n",
       "\n",
       "    .dataframe thead th {\n",
       "        text-align: right;\n",
       "    }\n",
       "</style>\n",
       "<table border=\"1\" class=\"dataframe\">\n",
       "  <thead>\n",
       "    <tr style=\"text-align: right;\">\n",
       "      <th></th>\n",
       "      <th>word</th>\n",
       "      <th>count</th>\n",
       "    </tr>\n",
       "  </thead>\n",
       "  <tbody>\n",
       "    <tr>\n",
       "      <th>0</th>\n",
       "      <td>@@216680</td>\n",
       "      <td>1</td>\n",
       "    </tr>\n",
       "    <tr>\n",
       "      <th>1</th>\n",
       "      <td>hey</td>\n",
       "      <td>16</td>\n",
       "    </tr>\n",
       "    <tr>\n",
       "      <th>2</th>\n",
       "      <td>i</td>\n",
       "      <td>191</td>\n",
       "    </tr>\n",
       "    <tr>\n",
       "      <th>3</th>\n",
       "      <td>'m</td>\n",
       "      <td>24</td>\n",
       "    </tr>\n",
       "    <tr>\n",
       "      <th>4</th>\n",
       "      <td>talking</td>\n",
       "      <td>2</td>\n",
       "    </tr>\n",
       "    <tr>\n",
       "      <th>5</th>\n",
       "      <td>to</td>\n",
       "      <td>112</td>\n",
       "    </tr>\n",
       "    <tr>\n",
       "      <th>6</th>\n",
       "      <td>you</td>\n",
       "      <td>302</td>\n",
       "    </tr>\n",
       "    <tr>\n",
       "      <th>7</th>\n",
       "      <td>give</td>\n",
       "      <td>14</td>\n",
       "    </tr>\n",
       "    <tr>\n",
       "      <th>8</th>\n",
       "      <td>me</td>\n",
       "      <td>82</td>\n",
       "    </tr>\n",
       "    <tr>\n",
       "      <th>9</th>\n",
       "      <td>600</td>\n",
       "      <td>1</td>\n",
       "    </tr>\n",
       "  </tbody>\n",
       "</table>\n",
       "</div>"
      ],
      "text/plain": [
       "       word  count\n",
       "0  @@216680      1\n",
       "1       hey     16\n",
       "2         i    191\n",
       "3        'm     24\n",
       "4   talking      2\n",
       "5        to    112\n",
       "6       you    302\n",
       "7      give     14\n",
       "8        me     82\n",
       "9       600      1"
      ]
     },
     "execution_count": 13,
     "metadata": {},
     "output_type": "execute_result"
    }
   ],
   "source": [
    "countedWords = wordCounter(word_tokenize(clean_11[1]))\n",
    "countedWords[:10]"
   ]
  },
  {
   "cell_type": "markdown",
   "metadata": {},
   "source": [
    "Lets sort and plot our counts to investigate the shape of our word frequency distribution.\n",
    "\n",
    "First we need to sort the words by count."
   ]
  },
  {
   "cell_type": "code",
   "execution_count": 14,
   "metadata": {},
   "outputs": [
    {
     "data": {
      "text/html": [
       "<div>\n",
       "<style scoped>\n",
       "    .dataframe tbody tr th:only-of-type {\n",
       "        vertical-align: middle;\n",
       "    }\n",
       "\n",
       "    .dataframe tbody tr th {\n",
       "        vertical-align: top;\n",
       "    }\n",
       "\n",
       "    .dataframe thead th {\n",
       "        text-align: right;\n",
       "    }\n",
       "</style>\n",
       "<table border=\"1\" class=\"dataframe\">\n",
       "  <thead>\n",
       "    <tr style=\"text-align: right;\">\n",
       "      <th></th>\n",
       "      <th>word</th>\n",
       "      <th>count</th>\n",
       "    </tr>\n",
       "  </thead>\n",
       "  <tbody>\n",
       "    <tr>\n",
       "      <th>6</th>\n",
       "      <td>you</td>\n",
       "      <td>302</td>\n",
       "    </tr>\n",
       "    <tr>\n",
       "      <th>2</th>\n",
       "      <td>i</td>\n",
       "      <td>191</td>\n",
       "    </tr>\n",
       "    <tr>\n",
       "      <th>13</th>\n",
       "      <td>'s</td>\n",
       "      <td>126</td>\n",
       "    </tr>\n",
       "    <tr>\n",
       "      <th>5</th>\n",
       "      <td>to</td>\n",
       "      <td>112</td>\n",
       "    </tr>\n",
       "    <tr>\n",
       "      <th>31</th>\n",
       "      <td>it</td>\n",
       "      <td>109</td>\n",
       "    </tr>\n",
       "    <tr>\n",
       "      <th>...</th>\n",
       "      <td>...</td>\n",
       "      <td>...</td>\n",
       "    </tr>\n",
       "    <tr>\n",
       "      <th>248</th>\n",
       "      <td>postman</td>\n",
       "      <td>10</td>\n",
       "    </tr>\n",
       "    <tr>\n",
       "      <th>187</th>\n",
       "      <td>please</td>\n",
       "      <td>9</td>\n",
       "    </tr>\n",
       "    <tr>\n",
       "      <th>328</th>\n",
       "      <td>but</td>\n",
       "      <td>9</td>\n",
       "    </tr>\n",
       "    <tr>\n",
       "      <th>215</th>\n",
       "      <td>as</td>\n",
       "      <td>9</td>\n",
       "    </tr>\n",
       "    <tr>\n",
       "      <th>135</th>\n",
       "      <td>say</td>\n",
       "      <td>9</td>\n",
       "    </tr>\n",
       "  </tbody>\n",
       "</table>\n",
       "<p>100 rows × 2 columns</p>\n",
       "</div>"
      ],
      "text/plain": [
       "        word  count\n",
       "6        you    302\n",
       "2          i    191\n",
       "13        's    126\n",
       "5         to    112\n",
       "31        it    109\n",
       "..       ...    ...\n",
       "248  postman     10\n",
       "187   please      9\n",
       "328      but      9\n",
       "215       as      9\n",
       "135      say      9\n",
       "\n",
       "[100 rows x 2 columns]"
      ]
     },
     "execution_count": 14,
     "metadata": {},
     "output_type": "execute_result"
    }
   ],
   "source": [
    "#Doing this in place (changing the original DataFrame) as we don't need the unsorted DataFrame\n",
    "countedWords.sort_values('count', ascending=False, inplace=True)\n",
    "countedWords[:100]"
   ]
  },
  {
   "cell_type": "markdown",
   "metadata": {},
   "source": [
    "Punctuation and very common words (articles 'a' and 'the'; prepositions 'of' and 'to') make up the most common values, but this isn't very interesting and can actually get in the way of our analysis. We may remove these 'function words' by removing according to a stopword list, setting some frequency threshold, or using a weighting scheme (like tf.idf) to decrease their influence - we will look at these methods in more detail as we go through this tutorial. "
   ]
  },
  {
   "cell_type": "code",
   "execution_count": 15,
   "metadata": {},
   "outputs": [
    {
     "data": {
      "image/png": "[encoded data removed]",
      "text/plain": [
       "<Figure size 432x288 with 1 Axes>"
      ]
     },
     "metadata": {
      "needs_background": "light"
     },
     "output_type": "display_data"
    }
   ],
   "source": [
    "#Creating a figure and axis lets us do things like change the scaling or add a title\n",
    "fig = plt.figure()\n",
    "ax = fig.add_subplot(111)\n",
    "plt.plot(range(len(countedWords)), countedWords['count'])\n",
    "plt.show()"
   ]
  },
  {
   "cell_type": "markdown",
   "metadata": {},
   "source": [
    "This shows that likelihood of a word occurring is inversely proportional to its rank. This effect is called [Zipf's Law](https://en.wikipedia.org/wiki/Zipf%27s_law), and suggests that the most frequent word will occur approximately twice as often as the second most frequent word, three times as often as the third most frequent word, etc. Zipf's law is most easily observed by plotting the data on a log-log graph, with the axes being log (rank order) and log (frequency) resulting in a linear relationship."
   ]
  },
  {
   "cell_type": "code",
   "execution_count": 16,
   "metadata": {},
   "outputs": [
    {
     "data": {
      "image/png": "[encoded data removed]",
      "text/plain": [
       "<Figure size 432x288 with 1 Axes>"
      ]
     },
     "metadata": {
      "needs_background": "light"
     },
     "output_type": "display_data"
    }
   ],
   "source": [
    "fig = plt.figure()\n",
    "ax = fig.add_subplot(111)\n",
    "plt.plot(range(len(countedWords)), countedWords['count'])\n",
    "ax.set_yscale('log')\n",
    "ax.set_xscale('log')\n",
    "plt.show()"
   ]
  },
  {
   "cell_type": "markdown",
   "metadata": {},
   "source": [
    "(The same relationship occurs in many other rankings, such as population ranks of cities, corporation sizes, income rankings, etc.) \n",
    "\n",
    "The distribution was imagined by Zipf to be driven by a principle of 'least effort' where speakers did not work any harder than necessary to communicate a given idea, but the basis for this relationship is still not well understood and conforms at least as well to a process of [preferential attachment](https://en.wikipedia.org/wiki/Preferential_attachment) whereby people disproportionately attend to popular words.\n"
   ]
  },
  {
   "cell_type": "markdown",
   "metadata": {},
   "source": [
    "# Getting and working with raw text\n",
    "\n",
    "First, we will retrieve a collection of press releases from a *GitHub API* that archived them, based on a number of analyses by Justin Grimmer, a political scientist whose work we will read in two weeks!\n",
    "\n",
    "GitHub API requests are made to `'https://api.github.com/'` and responses are in JSON, similar to Tumblr's API.\n",
    "\n",
    "We will get the information on [github.com/lintool/GrimmerSenatePressReleases](https://github.com/lintool/GrimmerSenatePressReleases) as it contains a nice set documents."
   ]
  },
  {
   "cell_type": "code",
   "execution_count": 17,
   "metadata": {},
   "outputs": [
    {
     "name": "stdout",
     "output_type": "stream",
     "text": [
      "dict_keys(['id', 'node_id', 'name', 'full_name', 'private', 'owner', 'html_url', 'description', 'fork', 'url', 'forks_url', 'keys_url', 'collaborators_url', 'teams_url', 'hooks_url', 'issue_events_url', 'events_url', 'assignees_url', 'branches_url', 'tags_url', 'blobs_url', 'git_tags_url', 'git_refs_url', 'trees_url', 'statuses_url', 'languages_url', 'stargazers_url', 'contributors_url', 'subscribers_url', 'subscription_url', 'commits_url', 'git_commits_url', 'comments_url', 'issue_comment_url', 'contents_url', 'compare_url', 'merges_url', 'archive_url', 'downloads_url', 'issues_url', 'pulls_url', 'milestones_url', 'notifications_url', 'labels_url', 'releases_url', 'deployments_url', 'created_at', 'updated_at', 'pushed_at', 'git_url', 'ssh_url', 'clone_url', 'svn_url', 'homepage', 'size', 'stargazers_count', 'watchers_count', 'language', 'has_issues', 'has_projects', 'has_downloads', 'has_wiki', 'has_pages', 'forks_count', 'mirror_url', 'archived', 'disabled', 'open_issues_count', 'license', 'allow_forking', 'is_template', 'topics', 'visibility', 'forks', 'open_issues', 'watchers', 'default_branch', 'temp_clone_token', 'network_count', 'subscribers_count'])\n",
      "Grimmer's Senate Press Releases\n"
     ]
    }
   ],
   "source": [
    "r = requests.get('https://api.github.com/repos/lintool/GrimmerSenatePressReleases')\n",
    "senateReleasesData = json.loads(r.text)\n",
    "print(senateReleasesData.keys())\n",
    "print(senateReleasesData['description'])"
   ]
  },
  {
   "cell_type": "markdown",
   "metadata": {},
   "source": [
    "What we are interested in here is the `'contents_url'`"
   ]
  },
  {
   "cell_type": "code",
   "execution_count": 18,
   "metadata": {},
   "outputs": [
    {
     "name": "stdout",
     "output_type": "stream",
     "text": [
      "https://api.github.com/repos/lintool/GrimmerSenatePressReleases/contents/{+path}\n"
     ]
    }
   ],
   "source": [
    "print(senateReleasesData['contents_url'])"
   ]
  },
  {
   "cell_type": "markdown",
   "metadata": {},
   "source": [
    "We can use this to get any or all of the files from the repo."
   ]
  },
  {
   "cell_type": "code",
   "execution_count": 19,
   "metadata": {},
   "outputs": [
    {
     "data": {
      "text/plain": [
       "{'name': '10Apr2007Whitehouse123.txt',\n",
       " 'path': 'raw/Whitehouse/10Apr2007Whitehouse123.txt',\n",
       " 'sha': 'f524289ee563dca58690c8d36c23dce5dbd9962a',\n",
       " 'size': 2206,\n",
       " 'url': 'https://api.github.com/repos/lintool/GrimmerSenatePressReleases/contents/raw/Whitehouse/10Apr2007Whitehouse123.txt?ref=master',\n",
       " 'html_url': 'https://github.com/lintool/GrimmerSenatePressReleases/blob/master/raw/Whitehouse/10Apr2007Whitehouse123.txt',\n",
       " 'git_url': 'https://api.github.com/repos/lintool/GrimmerSenatePressReleases/git/blobs/f524289ee563dca58690c8d36c23dce5dbd9962a',\n",
       " 'download_url': 'https://raw.githubusercontent.com/lintool/GrimmerSenatePressReleases/master/raw/Whitehouse/10Apr2007Whitehouse123.txt',\n",
       " 'type': 'file',\n",
       " '_links': {'self': 'https://api.github.com/repos/lintool/GrimmerSenatePressReleases/contents/raw/Whitehouse/10Apr2007Whitehouse123.txt?ref=master',\n",
       "  'git': 'https://api.github.com/repos/lintool/GrimmerSenatePressReleases/git/blobs/f524289ee563dca58690c8d36c23dce5dbd9962a',\n",
       "  'html': 'https://github.com/lintool/GrimmerSenatePressReleases/blob/master/raw/Whitehouse/10Apr2007Whitehouse123.txt'}}"
      ]
     },
     "execution_count": 19,
     "metadata": {},
     "output_type": "execute_result"
    }
   ],
   "source": [
    "r = requests.get('https://api.github.com/repos/lintool/GrimmerSenatePressReleases/contents/raw/Whitehouse')\n",
    "whitehouseLinks = json.loads(r.text)\n",
    "whitehouseLinks[0]"
   ]
  },
  {
   "cell_type": "markdown",
   "metadata": {},
   "source": [
    "Now we have a list of information about Whitehouse press releases. Let's look at one of them."
   ]
  },
  {
   "cell_type": "code",
   "execution_count": 20,
   "metadata": {},
   "outputs": [
    {
     "name": "stdout",
     "output_type": "stream",
     "text": [
      "SEN. WHITEHOUSE SHARES WESTERLY GIRL'S STORY IN PUSH FOR STEM CELL RESEARCH\n",
      "  Sharing the story of Lila Barber, a 12 year old girl from Westerly, Sen. Sheldon Whitehouse (D-R.I.) on Tuesday, April 10, 2007, illustrated the hope stem cell research can offer in a speech on the Senate floor in favor of legislation to expand federal funding for stem cell research.  \n",
      "   Whitehouse met Lila two weeks ago. She was diagnosed two years ago with osteosarcoma, a cancerous bone condition, and last year underwent cadaver bone transplant surgery. The procedure saved her leg and is helping her remain cancer-free, but the transplanted tissue will not grow with her and likely will break down over time. Stem cell research, Whitehouse explained, could vastly improve the care of patients like Lila by allowing surgeons to enhance transplants with a patient's own stem cells, which could replace the lost bone and cartilage, or grow entirely new replacement bones and joints. \n",
      "   \"Stem cell research gives hope\n"
     ]
    },
    {
     "data": {
      "text/plain": [
       "2206"
      ]
     },
     "execution_count": 20,
     "metadata": {},
     "output_type": "execute_result"
    }
   ],
   "source": [
    "r = requests.get(whitehouseLinks[0]['download_url'])\n",
    "whitehouseRelease = r.text\n",
    "print(whitehouseRelease[:1000])\n",
    "len(whitehouseRelease)"
   ]
  },
  {
   "cell_type": "markdown",
   "metadata": {},
   "source": [
    "Now we have a string of correctly encoded text. For analysis of its words, next we need to tokenize it, or split it into a sequence of tokens or word instances."
   ]
  },
  {
   "cell_type": "code",
   "execution_count": 21,
   "metadata": {},
   "outputs": [
    {
     "data": {
      "text/plain": [
       "['STEM',\n",
       " 'CELL',\n",
       " 'RESEARCH',\n",
       " 'Sharing',\n",
       " 'the',\n",
       " 'story',\n",
       " 'of',\n",
       " 'Lila',\n",
       " 'Barber',\n",
       " 'a',\n",
       " '12',\n",
       " 'year',\n",
       " 'old',\n",
       " 'girl',\n",
       " 'from',\n",
       " 'Westerly',\n",
       " 'Sen.',\n",
       " 'Sheldon',\n",
       " 'Whitehouse',\n",
       " 'D']"
      ]
     },
     "execution_count": 21,
     "metadata": {},
     "output_type": "execute_result"
    }
   ],
   "source": [
    "whTokens = word_tokenize(whitehouseRelease)\n",
    "whTokens[10:30]"
   ]
  },
  {
   "cell_type": "markdown",
   "metadata": {},
   "source": [
    "Previous iterations of the course used `nltk`s tokenizer, but as we saw before, we used spaCy's model (https://spacy.io/api/tokenizer). We intend to avoid using NLTK when we can - for production level code, it is a lot faster and cleaner to use spaCy.\n",
    "\n",
    "That being said, `nltk` does have some useful methods for quick analysis of small corpora. We will explore a few here, and encourage you to figure out for yourself which other ones might be useful.\n",
    "\n",
    "To use the list of tokens in `nltk`, and take advantage of functions like `concordance`, shown above, we can convert it into a `Text`."
   ]
  },
  {
   "cell_type": "code",
   "execution_count": 22,
   "metadata": {},
   "outputs": [],
   "source": [
    "import nltk"
   ]
  },
  {
   "cell_type": "code",
   "execution_count": 23,
   "metadata": {},
   "outputs": [
    {
     "name": "stdout",
     "output_type": "stream",
     "text": [
      "Displaying 5 of 5 matches:\n",
      "ld girl from Westerly Sen. Sheldon Whitehouse D R.I. on Tuesday April 10 2007 il\n",
      "ral funding for stem cell research Whitehouse met Lila two weeks ago She was dia\n",
      " down over time Stem cell research Whitehouse explained could vastly improve the\n",
      "s research might help or even cure Whitehouse said Whitehouse also praised the e\n",
      " help or even cure Whitehouse said Whitehouse also praised the efforts of Rhode \n"
     ]
    }
   ],
   "source": [
    "whText = nltk.Text(whTokens)\n",
    "\n",
    "whitehouseIndex = nltk.text.ConcordanceIndex(whText) \n",
    "whitehouseIndex.print_concordance('Whitehouse')"
   ]
  },
  {
   "cell_type": "markdown",
   "metadata": {},
   "source": [
    "*Note* that the `Text` class is for doing rapid, exploratory analysis. It provides an easy interface to many of the operations we want to do, but it does not allow us much control over the particular operations it glosses. When you are doing a more complete analysis, you should be using the module specifically designed for that task instead of the shortcut method `Text` provides, e.g. use  [`collocations` Module](http://www.nltk.org/api/nltk.html#module-nltk.collocations) instead of `.collocations()`.\n",
    "\n",
    "Now that we have gotten this loaded, let's glance at few features we will delve into more deeply later.\n",
    "\n",
    "For example, we can find words that statistically tend to occur together and typically have a composite, idiomatic meaning irreducible to the semantics of its component words. We will do this later with more control over exactly how these are identified."
   ]
  },
  {
   "cell_type": "markdown",
   "metadata": {},
   "source": [
    "Or we can pick a word (or words) and find what words tend to occur around it."
   ]
  },
  {
   "cell_type": "code",
   "execution_count": 24,
   "metadata": {},
   "outputs": [
    {
     "name": "stdout",
     "output_type": "stream",
     "text": [
      "for_cell on_cells the_cell hope_cell time_cell own_cells joints_cell\n",
      "of_cell embryonic_cells\n"
     ]
    }
   ],
   "source": [
    "whText.common_contexts(['stem'])"
   ]
  },
  {
   "cell_type": "markdown",
   "metadata": {},
   "source": [
    "We can also just count the number of times the word occurs."
   ]
  },
  {
   "cell_type": "code",
   "execution_count": 25,
   "metadata": {},
   "outputs": [
    {
     "data": {
      "text/plain": [
       "5"
      ]
     },
     "execution_count": 25,
     "metadata": {},
     "output_type": "execute_result"
    }
   ],
   "source": [
    "whText.count('cell')"
   ]
  },
  {
   "cell_type": "markdown",
   "metadata": {},
   "source": [
    "\n",
    "We can also plot each time a set of words occurs."
   ]
  },
  {
   "cell_type": "code",
   "execution_count": 26,
   "metadata": {},
   "outputs": [
    {
     "data": {
      "image/png": "[encoded data removed]",
      "text/plain": [
       "<Figure size 432x288 with 1 Axes>"
      ]
     },
     "metadata": {
      "needs_background": "light"
     },
     "output_type": "display_data"
    }
   ],
   "source": [
    "sns.reset_orig() #Seaborn messes with this plot, disabling it\n",
    "whText.dispersion_plot(['Sen.','stem', 'cell', 'federal' ,'Lila', 'Barber', 'Whitehouse'])\n",
    "sns.set() #Re-enabling seaborn"
   ]
  },
  {
   "cell_type": "markdown",
   "metadata": {},
   "source": [
    "If we want to do an analysis of all the Whitehouse press releases we will first need to obtain them. By looking at the API we can see the the URL we want is [https://api.github.com/repos/lintool/GrimmerSenatePressReleases/contents/raw/Whitehouse](https://api.github.com/repos/lintool/GrimmerSenatePressReleases/contents/raw/Whitehouse), so we can create a function to scrape the individual files.\n",
    "\n",
    "If you want to know more about downloading from APIs, refer back to the 1st notebook."
   ]
  },
  {
   "cell_type": "code",
   "execution_count": 27,
   "metadata": {},
   "outputs": [
    {
     "data": {
      "text/html": [
       "<div>\n",
       "<style scoped>\n",
       "    .dataframe tbody tr th:only-of-type {\n",
       "        vertical-align: middle;\n",
       "    }\n",
       "\n",
       "    .dataframe tbody tr th {\n",
       "        vertical-align: top;\n",
       "    }\n",
       "\n",
       "    .dataframe thead th {\n",
       "        text-align: right;\n",
       "    }\n",
       "</style>\n",
       "<table border=\"1\" class=\"dataframe\">\n",
       "  <thead>\n",
       "    <tr style=\"text-align: right;\">\n",
       "      <th></th>\n",
       "      <th>name</th>\n",
       "      <th>text</th>\n",
       "      <th>path</th>\n",
       "      <th>html_url</th>\n",
       "      <th>download_url</th>\n",
       "    </tr>\n",
       "  </thead>\n",
       "  <tbody>\n",
       "    <tr>\n",
       "      <th>0</th>\n",
       "      <td>10Apr2007Whitehouse123.txt</td>\n",
       "      <td>SEN. WHITEHOUSE SHARES WESTERLY GIRL'S STORY I...</td>\n",
       "      <td>raw/Whitehouse/10Apr2007Whitehouse123.txt</td>\n",
       "      <td>https://github.com/lintool/GrimmerSenatePressR...</td>\n",
       "      <td>https://raw.githubusercontent.com/lintool/Grim...</td>\n",
       "    </tr>\n",
       "    <tr>\n",
       "      <th>1</th>\n",
       "      <td>10Apr2008Whitehouse2.txt</td>\n",
       "      <td>SEN. WHITEHOUSE SAYS PRESIDENT BUSH MUST BEGIN...</td>\n",
       "      <td>raw/Whitehouse/10Apr2008Whitehouse2.txt</td>\n",
       "      <td>https://github.com/lintool/GrimmerSenatePressR...</td>\n",
       "      <td>https://raw.githubusercontent.com/lintool/Grim...</td>\n",
       "    </tr>\n",
       "    <tr>\n",
       "      <th>2</th>\n",
       "      <td>10Apr2008Whitehouse3.txt</td>\n",
       "      <td>EPA MUST REVIEW LEGAL PROCESS TO ROOT OUT POLI...</td>\n",
       "      <td>raw/Whitehouse/10Apr2008Whitehouse3.txt</td>\n",
       "      <td>https://github.com/lintool/GrimmerSenatePressR...</td>\n",
       "      <td>https://raw.githubusercontent.com/lintool/Grim...</td>\n",
       "    </tr>\n",
       "    <tr>\n",
       "      <th>3</th>\n",
       "      <td>10Aug2007Whitehouse78.txt</td>\n",
       "      <td>R.I. SENATORS PRAISE SEN. DENIAL OF LNG FACILI...</td>\n",
       "      <td>raw/Whitehouse/10Aug2007Whitehouse78.txt</td>\n",
       "      <td>https://github.com/lintool/GrimmerSenatePressR...</td>\n",
       "      <td>https://raw.githubusercontent.com/lintool/Grim...</td>\n",
       "    </tr>\n",
       "    <tr>\n",
       "      <th>4</th>\n",
       "      <td>10Jan2008Whitehouse35.txt</td>\n",
       "      <td>SEN. WHITEHOUSE COMMENTS ON ONE-YEAR ANNIVERSA...</td>\n",
       "      <td>raw/Whitehouse/10Jan2008Whitehouse35.txt</td>\n",
       "      <td>https://github.com/lintool/GrimmerSenatePressR...</td>\n",
       "      <td>https://raw.githubusercontent.com/lintool/Grim...</td>\n",
       "    </tr>\n",
       "  </tbody>\n",
       "</table>\n",
       "</div>"
      ],
      "text/plain": [
       "                         name  \\\n",
       "0  10Apr2007Whitehouse123.txt   \n",
       "1    10Apr2008Whitehouse2.txt   \n",
       "2    10Apr2008Whitehouse3.txt   \n",
       "3   10Aug2007Whitehouse78.txt   \n",
       "4   10Jan2008Whitehouse35.txt   \n",
       "\n",
       "                                                text  \\\n",
       "0  SEN. WHITEHOUSE SHARES WESTERLY GIRL'S STORY I...   \n",
       "1  SEN. WHITEHOUSE SAYS PRESIDENT BUSH MUST BEGIN...   \n",
       "2  EPA MUST REVIEW LEGAL PROCESS TO ROOT OUT POLI...   \n",
       "3  R.I. SENATORS PRAISE SEN. DENIAL OF LNG FACILI...   \n",
       "4  SEN. WHITEHOUSE COMMENTS ON ONE-YEAR ANNIVERSA...   \n",
       "\n",
       "                                        path  \\\n",
       "0  raw/Whitehouse/10Apr2007Whitehouse123.txt   \n",
       "1    raw/Whitehouse/10Apr2008Whitehouse2.txt   \n",
       "2    raw/Whitehouse/10Apr2008Whitehouse3.txt   \n",
       "3   raw/Whitehouse/10Aug2007Whitehouse78.txt   \n",
       "4   raw/Whitehouse/10Jan2008Whitehouse35.txt   \n",
       "\n",
       "                                            html_url  \\\n",
       "0  https://github.com/lintool/GrimmerSenatePressR...   \n",
       "1  https://github.com/lintool/GrimmerSenatePressR...   \n",
       "2  https://github.com/lintool/GrimmerSenatePressR...   \n",
       "3  https://github.com/lintool/GrimmerSenatePressR...   \n",
       "4  https://github.com/lintool/GrimmerSenatePressR...   \n",
       "\n",
       "                                        download_url  \n",
       "0  https://raw.githubusercontent.com/lintool/Grim...  \n",
       "1  https://raw.githubusercontent.com/lintool/Grim...  \n",
       "2  https://raw.githubusercontent.com/lintool/Grim...  \n",
       "3  https://raw.githubusercontent.com/lintool/Grim...  \n",
       "4  https://raw.githubusercontent.com/lintool/Grim...  "
      ]
     },
     "execution_count": 27,
     "metadata": {},
     "output_type": "execute_result"
    }
   ],
   "source": [
    "def getGithubFiles(target, maxFiles = 100):\n",
    "    #We are setting a max so our examples don't take too long to run\n",
    "    #For converting to a DataFrame\n",
    "    releasesDict = {\n",
    "        'name' : [], #The name of the file\n",
    "        'text' : [], #The text of the file, watch out for binary files\n",
    "        'path' : [], #The path in the git repo to the file\n",
    "        'html_url' : [], #The url to see the file on Github\n",
    "        'download_url' : [], #The url to download the file\n",
    "    }\n",
    "\n",
    "    #Get the directory information from Github\n",
    "    r = requests.get(target)\n",
    "    filesLst = json.loads(r.text)\n",
    "\n",
    "    for fileDict in filesLst[:maxFiles]:\n",
    "        #These are provided by the directory\n",
    "        releasesDict['name'].append(fileDict['name'])\n",
    "        releasesDict['path'].append(fileDict['path'])\n",
    "        releasesDict['html_url'].append(fileDict['html_url'])\n",
    "        releasesDict['download_url'].append(fileDict['download_url'])\n",
    "\n",
    "        #We need to download the text though\n",
    "        text = requests.get(fileDict['download_url']).text\n",
    "        releasesDict['text'].append(text)\n",
    "\n",
    "    return pandas.DataFrame(releasesDict)\n",
    "\n",
    "whReleases = getGithubFiles('https://api.github.com/repos/lintool/GrimmerSenatePressReleases/contents/raw/Whitehouse', maxFiles = 10)\n",
    "whReleases[:5]"
   ]
  },
  {
   "cell_type": "markdown",
   "metadata": {},
   "source": [
    "If you are having trouble downloading the data uncomment this next cell"
   ]
  },
  {
   "cell_type": "code",
   "execution_count": 28,
   "metadata": {},
   "outputs": [],
   "source": [
    "#whReleases = pandas.read_csv('../data/whReleases.csv')"
   ]
  },
  {
   "cell_type": "markdown",
   "metadata": {},
   "source": [
    "Now we have all the texts in a DataFrame we can look at a few things.\n",
    "\n",
    "First let's tokenize the texts with the same tokenizer as we used before. We will just save the tokens as a list for now; no need to convert to `Text`s."
   ]
  },
  {
   "cell_type": "code",
   "execution_count": 29,
   "metadata": {},
   "outputs": [],
   "source": [
    "whReleases['tokenized_text'] = whReleases['text'].apply(lambda x: word_tokenize(x))"
   ]
  },
  {
   "cell_type": "markdown",
   "metadata": {},
   "source": [
    "Now lets see how long each of the press releases is:"
   ]
  },
  {
   "cell_type": "code",
   "execution_count": 30,
   "metadata": {},
   "outputs": [
    {
     "data": {
      "text/plain": [
       "0    350\n",
       "1    311\n",
       "2    497\n",
       "3    189\n",
       "4    236\n",
       "5    334\n",
       "6    241\n",
       "7    469\n",
       "8    443\n",
       "9    425\n",
       "Name: word_counts, dtype: int64"
      ]
     },
     "execution_count": 30,
     "metadata": {},
     "output_type": "execute_result"
    }
   ],
   "source": [
    "whReleases['word_counts'] = whReleases['tokenized_text'].apply(lambda x: len(x))\n",
    "whReleases['word_counts']"
   ]
  },
  {
   "cell_type": "markdown",
   "metadata": {},
   "source": [
    "## <font color=\"red\">*Exercise 1*</font>\n",
    "\n",
    "<font color=\"red\">Construct cells immediately below this that input and interrogate a corpus relating to your anticipated final project. This could include one of the Davies corpora or some other you have constructed. Turn your text into an nltk `Text` object, and explore all of the features examined above, and others that relate to better understanding your corpus in relation to your research question. </font>"
   ]
  },
  {
   "cell_type": "markdown",
   "metadata": {},
   "source": [
    "I'll use the TV corpus for the following analysis."
   ]
  },
  {
   "cell_type": "code",
   "execution_count": 31,
   "metadata": {},
   "outputs": [
    {
     "name": "stdout",
     "output_type": "stream",
     "text": [
      "text_13_idi.zip\n",
      "text_16_qll.zip\n",
      "text_32_ldf.zip\n",
      "text_19_gvc.zip\n",
      "text_09_jex.zip\n",
      "text_05_nko.zip\n",
      "text_17_arp.zip\n",
      "text_01_ote.zip\n",
      "text_28_rfy.zip\n",
      "text_31_akv.zip\n",
      "text_22_etp.zip\n",
      "text_11_uoy.zip\n",
      "text_14_lnc.zip\n",
      "text_06_eyp.zip\n",
      "text_08_loh.zip\n",
      "text_33_kje.zip\n",
      "text_30_wkp.zip\n",
      "text_07_oma.zip\n",
      "text_03_mnq.zip\n",
      "text_21_fqa.zip\n",
      "text_29_oye.zip\n",
      "text_27_fle.zip\n",
      "text_23_fmh.zip\n",
      "text_12_rcq.zip\n",
      "text_00_myn.zip\n",
      "text_10_aoy.zip\n",
      "text_04_mlq.zip\n",
      "text_20_cde.zip\n",
      "text_02_mqu.zip\n",
      "text_26_ngj.zip\n",
      "text_24_ywo.zip\n",
      "text_18_jfj.zip\n",
      "text_25_byg.zip\n",
      "text_15_guo.zip\n"
     ]
    }
   ],
   "source": [
    "# Load the corpus.\n",
    "tv_corpus_name = \"/Users/wenqianzhang/Desktop/2022Winter/CCA/data/TV/\"\n",
    "tv_raw = loadcorpus(tv_corpus_name)"
   ]
  },
  {
   "cell_type": "code",
   "execution_count": 32,
   "metadata": {},
   "outputs": [],
   "source": [
    "# Clean the raw text of \"01.txt\" and get word tokens.\n",
    "clean_01_tv = clean_raw_text(tv_raw['01.txt'])\n",
    "tv_tokens = word_tokenize(clean_01_tv[1])\n",
    "# tv_tokens"
   ]
  },
  {
   "cell_type": "code",
   "execution_count": 33,
   "metadata": {},
   "outputs": [
    {
     "data": {
      "text/html": [
       "<div>\n",
       "<style scoped>\n",
       "    .dataframe tbody tr th:only-of-type {\n",
       "        vertical-align: middle;\n",
       "    }\n",
       "\n",
       "    .dataframe tbody tr th {\n",
       "        vertical-align: top;\n",
       "    }\n",
       "\n",
       "    .dataframe thead th {\n",
       "        text-align: right;\n",
       "    }\n",
       "</style>\n",
       "<table border=\"1\" class=\"dataframe\">\n",
       "  <thead>\n",
       "    <tr style=\"text-align: right;\">\n",
       "      <th></th>\n",
       "      <th>word</th>\n",
       "      <th>count</th>\n",
       "    </tr>\n",
       "  </thead>\n",
       "  <tbody>\n",
       "    <tr>\n",
       "      <th>1</th>\n",
       "      <td>i</td>\n",
       "      <td>390</td>\n",
       "    </tr>\n",
       "    <tr>\n",
       "      <th>36</th>\n",
       "      <td>the</td>\n",
       "      <td>343</td>\n",
       "    </tr>\n",
       "    <tr>\n",
       "      <th>7</th>\n",
       "      <td>you</td>\n",
       "      <td>340</td>\n",
       "    </tr>\n",
       "    <tr>\n",
       "      <th>4</th>\n",
       "      <td>that</td>\n",
       "      <td>217</td>\n",
       "    </tr>\n",
       "    <tr>\n",
       "      <th>6</th>\n",
       "      <td>to</td>\n",
       "      <td>190</td>\n",
       "    </tr>\n",
       "  </tbody>\n",
       "</table>\n",
       "</div>"
      ],
      "text/plain": [
       "    word  count\n",
       "1      i    390\n",
       "36   the    343\n",
       "7    you    340\n",
       "4   that    217\n",
       "6     to    190"
      ]
     },
     "execution_count": 33,
     "metadata": {},
     "output_type": "execute_result"
    }
   ],
   "source": [
    "# Count words.\n",
    "countedTvWords = wordCounter(tv_tokens).sort_values('count', ascending=False)\n",
    "countedTvWords.head()"
   ]
  },
  {
   "cell_type": "code",
   "execution_count": 34,
   "metadata": {},
   "outputs": [
    {
     "data": {
      "image/png": "[encoded data removed]",
      "text/plain": [
       "<Figure size 432x288 with 1 Axes>"
      ]
     },
     "metadata": {},
     "output_type": "display_data"
    }
   ],
   "source": [
    "# Plot the frequencies.\n",
    "fig = plt.figure()\n",
    "plt.plot(range(len(countedTvWords)), countedTvWords['count'])\n",
    "plt.show()"
   ]
  },
  {
   "cell_type": "markdown",
   "metadata": {},
   "source": [
    "The distribution of word counts is consistent with that of movie coupus."
   ]
  },
  {
   "cell_type": "code",
   "execution_count": 35,
   "metadata": {},
   "outputs": [
    {
     "name": "stdout",
     "output_type": "stream",
     "text": [
      "Displaying 12 of 12 matches:\n",
      "ould be expected to anticipate a Lt Columbo Homicide Oh Well I 'll be in my off\n",
      "thing else No that should do it sir Columbo Thank you Lieutenant we we 'll be f\n",
      "re Please feel free to examine them Columbo Thank you very much Keppel Was ther\n",
      "ch Good night Lieutenant Good night Columbo I 'm just here to ask some routine \n",
      "d Mr Norris Last night when that Lt Columbo was asking me all those questions a\n",
      "ter we run it for narration Yes sir Columbo Thank you Well Lieutenant what got \n",
      " help Any time Excuse me Are you Lt Columbo Yeah It 's your office sir On secon\n",
      "ll talk afterwards Go ahead and run Columbo what do you want I 'm sorry to dist\n",
      "eutenant Doctor Dr Keppel Dr Keppel Columbo Good afternoon Doctor Afternoon Doc\n",
      "id sir And did you reach Miss Baker Columbo Yes sir I did But you were n't able\n",
      "utenant officer You on to something Columbo No There has to be a murder weapon \n",
      "olved it without using my technique Columbo That 's right Doc If there was a re\n"
     ]
    }
   ],
   "source": [
    "# Turn the tokens into a nltk object.\n",
    "tvText = nltk.Text(tv_tokens)\n",
    "\n",
    "tvIndex = nltk.ConcordanceIndex(tvText)\n",
    "tvIndex.print_concordance('Columbo')"
   ]
  },
  {
   "cell_type": "code",
   "execution_count": 36,
   "metadata": {},
   "outputs": [
    {
     "name": "stdout",
     "output_type": "stream",
     "text": [
      "sir_thank lt_homicide them_thank night_i lt_was lt_yeah run_what\n",
      "keppel_good baker_yes something_no technique_that\n"
     ]
    }
   ],
   "source": [
    "# Examine the common contexts of 'Columbo'\n",
    "tvText.common_contexts(['Columbo'])"
   ]
  },
  {
   "cell_type": "markdown",
   "metadata": {},
   "source": [
    "It seems that word 'Columbo' is always around with 'sir' and 'Lt'('lieutantent')."
   ]
  },
  {
   "cell_type": "code",
   "execution_count": 37,
   "metadata": {},
   "outputs": [
    {
     "data": {
      "text/plain": [
       "12"
      ]
     },
     "execution_count": 37,
     "metadata": {},
     "output_type": "execute_result"
    }
   ],
   "source": [
    "# Count the number of 'Columbo'.\n",
    "tvText.count('Columbo')"
   ]
  },
  {
   "cell_type": "code",
   "execution_count": 38,
   "metadata": {},
   "outputs": [
    {
     "data": {
      "image/png": "[encoded data removed]",
      "text/plain": [
       "<Figure size 432x288 with 1 Axes>"
      ]
     },
     "metadata": {
      "needs_background": "light"
     },
     "output_type": "display_data"
    }
   ],
   "source": [
    "# Graph the lexical dispersion plot.\n",
    "sns.reset_orig()\n",
    "tvText.dispersion_plot(['Lt', 'sir', 'Columbo', 'homicide'])\n",
    "sns.set()"
   ]
  },
  {
   "cell_type": "markdown",
   "metadata": {},
   "source": [
    "# Filtering and normalizing text\n",
    "\n",
    "As we want to start comparing the different releases we may choose to do a bit of filtering and normalizing that will allow us to focus on what we most care about. We can first make all of the words lower case, then drop the non-word tokens. Next, we can remove some 'stop words', stem the remaining words to remove suffixes, prefixes and (in some languages) infixes, or lemmatize tokens by intelligently grouping inflected or variant forms of the same word (e.g., with a stemmer and a dictionary). \n",
    "\n",
    "To begin this process, we will first define a function to work over the tokenized lists, then another to add normalized tokens to a new column."
   ]
  },
  {
   "cell_type": "markdown",
   "metadata": {},
   "source": [
    "We will be using spaCy's built in stop words identifying capacity. When we run text through spaCy's language pipeline, it automatically tags it as a stop word. "
   ]
  },
  {
   "cell_type": "markdown",
   "metadata": {},
   "source": [
    "We can remove these stopwords from the analysis by fiat, but we could also take a more principled approach by looking at the frequency distribution of words and selecting a specific cut-off associated with the preservation of 'meaningful words' identified upon inspection. Alternatively, we could automatically set a cut-off by rule, such as removal of all words more frequent then the most frequent verb, or the most frequent noun (not pronoun), or some term of central interest. "
   ]
  },
  {
   "cell_type": "code",
   "execution_count": 39,
   "metadata": {},
   "outputs": [
    {
     "data": {
      "text/plain": [
       "[('the', 179),\n",
       " ('of', 112),\n",
       " ('to', 112),\n",
       " ('and', 108),\n",
       " ('in', 64),\n",
       " ('a', 61),\n",
       " (\"'s\", 50),\n",
       " ('that', 41),\n",
       " ('our', 39),\n",
       " ('for', 35),\n",
       " ('on', 33),\n",
       " ('is', 33),\n",
       " ('Whitehouse', 31),\n",
       " ('Iraq', 28),\n",
       " ('Bush', 27),\n",
       " ('President', 25),\n",
       " ('troops', 21),\n",
       " ('by', 19),\n",
       " ('American', 19),\n",
       " ('with', 18)]"
      ]
     },
     "execution_count": 39,
     "metadata": {},
     "output_type": "execute_result"
    }
   ],
   "source": [
    "countsDict = {}\n",
    "for word in whReleases['tokenized_text'].sum():\n",
    "    if word in countsDict:\n",
    "        countsDict[word] += 1\n",
    "    else:\n",
    "        countsDict[word] = 1\n",
    "word_counts = sorted(countsDict.items(), key = lambda x : x[1], reverse = True)\n",
    "word_counts[:20]"
   ]
  },
  {
   "cell_type": "markdown",
   "metadata": {},
   "source": [
    "We can look at this and pick the cutoff, often at the first noun. So we will cut all words before `'Whitehouse'`."
   ]
  },
  {
   "cell_type": "code",
   "execution_count": 40,
   "metadata": {},
   "outputs": [
    {
     "data": {
      "text/plain": [
       "['the', 'of', 'to', 'and', 'in', 'a', \"'s\", 'that', 'our', 'for', 'on', 'is']"
      ]
     },
     "execution_count": 40,
     "metadata": {},
     "output_type": "execute_result"
    }
   ],
   "source": [
    "#The stop list is then all words that occur before the first noun\n",
    "stop_words_freq = []\n",
    "for word, count in word_counts:\n",
    "    if word == 'Whitehouse':\n",
    "        break\n",
    "    else:\n",
    "        stop_words_freq.append(word)\n",
    "stop_words_freq"
   ]
  },
  {
   "cell_type": "markdown",
   "metadata": {},
   "source": [
    "If we did have any extra words to add as stop words apart from those normally considered as stop words, we would add it to our stop words by passing it to the normalize tokens method. "
   ]
  },
  {
   "cell_type": "markdown",
   "metadata": {},
   "source": [
    "Now we can create our function to normalize the tokens"
   ]
  },
  {
   "cell_type": "code",
   "execution_count": 41,
   "metadata": {},
   "outputs": [],
   "source": [
    "def normalizeTokens(word_list, extra_stop=[]):\n",
    "    #We can use a generator here as we just need to iterate over it\n",
    "    normalized = []\n",
    "    if type(word_list) == list and len(word_list) == 1:\n",
    "        word_list = word_list[0]\n",
    "\n",
    "    if type(word_list) == list:\n",
    "        word_list = ' '.join([str(elem) for elem in word_list]) \n",
    "\n",
    "    doc = nlp(word_list.lower())\n",
    "    \n",
    "    # add the property of stop word to words considered as stop words\n",
    "    if len(extra_stop) > 0:\n",
    "        for stopword in extra_stop:\n",
    "            lexeme = nlp.vocab[stopword]\n",
    "            lexeme.is_stop = True\n",
    "\n",
    "    for w in doc:\n",
    "        # if it's not a stop word or punctuation mark, add it to our article\n",
    "        if w.text != '\\n' and not w.is_stop and not w.is_punct and not w.like_num and len(w.text.strip()) > 0:\n",
    "            # we add the lematized version of the word\n",
    "            normalized.append(str(w.lemma_))\n",
    "\n",
    "    return normalized"
   ]
  },
  {
   "cell_type": "code",
   "execution_count": 42,
   "metadata": {},
   "outputs": [
    {
     "data": {
      "text/html": [
       "<div>\n",
       "<style scoped>\n",
       "    .dataframe tbody tr th:only-of-type {\n",
       "        vertical-align: middle;\n",
       "    }\n",
       "\n",
       "    .dataframe tbody tr th {\n",
       "        vertical-align: top;\n",
       "    }\n",
       "\n",
       "    .dataframe thead th {\n",
       "        text-align: right;\n",
       "    }\n",
       "</style>\n",
       "<table border=\"1\" class=\"dataframe\">\n",
       "  <thead>\n",
       "    <tr style=\"text-align: right;\">\n",
       "      <th></th>\n",
       "      <th>name</th>\n",
       "      <th>text</th>\n",
       "      <th>path</th>\n",
       "      <th>html_url</th>\n",
       "      <th>download_url</th>\n",
       "      <th>tokenized_text</th>\n",
       "      <th>word_counts</th>\n",
       "      <th>normalized_tokens</th>\n",
       "      <th>normalized_tokens_count</th>\n",
       "    </tr>\n",
       "  </thead>\n",
       "  <tbody>\n",
       "    <tr>\n",
       "      <th>0</th>\n",
       "      <td>10Apr2007Whitehouse123.txt</td>\n",
       "      <td>SEN. WHITEHOUSE SHARES WESTERLY GIRL'S STORY I...</td>\n",
       "      <td>raw/Whitehouse/10Apr2007Whitehouse123.txt</td>\n",
       "      <td>https://github.com/lintool/GrimmerSenatePressR...</td>\n",
       "      <td>https://raw.githubusercontent.com/lintool/Grim...</td>\n",
       "      <td>[SEN, WHITEHOUSE, SHARES, WESTERLY, GIRL, 'S, ...</td>\n",
       "      <td>350</td>\n",
       "      <td>[sen, whitehouse, share, westerly, girl, story...</td>\n",
       "      <td>224</td>\n",
       "    </tr>\n",
       "    <tr>\n",
       "      <th>1</th>\n",
       "      <td>10Apr2008Whitehouse2.txt</td>\n",
       "      <td>SEN. WHITEHOUSE SAYS PRESIDENT BUSH MUST BEGIN...</td>\n",
       "      <td>raw/Whitehouse/10Apr2008Whitehouse2.txt</td>\n",
       "      <td>https://github.com/lintool/GrimmerSenatePressR...</td>\n",
       "      <td>https://raw.githubusercontent.com/lintool/Grim...</td>\n",
       "      <td>[SEN, WHITEHOUSE, SAYS, PRESIDENT, BUSH, MUST,...</td>\n",
       "      <td>311</td>\n",
       "      <td>[sen, whitehouse, say, president, bush, begin,...</td>\n",
       "      <td>159</td>\n",
       "    </tr>\n",
       "    <tr>\n",
       "      <th>2</th>\n",
       "      <td>10Apr2008Whitehouse3.txt</td>\n",
       "      <td>EPA MUST REVIEW LEGAL PROCESS TO ROOT OUT POLI...</td>\n",
       "      <td>raw/Whitehouse/10Apr2008Whitehouse3.txt</td>\n",
       "      <td>https://github.com/lintool/GrimmerSenatePressR...</td>\n",
       "      <td>https://raw.githubusercontent.com/lintool/Grim...</td>\n",
       "      <td>[EPA, MUST, REVIEW, LEGAL, PROCESS, TO, ROOT, ...</td>\n",
       "      <td>497</td>\n",
       "      <td>[epa, review, legal, process, root, political,...</td>\n",
       "      <td>298</td>\n",
       "    </tr>\n",
       "    <tr>\n",
       "      <th>3</th>\n",
       "      <td>10Aug2007Whitehouse78.txt</td>\n",
       "      <td>R.I. SENATORS PRAISE SEN. DENIAL OF LNG FACILI...</td>\n",
       "      <td>raw/Whitehouse/10Aug2007Whitehouse78.txt</td>\n",
       "      <td>https://github.com/lintool/GrimmerSenatePressR...</td>\n",
       "      <td>https://raw.githubusercontent.com/lintool/Grim...</td>\n",
       "      <td>[R.I., SENATORS, PRAISE, SEN, DENIAL, OF, LNG,...</td>\n",
       "      <td>189</td>\n",
       "      <td>[r.i, senator, praise, sen, denial, lng, facil...</td>\n",
       "      <td>116</td>\n",
       "    </tr>\n",
       "    <tr>\n",
       "      <th>4</th>\n",
       "      <td>10Jan2008Whitehouse35.txt</td>\n",
       "      <td>SEN. WHITEHOUSE COMMENTS ON ONE-YEAR ANNIVERSA...</td>\n",
       "      <td>raw/Whitehouse/10Jan2008Whitehouse35.txt</td>\n",
       "      <td>https://github.com/lintool/GrimmerSenatePressR...</td>\n",
       "      <td>https://raw.githubusercontent.com/lintool/Grim...</td>\n",
       "      <td>[SEN, WHITEHOUSE, COMMENTS, ON, ONE, YEAR, ANN...</td>\n",
       "      <td>236</td>\n",
       "      <td>[sen, whitehouse, comment, year, anniversary, ...</td>\n",
       "      <td>125</td>\n",
       "    </tr>\n",
       "    <tr>\n",
       "      <th>5</th>\n",
       "      <td>10Mar2008Whitehouse8.txt</td>\n",
       "      <td>SENS. REED, WHITEHOUSE WELCOME RHODE ISLAND ST...</td>\n",
       "      <td>raw/Whitehouse/10Mar2008Whitehouse8.txt</td>\n",
       "      <td>https://github.com/lintool/GrimmerSenatePressR...</td>\n",
       "      <td>https://raw.githubusercontent.com/lintool/Grim...</td>\n",
       "      <td>[SENS, REED, WHITEHOUSE, WELCOME, RHODE, ISLAN...</td>\n",
       "      <td>334</td>\n",
       "      <td>[sens, reed, whitehouse, welcome, rhode, islan...</td>\n",
       "      <td>197</td>\n",
       "    </tr>\n",
       "    <tr>\n",
       "      <th>6</th>\n",
       "      <td>10Sep2007Whitehouse72.txt</td>\n",
       "      <td>REP. WHITEHOUSE ISSUES STATEMENT ON GEN. PETRA...</td>\n",
       "      <td>raw/Whitehouse/10Sep2007Whitehouse72.txt</td>\n",
       "      <td>https://github.com/lintool/GrimmerSenatePressR...</td>\n",
       "      <td>https://raw.githubusercontent.com/lintool/Grim...</td>\n",
       "      <td>[REP, WHITEHOUSE, ISSUES, STATEMENT, ON, GEN, ...</td>\n",
       "      <td>241</td>\n",
       "      <td>[rep, whitehouse, issue, statement, gen, petra...</td>\n",
       "      <td>118</td>\n",
       "    </tr>\n",
       "    <tr>\n",
       "      <th>7</th>\n",
       "      <td>11Apr2007Whitehouse122.txt</td>\n",
       "      <td>SEN. WHITEHOUSE URGES BUSH FOR NEW DIRECTION I...</td>\n",
       "      <td>raw/Whitehouse/11Apr2007Whitehouse122.txt</td>\n",
       "      <td>https://github.com/lintool/GrimmerSenatePressR...</td>\n",
       "      <td>https://raw.githubusercontent.com/lintool/Grim...</td>\n",
       "      <td>[SEN, WHITEHOUSE, URGES, BUSH, FOR, NEW, DIREC...</td>\n",
       "      <td>469</td>\n",
       "      <td>[sen, whitehouse, urge, bush, new, direction, ...</td>\n",
       "      <td>249</td>\n",
       "    </tr>\n",
       "    <tr>\n",
       "      <th>8</th>\n",
       "      <td>11Jan2007Whitehouse161.txt</td>\n",
       "      <td>SENS. REED, WHITEHOUSE URGE PORTUGAL TO RECONS...</td>\n",
       "      <td>raw/Whitehouse/11Jan2007Whitehouse161.txt</td>\n",
       "      <td>https://github.com/lintool/GrimmerSenatePressR...</td>\n",
       "      <td>https://raw.githubusercontent.com/lintool/Grim...</td>\n",
       "      <td>[SENS, REED, WHITEHOUSE, URGE, PORTUGAL, TO, R...</td>\n",
       "      <td>443</td>\n",
       "      <td>[sens, reed, whitehouse, urge, portugal, recon...</td>\n",
       "      <td>237</td>\n",
       "    </tr>\n",
       "    <tr>\n",
       "      <th>9</th>\n",
       "      <td>11Mar2008Whitehouse7.txt</td>\n",
       "      <td>WHITEHOUSE UNVEILS 'BUSH DEBT': $7.7 TRILLION ...</td>\n",
       "      <td>raw/Whitehouse/11Mar2008Whitehouse7.txt</td>\n",
       "      <td>https://github.com/lintool/GrimmerSenatePressR...</td>\n",
       "      <td>https://raw.githubusercontent.com/lintool/Grim...</td>\n",
       "      <td>[WHITEHOUSE, UNVEILS, BUSH, DEBT, $, 7.7, TRIL...</td>\n",
       "      <td>425</td>\n",
       "      <td>[whitehouse, unveil, bush, debt, $, foregone, ...</td>\n",
       "      <td>241</td>\n",
       "    </tr>\n",
       "  </tbody>\n",
       "</table>\n",
       "</div>"
      ],
      "text/plain": [
       "                         name  \\\n",
       "0  10Apr2007Whitehouse123.txt   \n",
       "1    10Apr2008Whitehouse2.txt   \n",
       "2    10Apr2008Whitehouse3.txt   \n",
       "3   10Aug2007Whitehouse78.txt   \n",
       "4   10Jan2008Whitehouse35.txt   \n",
       "5    10Mar2008Whitehouse8.txt   \n",
       "6   10Sep2007Whitehouse72.txt   \n",
       "7  11Apr2007Whitehouse122.txt   \n",
       "8  11Jan2007Whitehouse161.txt   \n",
       "9    11Mar2008Whitehouse7.txt   \n",
       "\n",
       "                                                text  \\\n",
       "0  SEN. WHITEHOUSE SHARES WESTERLY GIRL'S STORY I...   \n",
       "1  SEN. WHITEHOUSE SAYS PRESIDENT BUSH MUST BEGIN...   \n",
       "2  EPA MUST REVIEW LEGAL PROCESS TO ROOT OUT POLI...   \n",
       "3  R.I. SENATORS PRAISE SEN. DENIAL OF LNG FACILI...   \n",
       "4  SEN. WHITEHOUSE COMMENTS ON ONE-YEAR ANNIVERSA...   \n",
       "5  SENS. REED, WHITEHOUSE WELCOME RHODE ISLAND ST...   \n",
       "6  REP. WHITEHOUSE ISSUES STATEMENT ON GEN. PETRA...   \n",
       "7  SEN. WHITEHOUSE URGES BUSH FOR NEW DIRECTION I...   \n",
       "8  SENS. REED, WHITEHOUSE URGE PORTUGAL TO RECONS...   \n",
       "9  WHITEHOUSE UNVEILS 'BUSH DEBT': $7.7 TRILLION ...   \n",
       "\n",
       "                                        path  \\\n",
       "0  raw/Whitehouse/10Apr2007Whitehouse123.txt   \n",
       "1    raw/Whitehouse/10Apr2008Whitehouse2.txt   \n",
       "2    raw/Whitehouse/10Apr2008Whitehouse3.txt   \n",
       "3   raw/Whitehouse/10Aug2007Whitehouse78.txt   \n",
       "4   raw/Whitehouse/10Jan2008Whitehouse35.txt   \n",
       "5    raw/Whitehouse/10Mar2008Whitehouse8.txt   \n",
       "6   raw/Whitehouse/10Sep2007Whitehouse72.txt   \n",
       "7  raw/Whitehouse/11Apr2007Whitehouse122.txt   \n",
       "8  raw/Whitehouse/11Jan2007Whitehouse161.txt   \n",
       "9    raw/Whitehouse/11Mar2008Whitehouse7.txt   \n",
       "\n",
       "                                            html_url  \\\n",
       "0  https://github.com/lintool/GrimmerSenatePressR...   \n",
       "1  https://github.com/lintool/GrimmerSenatePressR...   \n",
       "2  https://github.com/lintool/GrimmerSenatePressR...   \n",
       "3  https://github.com/lintool/GrimmerSenatePressR...   \n",
       "4  https://github.com/lintool/GrimmerSenatePressR...   \n",
       "5  https://github.com/lintool/GrimmerSenatePressR...   \n",
       "6  https://github.com/lintool/GrimmerSenatePressR...   \n",
       "7  https://github.com/lintool/GrimmerSenatePressR...   \n",
       "8  https://github.com/lintool/GrimmerSenatePressR...   \n",
       "9  https://github.com/lintool/GrimmerSenatePressR...   \n",
       "\n",
       "                                        download_url  \\\n",
       "0  https://raw.githubusercontent.com/lintool/Grim...   \n",
       "1  https://raw.githubusercontent.com/lintool/Grim...   \n",
       "2  https://raw.githubusercontent.com/lintool/Grim...   \n",
       "3  https://raw.githubusercontent.com/lintool/Grim...   \n",
       "4  https://raw.githubusercontent.com/lintool/Grim...   \n",
       "5  https://raw.githubusercontent.com/lintool/Grim...   \n",
       "6  https://raw.githubusercontent.com/lintool/Grim...   \n",
       "7  https://raw.githubusercontent.com/lintool/Grim...   \n",
       "8  https://raw.githubusercontent.com/lintool/Grim...   \n",
       "9  https://raw.githubusercontent.com/lintool/Grim...   \n",
       "\n",
       "                                      tokenized_text  word_counts  \\\n",
       "0  [SEN, WHITEHOUSE, SHARES, WESTERLY, GIRL, 'S, ...          350   \n",
       "1  [SEN, WHITEHOUSE, SAYS, PRESIDENT, BUSH, MUST,...          311   \n",
       "2  [EPA, MUST, REVIEW, LEGAL, PROCESS, TO, ROOT, ...          497   \n",
       "3  [R.I., SENATORS, PRAISE, SEN, DENIAL, OF, LNG,...          189   \n",
       "4  [SEN, WHITEHOUSE, COMMENTS, ON, ONE, YEAR, ANN...          236   \n",
       "5  [SENS, REED, WHITEHOUSE, WELCOME, RHODE, ISLAN...          334   \n",
       "6  [REP, WHITEHOUSE, ISSUES, STATEMENT, ON, GEN, ...          241   \n",
       "7  [SEN, WHITEHOUSE, URGES, BUSH, FOR, NEW, DIREC...          469   \n",
       "8  [SENS, REED, WHITEHOUSE, URGE, PORTUGAL, TO, R...          443   \n",
       "9  [WHITEHOUSE, UNVEILS, BUSH, DEBT, $, 7.7, TRIL...          425   \n",
       "\n",
       "                                   normalized_tokens  normalized_tokens_count  \n",
       "0  [sen, whitehouse, share, westerly, girl, story...                      224  \n",
       "1  [sen, whitehouse, say, president, bush, begin,...                      159  \n",
       "2  [epa, review, legal, process, root, political,...                      298  \n",
       "3  [r.i, senator, praise, sen, denial, lng, facil...                      116  \n",
       "4  [sen, whitehouse, comment, year, anniversary, ...                      125  \n",
       "5  [sens, reed, whitehouse, welcome, rhode, islan...                      197  \n",
       "6  [rep, whitehouse, issue, statement, gen, petra...                      118  \n",
       "7  [sen, whitehouse, urge, bush, new, direction, ...                      249  \n",
       "8  [sens, reed, whitehouse, urge, portugal, recon...                      237  \n",
       "9  [whitehouse, unveil, bush, debt, $, foregone, ...                      241  "
      ]
     },
     "execution_count": 42,
     "metadata": {},
     "output_type": "execute_result"
    }
   ],
   "source": [
    "whReleases['normalized_tokens'] = whReleases['tokenized_text'].apply(lambda x: normalizeTokens(x))\n",
    "\n",
    "whReleases['normalized_tokens_count'] = whReleases['normalized_tokens'].apply(lambda x: len(x))\n",
    "\n",
    "whReleases"
   ]
  },
  {
   "cell_type": "markdown",
   "metadata": {},
   "source": [
    "You can see that in the final step of normalizing, we add the lemmatized form of the word. spaCy's built in lemmatizer does this (https://spacy.io/api/lemmatizer). Lemmatization can be thought of as finding the root or the base of the word after removing inflections and other variations of words. Another possible way of finding the roots of words is using NLTK's porting or stemming functionalities, but we will not be getting into them.\n",
    "\n",
    "Now that it is cleaned we start analyzing the dataset. We can start by finding frequency distributions for the dataset. Lets start looking at all the press releases together. The [`ConditionalFreqDist`](http://www.nltk.org/api/nltk.html#nltk.probability.ConditionalProbDist) class reads in an iterable of tuples, the first element is the condition and the second the focal word. For starters, we will use word lengths as the conditions, but tags or clusters will provide more useful results."
   ]
  },
  {
   "cell_type": "code",
   "execution_count": 43,
   "metadata": {},
   "outputs": [
    {
     "name": "stdout",
     "output_type": "stream",
     "text": [
      "1964\n"
     ]
    }
   ],
   "source": [
    "#.sum() adds together the lists from each row into a single list\n",
    "whcfdist = nltk.ConditionalFreqDist(((len(w), w) for w in whReleases['normalized_tokens'].sum()))\n",
    "\n",
    "#print the number of words\n",
    "print(whcfdist.N())"
   ]
  },
  {
   "cell_type": "markdown",
   "metadata": {},
   "source": [
    "From this we can lookup the distributions of different word lengths"
   ]
  },
  {
   "cell_type": "code",
   "execution_count": 44,
   "metadata": {},
   "outputs": [
    {
     "data": {
      "image/png": "[encoded data removed]",
      "text/plain": [
       "<Figure size 432x288 with 1 Axes>"
      ]
     },
     "metadata": {},
     "output_type": "display_data"
    },
    {
     "data": {
      "text/plain": [
       "<AxesSubplot:xlabel='Samples', ylabel='Counts'>"
      ]
     },
     "execution_count": 44,
     "metadata": {},
     "output_type": "execute_result"
    }
   ],
   "source": [
    "whcfdist[3].plot()"
   ]
  },
  {
   "cell_type": "markdown",
   "metadata": {},
   "source": [
    "We can also create a Conditional Probability Distribution or [`ConditionalProbDist`](http://www.nltk.org/api/nltk.html#nltk.probability.ConditionalProbDist) from the `ConditionalFreqDist`. To do this, however, we need a model for the probability distribution. A simple model is [`ELEProbDist`](http://www.nltk.org/api/nltk.html#nltk.probability.ELEProbDist) which gives the expected likelihood estimate for the probability distribution of the experiment used to generate the observed frequency distribution. "
   ]
  },
  {
   "cell_type": "code",
   "execution_count": 45,
   "metadata": {},
   "outputs": [
    {
     "name": "stdout",
     "output_type": "stream",
     "text": [
      "ri\n",
      "0.25\n"
     ]
    }
   ],
   "source": [
    "whcpdist = nltk.ConditionalProbDist(whcfdist, nltk.ELEProbDist)\n",
    "\n",
    "#print the most common 2 letter word\n",
    "print(whcpdist[2].max())\n",
    "\n",
    "#And its probability\n",
    "print(whcpdist[2].prob(whcpdist[2].max()))"
   ]
  },
  {
   "cell_type": "markdown",
   "metadata": {},
   "source": [
    "Length is one feature of a word, but there are many more important features we care about. Another critical feature is a word's role in the sentence, or its part of speech (POS). \n",
    "\n",
    "The method below works similarly to ```nltk.pos_text```, and can work with the conditional frequency distributions it provides."
   ]
  },
  {
   "cell_type": "code",
   "execution_count": 46,
   "metadata": {},
   "outputs": [],
   "source": [
    "def spacy_pos(word_list):\n",
    "    tags = []\n",
    "    doc = nlp(word_list.lower())\n",
    "    for w in doc:\n",
    "        tags.append((w.text, w.tag_))\n",
    "    return tags"
   ]
  },
  {
   "cell_type": "code",
   "execution_count": 47,
   "metadata": {},
   "outputs": [],
   "source": [
    "whReleases['normalized_tokens_POS'] = [spacy_pos(t) for t in whReleases['text']]"
   ]
  },
  {
   "cell_type": "markdown",
   "metadata": {},
   "source": [
    "This gives us a new column with the part of speech as a short initialism and the word in a tuple, exactly how the `nltk.ConditionalFreqDist()` function wants them. We can now construct another conditional frequency distribution."
   ]
  },
  {
   "cell_type": "code",
   "execution_count": 48,
   "metadata": {},
   "outputs": [
    {
     "data": {
      "text/plain": [
       "[('sen', FreqDist({'NNP': 9})),\n",
       " ('.', FreqDist({'.': 127, 'NNP': 39})),\n",
       " ('whitehouse', FreqDist({'NN': 27, 'NNP': 13})),\n",
       " ('shares', FreqDist({'NNS': 1})),\n",
       " ('westerly', FreqDist({'RB': 2})),\n",
       " ('girl', FreqDist({'NN': 2})),\n",
       " (\"'s\", FreqDist({'POS': 47, 'VBZ': 5})),\n",
       " ('story', FreqDist({'NN': 2})),\n",
       " ('in', FreqDist({'IN': 71, 'RP': 1})),\n",
       " ('push', FreqDist({'NN': 1}))]"
      ]
     },
     "execution_count": 48,
     "metadata": {},
     "output_type": "execute_result"
    }
   ],
   "source": [
    "whcfdist_WordtoPOS = nltk.ConditionalFreqDist(whReleases['normalized_tokens_POS'].sum())\n",
    "list(whcfdist_WordtoPOS.items())[:10]"
   ]
  },
  {
   "cell_type": "markdown",
   "metadata": {},
   "source": [
    "This gives the frequency of each word as each part of speech...which can be uninformative and boring. What we want is the converse; the frequency of each part of speech for each word."
   ]
  },
  {
   "cell_type": "code",
   "execution_count": 49,
   "metadata": {},
   "outputs": [],
   "source": [
    "whcfdist_POStoWord = nltk.ConditionalFreqDist((p, w) for w, p in whReleases['normalized_tokens_POS'].sum())"
   ]
  },
  {
   "cell_type": "markdown",
   "metadata": {},
   "source": [
    "We can now identify and collect all of the superlative adjectives"
   ]
  },
  {
   "cell_type": "code",
   "execution_count": 50,
   "metadata": {},
   "outputs": [
    {
     "data": {
      "text/plain": [
       "FreqDist({'american': 17, 'new': 10, 'portuguese': 9, 'political': 8, 'federal': 5, 'clear': 5, 'potential': 5, 'fiscal': 5, 'last': 4, 'several': 4, ...})"
      ]
     },
     "execution_count": 50,
     "metadata": {},
     "output_type": "execute_result"
    }
   ],
   "source": [
    "whcfdist_POStoWord['JJ']"
   ]
  },
  {
   "cell_type": "markdown",
   "metadata": {},
   "source": [
    "Or look at the most common nouns"
   ]
  },
  {
   "cell_type": "code",
   "execution_count": 51,
   "metadata": {},
   "outputs": [
    {
     "data": {
      "text/plain": [
       "[('whitehouse', 27), ('d', 17), ('today', 15), ('stem', 12), ('year', 12)]"
      ]
     },
     "execution_count": 51,
     "metadata": {},
     "output_type": "execute_result"
    }
   ],
   "source": [
    "whcfdist_POStoWord['NN'].most_common(5)"
   ]
  },
  {
   "cell_type": "markdown",
   "metadata": {},
   "source": [
    "Or plot the base form verbs against their number of occurrences"
   ]
  },
  {
   "cell_type": "code",
   "execution_count": 52,
   "metadata": {},
   "outputs": [
    {
     "data": {
      "image/png": "[encoded data removed]",
      "text/plain": [
       "<Figure size 432x288 with 1 Axes>"
      ]
     },
     "metadata": {},
     "output_type": "display_data"
    },
    {
     "data": {
      "text/plain": [
       "<AxesSubplot:xlabel='Samples', ylabel='Counts'>"
      ]
     },
     "execution_count": 52,
     "metadata": {},
     "output_type": "execute_result"
    }
   ],
   "source": [
    "whcfdist_POStoWord['VB'].plot()"
   ]
  },
  {
   "cell_type": "markdown",
   "metadata": {},
   "source": [
    "We can then do a similar analysis of the word probabilities"
   ]
  },
  {
   "cell_type": "code",
   "execution_count": 53,
   "metadata": {},
   "outputs": [
    {
     "name": "stdout",
     "output_type": "stream",
     "text": [
      "whitehouse\n",
      "0.032391048292108364\n"
     ]
    }
   ],
   "source": [
    "whcpdist_POStoWord = nltk.ConditionalProbDist(whcfdist_POStoWord, nltk.ELEProbDist)\n",
    "\n",
    "#print the most common nouns\n",
    "print(whcpdist_POStoWord['NN'].max())\n",
    "\n",
    "#And its probability\n",
    "print(whcpdist_POStoWord['NN'].prob(whcpdist_POStoWord['NN'].max()))"
   ]
  },
  {
   "cell_type": "markdown",
   "metadata": {},
   "source": [
    "We can even create a...wait for it...*WORD CLOUD* or Wordl to gaze at and draw mystical, approximate inferences about important nouns and verbs in our corpus:"
   ]
  },
  {
   "cell_type": "code",
   "execution_count": 54,
   "metadata": {},
   "outputs": [
    {
     "data": {
      "image/png": "[encoded data removed]",
      "text/plain": [
       "<Figure size 432x288 with 1 Axes>"
      ]
     },
     "metadata": {},
     "output_type": "display_data"
    }
   ],
   "source": [
    "wc = wordcloud.WordCloud(background_color=\"white\", max_words=500, width= 1000, height = 1000, mode ='RGBA', scale=.5).generate(' '.join(whReleases['normalized_tokens'].sum()))\n",
    "plt.imshow(wc)\n",
    "plt.axis(\"off\")\n",
    "plt.savefig(\"whitehouse_word_cloud.pdf\", format = 'pdf')"
   ]
  },
  {
   "cell_type": "markdown",
   "metadata": {},
   "source": [
    "## <font color=\"red\">*Exercise 2*</font>\n",
    "\n",
    "<font color=\"red\">Construct cells immediately below this that filter, stem and lemmatize the tokens in your corpus, and then creates plots (with titles and labels) that map the word frequency distribution, word probability distribution, and at least two conditional probability distributions that help us better understand the social and cultural game underlying the production of your corpus. Create a wordl of words (or normalized words) and add a few vague comments about what mysteries are revealed through it.</font>"
   ]
  },
  {
   "cell_type": "code",
   "execution_count": 55,
   "metadata": {},
   "outputs": [
    {
     "data": {
      "text/plain": [
       "[('I', 3022),\n",
       " ('you', 2424),\n",
       " ('the', 2115),\n",
       " ('to', 1506),\n",
       " ('a', 1475),\n",
       " (\"'s\", 1358),\n",
       " ('that', 1289),\n",
       " ('it', 1049),\n",
       " (\"n't\", 1010),\n",
       " ('of', 840),\n",
       " ('and', 769),\n",
       " ('in', 762),\n",
       " ('do', 725),\n",
       " ('was', 689),\n",
       " ('You', 631),\n",
       " ('me', 564),\n",
       " ('is', 553),\n",
       " ('have', 547),\n",
       " ('he', 539),\n",
       " ('know', 514),\n",
       " ('on', 510),\n",
       " ('this', 493),\n",
       " ('for', 448),\n",
       " ('your', 441),\n",
       " (\"'m\", 425),\n",
       " ('Oh', 424),\n",
       " ('be', 384),\n",
       " ('Well', 368),\n",
       " ('sir', 362),\n",
       " ('my', 350)]"
      ]
     },
     "execution_count": 55,
     "metadata": {},
     "output_type": "execute_result"
    }
   ],
   "source": [
    "# First, filter stop words.\n",
    "tv_words_DF = pandas.DataFrame({'words': clean_01_tv[1: 10], 'tokenized_words': [word_tokenize(x) for x in clean_01_tv[1: 10]]})\n",
    "countsTvDict = {}\n",
    "for word in tv_words_DF['tokenized_words'].sum():\n",
    "    if word in countsTvDict:\n",
    "        countsTvDict[word] += 1\n",
    "    else:\n",
    "        countsTvDict[word] = 1\n",
    "tv_word_counts = sorted(countsTvDict.items(), key = lambda x : x[1], reverse = True)\n",
    "tv_word_counts[:30]"
   ]
  },
  {
   "cell_type": "markdown",
   "metadata": {},
   "source": [
    "The first noun is \"Norris\". Therefore, I'll filter out all words that have more counts than \"sir\"."
   ]
  },
  {
   "cell_type": "code",
   "execution_count": 56,
   "metadata": {},
   "outputs": [
    {
     "data": {
      "text/plain": [
       "['I',\n",
       " 'you',\n",
       " 'the',\n",
       " 'to',\n",
       " 'a',\n",
       " \"'s\",\n",
       " 'that',\n",
       " 'it',\n",
       " \"n't\",\n",
       " 'of',\n",
       " 'and',\n",
       " 'in',\n",
       " 'do',\n",
       " 'was',\n",
       " 'You',\n",
       " 'me',\n",
       " 'is',\n",
       " 'have',\n",
       " 'he',\n",
       " 'know',\n",
       " 'on',\n",
       " 'this',\n",
       " 'for',\n",
       " 'your',\n",
       " \"'m\",\n",
       " 'Oh',\n",
       " 'be',\n",
       " 'Well']"
      ]
     },
     "execution_count": 56,
     "metadata": {},
     "output_type": "execute_result"
    }
   ],
   "source": [
    "tv_stop_words_freq = []\n",
    "for word, count in tv_word_counts:\n",
    "    if word == 'sir':\n",
    "        break\n",
    "    else:\n",
    "        tv_stop_words_freq.append(word)\n",
    "tv_stop_words_freq"
   ]
  },
  {
   "cell_type": "code",
   "execution_count": 57,
   "metadata": {},
   "outputs": [
    {
     "data": {
      "text/html": [
       "<div>\n",
       "<style scoped>\n",
       "    .dataframe tbody tr th:only-of-type {\n",
       "        vertical-align: middle;\n",
       "    }\n",
       "\n",
       "    .dataframe tbody tr th {\n",
       "        vertical-align: top;\n",
       "    }\n",
       "\n",
       "    .dataframe thead th {\n",
       "        text-align: right;\n",
       "    }\n",
       "</style>\n",
       "<table border=\"1\" class=\"dataframe\">\n",
       "  <thead>\n",
       "    <tr style=\"text-align: right;\">\n",
       "      <th></th>\n",
       "      <th>words</th>\n",
       "      <th>tokenized_words</th>\n",
       "      <th>normalized_tokens</th>\n",
       "    </tr>\n",
       "  </thead>\n",
       "  <tbody>\n",
       "    <tr>\n",
       "      <th>0</th>\n",
       "      <td>@@4286412 I stole something that belonged to y...</td>\n",
       "      <td>[@@4286412, I, stole, something, that, belonge...</td>\n",
       "      <td>[@@4286412, steal, belong, absurd, genius, yea...</td>\n",
       "    </tr>\n",
       "    <tr>\n",
       "      <th>1</th>\n",
       "      <td>@@4604767 I came here , I think , to make an a...</td>\n",
       "      <td>[@@4604767, I, came, here, I, think, to, make,...</td>\n",
       "      <td>[@@4604767, come, think, arrest, woman, kill, ...</td>\n",
       "    </tr>\n",
       "    <tr>\n",
       "      <th>2</th>\n",
       "      <td>@@3596222 [tires_screeching] Mr . Lang , the p...</td>\n",
       "      <td>[@@3596222, tires_screeching, Mr, Lang, the, p...</td>\n",
       "      <td>[@@3596222, tires_screeche, mr, lang, phone, c...</td>\n",
       "    </tr>\n",
       "    <tr>\n",
       "      <th>3</th>\n",
       "      <td>@@6214750 I hope we get back to the place by 1...</td>\n",
       "      <td>[@@6214750, I, hope, we, get, back, to, the, p...</td>\n",
       "      <td>[@@6214750, hope, place, 1:00, 1:00, picture, ...</td>\n",
       "    </tr>\n",
       "    <tr>\n",
       "      <th>4</th>\n",
       "      <td>@@4602905 ( @piano_playing ) I wouldn't want a...</td>\n",
       "      <td>[@@4602905, @piano_playing, I, would, n't, wan...</td>\n",
       "      <td>[@@4602905, @piano_playing, want, unnerve, ups...</td>\n",
       "    </tr>\n",
       "  </tbody>\n",
       "</table>\n",
       "</div>"
      ],
      "text/plain": [
       "                                               words  \\\n",
       "0  @@4286412 I stole something that belonged to y...   \n",
       "1  @@4604767 I came here , I think , to make an a...   \n",
       "2  @@3596222 [tires_screeching] Mr . Lang , the p...   \n",
       "3  @@6214750 I hope we get back to the place by 1...   \n",
       "4  @@4602905 ( @piano_playing ) I wouldn't want a...   \n",
       "\n",
       "                                     tokenized_words  \\\n",
       "0  [@@4286412, I, stole, something, that, belonge...   \n",
       "1  [@@4604767, I, came, here, I, think, to, make,...   \n",
       "2  [@@3596222, tires_screeching, Mr, Lang, the, p...   \n",
       "3  [@@6214750, I, hope, we, get, back, to, the, p...   \n",
       "4  [@@4602905, @piano_playing, I, would, n't, wan...   \n",
       "\n",
       "                                   normalized_tokens  \n",
       "0  [@@4286412, steal, belong, absurd, genius, yea...  \n",
       "1  [@@4604767, come, think, arrest, woman, kill, ...  \n",
       "2  [@@3596222, tires_screeche, mr, lang, phone, c...  \n",
       "3  [@@6214750, hope, place, 1:00, 1:00, picture, ...  \n",
       "4  [@@4602905, @piano_playing, want, unnerve, ups...  "
      ]
     },
     "execution_count": 57,
     "metadata": {},
     "output_type": "execute_result"
    }
   ],
   "source": [
    "# Normalize tokens.\n",
    "tv_words_DF['normalized_tokens'] = tv_words_DF['tokenized_words'].apply(lambda x: normalizeTokens(x, extra_stop=tv_stop_words_freq))\n",
    "tv_words_DF.head()"
   ]
  },
  {
   "cell_type": "code",
   "execution_count": 58,
   "metadata": {},
   "outputs": [
    {
     "data": {
      "text/plain": [
       "28338"
      ]
     },
     "execution_count": 58,
     "metadata": {},
     "output_type": "execute_result"
    }
   ],
   "source": [
    "# Get the frequency distribution. First, use the word length as the condition.\n",
    "tv_word_FreqDist = nltk.ConditionalFreqDist((len(w), w) for w in tv_words_DF['normalized_tokens'].sum())\n",
    "\n",
    "# num of words\n",
    "tv_word_FreqDist.N()"
   ]
  },
  {
   "cell_type": "code",
   "execution_count": 59,
   "metadata": {},
   "outputs": [
    {
     "data": {
      "image/png": "[encoded data removed]",
      "text/plain": [
       "<Figure size 432x288 with 1 Axes>"
      ]
     },
     "metadata": {},
     "output_type": "display_data"
    },
    {
     "data": {
      "text/plain": [
       "<AxesSubplot:xlabel='Samples', ylabel='Counts'>"
      ]
     },
     "execution_count": 59,
     "metadata": {},
     "output_type": "execute_result"
    }
   ],
   "source": [
    "# Graph the distribution of 3-letter words\n",
    "tv_word_FreqDist[3].plot()"
   ]
  },
  {
   "cell_type": "code",
   "execution_count": 60,
   "metadata": {},
   "outputs": [
    {
     "name": "stdout",
     "output_type": "stream",
     "text": [
      "sir\n",
      "0.09448327508736895\n"
     ]
    }
   ],
   "source": [
    "# Get the conditional prob dist.\n",
    "tv_word_ProbDist = nltk.ConditionalProbDist(tv_word_FreqDist, nltk.ELEProbDist)\n",
    "\n",
    "# The most common three letter word.\n",
    "print(tv_word_ProbDist[3].max())\n",
    "\n",
    "# The probability of this word.\n",
    "print(tv_word_ProbDist[3].prob(tv_word_ProbDist[3].max()))"
   ]
  },
  {
   "cell_type": "code",
   "execution_count": 61,
   "metadata": {},
   "outputs": [
    {
     "data": {
      "text/plain": [
       "[('RB',\n",
       "  FreqDist({\"n't\": 1010, 'here': 384, 'just': 366, 'not': 325, 'very': 257, 'now': 256, 'right': 202, 'all': 192, 'there': 177, 'so': 172, ...})),\n",
       " ('PRP',\n",
       "  FreqDist({'you': 3055, 'i': 3022, 'it': 1358, 'he': 764, 'me': 572, 'we': 457, 'him': 264, 'they': 252, 'she': 219, 'them': 96, ...})),\n",
       " ('VBD',\n",
       "  FreqDist({'was': 711, 'did': 375, 'got': 164, 'were': 154, 'had': 137, 'said': 99, 'thought': 67, 'came': 65, 'wanted': 51, 'told': 50, ...})),\n",
       " ('NN',\n",
       "  FreqDist({'sir': 312, 'lieutenant': 283, 'time': 160, 'something': 139, 'man': 125, 'night': 112, 'way': 95, 'anything': 91, 'thing': 84, 'film': 73, ...})),\n",
       " ('WDT', FreqDist({'that': 203, 'which': 33, 'what': 25, 'whatever': 9})),\n",
       " ('IN',\n",
       "  FreqDist({'@': 911, 'of': 836, 'in': 679, 'for': 470, 'to': 463, 'that': 396, 'on': 374, 'with': 278, 'if': 262, 'about': 247, ...})),\n",
       " ('.',\n",
       "  FreqDist({'.': 6012, '?': 2120, '!': 305, '...': 52, '@': 4, ':': 1, \"@'m\": 1})),\n",
       " ('DT',\n",
       "  FreqDist({'the': 2300, 'a': 1555, 'that': 1003, 'this': 594, 'an': 159, 'all': 149, 'no': 127, 'some': 115, 'any': 89, 'those': 73, ...})),\n",
       " ('VBZ',\n",
       "  FreqDist({\"'s\": 1090, 'is': 637, 'does': 105, 'has': 76, 'looks': 26, 'says': 24, 'takes': 22, 'makes': 21, 'goes': 19, 'knows': 18, ...})),\n",
       " ('JJ',\n",
       "  FreqDist({'good': 197, 'right': 127, 'little': 103, 'sure': 87, 'other': 67, 'sorry': 64, 'old': 56, 'nice': 55, 'last': 52, 'freddy': 50, ...}))]"
      ]
     },
     "execution_count": 61,
     "metadata": {},
     "output_type": "execute_result"
    }
   ],
   "source": [
    "# Get the POS of each token.\n",
    "tv_words_DF['normalized_tokens_POS'] = tv_words_DF['words'].apply(lambda x: spacy_pos(x))\n",
    "tv_word_FreqDist_POS = nltk.ConditionalFreqDist((p, w) for w, p in tv_words_DF['normalized_tokens_POS'].sum())\n",
    "list(tv_word_FreqDist_POS.items())[: 10]"
   ]
  },
  {
   "cell_type": "code",
   "execution_count": 62,
   "metadata": {},
   "outputs": [
    {
     "data": {
      "image/png": "[encoded data removed]",
      "text/plain": [
       "<Figure size 432x288 with 1 Axes>"
      ]
     },
     "metadata": {},
     "output_type": "display_data"
    },
    {
     "data": {
      "text/plain": [
       "<AxesSubplot:xlabel='Samples', ylabel='Counts'>"
      ]
     },
     "execution_count": 62,
     "metadata": {},
     "output_type": "execute_result"
    }
   ],
   "source": [
    "# Graph the nouns and their numbers of occurence.\n",
    "tv_word_FreqDist_POS['NN'].plot()"
   ]
  },
  {
   "cell_type": "code",
   "execution_count": 63,
   "metadata": {},
   "outputs": [
    {
     "name": "stdout",
     "output_type": "stream",
     "text": [
      "sir\n",
      "0.0291456817757881\n"
     ]
    }
   ],
   "source": [
    "# Get the probability dist.\n",
    "tv_word_ProbDist_POS = nltk.ConditionalProbDist(tv_word_FreqDist_POS, nltk.ELEProbDist)\n",
    "\n",
    "# Find the most common noun.\n",
    "print(tv_word_ProbDist_POS['NN'].max())\n",
    "\n",
    "# Find the probability.\n",
    "print(tv_word_ProbDist_POS['NN'].prob(tv_word_ProbDist_POS['NN'].max()))"
   ]
  },
  {
   "cell_type": "code",
   "execution_count": 64,
   "metadata": {},
   "outputs": [
    {
     "data": {
      "image/png": "[encoded data removed]",
      "text/plain": [
       "<Figure size 432x288 with 1 Axes>"
      ]
     },
     "metadata": {},
     "output_type": "display_data"
    }
   ],
   "source": [
    "wc = wordcloud.WordCloud(background_color=\"white\", max_words=500, width= 1000, height = 1000, mode ='RGBA', scale=.5).generate(' '.join(tv_words_DF['normalized_tokens'].sum()))\n",
    "plt.imshow(wc)\n",
    "plt.axis(\"off\")\n",
    "plt.savefig(\"tv_word_cloud.pdf\", format = 'pdf')"
   ]
  },
  {
   "cell_type": "markdown",
   "metadata": {},
   "source": [
    "The most common noun is \"sir\". According to the word cloud, there are some other popular work like \"right\", \"think\", \"lieutenant\" in this corpus. It's very likely that this corpus decribes something happening in the army."
   ]
  },
  {
   "cell_type": "markdown",
   "metadata": {},
   "source": [
    "## Davies Corpora\n",
    "\n",
    "Now that we have our basic cleaning down, we can arrange our Davies Corpora. Let us try this with the movies corpora we have already loaded.\n",
    "\n",
    "We'll use a smaller corpus of a 1000 movies for this demonstration."
   ]
  },
  {
   "cell_type": "code",
   "execution_count": 65,
   "metadata": {},
   "outputs": [],
   "source": [
    "zfile = zipfile.ZipFile(corpus_name + \"/sources_movies.zip\")\n",
    "source = []"
   ]
  },
  {
   "cell_type": "code",
   "execution_count": 66,
   "metadata": {},
   "outputs": [],
   "source": [
    "for file in zfile.namelist():\n",
    "    with zfile.open(file) as f:\n",
    "        for line in f:\n",
    "            source.append(line)"
   ]
  },
  {
   "cell_type": "code",
   "execution_count": 67,
   "metadata": {},
   "outputs": [
    {
     "data": {
      "text/plain": [
       "[b'textID\\tfileID\\t#words\\tgenre\\tyear\\tlanguage(s)\\tcountry\\timdb\\ttitle\\r\\n',\n",
       " b'-----\\t-----\\t-----\\t-----\\t-----\\t-----\\t-----\\t-----\\t-----\\r\\n',\n",
       " b'\\r\\n',\n",
       " b'290635\\t3547424\\t4722\\tShort, Musical\\t1930\\tUK\\tEnglish\\t0290635\\tGoodbye to All That\\r\\n',\n",
       " b'21165\\t6332374\\t10220\\tCrime, Mystery, Thriller\\t1930\\tUK\\tEnglish\\t0021165\\tMurder!\\r\\n',\n",
       " b'21191\\t6013789\\t5281\\tDrama, Romance\\t1930\\tUSA\\tEnglish\\t0021191\\tA Notorious Affair\\r\\n',\n",
       " b'20620\\t3660608\\t6724\\tBiography, Drama, History\\t1930\\tUSA\\tEnglish\\t0020620\\tAbraham Lincoln\\r\\n',\n",
       " b'20629\\t60053\\t9552\\tDrama, War\\t1930\\tUSA\\tEnglish, French, German, Latin\\t0020629\\tAll Quiet on the Western Front\\r\\n',\n",
       " b'20640\\t6850720\\t13862\\tComedy, Musical\\t1930\\tUSA\\tEnglish\\t0020640\\tAnimal Crackers\\r\\n',\n",
       " b'20641\\t176501\\t11140\\tDrama, Romance\\t1930\\tUSA\\tEnglish\\t0020641\\tAnna Christie\\r\\n',\n",
       " b'20643\\t3603861\\t1748\\tComedy, Short\\t1930\\tUSA\\tEnglish\\t0020643\\tAnother Fine Mess\\r\\n',\n",
       " b'20670\\t4159455\\t6966\\tComedy, Musical\\t1930\\tUSA\\tEnglish\\t0020670\\tBe Yourself!\\r\\n',\n",
       " b'20702\\t3435788\\t6870\\tCrime, Drama, Film-Noir\\t1930\\tUSA\\tEnglish, Italian, French\\t0020702\\tBorn Reckless\\r\\n',\n",
       " b'20768\\t3128644\\t1782\\tDrama, Romance\\t1930\\tUSA\\tEnglish\\t0020768\\tCity Girl\\r\\n',\n",
       " b'20876\\t105788\\t8463\\tComedy\\t1930\\tUSA\\tEnglish\\t0020876\\tFeet First\\r\\n',\n",
       " b'20945\\t6935753\\t8669\\tComedy, Musical\\t1930\\tUSA\\tEnglish, French\\t0020945\\tHalf Shot at Sunrise\\r\\n',\n",
       " b\"20960\\t5583644\\t7331\\tDrama, War\\t1930\\tUSA\\tEnglish, German, French\\t0020960\\tHell's Angels\\r\\n\",\n",
       " b'21025\\t6922578\\t4495\\tAnimation, Music\\t1930\\tUSA\\tEnglish\\t0021025\\tKing of Jazz\\r\\n',\n",
       " b'21040\\t4056770\\t9201\\tDrama, Romance\\t1930\\tUSA\\tEnglish\\t0021040\\tLadies of Leisure\\r\\n',\n",
       " b'22058\\t3445333\\t919\\tShort, Comedy\\t1930\\tUSA\\tEnglish\\t0022058\\tLaughing Gravy\\r\\n']"
      ]
     },
     "execution_count": 67,
     "metadata": {},
     "output_type": "execute_result"
    }
   ],
   "source": [
    "source[0:20]"
   ]
  },
  {
   "cell_type": "markdown",
   "metadata": {},
   "source": [
    "It looks dirty because the file is encoded as bytes, but we can certainly see the information there. The file id is also present in the original raw text data: as the first \"word\". Look back at the normalized/tokenized words to confirm that. We're going to use this to create a dataframe with: Fileid, movie name, genre, year, and country.\n",
    "\n",
    "It is advised that you run a similar check of the source file before you do other extraction.\n",
    "\n",
    "First, let us create a dictionary mapping file-id to all the text. Each movie will be mapped to a list of the tokenized words.\n",
    "\n",
    "In this example, I only use it to load 100 movies. You can comment this out or increase/decrease the number as you see fit.\n",
    "\n",
    "Note that in the following cells, we make use of the `lucem_illud` package's `word_tokenize` function. You can see that function on line 70 of [processing.py](https://github.com/UChicago-Computational-Content-Analysis/lucem_illud/blob/main/lucem_illud/processing.py), and we provide the code here for transparency. Since we put this folder in our helper package, you won't need to define this function every time you want to use it; you just `import lucem_illud`!"
   ]
  },
  {
   "cell_type": "code",
   "execution_count": 68,
   "metadata": {},
   "outputs": [],
   "source": [
    "# processing.py calls a spacy model called \"en\" (and sometimes called \"en_core_web_sm\") so we load that first.\n",
    "try:\n",
    "    nlp = spacy.load(\"en\")\n",
    "except OSError:\n",
    "    nlp = spacy.load(\"en_core_web_sm\")\n",
    "\n",
    "    \n",
    "#Here is the function from lucem_illud/lucem_illud/processing.py\n",
    "def word_tokenize(word_list, model=nlp, MAX_LEN=1500000):\n",
    "    \n",
    "    tokenized = []\n",
    "    if type(word_list) == list and len(word_list) == 1:\n",
    "        word_list = word_list[0]\n",
    "\n",
    "    if type(word_list) == list:\n",
    "        word_list = ' '.join([str(elem) for elem in word_list]) \n",
    "    # since we're only tokenizing, I remove RAM intensive operations and increase max text size\n",
    "\n",
    "    model.max_length = MAX_LEN\n",
    "    doc = model(word_list, disable=[\"parser\", \"tagger\", \"ner\"])\n",
    "    \n",
    "    for token in doc:\n",
    "        if not token.is_punct and len(token.text.strip()) > 0:\n",
    "            tokenized.append(token.text)\n",
    "    return tokenized"
   ]
  },
  {
   "cell_type": "code",
   "execution_count": 69,
   "metadata": {},
   "outputs": [],
   "source": [
    "movie_texts = {}"
   ]
  },
  {
   "cell_type": "code",
   "execution_count": 70,
   "metadata": {},
   "outputs": [
    {
     "name": "stderr",
     "output_type": "stream",
     "text": [
      "/Users/wenqianzhang/opt/anaconda3/lib/python3.8/site-packages/spacy/pipeline/lemmatizer.py:211: UserWarning: [W108] The rule-based lemmatizer did not find POS annotation for one or more tokens. Check that your pipeline includes components that assign token.pos, typically 'tagger'+'attribute_ruler' or 'morphologizer'.\n",
      "  warnings.warn(Warnings.W108)\n"
     ]
    }
   ],
   "source": [
    "for files in movie_raw:\n",
    "    if len(movie_texts) > 100:\n",
    "        break\n",
    "    movies = clean_raw_text(movie_raw[files][1:])\n",
    "    for movie in movies:\n",
    "        # We can run the following line of code with or without `lucem_illud.`, using the package or our code 2 cells above.\n",
    "        txts = lucem_illud.word_tokenize(movie)\n",
    "        try:\n",
    "            movie_texts[txts[0][2:]] = txts[1:]\n",
    "        except IndexError:\n",
    "            continue"
   ]
  },
  {
   "cell_type": "code",
   "execution_count": 71,
   "metadata": {},
   "outputs": [],
   "source": [
    "import pandas as pd"
   ]
  },
  {
   "cell_type": "code",
   "execution_count": 72,
   "metadata": {},
   "outputs": [],
   "source": [
    "movie_df = pd.DataFrame(columns=[\"Movie Name\", \"Genre\", \"Year\", \"Country\", \"Tokenized Texts\"])"
   ]
  },
  {
   "cell_type": "code",
   "execution_count": 73,
   "metadata": {},
   "outputs": [],
   "source": [
    "for movie in source[3:]:\n",
    "    try:\n",
    "        tid, fileid, total_words, genre, year, lang, country, imdb, title = movie.decode(\"utf-8\").split(\"\\t\")\n",
    "    except UnicodeDecodeError:\n",
    "        continue\n",
    "    try:\n",
    "        movie_df.loc[fileid.strip()] = [title.strip(), genre.strip(), year.strip(), country.strip(), movie_texts[fileid.strip()]]\n",
    "    except KeyError:\n",
    "        continue"
   ]
  },
  {
   "cell_type": "code",
   "execution_count": 74,
   "metadata": {},
   "outputs": [
    {
     "data": {
      "text/html": [
       "<div>\n",
       "<style scoped>\n",
       "    .dataframe tbody tr th:only-of-type {\n",
       "        vertical-align: middle;\n",
       "    }\n",
       "\n",
       "    .dataframe tbody tr th {\n",
       "        vertical-align: top;\n",
       "    }\n",
       "\n",
       "    .dataframe thead th {\n",
       "        text-align: right;\n",
       "    }\n",
       "</style>\n",
       "<table border=\"1\" class=\"dataframe\">\n",
       "  <thead>\n",
       "    <tr style=\"text-align: right;\">\n",
       "      <th></th>\n",
       "      <th>Movie Name</th>\n",
       "      <th>Genre</th>\n",
       "      <th>Year</th>\n",
       "      <th>Country</th>\n",
       "      <th>Tokenized Texts</th>\n",
       "    </tr>\n",
       "  </thead>\n",
       "  <tbody>\n",
       "    <tr>\n",
       "      <th>6850720</th>\n",
       "      <td>Animal Crackers</td>\n",
       "      <td>Comedy, Musical</td>\n",
       "      <td>1930</td>\n",
       "      <td>English</td>\n",
       "      <td>[You, must, do, your, best, tonight, Be, on, y...</td>\n",
       "    </tr>\n",
       "    <tr>\n",
       "      <th>176501</th>\n",
       "      <td>Anna Christie</td>\n",
       "      <td>Drama, Romance</td>\n",
       "      <td>1930</td>\n",
       "      <td>English</td>\n",
       "      <td>[Either, you, 're, flat, or, I, am, I, beg, yo...</td>\n",
       "    </tr>\n",
       "    <tr>\n",
       "      <th>4056770</th>\n",
       "      <td>Ladies of Leisure</td>\n",
       "      <td>Drama, Romance</td>\n",
       "      <td>1930</td>\n",
       "      <td>English</td>\n",
       "      <td>[Look, out, There, 's, another, bottle, coming...</td>\n",
       "    </tr>\n",
       "    <tr>\n",
       "      <th>5992934</th>\n",
       "      <td>Over the Hill</td>\n",
       "      <td>Drama</td>\n",
       "      <td>1931</td>\n",
       "      <td>English</td>\n",
       "      <td>[Good, morning, kitty, Come, in, here, baby, I...</td>\n",
       "    </tr>\n",
       "    <tr>\n",
       "      <th>4436137</th>\n",
       "      <td>Design for Living</td>\n",
       "      <td>Comedy, Romance</td>\n",
       "      <td>1933</td>\n",
       "      <td>English, French</td>\n",
       "      <td>[Train_engine_grinding, 26;1426;TOOLONG, Whist...</td>\n",
       "    </tr>\n",
       "  </tbody>\n",
       "</table>\n",
       "</div>"
      ],
      "text/plain": [
       "                Movie Name            Genre  Year          Country  \\\n",
       "6850720    Animal Crackers  Comedy, Musical  1930          English   \n",
       "176501       Anna Christie   Drama, Romance  1930          English   \n",
       "4056770  Ladies of Leisure   Drama, Romance  1930          English   \n",
       "5992934      Over the Hill            Drama  1931          English   \n",
       "4436137  Design for Living  Comedy, Romance  1933  English, French   \n",
       "\n",
       "                                           Tokenized Texts  \n",
       "6850720  [You, must, do, your, best, tonight, Be, on, y...  \n",
       "176501   [Either, you, 're, flat, or, I, am, I, beg, yo...  \n",
       "4056770  [Look, out, There, 's, another, bottle, coming...  \n",
       "5992934  [Good, morning, kitty, Come, in, here, baby, I...  \n",
       "4436137  [Train_engine_grinding, 26;1426;TOOLONG, Whist...  "
      ]
     },
     "execution_count": 74,
     "metadata": {},
     "output_type": "execute_result"
    }
   ],
   "source": [
    "movie_df.head()"
   ]
  },
  {
   "cell_type": "markdown",
   "metadata": {},
   "source": [
    "# Part-of-Speech (POS) tagging"
   ]
  },
  {
   "cell_type": "markdown",
   "metadata": {},
   "source": [
    "In POS tagging, we classify each word by its semantic role in a sentence. We will be using the in-built spaCy pos-tagging.\n",
    "\n",
    "https://spacy.io/usage/linguistic-features\n",
    "\n",
    "|#. |Tag |Description |\n",
    "|---|----|------------|\n",
    "|1.\t|CC\t|Coordinating conjunction\n",
    "|2.\t|CD\t|Cardinal number\n",
    "|3.\t|DT\t|Determiner\n",
    "|4.\t|EX\t|Existential there\n",
    "|5.\t|FW\t|Foreign word\n",
    "|6.\t|IN\t|Preposition or subordinating conjunction\n",
    "|7.\t|JJ\t|Adjective\n",
    "|8.\t|JJR|\tAdjective, comparative\n",
    "|9.\t|JJS|\tAdjective, superlative\n",
    "|10.|\tLS\t|List item marker\n",
    "|11.|\tMD\t|Modal\n",
    "|12.|\tNN\t|Noun, singular or mass\n",
    "|13.|\tNNS\t|Noun, plural\n",
    "|14.|\tNNP\t|Proper noun, singular\n",
    "|15.|\tNNPS|\tProper noun, plural\n",
    "|16.|\tPDT\t|Predeterminer\n",
    "|17.|\tPOS\t|Possessive ending\n",
    "|18.|\tPRP\t|Personal pronoun\n",
    "|19.|\tPRP\\$|\tPossessive pronoun\n",
    "|20.|\tRB\t|Adverb\n",
    "|21.|\tRBR\t|Adverb, comparative\n",
    "|22.|\tRBS\t|Adverb, superlative\n",
    "|23.|\tRP\t|Particle\n",
    "|24.|\tSYM\t|Symbol\n",
    "|25.|\tTO\t|to\n",
    "|26.|\tUH\t|Interjection\n",
    "|27.|\tVB\t|Verb, base form\n",
    "|28.|\tVBD\t|Verb, past tense\n",
    "|29.|\tVBG\t|Verb, gerund or present participle\n",
    "|30.|\tVBN\t|Verb, past participle\n",
    "|31.|\tVBP\t|Verb, non-3rd person singular present\n",
    "|32.|\tVBZ\t|Verb, 3rd person singular present\n",
    "|33.|\tWDT\t|Wh-determiner\n",
    "|34.|\tWP\t|Wh-pronoun\n",
    "|35.|\tWP$\t|Possessive wh-pronoun\n",
    "|36.|\tWRB\t|Wh-adverb\n",
    "\n",
    "spaCy pos-tags word as we run it through the english language model. A small example:"
   ]
  },
  {
   "cell_type": "code",
   "execution_count": 75,
   "metadata": {},
   "outputs": [],
   "source": [
    "sent = nlp(u\"Tom went to IKEA to get some of those delicious Swedish meatballs.\")\n"
   ]
  },
  {
   "cell_type": "code",
   "execution_count": 76,
   "metadata": {},
   "outputs": [
    {
     "name": "stdout",
     "output_type": "stream",
     "text": [
      "Tom PROPN NNP\n",
      "went VERB VBD\n",
      "to ADP IN\n",
      "IKEA NOUN NN\n",
      "to PART TO\n",
      "get VERB VB\n",
      "some PRON DT\n",
      "of ADP IN\n",
      "those DET DT\n",
      "delicious ADJ JJ\n",
      "Swedish ADJ JJ\n",
      "meatballs NOUN NNS\n",
      ". PUNCT .\n"
     ]
    }
   ],
   "source": [
    "for token in sent:\n",
    "    print(token.text, token.pos_, token.tag_)"
   ]
  },
  {
   "cell_type": "markdown",
   "metadata": {},
   "source": [
    "This looks quite good. Now we will try POS tagging with a somewhat larger corpus. We consider a few of the top posts from the reddit data we used last week."
   ]
  },
  {
   "cell_type": "code",
   "execution_count": 77,
   "metadata": {},
   "outputs": [],
   "source": [
    "redditDF = pandas.read_csv('../data/reddit.csv')"
   ]
  },
  {
   "cell_type": "markdown",
   "metadata": {},
   "source": [
    "Grabbing the 10 highest scoring posts and tokenizing the sentences. Once again, notice that we aren't going to do any kind of stemming this week (although *semantic* normalization may be performed where we translate synonyms into the same focal word). Here, we will use sentences tokenized by spaCy. Like before, these methods can also be found in `lucem_illud`.\n",
    "\n"
   ]
  },
  {
   "cell_type": "code",
   "execution_count": 78,
   "metadata": {},
   "outputs": [],
   "source": [
    "def sent_tokenize(word_list):\n",
    "    doc = nlp(word_list)\n",
    "    sentences = [sent.text.strip() for sent in doc.sents]\n",
    "    return sentences"
   ]
  },
  {
   "cell_type": "code",
   "execution_count": 79,
   "metadata": {},
   "outputs": [
    {
     "name": "stderr",
     "output_type": "stream",
     "text": [
      "/Users/wenqianzhang/opt/anaconda3/lib/python3.8/site-packages/spacy/pipeline/lemmatizer.py:211: UserWarning: [W108] The rule-based lemmatizer did not find POS annotation for one or more tokens. Check that your pipeline includes components that assign token.pos, typically 'tagger'+'attribute_ruler' or 'morphologizer'.\n",
      "  warnings.warn(Warnings.W108)\n"
     ]
    },
    {
     "data": {
      "text/html": [
       "<div>\n",
       "<style scoped>\n",
       "    .dataframe tbody tr th:only-of-type {\n",
       "        vertical-align: middle;\n",
       "    }\n",
       "\n",
       "    .dataframe tbody tr th {\n",
       "        vertical-align: top;\n",
       "    }\n",
       "\n",
       "    .dataframe thead th {\n",
       "        text-align: right;\n",
       "    }\n",
       "</style>\n",
       "<table border=\"1\" class=\"dataframe\">\n",
       "  <thead>\n",
       "    <tr style=\"text-align: right;\">\n",
       "      <th></th>\n",
       "      <th>Unnamed: 0</th>\n",
       "      <th>author</th>\n",
       "      <th>over_18</th>\n",
       "      <th>score</th>\n",
       "      <th>subreddit</th>\n",
       "      <th>text</th>\n",
       "      <th>title</th>\n",
       "      <th>url</th>\n",
       "      <th>sentences</th>\n",
       "    </tr>\n",
       "  </thead>\n",
       "  <tbody>\n",
       "    <tr>\n",
       "      <th>9</th>\n",
       "      <td>8</td>\n",
       "      <td>brenkelieshere</td>\n",
       "      <td>False</td>\n",
       "      <td>9448</td>\n",
       "      <td>Tales From Tech Support</td>\n",
       "      <td>Last year, Help Desk got a call from a user co...</td>\n",
       "      <td>How to fix a laptop that won't boot in under a...</td>\n",
       "      <td>https://www.reddit.com/r/talesfromtechsupport/...</td>\n",
       "      <td>[[Last, year, Help, Desk, got, a, call, from, ...</td>\n",
       "    </tr>\n",
       "    <tr>\n",
       "      <th>8</th>\n",
       "      <td>7</td>\n",
       "      <td>Bombadils</td>\n",
       "      <td>False</td>\n",
       "      <td>10528</td>\n",
       "      <td>Tales From Tech Support</td>\n",
       "      <td>First post in quite some time! I work at a loc...</td>\n",
       "      <td>OK, now the password is 'D35p41r'</td>\n",
       "      <td>https://www.reddit.com/r/talesfromtechsupport/...</td>\n",
       "      <td>[[First, post, in, quite, some, time], [I, wor...</td>\n",
       "    </tr>\n",
       "    <tr>\n",
       "      <th>7</th>\n",
       "      <td>1200</td>\n",
       "      <td>whenlifegivesyoushit</td>\n",
       "      <td>False</td>\n",
       "      <td>11003</td>\n",
       "      <td>Relationships</td>\n",
       "      <td>[Original Post](https://www.reddit.com/r/relat...</td>\n",
       "      <td>[UPDATE]My [26 F] with my husband [29 M] 1 yea...</td>\n",
       "      <td>https://www.reddit.com/r/relationships/comment...</td>\n",
       "      <td>[[Original, Post](https://www.reddit.com, r, r...</td>\n",
       "    </tr>\n",
       "    <tr>\n",
       "      <th>6</th>\n",
       "      <td>6</td>\n",
       "      <td>sfsdfd</td>\n",
       "      <td>False</td>\n",
       "      <td>11295</td>\n",
       "      <td>Tales From Tech Support</td>\n",
       "      <td>I witnessed this astounding IT meltdown around...</td>\n",
       "      <td>Company-wide email + 30,000 employees + auto-r...</td>\n",
       "      <td>https://www.reddit.com/r/talesfromtechsupport/...</td>\n",
       "      <td>[[I, witnessed, this, astounding, IT, meltdown...</td>\n",
       "    </tr>\n",
       "    <tr>\n",
       "      <th>5</th>\n",
       "      <td>5</td>\n",
       "      <td>Raitaro</td>\n",
       "      <td>False</td>\n",
       "      <td>12372</td>\n",
       "      <td>Tales From Tech Support</td>\n",
       "      <td>I work Helpdesk for a retail store chain in th...</td>\n",
       "      <td>I'm pretty sure I knocked a user out from near...</td>\n",
       "      <td>https://www.reddit.com/r/talesfromtechsupport/...</td>\n",
       "      <td>[[I, work, Helpdesk, for, a, retail, store, ch...</td>\n",
       "    </tr>\n",
       "    <tr>\n",
       "      <th>4</th>\n",
       "      <td>4</td>\n",
       "      <td>goldie-gold</td>\n",
       "      <td>False</td>\n",
       "      <td>12650</td>\n",
       "      <td>Tales From Tech Support</td>\n",
       "      <td>This just happened...  So, I had a laptop syst...</td>\n",
       "      <td>Engineer is doing drugs!! No. No they aren't.</td>\n",
       "      <td>https://www.reddit.com/r/talesfromtechsupport/...</td>\n",
       "      <td>[[This, just, happened], [So, I, had, a, lapto...</td>\n",
       "    </tr>\n",
       "    <tr>\n",
       "      <th>3</th>\n",
       "      <td>3</td>\n",
       "      <td>TheDroolinFool</td>\n",
       "      <td>False</td>\n",
       "      <td>13152</td>\n",
       "      <td>Tales From Tech Support</td>\n",
       "      <td>Another tale from the out of hours IT desk... ...</td>\n",
       "      <td>\"I need you to fix Google Bing immediately!\"</td>\n",
       "      <td>https://www.reddit.com/r/talesfromtechsupport/...</td>\n",
       "      <td>[[Another, tale, from, the, out, of, hours, IT...</td>\n",
       "    </tr>\n",
       "    <tr>\n",
       "      <th>2</th>\n",
       "      <td>2</td>\n",
       "      <td>Clickity_clickity</td>\n",
       "      <td>False</td>\n",
       "      <td>13404</td>\n",
       "      <td>Tales From Tech Support</td>\n",
       "      <td>[Part 1](http://www.reddit.com/r/talesfromtech...</td>\n",
       "      <td>Jack, the Worst End User, Part 4</td>\n",
       "      <td>https://www.reddit.com/r/talesfromtechsupport/...</td>\n",
       "      <td>[[Part, 1](http://www.reddit.com, r, talesfrom...</td>\n",
       "    </tr>\n",
       "    <tr>\n",
       "      <th>1</th>\n",
       "      <td>1</td>\n",
       "      <td>SECGaz</td>\n",
       "      <td>False</td>\n",
       "      <td>13724</td>\n",
       "      <td>Tales From Tech Support</td>\n",
       "      <td>&gt; $Me  - Hello, IT.   &gt; $Usr - Hi, I am still ...</td>\n",
       "      <td>Hi, I am still off sick but I am not.</td>\n",
       "      <td>https://www.reddit.com/r/talesfromtechsupport/...</td>\n",
       "      <td>[[&gt;, $, Me, Hello, IT, &gt;, $, Usr, Hi, I, am, s...</td>\n",
       "    </tr>\n",
       "    <tr>\n",
       "      <th>0</th>\n",
       "      <td>0</td>\n",
       "      <td>guitarsdontdance</td>\n",
       "      <td>False</td>\n",
       "      <td>14089</td>\n",
       "      <td>Tales From Tech Support</td>\n",
       "      <td>So my story starts on what was a normal day ta...</td>\n",
       "      <td>\"Don't bother sending a tech, I'll be dead by ...</td>\n",
       "      <td>https://www.reddit.com/r/talesfromtechsupport/...</td>\n",
       "      <td>[[So, my, story, starts, on, what, was, a, nor...</td>\n",
       "    </tr>\n",
       "  </tbody>\n",
       "</table>\n",
       "</div>"
      ],
      "text/plain": [
       "   Unnamed: 0                author  over_18  score                subreddit  \\\n",
       "9           8        brenkelieshere    False   9448  Tales From Tech Support   \n",
       "8           7             Bombadils    False  10528  Tales From Tech Support   \n",
       "7        1200  whenlifegivesyoushit    False  11003            Relationships   \n",
       "6           6                sfsdfd    False  11295  Tales From Tech Support   \n",
       "5           5               Raitaro    False  12372  Tales From Tech Support   \n",
       "4           4           goldie-gold    False  12650  Tales From Tech Support   \n",
       "3           3        TheDroolinFool    False  13152  Tales From Tech Support   \n",
       "2           2     Clickity_clickity    False  13404  Tales From Tech Support   \n",
       "1           1                SECGaz    False  13724  Tales From Tech Support   \n",
       "0           0      guitarsdontdance    False  14089  Tales From Tech Support   \n",
       "\n",
       "                                                text  \\\n",
       "9  Last year, Help Desk got a call from a user co...   \n",
       "8  First post in quite some time! I work at a loc...   \n",
       "7  [Original Post](https://www.reddit.com/r/relat...   \n",
       "6  I witnessed this astounding IT meltdown around...   \n",
       "5  I work Helpdesk for a retail store chain in th...   \n",
       "4  This just happened...  So, I had a laptop syst...   \n",
       "3  Another tale from the out of hours IT desk... ...   \n",
       "2  [Part 1](http://www.reddit.com/r/talesfromtech...   \n",
       "1  > $Me  - Hello, IT.   > $Usr - Hi, I am still ...   \n",
       "0  So my story starts on what was a normal day ta...   \n",
       "\n",
       "                                               title  \\\n",
       "9  How to fix a laptop that won't boot in under a...   \n",
       "8                  OK, now the password is 'D35p41r'   \n",
       "7  [UPDATE]My [26 F] with my husband [29 M] 1 yea...   \n",
       "6  Company-wide email + 30,000 employees + auto-r...   \n",
       "5  I'm pretty sure I knocked a user out from near...   \n",
       "4      Engineer is doing drugs!! No. No they aren't.   \n",
       "3       \"I need you to fix Google Bing immediately!\"   \n",
       "2                   Jack, the Worst End User, Part 4   \n",
       "1              Hi, I am still off sick but I am not.   \n",
       "0  \"Don't bother sending a tech, I'll be dead by ...   \n",
       "\n",
       "                                                 url  \\\n",
       "9  https://www.reddit.com/r/talesfromtechsupport/...   \n",
       "8  https://www.reddit.com/r/talesfromtechsupport/...   \n",
       "7  https://www.reddit.com/r/relationships/comment...   \n",
       "6  https://www.reddit.com/r/talesfromtechsupport/...   \n",
       "5  https://www.reddit.com/r/talesfromtechsupport/...   \n",
       "4  https://www.reddit.com/r/talesfromtechsupport/...   \n",
       "3  https://www.reddit.com/r/talesfromtechsupport/...   \n",
       "2  https://www.reddit.com/r/talesfromtechsupport/...   \n",
       "1  https://www.reddit.com/r/talesfromtechsupport/...   \n",
       "0  https://www.reddit.com/r/talesfromtechsupport/...   \n",
       "\n",
       "                                           sentences  \n",
       "9  [[Last, year, Help, Desk, got, a, call, from, ...  \n",
       "8  [[First, post, in, quite, some, time], [I, wor...  \n",
       "7  [[Original, Post](https://www.reddit.com, r, r...  \n",
       "6  [[I, witnessed, this, astounding, IT, meltdown...  \n",
       "5  [[I, work, Helpdesk, for, a, retail, store, ch...  \n",
       "4  [[This, just, happened], [So, I, had, a, lapto...  \n",
       "3  [[Another, tale, from, the, out, of, hours, IT...  \n",
       "2  [[Part, 1](http://www.reddit.com, r, talesfrom...  \n",
       "1  [[>, $, Me, Hello, IT, >, $, Usr, Hi, I, am, s...  \n",
       "0  [[So, my, story, starts, on, what, was, a, nor...  "
      ]
     },
     "execution_count": 79,
     "metadata": {},
     "output_type": "execute_result"
    }
   ],
   "source": [
    "redditTopScores = redditDF.sort_values('score')[-10:]\n",
    "redditTopScores['sentences'] = redditTopScores['text'].apply(lambda x: [word_tokenize(s) for s in sent_tokenize(x)])\n",
    "redditTopScores.index = range(len(redditTopScores) - 1, -1,-1) #Reindex to make things nice in the future\n",
    "redditTopScores"
   ]
  },
  {
   "cell_type": "code",
   "execution_count": 80,
   "metadata": {},
   "outputs": [],
   "source": [
    "def tag_sents_pos(sentences):\n",
    "    \"\"\"\n",
    "    function which replicates NLTK pos tagging on sentences.\n",
    "    \"\"\"\n",
    "    new_sents = []\n",
    "    for sentence in sentences:\n",
    "        new_sent = ' '.join(sentence)\n",
    "        new_sents.append(new_sent)\n",
    "    final_string = ' '.join(new_sents)\n",
    "    doc = nlp(final_string)\n",
    "    \n",
    "    pos_sents = []\n",
    "    for sent in doc.sents:\n",
    "        pos_sent = []\n",
    "        for token in sent:\n",
    "            pos_sent.append((token.text, token.tag_))\n",
    "        pos_sents.append(pos_sent)\n",
    "    \n",
    "    return pos_sents"
   ]
  },
  {
   "cell_type": "code",
   "execution_count": 81,
   "metadata": {},
   "outputs": [],
   "source": [
    "redditTopScores['POS_sents'] = redditTopScores['sentences'].apply(lambda x: tag_sents_pos(x))"
   ]
  },
  {
   "cell_type": "code",
   "execution_count": 82,
   "metadata": {},
   "outputs": [
    {
     "data": {
      "text/plain": [
       "9    [[(Last, JJ), (year, NN), (Help, NNP), (Desk, ...\n",
       "8    [[(First, JJ), (post, NN), (in, IN), (quite, P...\n",
       "7    [[(Original, JJ), (Post](https://www.reddit.co...\n",
       "6    [[(I, PRP), (witnessed, VBD), (this, DT), (ast...\n",
       "5    [[(I, PRP), (work, VBP), (Helpdesk, NNP), (for...\n",
       "4    [[(This, DT), (just, RB), (happened, VBD), (So...\n",
       "3    [[(Another, DT), (tale, NN), (from, IN), (the,...\n",
       "2    [[(Part, NNP), (1](http://www.reddit.com, CD),...\n",
       "1    [[(>, XX), ($, $), (Me, PRP), (Hello, UH), (IT...\n",
       "0    [[(So, RB), (my, PRP$), (story, NN), (starts, ...\n",
       "Name: POS_sents, dtype: object"
      ]
     },
     "execution_count": 82,
     "metadata": {},
     "output_type": "execute_result"
    }
   ],
   "source": [
    "redditTopScores['POS_sents']"
   ]
  },
  {
   "cell_type": "markdown",
   "metadata": {},
   "source": [
    "And count the number of `NN` (nouns)"
   ]
  },
  {
   "cell_type": "code",
   "execution_count": 83,
   "metadata": {},
   "outputs": [
    {
     "data": {
      "text/plain": [
       "[('password', 22),\n",
       " ('time', 14),\n",
       " ('computer', 13),\n",
       " ('lot', 12),\n",
       " ('life', 11),\n",
       " ('email', 11),\n",
       " ('system', 10),\n",
       " ('laptop', 9),\n",
       " ('message', 9),\n",
       " ('day', 9),\n",
       " ('auto', 9),\n",
       " ('call', 8),\n",
       " ('office', 8),\n",
       " ('part', 8),\n",
       " ('today', 8),\n",
       " ('story', 8),\n",
       " ('user', 7),\n",
       " ('job', 7),\n",
       " ('something', 7),\n",
       " ('problem', 7)]"
      ]
     },
     "execution_count": 83,
     "metadata": {},
     "output_type": "execute_result"
    }
   ],
   "source": [
    "countTarget = 'NN'\n",
    "targetCounts = {}\n",
    "for entry in redditTopScores['POS_sents']:\n",
    "    for sentence in entry:\n",
    "        for ent, kind in sentence:\n",
    "            if kind != countTarget:\n",
    "                continue\n",
    "            elif ent in targetCounts:\n",
    "                targetCounts[ent] += 1\n",
    "            else:\n",
    "                targetCounts[ent] = 1\n",
    "sortedTargets = sorted(targetCounts.items(), key = lambda x: x[1], reverse = True)\n",
    "sortedTargets[:20]"
   ]
  },
  {
   "cell_type": "markdown",
   "metadata": {},
   "source": [
    "What about the adjectives that modify the word, \"computer\"?"
   ]
  },
  {
   "cell_type": "code",
   "execution_count": 84,
   "metadata": {},
   "outputs": [
    {
     "name": "stdout",
     "output_type": "stream",
     "text": [
      "{'own', 'unrestricted'}\n"
     ]
    }
   ],
   "source": [
    "NTarget = 'JJ'\n",
    "Word = 'computer'\n",
    "NResults = set()\n",
    "for entry in redditTopScores['POS_sents']:\n",
    "    for sentence in entry:\n",
    "        for (ent1, kind1),(ent2,kind2) in zip(sentence[:-1], sentence[1:]):\n",
    "            if (kind1,ent2.lower())==(NTarget,Word):\n",
    "                NResults.add(ent1)\n",
    "            else:\n",
    "                continue\n",
    "\n",
    "print(NResults)     "
   ]
  },
  {
   "cell_type": "markdown",
   "metadata": {},
   "source": [
    "## <font color=\"red\">Exercise 3</font>\n",
    "\n",
    "<font color=\"red\">In the cells immediately following, perform POS tagging on a meaningful (but modest) subset of a corpus associated with your final project. Examine the list of words associated with at least three different parts of speech. Consider conditional associations (e.g., adjectives associated with nouns or adverbs with verbs of interest). What do these distributions suggest about your corpus?"
   ]
  },
  {
   "cell_type": "code",
   "execution_count": 85,
   "metadata": {},
   "outputs": [],
   "source": [
    "tv_normalized_tokens = normalizeTokens(tv_tokens)"
   ]
  },
  {
   "cell_type": "code",
   "execution_count": 86,
   "metadata": {},
   "outputs": [],
   "source": [
    "# POS tag the tokens.\n",
    "\n",
    "tv_doc = nlp(' '.join(tv_normalized_tokens))"
   ]
  },
  {
   "cell_type": "code",
   "execution_count": 87,
   "metadata": {},
   "outputs": [
    {
     "name": "stdout",
     "output_type": "stream",
     "text": [
      "[('@@4286412', 'NNP'), ('steal', 'VB'), ('belong', 'VBP'), ('absurd', 'JJ'), ('genius', 'NN'), ('yeah', 'UH'), ('right', 'JJ'), ('client', 'NN'), ('frame', 'NN'), ('tanya', 'NN'), ('perceptive', 'VBD'), ('bad', 'JJ'), ('murder', 'NN'), ('tell', 'VB'), ('think', 'VBP'), ('know', 'VB'), ('kill', 'VB'), ('mr', 'NNP'), ('norris', 'NNP'), ('subliminal', 'NNP')]\n"
     ]
    }
   ],
   "source": [
    "tv_tokens_POS = []\n",
    "for x in tv_doc.sents:\n",
    "    for t in x:\n",
    "        tv_tokens_POS.append((t.text, t.tag_))\n",
    "        \n",
    "print(tv_tokens_POS[: 20])"
   ]
  },
  {
   "cell_type": "code",
   "execution_count": 88,
   "metadata": {},
   "outputs": [
    {
     "data": {
      "text/plain": [
       "[('lieutenant', 48),\n",
       " ('film', 29),\n",
       " ('sir', 21),\n",
       " ('murder', 19),\n",
       " ('mind', 17),\n",
       " ('room', 17),\n",
       " ('man', 17),\n",
       " ('night', 16),\n",
       " ('keppel', 15),\n",
       " ('time', 14),\n",
       " ('thing', 14),\n",
       " ('know', 13),\n",
       " ('doctor', 12),\n",
       " ('way', 12),\n",
       " ('lobby', 11),\n",
       " ('work', 11),\n",
       " ('nickel', 10),\n",
       " ('fact', 10),\n",
       " ('help', 9),\n",
       " ('idea', 9)]"
      ]
     },
     "execution_count": 88,
     "metadata": {},
     "output_type": "execute_result"
    }
   ],
   "source": [
    "# Count the number of nouns.\n",
    "countTarget = 'NN'\n",
    "targetCounts = {}\n",
    "for entry in tv_tokens_POS:\n",
    "    ent, kind = entry[0], entry[1]\n",
    "    if kind != countTarget:\n",
    "        continue\n",
    "    elif ent in targetCounts:\n",
    "        targetCounts[ent] += 1\n",
    "    else:\n",
    "        targetCounts[ent] = 1\n",
    "sortedTargets = sorted(targetCounts.items(), key = lambda x: x[1], reverse = True)\n",
    "sortedTargets[:20]"
   ]
  },
  {
   "cell_type": "markdown",
   "metadata": {},
   "source": [
    "The most common noun in this corpus is \"lieutenant\" followed by \"film\", \"sir\", \"murder\". So this corpus is probably talking about a police officer investigating a murder case."
   ]
  },
  {
   "cell_type": "code",
   "execution_count": 89,
   "metadata": {},
   "outputs": [
    {
     "name": "stdout",
     "output_type": "stream",
     "text": [
      "{'decide', 'take', 'tell', 'look'}\n"
     ]
    }
   ],
   "source": [
    "# Check the verbs around \"murder\"\n",
    "NTarget = 'VB'\n",
    "Word = 'murder'\n",
    "NResults = set()\n",
    "for entry1, entry2 in zip(tv_tokens_POS[:-1], tv_tokens_POS[1:]):\n",
    "#     print(entry1, entry2)\n",
    "    \n",
    "    ent1, kind1, ent2, kind2 = entry1[0], entry1[1], entry2[0], entry2[1]\n",
    "    if (kind1,ent2.lower())==(NTarget,Word):\n",
    "        NResults.add(ent1)\n",
    "    else:\n",
    "        continue\n",
    "\n",
    "print(NResults)     "
   ]
  },
  {
   "cell_type": "markdown",
   "metadata": {},
   "source": [
    "According to the verbs before \"murder\", it seems that the corpus is talking about the process of looking for the murderer."
   ]
  },
  {
   "cell_type": "code",
   "execution_count": 90,
   "metadata": {},
   "outputs": [
    {
     "name": "stdout",
     "output_type": "stream",
     "text": [
      "{'organize', 'kill', 'let'}\n"
     ]
    }
   ],
   "source": [
    "# Check the verb after \"lieutenant\"\n",
    "NTarget = 'VB'\n",
    "Word = 'lieutenant'\n",
    "NResults = set()\n",
    "for entry1, entry2 in zip(tv_tokens_POS[:-1], tv_tokens_POS[1:]):\n",
    "#     print(entry1, entry2)\n",
    "    \n",
    "    ent1, kind1, ent2, kind2 = entry1[0], entry1[1], entry2[0], entry2[1]\n",
    "    if (kind2,ent1.lower())==(NTarget,Word):\n",
    "        NResults.add(ent2)\n",
    "    else:\n",
    "        continue\n",
    "\n",
    "print(NResults)     "
   ]
  },
  {
   "cell_type": "markdown",
   "metadata": {},
   "source": [
    "The interesting thing is the verb \"kind\" follows \"lieutenant\". It seems that it's a lieutenant organized a murder."
   ]
  },
  {
   "cell_type": "markdown",
   "metadata": {},
   "source": [
    "# Collocations"
   ]
  },
  {
   "cell_type": "markdown",
   "metadata": {},
   "source": [
    "As illustrated above, we might want to find significant bigrams (two-word phrases), trigrams (three-word phrases), n-grams (*n*-word phrases) or skip-grams (noncontinguous 'phrases' with skip-length *n*). \n",
    "\n",
    "We will begin with the [`nltk.collocations.BigramCollocationFinder`](http://www.nltk.org/api/nltk.html?highlight=bigramcollocationfinder#nltk.collocations.BigramCollocationFinder) class, which can be given raw lists of strings with the `from_words()` method. By default it only looks at continuous bigrams but there is an option (`window_size`) to allow skip-grams."
   ]
  },
  {
   "cell_type": "code",
   "execution_count": 91,
   "metadata": {},
   "outputs": [
    {
     "name": "stdout",
     "output_type": "stream",
     "text": [
      "There are 1964 bigrams in the finder\n"
     ]
    }
   ],
   "source": [
    "whBigrams = nltk.collocations.BigramCollocationFinder.from_words(whReleases['normalized_tokens'].sum())\n",
    "print(\"There are {} bigrams in the finder\".format(whBigrams.N))"
   ]
  },
  {
   "cell_type": "markdown",
   "metadata": {},
   "source": [
    "To compare the bigrams we need to tell nltk what our score function is. Initially, we will look at the raw counts."
   ]
  },
  {
   "cell_type": "code",
   "execution_count": 92,
   "metadata": {},
   "outputs": [
    {
     "name": "stdout",
     "output_type": "stream",
     "text": [
      "[('president', 'bush'), ('rhode', 'island'), ('sheldon', 'whitehouse'), ('stem', 'cell'), ('whitehouse', 'd'), ('d', 'r.i'), ('bush', 'administration'), ('u.s', 'senator'), ('whitehouse', 'say'), ('american', 'people')]\n"
     ]
    }
   ],
   "source": [
    "def bigramScoring(count, wordsTuple, total):\n",
    "    return count\n",
    "\n",
    "print(whBigrams.nbest(bigramScoring, 10))"
   ]
  },
  {
   "cell_type": "markdown",
   "metadata": {},
   "source": [
    "One note about how `BigramCollocationFinder` works. It doesn't use the strings internally."
   ]
  },
  {
   "cell_type": "code",
   "execution_count": 93,
   "metadata": {},
   "outputs": [
    {
     "name": "stdout",
     "output_type": "stream",
     "text": [
      "The first word is:  28, The second word is: 31\n",
      "The first word is:  20, The second word is: 17\n",
      "The first word is:  12, The second word is: 12\n",
      "The first word is:  12, The second word is: 40\n",
      "The first word is:  40, The second word is: 17\n",
      "The first word is:  17, The second word is: 10\n",
      "The first word is:  40, The second word is: 17\n",
      "The first word is:  13, The second word is: 13\n",
      "The first word is:  31, The second word is: 11\n",
      "The first word is:  9, The second word is: 24\n"
     ]
    }
   ],
   "source": [
    "birgramScores = []\n",
    "\n",
    "def bigramPrinting(count, wordsTuple, total):\n",
    "    global birgramScores\n",
    "    birgramScores.append(\"The first word is:  {}, The second word is: {}\".format(*wordsTuple))\n",
    "    #Returns None so all the tuples are considered to have the same rank\n",
    "\n",
    "whBigrams.nbest(bigramPrinting, 10)\n",
    "print('\\n'.join(birgramScores[:10]))"
   ]
  },
  {
   "cell_type": "markdown",
   "metadata": {},
   "source": [
    "The words are each given numeric IDs and there is a dictionary that maps the IDs to the words they represent. This is a common performance optimization.\n",
    "\n",
    "Two words can appear together by chance. Recall from  Manning and Schütze's textbook that a t-value can be computed for each bigram to see how significant the association is. You may also want to try computing the $\\chi^2$, likelihood ratio, and pointwise mutual information statistics. "
   ]
  },
  {
   "cell_type": "code",
   "execution_count": 94,
   "metadata": {},
   "outputs": [
    {
     "data": {
      "text/plain": [
       "[(('rhode', 'island'), 178.42791632631025),\n",
       " (('stem', 'cell'), 146.27449459815534),\n",
       " (('president', 'bush'), 126.23062149808423),\n",
       " (('sheldon', 'whitehouse'), 97.40535043376386),\n",
       " (('d', 'r.i'), 84.89634183337617),\n",
       " (('united', 'states'), 81.47339960284599),\n",
       " (('whitehouse', 'd'), 57.74744623651276),\n",
       " (('u.s', 'senator'), 57.03786703770191),\n",
       " (('senator', 'sheldon'), 46.93608358543005),\n",
       " (('jack', 'reed'), 46.47304595760241),\n",
       " (('american', 'people'), 45.62466065629863),\n",
       " (('bush', 'administration'), 45.4509557751863),\n",
       " (('honor', 'society'), 44.900172381728815),\n",
       " (('bring', 'troop'), 43.07951375003984),\n",
       " (('cell', 'research'), 41.08298559892974),\n",
       " (('d', 'ri'), 39.013185331609264),\n",
       " (('potential', 'closing'), 38.17005571163625),\n",
       " (('youth', 'program'), 38.17005571163625),\n",
       " (('troop', 'home'), 36.666015832295386),\n",
       " (('come', 'home'), 36.52029777577777),\n",
       " (('epw', 'committee'), 34.315160571201105),\n",
       " (('whitehouse', 'say'), 33.09869922194955),\n",
       " (('budget', 'resolution'), 32.08678784585971),\n",
       " (('district', 'columbia'), 31.556327881857438),\n",
       " (('greenhouse', 'gas'), 31.556327881857438),\n",
       " (('humpty', 'dumpty'), 31.556327881857438),\n",
       " (('prime', 'minister'), 31.556327881857438),\n",
       " (('weaver', 'cove'), 31.556327881857438),\n",
       " (('change', 'course'), 31.444022758433917),\n",
       " (('send', 'clear'), 31.444022758433917),\n",
       " (('new', 'direction'), 30.35193688607352),\n",
       " (('senate', 'youth'), 29.888099675583184),\n",
       " (('rhode', 'islander'), 27.991808869489184),\n",
       " (('enhancement', 'act'), 27.73724287208856),\n",
       " (('harm', 'way'), 27.73724287208856),\n",
       " (('interest', 'payment'), 27.73724287208856),\n",
       " (('million', 'americans'), 27.73724287208856),\n",
       " (('sen', 'whitehouse'), 27.35771561959485),\n",
       " (('foregone', 'surplus'), 26.01115043737788),\n",
       " (('direction', 'iraq'), 24.987906473769613)]"
      ]
     },
     "execution_count": 94,
     "metadata": {},
     "output_type": "execute_result"
    }
   ],
   "source": [
    "bigram_measures = nltk.collocations.BigramAssocMeasures()\n",
    "whBigrams.score_ngrams(bigram_measures.likelihood_ratio)[:40]\n",
    "# other options include student_t, chi_sq, likelihood_ratio, pmi"
   ]
  },
  {
   "cell_type": "markdown",
   "metadata": {},
   "source": [
    "There are a few other available measures"
   ]
  },
  {
   "cell_type": "code",
   "execution_count": 95,
   "metadata": {},
   "outputs": [
    {
     "data": {
      "text/plain": [
       "['chi_sq',\n",
       " 'dice',\n",
       " 'fisher',\n",
       " 'jaccard',\n",
       " 'likelihood_ratio',\n",
       " 'mi_like',\n",
       " 'phi_sq',\n",
       " 'pmi',\n",
       " 'poisson_stirling',\n",
       " 'raw_freq',\n",
       " 'student_t']"
      ]
     },
     "execution_count": 95,
     "metadata": {},
     "output_type": "execute_result"
    }
   ],
   "source": [
    "[s for s in dir(bigram_measures) if s[0] != '_']"
   ]
  },
  {
   "cell_type": "markdown",
   "metadata": {},
   "source": [
    "We can also look at trigrams"
   ]
  },
  {
   "cell_type": "code",
   "execution_count": 96,
   "metadata": {},
   "outputs": [
    {
     "data": {
      "text/plain": [
       "[(('sheldon', 'whitehouse', 'd'), 3.1616086893217816),\n",
       " (('whitehouse', 'd', 'r.i'), 2.6450850001523705),\n",
       " (('bring', 'troop', 'home'), 2.449192549827382),\n",
       " (('senator', 'sheldon', 'whitehouse'), 2.448829313992519),\n",
       " (('stem', 'cell', 'research'), 2.235917719697493),\n",
       " (('u.s', 'senator', 'sheldon'), 2.235832851864714),\n",
       " (('senate', 'youth', 'program'), 1.7320171301402933),\n",
       " (('united', 'states', 'senator'), 1.7319807585174225),\n",
       " (('jack', 'reed', 'd'), 1.7319693830304341),\n",
       " (('new', 'direction', 'iraq'), 1.7318496410621351),\n",
       " (('rhode', 'island', 'state'), 1.731694575213188),\n",
       " (('whitehouse', 'd', 'ri'), 1.731643684876661),\n",
       " (('sen', 'sheldon', 'whitehouse'), 1.731404200940063),\n",
       " (('reconsider', 'potential', 'closing'), 1.4142080628720362),\n",
       " (('responsibility', 'security', 'governance'), 1.4142047631714012),\n",
       " (('$', 'foregone', 'surplus'), 1.4142018301041699),\n",
       " (('v.', 'epa', 'decide'), 1.4142018301041699),\n",
       " (('cell', 'enhancement', 'act'), 1.4142003635705542),\n",
       " (('select', 'committee', 'intelligence'), 1.4142003635705542),\n",
       " (('send', 'clear', 'message'), 1.4141998136204483)]"
      ]
     },
     "execution_count": 96,
     "metadata": {},
     "output_type": "execute_result"
    }
   ],
   "source": [
    "trigram_measures = nltk.collocations.TrigramAssocMeasures()\n",
    "whTrigrams = nltk.collocations.TrigramCollocationFinder.from_words(whReleases['normalized_tokens'].sum())\n",
    "whTrigrams.score_ngrams(trigram_measures.student_t)[:20]"
   ]
  },
  {
   "cell_type": "markdown",
   "metadata": {},
   "source": [
    "Or n-grams (for any number n)"
   ]
  },
  {
   "cell_type": "code",
   "execution_count": 97,
   "metadata": {},
   "outputs": [
    {
     "name": "stdout",
     "output_type": "stream",
     "text": [
      "{('sen', 'sheldon', 'whitehouse', 'd'): 2, ('sheldon', 'whitehouse', 'd', 'r.i'): 7, ('stem', 'cell', 'research', 'whitehouse'): 2, ('stem', 'cell', 'enhancement', 'act'): 2, ('begin', 'bring', 'troop', 'home'): 2, ('bring', 'troop', 'home', 'iraq'): 2, ('u.s', 'senator', 'sheldon', 'whitehouse'): 5, ('senator', 'sheldon', 'whitehouse', 'd'): 5, ('sheldon', 'whitehouse', 'd', 'ri'): 3, ('whitehouse', 'd', 'ri', 'say'): 2, ('d', 'ri', 'say', 'today'): 2, ('member', 'senate', 'select', 'committee'): 2, ('senate', 'select', 'committee', 'intelligence'): 2, ('california', 'rhode', 'island', 'state'): 2, ('u.s', 'senator', 'jack', 'reed'): 2, ('senator', 'jack', 'reed', 'd'): 2, ('jack', 'reed', 'd', 'r.i'): 2, ('reed', 'd', 'r.i', 'sheldon'): 2, ('d', 'r.i', 'sheldon', 'whitehouse'): 2, ('r.i', 'sheldon', 'whitehouse', 'd'): 2, ('iraq', 'sen', 'sheldon', 'whitehouse'): 2, ('portuguese', 'american', 'citizen', 'rhode'): 2, ('american', 'citizen', 'rhode', 'island'): 2}\n"
     ]
    }
   ],
   "source": [
    "Ngrams = nltk.ngrams(whReleases['normalized_tokens'].sum(), 4)\n",
    "Counts = {}\n",
    "for ngram in list(Ngrams):\n",
    "    if ngram in Counts.keys():\n",
    "        Counts[ngram] += 1\n",
    "    else:\n",
    "        Counts[ngram] = 1\n",
    "Filtered = {}\n",
    "for key in Counts.keys():\n",
    "    if Counts[key] < 2:\n",
    "        pass\n",
    "    else:\n",
    "        Filtered[key] = Counts[key]\n",
    "print(Filtered)"
   ]
  },
  {
   "cell_type": "markdown",
   "metadata": {},
   "source": [
    "Gensim is another important python text processing package which allows us to use collocations, among other cool methods (which we will explore later weeks)."
   ]
  },
  {
   "cell_type": "code",
   "execution_count": 98,
   "metadata": {},
   "outputs": [],
   "source": [
    "import gensim"
   ]
  },
  {
   "cell_type": "code",
   "execution_count": 99,
   "metadata": {},
   "outputs": [],
   "source": [
    "bigram = gensim.models.Phrases(whReleases['normalized_tokens'])"
   ]
  },
  {
   "cell_type": "code",
   "execution_count": 100,
   "metadata": {},
   "outputs": [],
   "source": [
    "texts = [bigram[line] for line in whReleases['normalized_tokens']]"
   ]
  },
  {
   "cell_type": "code",
   "execution_count": 101,
   "metadata": {},
   "outputs": [
    {
     "data": {
      "text/plain": [
       "['sen',\n",
       " 'whitehouse',\n",
       " 'share',\n",
       " 'westerly',\n",
       " 'girl',\n",
       " 'story',\n",
       " 'push',\n",
       " 'stem_cell',\n",
       " 'research',\n",
       " 'share',\n",
       " 'story',\n",
       " 'lila',\n",
       " 'barber',\n",
       " 'year',\n",
       " 'old',\n",
       " 'girl',\n",
       " 'westerly',\n",
       " 'sen',\n",
       " 'sheldon_whitehouse',\n",
       " 'd_r.i',\n",
       " 'tuesday',\n",
       " 'april',\n",
       " 'illustrate',\n",
       " 'hope',\n",
       " 'stem_cell',\n",
       " 'research',\n",
       " 'offer',\n",
       " 'speech',\n",
       " 'senate',\n",
       " 'floor',\n",
       " 'favor',\n",
       " 'legislation',\n",
       " 'expand',\n",
       " 'federal',\n",
       " 'funding',\n",
       " 'stem_cell',\n",
       " 'research',\n",
       " 'whitehouse',\n",
       " 'meet',\n",
       " 'lila',\n",
       " 'week',\n",
       " 'ago',\n",
       " 'diagnose',\n",
       " 'year',\n",
       " 'ago',\n",
       " 'osteosarcoma',\n",
       " 'cancerous',\n",
       " 'bone',\n",
       " 'condition',\n",
       " 'year',\n",
       " 'undergo',\n",
       " 'cadaver',\n",
       " 'bone',\n",
       " 'transplant',\n",
       " 'surgery',\n",
       " 'procedure',\n",
       " 'save',\n",
       " 'leg',\n",
       " 'help',\n",
       " 'remain',\n",
       " 'cancer',\n",
       " 'free',\n",
       " 'transplanted',\n",
       " 'tissue',\n",
       " 'grow',\n",
       " 'likely',\n",
       " 'break',\n",
       " 'time',\n",
       " 'stem_cell',\n",
       " 'research',\n",
       " 'whitehouse',\n",
       " 'explain',\n",
       " 'vastly',\n",
       " 'improve',\n",
       " 'care',\n",
       " 'patient',\n",
       " 'like',\n",
       " 'lila',\n",
       " 'allow',\n",
       " 'surgeon',\n",
       " 'enhance',\n",
       " 'transplant',\n",
       " 'patient',\n",
       " 'stem_cell',\n",
       " 'replace',\n",
       " 'lose',\n",
       " 'bone',\n",
       " 'cartilage',\n",
       " 'grow',\n",
       " 'entirely',\n",
       " 'new',\n",
       " 'replacement',\n",
       " 'bone',\n",
       " 'joint',\n",
       " 'stem_cell',\n",
       " 'research',\n",
       " 'give',\n",
       " 'hope',\n",
       " 'lila',\n",
       " 'million',\n",
       " 'americans',\n",
       " 'challenge',\n",
       " 'osteosarcoma',\n",
       " 'diabetes',\n",
       " 'heart',\n",
       " 'disease',\n",
       " 'alzheimer',\n",
       " 'parkinson',\n",
       " 'spinal',\n",
       " 'cord',\n",
       " 'injury',\n",
       " 'stroke',\n",
       " 'myriad',\n",
       " 'disease',\n",
       " 'condition',\n",
       " 'research',\n",
       " 'help',\n",
       " 'cure',\n",
       " 'whitehouse',\n",
       " 'say',\n",
       " 'whitehouse',\n",
       " 'praise',\n",
       " 'effort',\n",
       " 'rhode_island',\n",
       " 'congressman',\n",
       " 'jim',\n",
       " 'langevin',\n",
       " 'd',\n",
       " 'champion',\n",
       " 'stem_cell',\n",
       " 'legislation',\n",
       " 'nationally',\n",
       " 'rhode_island',\n",
       " 'rhode_island',\n",
       " 'lieutenant',\n",
       " 'governor',\n",
       " 'elizabeth',\n",
       " 'roberts',\n",
       " 'robert',\n",
       " 'today',\n",
       " 'release',\n",
       " 'statewide',\n",
       " 'report',\n",
       " 'stem_cell',\n",
       " 'step',\n",
       " 'develop',\n",
       " 'comprehensive',\n",
       " 'plan',\n",
       " 'research',\n",
       " 'initiative',\n",
       " 'rhode_island',\n",
       " 'stem_cell',\n",
       " 'enhancement',\n",
       " 'act',\n",
       " 's.',\n",
       " 'expand',\n",
       " 'number',\n",
       " 'human',\n",
       " 'embryonic',\n",
       " 'stem_cell',\n",
       " 'eligible',\n",
       " 'federally',\n",
       " 'fund',\n",
       " 'research',\n",
       " 'arbitrary',\n",
       " 'limit',\n",
       " 'impose',\n",
       " 'president_bush',\n",
       " 'august',\n",
       " 'bill',\n",
       " 'direct',\n",
       " 'department',\n",
       " 'health',\n",
       " 'human',\n",
       " 'service',\n",
       " 'hhs',\n",
       " 'conduct',\n",
       " 'research',\n",
       " 'stem_cell',\n",
       " 'derive',\n",
       " 'embryo',\n",
       " 'currently',\n",
       " 'store',\n",
       " 'fertility',\n",
       " 'clinic',\n",
       " 'destroy',\n",
       " 'year',\n",
       " 'senator',\n",
       " 'vote',\n",
       " 'pass',\n",
       " 'stem_cell',\n",
       " 'enhancement',\n",
       " 'act',\n",
       " 'h.r',\n",
       " 'legislation',\n",
       " 'similar',\n",
       " 's.',\n",
       " 'president_bush',\n",
       " 'issue',\n",
       " 'veto',\n",
       " 'presidency',\n",
       " 'block',\n",
       " 'bipartisan',\n",
       " 'measure']"
      ]
     },
     "execution_count": 101,
     "metadata": {},
     "output_type": "execute_result"
    }
   ],
   "source": [
    "texts[0]"
   ]
  },
  {
   "cell_type": "markdown",
   "metadata": {},
   "source": [
    "## <font color=\"red\">*Exercise 4*</font>\n",
    "\n",
    "<font color=\"red\">Construct cells immediately below this that identify statistically significant bigrams, trigrams, quadgrams, higher-order *n*grams and skipgrams. Explore whether these collocations are idiomatic and so irreducible to the semantic sum of their component words. You can do this by examination of conditional frequencies (e.g., what else is 'united' besides the 'United States'). If these phrases are idiomatic, what do they suggest about the culture of the world producing them?\n",
    "\n",
    "<font color=\"red\">**Stretch**: In Manning and Schütze's textbook, there Section 5.3.2 explores how to use the *t*-test to find words whose co-occurance patterns best distinguish two words. Implement that and use it to explore phrases in your corpus. For instance, you could tell what words come after \"America\" much more often than after \"Iraq\"?</font> "
   ]
  },
  {
   "cell_type": "code",
   "execution_count": 102,
   "metadata": {},
   "outputs": [
    {
     "name": "stdout",
     "output_type": "stream",
     "text": [
      "28338\n"
     ]
    }
   ],
   "source": [
    "# Bigram\n",
    "tvBigram = nltk.collocations.BigramCollocationFinder.from_words(tv_words_DF['normalized_tokens'].sum())\n",
    "print(tvBigram.N)"
   ]
  },
  {
   "cell_type": "code",
   "execution_count": 103,
   "metadata": {},
   "outputs": [
    {
     "data": {
      "text/plain": [
       "[(('going', 'to'), 1136.1744562194644),\n",
       " (('wan', 'na'), 491.1691562550043),\n",
       " (('mrs', 'peck'), 400.54648912811706),\n",
       " (('m', 'sorry'), 336.63566189692466),\n",
       " (('got', 'to'), 316.8342800874369),\n",
       " (('van', 'wyck'), 316.830959695378),\n",
       " (('mr', 'paris'), 305.4015543155954),\n",
       " (('dr', 'willis'), 287.74956019394165),\n",
       " (('mmm', 'hmm'), 266.1486865594169),\n",
       " (('yes', 'sir'), 260.4884761664059)]"
      ]
     },
     "execution_count": 103,
     "metadata": {},
     "output_type": "execute_result"
    }
   ],
   "source": [
    "# Find significance with likelihood ratio.\n",
    "bigram_measures = nltk.collocations.BigramAssocMeasures()\n",
    "tvBigram.score_ngrams(bigram_measures.likelihood_ratio)[:10]"
   ]
  },
  {
   "cell_type": "code",
   "execution_count": 104,
   "metadata": {},
   "outputs": [
    {
     "name": "stdout",
     "output_type": "stream",
     "text": [
      "98\n",
      "2\n"
     ]
    }
   ],
   "source": [
    "# Exam the conditional frequencies of combination \"going to\"\n",
    "tv_bigram_FreqDist = nltk.ConditionalFreqDist((p == \"going\" and w == \"to\", p) for w, p in zip(tv_words_DF['normalized_tokens'].sum()[1: ], tv_words_DF['normalized_tokens'].sum()[:-1]))\n",
    "\n",
    "print(tv_bigram_FreqDist[True]['going'])\n",
    "print(tv_bigram_FreqDist[False]['going'])\n"
   ]
  },
  {
   "cell_type": "markdown",
   "metadata": {},
   "source": [
    "According to the conditional frequency distribution, \"going\" is matched with \"to\" much more than with other words. (98 vs. 2)"
   ]
  },
  {
   "cell_type": "code",
   "execution_count": 105,
   "metadata": {},
   "outputs": [
    {
     "data": {
      "text/plain": [
       "[(('m', 'going', 'to'), 2030.565253763668),\n",
       " (('going', 'to', 'find'), 1753.5813236137353),\n",
       " (('going', 'to', 'tell'), 1741.9105229728202),\n",
       " (('going', 'to', 'proper'), 1732.6104471833714),\n",
       " (('supply', 'going', 'to'), 1732.6104471833714),\n",
       " (('going', 'to', 'deliver'), 1730.0353170821404),\n",
       " (('freddy', 'going', 'to'), 1723.1361116323762),\n",
       " (('going', 'to', 'junk'), 1721.2779642288224),\n",
       " (('going', 'to', 'scrambled'), 1721.2779642288224),\n",
       " (('going', 'to', 'spoil'), 1721.2779642288224)]"
      ]
     },
     "execution_count": 105,
     "metadata": {},
     "output_type": "execute_result"
    }
   ],
   "source": [
    "# Trigram\n",
    "tvTrigram = nltk.collocations.TrigramCollocationFinder.from_words(tv_words_DF['normalized_tokens'].sum())\n",
    "\n",
    "trigram_measures = nltk.collocations.TrigramAssocMeasures()\n",
    "tvTrigram.score_ngrams(trigram_measures.likelihood_ratio)[: 10]"
   ]
  },
  {
   "cell_type": "code",
   "execution_count": 106,
   "metadata": {},
   "outputs": [
    {
     "data": {
      "text/plain": [
       "[(('m', 'going', 'to', 'find'), 2779.9245784359855),\n",
       " (('sir', 'm', 'going', 'to'), 2779.4825757279295),\n",
       " (('m', 'going', 'to', 'tell'), 2759.192668118702),\n",
       " (('afraid', 'm', 'going', 'to'), 2736.186595594844),\n",
       " (('course', 'm', 'going', 'to'), 2735.370876169982),\n",
       " (('m', 'going', 'to', 'check'), 2734.349083088581),\n",
       " (('meantime', 'm', 'going', 'to'), 2734.334630879862),\n",
       " (('m', 'going', 'to', 'teen'), 2733.622997249335),\n",
       " (('potter', 'm', 'going', 'to'), 2733.622997249335),\n",
       " (('whack', 'm', 'going', 'to'), 2733.622997249335)]"
      ]
     },
     "execution_count": 106,
     "metadata": {},
     "output_type": "execute_result"
    }
   ],
   "source": [
    "# Quadgram\n",
    "tvQuadgram = nltk.collocations.QuadgramCollocationFinder.from_words(tv_words_DF['normalized_tokens'].sum())\n",
    "\n",
    "quadgram_measures = nltk.collocations.QuadgramAssocMeasures()\n",
    "tvQuadgram.score_ngrams(quadgram_measures.likelihood_ratio)[: 10]"
   ]
  },
  {
   "cell_type": "code",
   "execution_count": 107,
   "metadata": {},
   "outputs": [
    {
     "name": "stdout",
     "output_type": "stream",
     "text": [
      "{('lieutenant', 'columbo', 'los', 'angeles', 'police'): 4, ('columbo', 'los', 'angeles', 'police', 'department'): 4, ('like', 'thank', 'officer', 'association', 'invite'): 3, ('step', 'right', 'lady', 'gentleman', 'step'): 3, ('right', 'lady', 'gentleman', 'step', 'right'): 3, ('homeward', 'angel', 'read', 'homeward', 'angel'): 4, ('water', 'bug', 'blue', 'water', 'bug'): 3, ('bug', 'blue', 'water', 'bug', 'blue'): 3}\n"
     ]
    }
   ],
   "source": [
    "# Higher-order ngram\n",
    "tvNgram = nltk.ngrams(tv_words_DF['normalized_tokens'].sum(), 5)\n",
    "\n",
    "Counts = {}\n",
    "for ngram in list(tvNgram):\n",
    "    if ngram in Counts.keys():\n",
    "        Counts[ngram] += 1\n",
    "    else:\n",
    "        Counts[ngram] = 1\n",
    "Filtered = {}\n",
    "for key in Counts.keys():\n",
    "    if Counts[key] < 3:\n",
    "        pass\n",
    "    else:\n",
    "        Filtered[key] = Counts[key]\n",
    "print(Filtered)"
   ]
  },
  {
   "cell_type": "code",
   "execution_count": 108,
   "metadata": {},
   "outputs": [
    {
     "data": {
      "text/plain": [
       "[(('going', 'to'), 233.71095569984826),\n",
       " (('wan', 'na'), 108.49818324616811),\n",
       " (('mrs', 'peck'), 92.46526022863624),\n",
       " (('m', 'sorry'), 82.27972040540632),\n",
       " (('dr', 'willis'), 80.30447720044259),\n",
       " (('got', 'to'), 76.30193199036398),\n",
       " (('van', 'wyck'), 72.2934483537079),\n",
       " (('mr', 'paris'), 63.9049078279033),\n",
       " (('mmm', 'hmm'), 63.64234610957071),\n",
       " (('homeward', 'angel'), 59.60960605850153)]"
      ]
     },
     "execution_count": 108,
     "metadata": {},
     "output_type": "execute_result"
    }
   ],
   "source": [
    "tvSkipgram = nltk.collocations.BigramCollocationFinder.from_words(tv_words_DF['normalized_tokens'].sum(), window_size=4)\n",
    "\n",
    "bigram_measures = nltk.collocations.BigramAssocMeasures()\n",
    "tvSkipgram.score_ngrams(bigram_measures.likelihood_ratio)[:10]"
   ]
  },
  {
   "cell_type": "markdown",
   "metadata": {},
   "source": [
    "Based on all kinds of collocations, this courpus is probably talking abour how LAPD plans to investigate a murduer case."
   ]
  },
  {
   "cell_type": "markdown",
   "metadata": {},
   "source": [
    "# Named-Entity Recognition\n",
    "\n",
    "Named Entity Recognition (NER) is also a classification task, which identifies named objects. \n",
    "Like every other part of the pipeline, spaCy also tags words with their tagged entity (https://spacy.io/api/entityrecognizer). You can see the full capacity of what spaCy does by checking out: https://spacy.io/usage/linguistic-features.\n",
    "\n",
    "For training the identification of such entities, spaCy uses a deep learning model."
   ]
  },
  {
   "cell_type": "markdown",
   "metadata": {},
   "source": [
    "Let's try it on a basic sentence:"
   ]
  },
  {
   "cell_type": "code",
   "execution_count": 109,
   "metadata": {},
   "outputs": [],
   "source": [
    "sent = nlp(u\"Tom went to IKEA to get some of those delicious Swedish meatballs.\")"
   ]
  },
  {
   "cell_type": "code",
   "execution_count": 110,
   "metadata": {},
   "outputs": [
    {
     "name": "stdout",
     "output_type": "stream",
     "text": [
      "Tom PERSON\n",
      "went \n",
      "to \n",
      "IKEA \n",
      "to \n",
      "get \n",
      "some \n",
      "of \n",
      "those \n",
      "delicious \n",
      "Swedish NORP\n",
      "meatballs \n",
      ". \n"
     ]
    }
   ],
   "source": [
    "for token in sent:\n",
    "    print(token.text, token.ent_type_)"
   ]
  },
  {
   "cell_type": "markdown",
   "metadata": {},
   "source": [
    "For only finding ents-"
   ]
  },
  {
   "cell_type": "code",
   "execution_count": 111,
   "metadata": {},
   "outputs": [
    {
     "name": "stdout",
     "output_type": "stream",
     "text": [
      "Tom PERSON\n",
      "Swedish NORP\n"
     ]
    }
   ],
   "source": [
    "for ent in sent.ents:\n",
    "    print(ent.text, ent.label_)"
   ]
  },
  {
   "cell_type": "code",
   "execution_count": 112,
   "metadata": {},
   "outputs": [],
   "source": [
    "def tag_sents_ner(sentences):\n",
    "    \"\"\"\n",
    "    function which replicates NLTK ner tagging on sentences.\n",
    "    \"\"\"\n",
    "    new_sents = []\n",
    "    for sentence in sentences:\n",
    "        new_sent = ' '.join(sentence)\n",
    "        new_sents.append(new_sent)\n",
    "    final_string = ' '.join(new_sents)\n",
    "    doc = nlp(final_string)\n",
    "    \n",
    "    pos_sents = []\n",
    "    for sent in doc.sents:\n",
    "        pos_sent = []\n",
    "        for ent in sent.ents:\n",
    "            pos_sent.append((ent.text, ent.label_))\n",
    "        pos_sents.append(pos_sent)\n",
    "    \n",
    "    return pos_sents"
   ]
  },
  {
   "cell_type": "markdown",
   "metadata": {},
   "source": [
    "We can also run NER over our entire corpus:"
   ]
  },
  {
   "cell_type": "code",
   "execution_count": 113,
   "metadata": {},
   "outputs": [],
   "source": [
    "redditTopScores['classified_sents'] = redditTopScores['sentences'].apply(lambda x: tag_sents_ner(x))"
   ]
  },
  {
   "cell_type": "code",
   "execution_count": 114,
   "metadata": {},
   "outputs": [
    {
     "data": {
      "text/plain": [
       "9    [[(Last year, DATE), (Help Desk, PERSON)], [(a...\n",
       "8    [[(First, ORDINAL)], [(today, DATE)], [(Citrix...\n",
       "7    [[], [(about a month, DATE), (a few days ago, ...\n",
       "6    [[], [(30,000, CARDINAL), (30,000, CARDINAL), ...\n",
       "5    [[(Helpdesk, PERSON), (UK, GPE)], [], [], [], ...\n",
       "4    [[], [(Engineer, PERSON), (10 minutes later, T...\n",
       "3    [[(hours, TIME), (Desk Caller, PERSON)], [], [...\n",
       "2    [[(1](http://www.reddit.com, CARDINAL), (comme...\n",
       "1    [[], [], [], [], [], [], [(today, DATE)], [], ...\n",
       "0    [[(recently past few years, DATE)], [], [], [(...\n",
       "Name: classified_sents, dtype: object"
      ]
     },
     "execution_count": 114,
     "metadata": {},
     "output_type": "execute_result"
    }
   ],
   "source": [
    "redditTopScores['classified_sents']"
   ]
  },
  {
   "cell_type": "markdown",
   "metadata": {},
   "source": [
    "Find the most common entities (which are, of course, boring):"
   ]
  },
  {
   "cell_type": "code",
   "execution_count": 115,
   "metadata": {},
   "outputs": [
    {
     "data": {
      "text/plain": [
       "[('Jack', 14),\n",
       " ('today', 6),\n",
       " ('9', 4),\n",
       " ('Boss', 4),\n",
       " ('Smith', 4),\n",
       " ('4', 3),\n",
       " ('one', 3),\n",
       " ('second', 3),\n",
       " ('30,000', 3),\n",
       " ('Google Bing', 3)]"
      ]
     },
     "execution_count": 115,
     "metadata": {},
     "output_type": "execute_result"
    }
   ],
   "source": [
    "entityCounts = {}\n",
    "for entry in redditTopScores['classified_sents']:\n",
    "    for sentence in entry:\n",
    "        for ent, kind in sentence:\n",
    "            if ent in entityCounts:\n",
    "                entityCounts[ent] += 1\n",
    "            else:\n",
    "                entityCounts[ent] = 1\n",
    "sortedEntities = sorted(entityCounts.items(), key = lambda x: x[1], reverse = True)\n",
    "sortedEntities[:10]"
   ]
  },
  {
   "cell_type": "markdown",
   "metadata": {},
   "source": [
    "Or those occurring only twice:"
   ]
  },
  {
   "cell_type": "code",
   "execution_count": 116,
   "metadata": {},
   "outputs": [
    {
     "data": {
      "text/plain": [
       "['two',\n",
       " 'first',\n",
       " '5',\n",
       " '10',\n",
       " 'Edit 2',\n",
       " '30k',\n",
       " '20',\n",
       " 'hours',\n",
       " 'Caller',\n",
       " 'last week',\n",
       " 'three',\n",
       " 'last Thursday']"
      ]
     },
     "execution_count": 116,
     "metadata": {},
     "output_type": "execute_result"
    }
   ],
   "source": [
    "[x[0] for x in sortedEntities if x[1] == 2]"
   ]
  },
  {
   "cell_type": "markdown",
   "metadata": {},
   "source": [
    "We could also list the most common \"non-objects\". (We note that we're not graphing these because there are so few here.)"
   ]
  },
  {
   "cell_type": "code",
   "execution_count": 117,
   "metadata": {},
   "outputs": [
    {
     "data": {
      "text/plain": [
       "[('Jack', 14),\n",
       " ('today', 6),\n",
       " ('9', 4),\n",
       " ('Smith', 4),\n",
       " ('4', 3),\n",
       " ('one', 3),\n",
       " ('second', 3),\n",
       " ('30,000', 3),\n",
       " ('two', 2),\n",
       " ('first', 2)]"
      ]
     },
     "execution_count": 117,
     "metadata": {},
     "output_type": "execute_result"
    }
   ],
   "source": [
    "nonObjCounts = {}\n",
    "for entry in redditTopScores['classified_sents']:\n",
    "    for sentence in entry:\n",
    "        for ent, kind in sentence:\n",
    "            if kind == 'ORG':\n",
    "                continue\n",
    "            elif ent in nonObjCounts:\n",
    "                nonObjCounts[ent] += 1\n",
    "            else:\n",
    "                nonObjCounts[ent] = 1\n",
    "sortedNonObj = sorted(nonObjCounts.items(), key = lambda x: x[1], reverse = True)\n",
    "sortedNonObj[:10]"
   ]
  },
  {
   "cell_type": "markdown",
   "metadata": {},
   "source": [
    "What about the Organizations?"
   ]
  },
  {
   "cell_type": "code",
   "execution_count": 118,
   "metadata": {},
   "outputs": [
    {
     "name": "stdout",
     "output_type": "stream",
     "text": [
      "HDD\n",
      "Citrix\n",
      "R. Computer\n",
      "Fair\n",
      "Milestone\n",
      "Bing Search\n",
      "Google Chrome\n",
      "Google Bing\n",
      "Caller\n",
      "Boss\n",
      "Boss\n",
      "Boss\n",
      "Bing\n",
      "Buzzfeed\n",
      "Boss\n"
     ]
    }
   ],
   "source": [
    "OrgCounts = {}\n",
    "for entry in redditTopScores['classified_sents']:\n",
    "    for sentence in entry:\n",
    "        for ent, kind in sentence:\n",
    "            if kind == 'ORG':\n",
    "                print(ent)"
   ]
  },
  {
   "cell_type": "markdown",
   "metadata": {},
   "source": [
    "These, of course, have much smaller counts.\n",
    "\n",
    "In this particular example we didn't find the most interesting entities - you can remedy that in exercise 4!"
   ]
  },
  {
   "cell_type": "markdown",
   "metadata": {},
   "source": [
    "## <font color=\"red\">*Exercise 5*</font>\n",
    "\n",
    "<font color=\"red\">In the cells immediately following, perform NER on a (modest) subset of your corpus of interest. List all of the different kinds of entities tagged? What does their distribution suggest about the focus of your corpus? For a subset of your corpus, tally at least one type of named entity and calculate the Precision, Recall and F-score for the NER classification just performed."
   ]
  },
  {
   "cell_type": "code",
   "execution_count": 119,
   "metadata": {},
   "outputs": [
    {
     "data": {
      "text/plain": [
       "[('GPE', 3),\n",
       " ('DATE', 5),\n",
       " ('CARDINAL', 5),\n",
       " ('ORG', 7),\n",
       " ('NORP', 9),\n",
       " ('TIME', 18),\n",
       " ('PERSON', 34)]"
      ]
     },
     "execution_count": 119,
     "metadata": {},
     "output_type": "execute_result"
    }
   ],
   "source": [
    "ents_dict = {}\n",
    "for ent in tv_doc.ents:\n",
    "    if ent.label_ in ents_dict.keys():\n",
    "        ents_dict[ent.label_] += 1\n",
    "    else:\n",
    "        ents_dict.update({ent.label_: 1})\n",
    "#         print(ent.label_)\n",
    "\n",
    "ents_dict = sorted(ents_dict.items(), key=lambda x: x[1])\n",
    "ents_dict"
   ]
  },
  {
   "cell_type": "markdown",
   "metadata": {},
   "source": [
    "Most entities in this corpus are of type person and time. Combined with the results from previous exercises, this corpus is talking about people related to the murder and the timelines of these people."
   ]
  },
  {
   "cell_type": "markdown",
   "metadata": {},
   "source": [
    "We will be using spaCy's built in dependancy parser to go about exploring the tree.\n",
    "Note that unlike previous examples, large corpuses or collections of sentences don't give us as much information, so we will be navigating smaller sentences.\n",
    "\n",
    "Let us start by exploring noun chunks. Noun chunks are “base noun phrases” – flat phrases that have a noun as their head. You can think of noun chunks as a noun plus the words describing the noun – for example, “the lavish green grass” or “the world’s largest tech fund”. To get the noun chunks in a document, simply iterate over the sentences noun chunks."
   ]
  },
  {
   "cell_type": "code",
   "execution_count": 122,
   "metadata": {},
   "outputs": [],
   "source": [
    "from spacy import displacy"
   ]
  },
  {
   "cell_type": "code",
   "execution_count": 123,
   "metadata": {},
   "outputs": [],
   "source": [
    "doc = nlp(\"Autonomous cars shift insurance liability toward manufacturers\")"
   ]
  },
  {
   "cell_type": "code",
   "execution_count": 124,
   "metadata": {},
   "outputs": [
    {
     "data": {
      "text/html": [
       "<span class=\"tex2jax_ignore\"><svg xmlns=\"http://www.w3.org/2000/svg\" xmlns:xlink=\"http://www.w3.org/1999/xlink\" xml:lang=\"en\" id=\"c42f0caa1af1434992117724818c4875-0\" class=\"displacy\" width=\"1275\" height=\"399.5\" direction=\"ltr\" style=\"max-width: none; height: 399.5px; color: #000000; background: #ffffff; font-family: Arial; direction: ltr\">\n",
       "<text class=\"displacy-token\" fill=\"currentColor\" text-anchor=\"middle\" y=\"309.5\">\n",
       "    <tspan class=\"displacy-word\" fill=\"currentColor\" x=\"50\">Autonomous</tspan>\n",
       "    <tspan class=\"displacy-tag\" dy=\"2em\" fill=\"currentColor\" x=\"50\">ADJ</tspan>\n",
       "</text>\n",
       "\n",
       "<text class=\"displacy-token\" fill=\"currentColor\" text-anchor=\"middle\" y=\"309.5\">\n",
       "    <tspan class=\"displacy-word\" fill=\"currentColor\" x=\"225\">cars</tspan>\n",
       "    <tspan class=\"displacy-tag\" dy=\"2em\" fill=\"currentColor\" x=\"225\">NOUN</tspan>\n",
       "</text>\n",
       "\n",
       "<text class=\"displacy-token\" fill=\"currentColor\" text-anchor=\"middle\" y=\"309.5\">\n",
       "    <tspan class=\"displacy-word\" fill=\"currentColor\" x=\"400\">shift</tspan>\n",
       "    <tspan class=\"displacy-tag\" dy=\"2em\" fill=\"currentColor\" x=\"400\">VERB</tspan>\n",
       "</text>\n",
       "\n",
       "<text class=\"displacy-token\" fill=\"currentColor\" text-anchor=\"middle\" y=\"309.5\">\n",
       "    <tspan class=\"displacy-word\" fill=\"currentColor\" x=\"575\">insurance</tspan>\n",
       "    <tspan class=\"displacy-tag\" dy=\"2em\" fill=\"currentColor\" x=\"575\">NOUN</tspan>\n",
       "</text>\n",
       "\n",
       "<text class=\"displacy-token\" fill=\"currentColor\" text-anchor=\"middle\" y=\"309.5\">\n",
       "    <tspan class=\"displacy-word\" fill=\"currentColor\" x=\"750\">liability</tspan>\n",
       "    <tspan class=\"displacy-tag\" dy=\"2em\" fill=\"currentColor\" x=\"750\">NOUN</tspan>\n",
       "</text>\n",
       "\n",
       "<text class=\"displacy-token\" fill=\"currentColor\" text-anchor=\"middle\" y=\"309.5\">\n",
       "    <tspan class=\"displacy-word\" fill=\"currentColor\" x=\"925\">toward</tspan>\n",
       "    <tspan class=\"displacy-tag\" dy=\"2em\" fill=\"currentColor\" x=\"925\">ADP</tspan>\n",
       "</text>\n",
       "\n",
       "<text class=\"displacy-token\" fill=\"currentColor\" text-anchor=\"middle\" y=\"309.5\">\n",
       "    <tspan class=\"displacy-word\" fill=\"currentColor\" x=\"1100\">manufacturers</tspan>\n",
       "    <tspan class=\"displacy-tag\" dy=\"2em\" fill=\"currentColor\" x=\"1100\">NOUN</tspan>\n",
       "</text>\n",
       "\n",
       "<g class=\"displacy-arrow\">\n",
       "    <path class=\"displacy-arc\" id=\"arrow-c42f0caa1af1434992117724818c4875-0-0\" stroke-width=\"2px\" d=\"M70,264.5 C70,177.0 215.0,177.0 215.0,264.5\" fill=\"none\" stroke=\"currentColor\"/>\n",
       "    <text dy=\"1.25em\" style=\"font-size: 0.8em; letter-spacing: 1px\">\n",
       "        <textPath xlink:href=\"#arrow-c42f0caa1af1434992117724818c4875-0-0\" class=\"displacy-label\" startOffset=\"50%\" side=\"left\" fill=\"currentColor\" text-anchor=\"middle\">amod</textPath>\n",
       "    </text>\n",
       "    <path class=\"displacy-arrowhead\" d=\"M70,266.5 L62,254.5 78,254.5\" fill=\"currentColor\"/>\n",
       "</g>\n",
       "\n",
       "<g class=\"displacy-arrow\">\n",
       "    <path class=\"displacy-arc\" id=\"arrow-c42f0caa1af1434992117724818c4875-0-1\" stroke-width=\"2px\" d=\"M245,264.5 C245,177.0 390.0,177.0 390.0,264.5\" fill=\"none\" stroke=\"currentColor\"/>\n",
       "    <text dy=\"1.25em\" style=\"font-size: 0.8em; letter-spacing: 1px\">\n",
       "        <textPath xlink:href=\"#arrow-c42f0caa1af1434992117724818c4875-0-1\" class=\"displacy-label\" startOffset=\"50%\" side=\"left\" fill=\"currentColor\" text-anchor=\"middle\">nsubj</textPath>\n",
       "    </text>\n",
       "    <path class=\"displacy-arrowhead\" d=\"M245,266.5 L237,254.5 253,254.5\" fill=\"currentColor\"/>\n",
       "</g>\n",
       "\n",
       "<g class=\"displacy-arrow\">\n",
       "    <path class=\"displacy-arc\" id=\"arrow-c42f0caa1af1434992117724818c4875-0-2\" stroke-width=\"2px\" d=\"M595,264.5 C595,177.0 740.0,177.0 740.0,264.5\" fill=\"none\" stroke=\"currentColor\"/>\n",
       "    <text dy=\"1.25em\" style=\"font-size: 0.8em; letter-spacing: 1px\">\n",
       "        <textPath xlink:href=\"#arrow-c42f0caa1af1434992117724818c4875-0-2\" class=\"displacy-label\" startOffset=\"50%\" side=\"left\" fill=\"currentColor\" text-anchor=\"middle\">compound</textPath>\n",
       "    </text>\n",
       "    <path class=\"displacy-arrowhead\" d=\"M595,266.5 L587,254.5 603,254.5\" fill=\"currentColor\"/>\n",
       "</g>\n",
       "\n",
       "<g class=\"displacy-arrow\">\n",
       "    <path class=\"displacy-arc\" id=\"arrow-c42f0caa1af1434992117724818c4875-0-3\" stroke-width=\"2px\" d=\"M420,264.5 C420,89.5 745.0,89.5 745.0,264.5\" fill=\"none\" stroke=\"currentColor\"/>\n",
       "    <text dy=\"1.25em\" style=\"font-size: 0.8em; letter-spacing: 1px\">\n",
       "        <textPath xlink:href=\"#arrow-c42f0caa1af1434992117724818c4875-0-3\" class=\"displacy-label\" startOffset=\"50%\" side=\"left\" fill=\"currentColor\" text-anchor=\"middle\">dobj</textPath>\n",
       "    </text>\n",
       "    <path class=\"displacy-arrowhead\" d=\"M745.0,266.5 L753.0,254.5 737.0,254.5\" fill=\"currentColor\"/>\n",
       "</g>\n",
       "\n",
       "<g class=\"displacy-arrow\">\n",
       "    <path class=\"displacy-arc\" id=\"arrow-c42f0caa1af1434992117724818c4875-0-4\" stroke-width=\"2px\" d=\"M420,264.5 C420,2.0 925.0,2.0 925.0,264.5\" fill=\"none\" stroke=\"currentColor\"/>\n",
       "    <text dy=\"1.25em\" style=\"font-size: 0.8em; letter-spacing: 1px\">\n",
       "        <textPath xlink:href=\"#arrow-c42f0caa1af1434992117724818c4875-0-4\" class=\"displacy-label\" startOffset=\"50%\" side=\"left\" fill=\"currentColor\" text-anchor=\"middle\">prep</textPath>\n",
       "    </text>\n",
       "    <path class=\"displacy-arrowhead\" d=\"M925.0,266.5 L933.0,254.5 917.0,254.5\" fill=\"currentColor\"/>\n",
       "</g>\n",
       "\n",
       "<g class=\"displacy-arrow\">\n",
       "    <path class=\"displacy-arc\" id=\"arrow-c42f0caa1af1434992117724818c4875-0-5\" stroke-width=\"2px\" d=\"M945,264.5 C945,177.0 1090.0,177.0 1090.0,264.5\" fill=\"none\" stroke=\"currentColor\"/>\n",
       "    <text dy=\"1.25em\" style=\"font-size: 0.8em; letter-spacing: 1px\">\n",
       "        <textPath xlink:href=\"#arrow-c42f0caa1af1434992117724818c4875-0-5\" class=\"displacy-label\" startOffset=\"50%\" side=\"left\" fill=\"currentColor\" text-anchor=\"middle\">pobj</textPath>\n",
       "    </text>\n",
       "    <path class=\"displacy-arrowhead\" d=\"M1090.0,266.5 L1098.0,254.5 1082.0,254.5\" fill=\"currentColor\"/>\n",
       "</g>\n",
       "</svg></span>"
      ],
      "text/plain": [
       "<IPython.core.display.HTML object>"
      ]
     },
     "metadata": {},
     "output_type": "display_data"
    }
   ],
   "source": [
    "displacy.render(doc, style='dep')"
   ]
  },
  {
   "cell_type": "code",
   "execution_count": 125,
   "metadata": {},
   "outputs": [
    {
     "name": "stdout",
     "output_type": "stream",
     "text": [
      "Autonomous cars cars nsubj shift\n",
      "insurance liability liability dobj shift\n",
      "manufacturers manufacturers pobj toward\n"
     ]
    }
   ],
   "source": [
    "for chunk in doc.noun_chunks:\n",
    "    print(chunk.text, chunk.root.text, chunk.root.dep_, chunk.root.head.text)"
   ]
  },
  {
   "cell_type": "markdown",
   "metadata": {},
   "source": [
    "spaCy uses the terms head and child to describe the words connected by a single arc in the dependency tree. The term dep is used for the arc label, which describes the type of syntactic relation that connects the child to the head. As with other attributes, the value of .dep is a hash value. You can get the string value with .dep_.\n",
    "\n",
    "For your reference:\n",
    "\n",
    "Text: The original token text.\n",
    "\n",
    "Dep: The syntactic relation connecting child to head.\n",
    "\n",
    "Head text: The original text of the token head.\n",
    "\n",
    "Head POS: The part-of-speech tag of the token head.\n",
    "\n",
    "Children: The immediate syntactic dependents of the token."
   ]
  },
  {
   "cell_type": "code",
   "execution_count": 126,
   "metadata": {},
   "outputs": [
    {
     "name": "stdout",
     "output_type": "stream",
     "text": [
      "Autonomous amod cars NOUN []\n",
      "cars nsubj shift VERB [Autonomous]\n",
      "shift ROOT shift VERB [cars, liability, toward]\n",
      "insurance compound liability NOUN []\n",
      "liability dobj shift VERB [insurance]\n",
      "toward prep shift VERB [manufacturers]\n",
      "manufacturers pobj toward ADP []\n"
     ]
    }
   ],
   "source": [
    "for token in doc:\n",
    "    print(token.text, token.dep_, token.head.text, token.head.pos_,\n",
    "            [child for child in token.children])"
   ]
  },
  {
   "cell_type": "markdown",
   "metadata": {},
   "source": [
    "Because the syntactic relations form a tree, every word has exactly one head. You can therefore iterate over the arcs in the tree by iterating over the words in the sentence. This is usually the best way to match an arc of interest — from below:"
   ]
  },
  {
   "cell_type": "code",
   "execution_count": 127,
   "metadata": {},
   "outputs": [],
   "source": [
    "from spacy.symbols import nsubj, VERB"
   ]
  },
  {
   "cell_type": "code",
   "execution_count": 128,
   "metadata": {},
   "outputs": [
    {
     "name": "stdout",
     "output_type": "stream",
     "text": [
      "{shift}\n"
     ]
    }
   ],
   "source": [
    "verbs = set()\n",
    "for possible_subject in doc:\n",
    "    if possible_subject.dep == nsubj and possible_subject.head.pos == VERB:\n",
    "        verbs.add(possible_subject.head)\n",
    "print(verbs)"
   ]
  },
  {
   "cell_type": "markdown",
   "metadata": {},
   "source": [
    "You can *also* navigate from above. It isn't as efficient though."
   ]
  },
  {
   "cell_type": "code",
   "execution_count": 129,
   "metadata": {},
   "outputs": [],
   "source": [
    "verbs = []\n",
    "for possible_verb in doc:\n",
    "    if possible_verb.pos == VERB:\n",
    "        for possible_subject in possible_verb.children:\n",
    "            if possible_subject.dep == nsubj:\n",
    "                verbs.append(possible_verb)\n",
    "                break"
   ]
  },
  {
   "cell_type": "code",
   "execution_count": 130,
   "metadata": {},
   "outputs": [
    {
     "name": "stdout",
     "output_type": "stream",
     "text": [
      "[shift]\n"
     ]
    }
   ],
   "source": [
    "print(verbs)"
   ]
  },
  {
   "cell_type": "markdown",
   "metadata": {},
   "source": [
    "### Iterating around the local tree\n",
    "A few more convenience attributes are provided for iterating around the local tree from the token. Token.lefts and Token.rights attributes provide sequences of syntactic children that occur before and after the token. Both sequences are in sentence order. There are also two integer-typed attributes, Token.n_lefts and Token.n_rights that give the number of left and right children."
   ]
  },
  {
   "cell_type": "code",
   "execution_count": 131,
   "metadata": {},
   "outputs": [
    {
     "name": "stdout",
     "output_type": "stream",
     "text": [
      "['bright', 'red']\n",
      "['on']\n",
      "2\n",
      "1\n"
     ]
    }
   ],
   "source": [
    "doc = nlp(\"bright red apples on the tree\")\n",
    "print([token.text for token in doc[2].lefts])  # ['bright', 'red']\n",
    "print([token.text for token in doc[2].rights])  # ['on']\n",
    "print(doc[2].n_lefts)  # 2\n",
    "print(doc[2].n_rights)  # 1"
   ]
  },
  {
   "cell_type": "markdown",
   "metadata": {},
   "source": [
    "You can get a whole phrase by its syntactic head using the Token.subtree attribute. This returns an ordered sequence of tokens. You can walk up the tree with the Token.ancestors attribute, and check dominance with Token.is_ancestor"
   ]
  },
  {
   "cell_type": "code",
   "execution_count": 132,
   "metadata": {},
   "outputs": [
    {
     "name": "stdout",
     "output_type": "stream",
     "text": [
      "Credit nmod 0 2 ['holders', 'submit']\n",
      "and cc 0 0 ['Credit', 'holders', 'submit']\n",
      "mortgage compound 0 0 ['account', 'Credit', 'holders', 'submit']\n",
      "account conj 1 0 ['Credit', 'holders', 'submit']\n",
      "holders nsubj 1 0 ['submit']\n"
     ]
    }
   ],
   "source": [
    "doc = nlp(\"Credit and mortgage account holders must submit their requests\")\n",
    "\n",
    "root = [token for token in doc if token.head == token][0]\n",
    "subject = list(root.lefts)[0]\n",
    "for descendant in subject.subtree:\n",
    "    assert subject is descendant or subject.is_ancestor(descendant)\n",
    "    print(descendant.text, descendant.dep_, descendant.n_lefts,\n",
    "            descendant.n_rights,\n",
    "            [ancestor.text for ancestor in descendant.ancestors])"
   ]
  },
  {
   "cell_type": "markdown",
   "metadata": {},
   "source": [
    "Finally, the .left_edge and .right_edge attributes can be especially useful, because they give you the first and last token of the subtree. This is the easiest way to create a Span object for a syntactic phrase. Note that .right_edge gives a token within the subtree — so if you use it as the end-point of a range, don’t forget to +1!"
   ]
  },
  {
   "cell_type": "code",
   "execution_count": 133,
   "metadata": {},
   "outputs": [
    {
     "name": "stdout",
     "output_type": "stream",
     "text": [
      "Credit and mortgage account holders NOUN nsubj submit\n",
      "must AUX aux submit\n",
      "submit VERB ROOT submit\n",
      "their PRON poss requests\n",
      "requests NOUN dobj submit\n"
     ]
    }
   ],
   "source": [
    "span = doc[doc[4].left_edge.i : doc[4].right_edge.i+1]\n",
    "with doc.retokenize() as retokenizer:\n",
    "    retokenizer.merge(span)\n",
    "for token in doc:\n",
    "    print(token.text, token.pos_, token.dep_, token.head.text)"
   ]
  },
  {
   "cell_type": "code",
   "execution_count": 134,
   "metadata": {},
   "outputs": [
    {
     "data": {
      "text/html": [
       "<span class=\"tex2jax_ignore\"><svg xmlns=\"http://www.w3.org/2000/svg\" xmlns:xlink=\"http://www.w3.org/1999/xlink\" xml:lang=\"en\" id=\"fa39cf4d9c824702b6a350d085dff211-0\" class=\"displacy\" width=\"925\" height=\"312.0\" direction=\"ltr\" style=\"max-width: none; height: 312.0px; color: #000000; background: #ffffff; font-family: Arial; direction: ltr\">\n",
       "<text class=\"displacy-token\" fill=\"currentColor\" text-anchor=\"middle\" y=\"222.0\">\n",
       "    <tspan class=\"displacy-word\" fill=\"currentColor\" x=\"50\">Credit and mortgage account holders</tspan>\n",
       "    <tspan class=\"displacy-tag\" dy=\"2em\" fill=\"currentColor\" x=\"50\">NOUN</tspan>\n",
       "</text>\n",
       "\n",
       "<text class=\"displacy-token\" fill=\"currentColor\" text-anchor=\"middle\" y=\"222.0\">\n",
       "    <tspan class=\"displacy-word\" fill=\"currentColor\" x=\"225\">must</tspan>\n",
       "    <tspan class=\"displacy-tag\" dy=\"2em\" fill=\"currentColor\" x=\"225\">AUX</tspan>\n",
       "</text>\n",
       "\n",
       "<text class=\"displacy-token\" fill=\"currentColor\" text-anchor=\"middle\" y=\"222.0\">\n",
       "    <tspan class=\"displacy-word\" fill=\"currentColor\" x=\"400\">submit</tspan>\n",
       "    <tspan class=\"displacy-tag\" dy=\"2em\" fill=\"currentColor\" x=\"400\">VERB</tspan>\n",
       "</text>\n",
       "\n",
       "<text class=\"displacy-token\" fill=\"currentColor\" text-anchor=\"middle\" y=\"222.0\">\n",
       "    <tspan class=\"displacy-word\" fill=\"currentColor\" x=\"575\">their</tspan>\n",
       "    <tspan class=\"displacy-tag\" dy=\"2em\" fill=\"currentColor\" x=\"575\">PRON</tspan>\n",
       "</text>\n",
       "\n",
       "<text class=\"displacy-token\" fill=\"currentColor\" text-anchor=\"middle\" y=\"222.0\">\n",
       "    <tspan class=\"displacy-word\" fill=\"currentColor\" x=\"750\">requests</tspan>\n",
       "    <tspan class=\"displacy-tag\" dy=\"2em\" fill=\"currentColor\" x=\"750\">NOUN</tspan>\n",
       "</text>\n",
       "\n",
       "<g class=\"displacy-arrow\">\n",
       "    <path class=\"displacy-arc\" id=\"arrow-fa39cf4d9c824702b6a350d085dff211-0-0\" stroke-width=\"2px\" d=\"M70,177.0 C70,2.0 400.0,2.0 400.0,177.0\" fill=\"none\" stroke=\"currentColor\"/>\n",
       "    <text dy=\"1.25em\" style=\"font-size: 0.8em; letter-spacing: 1px\">\n",
       "        <textPath xlink:href=\"#arrow-fa39cf4d9c824702b6a350d085dff211-0-0\" class=\"displacy-label\" startOffset=\"50%\" side=\"left\" fill=\"currentColor\" text-anchor=\"middle\">nsubj</textPath>\n",
       "    </text>\n",
       "    <path class=\"displacy-arrowhead\" d=\"M70,179.0 L62,167.0 78,167.0\" fill=\"currentColor\"/>\n",
       "</g>\n",
       "\n",
       "<g class=\"displacy-arrow\">\n",
       "    <path class=\"displacy-arc\" id=\"arrow-fa39cf4d9c824702b6a350d085dff211-0-1\" stroke-width=\"2px\" d=\"M245,177.0 C245,89.5 395.0,89.5 395.0,177.0\" fill=\"none\" stroke=\"currentColor\"/>\n",
       "    <text dy=\"1.25em\" style=\"font-size: 0.8em; letter-spacing: 1px\">\n",
       "        <textPath xlink:href=\"#arrow-fa39cf4d9c824702b6a350d085dff211-0-1\" class=\"displacy-label\" startOffset=\"50%\" side=\"left\" fill=\"currentColor\" text-anchor=\"middle\">aux</textPath>\n",
       "    </text>\n",
       "    <path class=\"displacy-arrowhead\" d=\"M245,179.0 L237,167.0 253,167.0\" fill=\"currentColor\"/>\n",
       "</g>\n",
       "\n",
       "<g class=\"displacy-arrow\">\n",
       "    <path class=\"displacy-arc\" id=\"arrow-fa39cf4d9c824702b6a350d085dff211-0-2\" stroke-width=\"2px\" d=\"M595,177.0 C595,89.5 745.0,89.5 745.0,177.0\" fill=\"none\" stroke=\"currentColor\"/>\n",
       "    <text dy=\"1.25em\" style=\"font-size: 0.8em; letter-spacing: 1px\">\n",
       "        <textPath xlink:href=\"#arrow-fa39cf4d9c824702b6a350d085dff211-0-2\" class=\"displacy-label\" startOffset=\"50%\" side=\"left\" fill=\"currentColor\" text-anchor=\"middle\">poss</textPath>\n",
       "    </text>\n",
       "    <path class=\"displacy-arrowhead\" d=\"M595,179.0 L587,167.0 603,167.0\" fill=\"currentColor\"/>\n",
       "</g>\n",
       "\n",
       "<g class=\"displacy-arrow\">\n",
       "    <path class=\"displacy-arc\" id=\"arrow-fa39cf4d9c824702b6a350d085dff211-0-3\" stroke-width=\"2px\" d=\"M420,177.0 C420,2.0 750.0,2.0 750.0,177.0\" fill=\"none\" stroke=\"currentColor\"/>\n",
       "    <text dy=\"1.25em\" style=\"font-size: 0.8em; letter-spacing: 1px\">\n",
       "        <textPath xlink:href=\"#arrow-fa39cf4d9c824702b6a350d085dff211-0-3\" class=\"displacy-label\" startOffset=\"50%\" side=\"left\" fill=\"currentColor\" text-anchor=\"middle\">dobj</textPath>\n",
       "    </text>\n",
       "    <path class=\"displacy-arrowhead\" d=\"M750.0,179.0 L758.0,167.0 742.0,167.0\" fill=\"currentColor\"/>\n",
       "</g>\n",
       "</svg></span>"
      ],
      "text/plain": [
       "<IPython.core.display.HTML object>"
      ]
     },
     "metadata": {},
     "output_type": "display_data"
    }
   ],
   "source": [
    "displacy.render(doc, style='dep')"
   ]
  },
  {
   "cell_type": "markdown",
   "metadata": {},
   "source": [
    "### Information Extraction\n",
    "\n",
    "How can dependancy graphs be useful? We can extract information from the sentences based on relationships between words within parsed phrases. Let us see if we can do this to glean any information, from, say, our movies dataset. \n",
    "\n",
    "How violent are the movies? Who is killing who?"
   ]
  },
  {
   "cell_type": "code",
   "execution_count": 135,
   "metadata": {},
   "outputs": [],
   "source": [
    "movie_violences = {}"
   ]
  },
  {
   "cell_type": "code",
   "execution_count": 136,
   "metadata": {},
   "outputs": [
    {
     "name": "stderr",
     "output_type": "stream",
     "text": [
      "<>:15: SyntaxWarning: \"is not\" with a literal. Did you mean \"!=\"?\n",
      "<>:17: SyntaxWarning: \"is not\" with a literal. Did you mean \"!=\"?\n",
      "<>:15: SyntaxWarning: \"is not\" with a literal. Did you mean \"!=\"?\n",
      "<>:17: SyntaxWarning: \"is not\" with a literal. Did you mean \"!=\"?\n",
      "<ipython-input-136-9d395d491929>:15: SyntaxWarning: \"is not\" with a literal. Did you mean \"!=\"?\n",
      "  if subject is not 0:\n",
      "<ipython-input-136-9d395d491929>:17: SyntaxWarning: \"is not\" with a literal. Did you mean \"!=\"?\n",
      "  if object_ is not 0:\n"
     ]
    }
   ],
   "source": [
    "for index, row in movie_df.iterrows():\n",
    "    text = ' '.join(row['Tokenized Texts'])\n",
    "    movie_violences[row['Movie Name']] = ([], [])\n",
    "    doc = nlp(text)\n",
    "    for chunk in doc.noun_chunks:\n",
    "        subject = 0\n",
    "        object_ = 0\n",
    "        # if the verb or the root of the sentence is kill\n",
    "        if chunk.root.head.text == 'kill':\n",
    "            # we find the subjects and objects around the word, and if it does exist, add it to the tuple\n",
    "            if chunk.root.dep_ == 'nsubj':\n",
    "                subject = chunk.root.text\n",
    "            if chunk.root.dep_ == 'dobj':\n",
    "                object_ = chunk.root.text\n",
    "            if subject is not 0:\n",
    "                movie_violences[row['Movie Name']][0].append(subject)\n",
    "            if object_ is not 0:\n",
    "                movie_violences[row['Movie Name']][1].append(object_)"
   ]
  },
  {
   "cell_type": "code",
   "execution_count": 137,
   "metadata": {},
   "outputs": [
    {
     "data": {
      "text/plain": [
       "{'Animal Crackers': ([], []),\n",
       " 'Anna Christie': (['I'], ['them', 'Glory', 'you']),\n",
       " 'Ladies of Leisure': ([], []),\n",
       " 'Over the Hill': (['shalt', 'This'], ['shalt', 'Ma']),\n",
       " 'Design for Living': ([], []),\n",
       " 'Lady for a Day': (['It'], ['yourself', 'Louise']),\n",
       " 'Lady Killer': (['that'], ['horse']),\n",
       " 'The Mind Reader': (['woman'], ['herself']),\n",
       " 'Here Is My Heart': ([], ['herself']),\n",
       " 'Peculiar Penguins': ([], []),\n",
       " 'Sadie McKee': (['You', 'I'], ['SOBBING', 'you']),\n",
       " 'Star of Midnight': (['you', 'I', 'They'],\n",
       "  ['story', 'You', 'him', 'him', 'dal', 'her']),\n",
       " 'The Littlest Rebel': (['men'], ['army']),\n",
       " 'The Robber Kitten': ([], []),\n",
       " 'Charlie Chan at the Circus': (['Holt'], ['sheriff']),\n",
       " 'Charlie Chan at the Opera': (['I'], ['me', 'him', 'intrusion']),\n",
       " 'Charlie Chan at the Race Track': (['you'], ['major']),\n",
       " 'The Prisoner of Shark Island': (['government'], ['husband']),\n",
       " 'The Prince and the Pauper': ([], ['me']),\n",
       " 'The Lady Vanishes': (['They'], ['lot']),\n",
       " 'Holiday': ([], []),\n",
       " \"Donald's Cousin Gus\": ([], []),\n",
       " 'A Chump at Oxford': ([], []),\n",
       " 'I Wake Up Screaming': (['He', 'I', 'I'],\n",
       "  ['you', 'mice', 'her', 'me', 'anybody']),\n",
       " \"Sullivan's Travels\": ([], []),\n",
       " 'Sun Valley Serenade': ([], []),\n",
       " 'Fly-By-Night': (['He', 'they'], ['me', 'us', 'us', 'Pat', 'man', 'you']),\n",
       " 'Now, Voyager': ([], []),\n",
       " 'The Boogie Man Will Get You': (['You', 'I'], ['him', 'nobody']),\n",
       " 'The Outlaw': (['you', 'he', 'you'],\n",
       "  ['him', 'him', 'ya', 'him', 'him', 'you']),\n",
       " 'The Seventh Victim': ([], []),\n",
       " 'Tin Pan Alley Cats': ([], []),\n",
       " 'Between Two Worlds': ([], []),\n",
       " \"Frenchman's Creek\": (['I'], ['you', 'you', 'me']),\n",
       " \"I'll Be Seeing You\": ([], []),\n",
       " 'A Royal Scandal': (['They'], ['me']),\n",
       " 'The Naughty Nineties': (['We'], ['time']),\n",
       " 'Dreams That Money Can Buy': ([], []),\n",
       " 'Smash-Up: The Story of a Woman': ([], []),\n",
       " 'The Unsuspected': (['I', 'I', 'I', 'Nothing', 'Oliver'],\n",
       "  ['her', 'you', 'you', 'you', 'anybody', 'me']),\n",
       " 'Road House': (['You', 'I', 'You', 'I', 'I', 'I', 'You', 'You'],\n",
       "  ['you', 'me', 'me', 'you', 'you', 'me', 'Jefty']),\n",
       " 'Whisky Galore': ([], []),\n",
       " 'Champion': (['I', 'I'], ['him', 'you', 'you']),\n",
       " 'Sands of Iwo Jima': ([], ['me']),\n",
       " 'White Heat': (['You'], ['me', 'you', 'Cody', 'her']),\n",
       " 'The Happiest Days of Your Life': ([], []),\n",
       " 'This Side of the Law': (['I', 'I', 'Calder', 'I'],\n",
       "  ['you', 'you', 'anyone', 'Calder', 'you', 'you']),\n",
       " 'Whirlpool': (['him', 'he', 'I'],\n",
       "  ['her', 'her', 'her', 'woman', 'her', 'me', 'you']),\n",
       " 'Five': ([], ['yourself']),\n",
       " 'Fixed Bayonets!': (['I', 'you'],\n",
       "  ['man', 'fire', 'it', 'Heat', 'men', 'man', 'him']),\n",
       " 'Sirocco': (['I', 'I', 'Frenchmen', 'I', 'You'],\n",
       "  ['you', 'you', 'lot', 'lot', 'me']),\n",
       " 'The Big Night': (['I', 'Frances', 'Frances', 'I', 'They', 'father'],\n",
       "  ['ya', 'YOU', 'case', 'herself', 'herself', 'him', 'YOU', 'him', 'Judge']),\n",
       " 'The Company She Keeps': ([], []),\n",
       " 'My Son John': (['it', 'he', 'What'], ['him', 'you', 'mother']),\n",
       " 'The Little House': ([], []),\n",
       " 'The World in His Arms': (['he', 'they'],\n",
       "  ['partner', 'him', 'seal', 'anything', 'you', 'us', 'seals']),\n",
       " 'Gilbert and Sullivan': ([], []),\n",
       " 'The Juggler': (['We', 'You', 'You', 'I', 'you'],\n",
       "  ['people', 'idea', 'someone', 'him', 'man', 'man', 'man']),\n",
       " 'Man on a Tightrope': (['I'], ['him', 'you']),\n",
       " 'Oh... Rosalinda!!': (['I'], ['everything']),\n",
       " 'Touch and Go': (['they', 'you', 'You', 'they', 'I', 'you'],\n",
       "  ['me', 'him', 'man', 'me', 'Mind', 'me', 'me', 'them', 'her']),\n",
       " 'Artists and Models': ([], []),\n",
       " 'Guys and Dolls': ([], []),\n",
       " 'Man with the Gun': ([], ['Jeff']),\n",
       " 'Man Without a Star': (['I', 'I', 'I', 'I'],\n",
       "  ['it', 'you', 'you', 'deputy', 'man', 'him', 'you']),\n",
       " 'Soldier of Fortune': ([], []),\n",
       " 'The Proud Ones': (['I', 'pride', 'I', 'pride'],\n",
       "  ['you', 'you', 'you', 'you']),\n",
       " 'Feathers in the Wind': ([], []),\n",
       " 'Peyton Place': (['I', 'She', 'you'], ['me', 'you', 'Japanese', 'me', 'him']),\n",
       " 'The Incredible Shrinking Man': ([], []),\n",
       " 'Until They Sail': ([], []),\n",
       " \"The Horse's Mouth\": ([], []),\n",
       " 'Lafayette Escadrille': ([], []),\n",
       " 'Rock-a-Bye Baby': (['He'], ['me']),\n",
       " 'Operation Amsterdam': (['it'], ['her', 'I', 'them']),\n",
       " 'The Man Who Could Cheat Death': ([], []),\n",
       " 'The Gene Krupa Story': ([], []),\n",
       " 'The Manster': ([], []),\n",
       " 'From the Terrace': (['I'], ['you']),\n",
       " 'Journey Beneath the Desert': (['you'], ['you', 'him', 'You']),\n",
       " 'Town Without Pity': (['them', 'men', 'I'],\n",
       "  ['me', 'Frank', 'you', 'me', 'somebody']),\n",
       " 'A Kind of Loving': (['You'], []),\n",
       " 'Almost Angels': ([], []),\n",
       " 'Sweet Bird of Youth': ([], []),\n",
       " 'The Miracle Worker': ([], []),\n",
       " 'Cheyenne Autumn': ([], ['job', 'Injun', 'Indians']),\n",
       " 'The Americanization of Emily': ([], ['me']),\n",
       " 'Hallo Satchmo': ([], []),\n",
       " 'Red Light, Green Light: Meeting Strangers': ([], []),\n",
       " 'Red Line 7000': ([], []),\n",
       " 'The Sons of Katie Elder': (['They'], ['us', 'minute', 'him']),\n",
       " 'The Plague of the Zombies': (['I', 'I'], ['her', 'her']),\n",
       " 'Lt. Robin Crusoe, U.S.N.': (['Kill'],\n",
       "  ['me', 'hoo', 'mash', 'hoo', 'me', 'boy']),\n",
       " 'Tarzan and the Great River': (['it'], []),\n",
       " 'Poor Cow': (['I'], ['him', 'Jonny']),\n",
       " 'Camelot': (['that'], ['kin', 'truth', 'us', 'queen', 'I', 'people']),\n",
       " 'The Blood of Fu Manchu': (['I', 'I'],\n",
       "  ['regiment', 'him', 'stupidos', 'him', 'poison', 'Wish']),\n",
       " 'Isadora': ([], []),\n",
       " 'Never a Dull Moment': (['who',\n",
       "   'I',\n",
       "   'you',\n",
       "   'I',\n",
       "   'me',\n",
       "   'You',\n",
       "   'It',\n",
       "   'I',\n",
       "   'I',\n",
       "   'you',\n",
       "   'I'],\n",
       "  ['him',\n",
       "   'him',\n",
       "   'you',\n",
       "   'you',\n",
       "   'him',\n",
       "   'him',\n",
       "   'me',\n",
       "   'him',\n",
       "   'guards',\n",
       "   'guards',\n",
       "   'him',\n",
       "   'anybody',\n",
       "   'me']),\n",
       " 'Kes': (['I'], ['git', 'it']),\n",
       " 'The Prime of Miss Jean Brodie': ([], ['It']),\n",
       " 'Marooned': ([], ['it', 'me', 'me']),\n",
       " 'The Arrangement': (['It', 'I', 'I'],\n",
       "  ['you', 'you', 'him', 'spades', 'him', 'Leibman', 'myself']),\n",
       " 'Hoffman': (['him'], ['you', 'you']),\n",
       " 'Wake in Fright': ([], ['headache', 'people']),\n",
       " 'The Night Visitor': (['I', 'Jenks', 'I', 'I'],\n",
       "  ['our',\n",
       "   'man',\n",
       "   'woman',\n",
       "   'people',\n",
       "   'sister',\n",
       "   'her',\n",
       "   'I',\n",
       "   'people',\n",
       "   'you',\n",
       "   'everyone',\n",
       "   'me',\n",
       "   'you',\n",
       "   'sister',\n",
       "   'him',\n",
       "   'it',\n",
       "   'me',\n",
       "   'you',\n",
       "   'him',\n",
       "   'Emmie',\n",
       "   'Ester']),\n",
       " 'The Abominable Dr. Phibes': (['I', 'I', 'I'],\n",
       "  ['you', 'Vesalius', 'everyone', 'you', 'wife']),\n",
       " 'Glen and Randa': ([], []),\n",
       " \"Let's Scare Jessica to Death\": ([], []),\n",
       " 'Shaft': (['they', 'I'], ['Marcy', 'him']),\n",
       " 'The Valachi Papers': (['I', 'we', 'you'],\n",
       "  ['bastard', 'charge', 'him', 'love', 'friend']),\n",
       " 'Avanti!': ([], []),\n",
       " 'Carry On Matron': (['I', 'I'], ['it', 'him', 'him']),\n",
       " 'Tales from the Crypt': (['accident', 'You'], ['him', 'him', 'piece']),\n",
       " 'Love Comes Quietly': ([], []),\n",
       " 'Jesus Christ Superstar': ([], []),\n",
       " 'Save the Tiger': (['stuff'], ['you']),\n",
       " 'Symptoms': ([], []),\n",
       " 'Picnic at Hanging Rock': ([], []),\n",
       " 'Royal Flash': (['I', 'they', 'I'], ['you', 'sip', 'them', 'you']),\n",
       " 'The Man Who Would Be King': (['me'], []),\n",
       " 'Nashville': (['You', 'They'], ['anybody', 'anyone', 'ya', 'you']),\n",
       " 'The Killer Elite': (['That', 'you'], ['him', 'everybody', 'me']),\n",
       " 'The Duchess and the Dirtwater Fox': (['Mormons'], []),\n",
       " 'The Food of the Gods': ([], ['us']),\n",
       " 'Perfumed Nightmare': ([], []),\n",
       " 'High Anxiety': (['me', 'I', 'me', 'him', 'You'],\n",
       "  ['him',\n",
       "   'him',\n",
       "   'him',\n",
       "   'him',\n",
       "   'them',\n",
       "   'both',\n",
       "   'them',\n",
       "   'them',\n",
       "   'him',\n",
       "   'him',\n",
       "   'DIESEL']),\n",
       " 'Roseland': ([], []),\n",
       " 'Sorcerer': (['I'], ['you']),\n",
       " 'Jubilee': (['you', 'We'],\n",
       "  ['her', 'her', 'rehearsal', 'anyone', 'weeds', 'us', 'Crawl', 'you']),\n",
       " 'The Great Train Robbery': ([], []),\n",
       " \"Sgt. Pepper's Lonely Hearts Club Band\": ([], []),\n",
       " 'Meatballs': (['We', \"'s\", \"'s\"],\n",
       "  ['bear',\n",
       "   'them',\n",
       "   'Gon',\n",
       "   'what',\n",
       "   'them',\n",
       "   'them',\n",
       "   'them',\n",
       "   'them',\n",
       "   'them',\n",
       "   'Attention',\n",
       "   'them',\n",
       "   'em',\n",
       "   'em']),\n",
       " 'North Dallas Forty': (['I'],\n",
       "  ['something', 'you', 'you', 'cocksuckers', 'you']),\n",
       " \"The Concorde... Airport '79\": ([], ['source']),\n",
       " 'The Great Santini': ([], []),\n",
       " 'The Last Ride of the Dalton Gang': (['I'],\n",
       "  ['mister', 'you', 'you', 'All', 'him', 'ya', 'you', 'him']),\n",
       " 'The North Avenue Irregulars': ([], []),\n",
       " 'Tourist Trap': (['he'], ['us', 'me', 'them', 'them']),\n",
       " 'Winter Kills': (['I', 'I', 'contract'],\n",
       "  ['brother', 'brother', 'reasons', 'me', 'you', 'president', 'president']),\n",
       " 'Wise Blood': ([], ['it']),\n",
       " 'Being There': ([], []),\n",
       " 'Fist of Fear, Touch of Death': (['I', 'you'],\n",
       "  ['yourself', 'Detective', 'herself', 'yourself']),\n",
       " 'The Dogs of War': (['I'], ['people', 'him', 'North', 'him']),\n",
       " 'Airplane!': ([], []),\n",
       " \"Bob Hope's Overseas Christmas Tours: Around the World with the Troops - 1941-1972\": (['I',\n",
       "   'I'],\n",
       "  ['you', 'wife', 'him']),\n",
       " 'The Black Cat': (['him', 'I', 'fuckin', 'I'],\n",
       "  ['fucker', 'him', 'man', 'me', 'you']),\n",
       " \"Lady Chatterley's Lover\": ([], []),\n",
       " 'Escape from New York': (['they', 'They', 'he', 'Duke'],\n",
       "  ['him', 'you', 'you', 'us', 'Plissken', 'me']),\n",
       " 'Class of 1984': (['They', 'I', 'I', 'I', 'I', 'I', 'I'],\n",
       "  ['you', 'sucker', 'you', 'me', 'me', 'Calm', 'you', 'you', 'you', 'you']),\n",
       " 'Superstition': (['You', 'You', 'You', 'You'], ['me', 'me', 'me', 'me']),\n",
       " 'Privileged': ([], []),\n",
       " 'Best Friends': (['You', 'It'],\n",
       "  ['parents', 'you', 'father', 'yourself', 'myself', 'him', 'him']),\n",
       " 'Hammett': (['Callaghan', 'she'], ['himself', 'husband']),\n",
       " 'Ladies and Gentlemen, the Fabulous Stains': (['you'], ['yourself', 'girls']),\n",
       " 'Videodrome': (['I'], ['me', 'people', 'flesh']),\n",
       " 'Rocky Mountain Holiday with John Denver and the Muppets': ([],\n",
       "  ['Peruvians', 'money']),\n",
       " 'Private Resort': (['me', 'I', 'husband', 'I', 'I'],\n",
       "  ['her',\n",
       "   'her',\n",
       "   'us',\n",
       "   'both',\n",
       "   'barber',\n",
       "   'you',\n",
       "   'you',\n",
       "   'you',\n",
       "   'me',\n",
       "   'Lady',\n",
       "   'somebody']),\n",
       " \"Prizzi's Honor\": (['you', 'I', 'I'],\n",
       "  ['me', 'him', 'Capiche', 'her', 'Charley']),\n",
       " 'Runaway Train': (['Whatever',\n",
       "   'God',\n",
       "   'I',\n",
       "   'I',\n",
       "   'I',\n",
       "   'me',\n",
       "   'I',\n",
       "   'I',\n",
       "   'me',\n",
       "   'I',\n",
       "   'I',\n",
       "   'me'],\n",
       "  ['me',\n",
       "   'sucker',\n",
       "   'ya',\n",
       "   'you',\n",
       "   'them',\n",
       "   'me',\n",
       "   'Manny',\n",
       "   'somebody',\n",
       "   'him',\n",
       "   'me',\n",
       "   'you',\n",
       "   'you',\n",
       "   'you',\n",
       "   'you',\n",
       "   'you',\n",
       "   'you',\n",
       "   'you',\n",
       "   'you',\n",
       "   'you']),\n",
       " 'The Color Purple': (['It', 'I', 'I'],\n",
       "  ['mama', 'God', 'I', 'you', 'him', 'me']),\n",
       " \"She's Gotta Have It\": ([], []),\n",
       " 'The Money Pit': (['it'], ['herself', 'him']),\n",
       " 'The Wraith': (['he', 'they', 'you'], ['him', 'you', 'people', 'him']),\n",
       " \"I've Heard the Mermaids Singing\": ([], []),\n",
       " 'Best Seller': (['it', 'me', 'You', 'I', 'Anybody', 'Something', 'I'],\n",
       "  ['Pearlman',\n",
       "   'Thorn',\n",
       "   'part',\n",
       "   'you',\n",
       "   'Fair',\n",
       "   'thing',\n",
       "   'men',\n",
       "   'you',\n",
       "   'people',\n",
       "   'people',\n",
       "   'him',\n",
       "   'anybody',\n",
       "   'anybody',\n",
       "   'her',\n",
       "   'Dad']),\n",
       " 'Body Count': (['me', 'I', 'you', 'I'],\n",
       "  ['you', 'them', 'him', 'him', 'him', 'you', 'me', 'Traitor']),\n",
       " 'No Way Out': (['I', 'They', 'apes'],\n",
       "  ['family', 'pig', 'you', 'person', 'me', 'him', 'him']),\n",
       " 'September': (['it'], ['evening']),\n",
       " 'Three for the Road': ([], []),\n",
       " 'Rowing with the Wind': (['You'], ['myself', 'yourself']),\n",
       " 'Big Business': ([], ['a']),\n",
       " \"Daffy Duck's Quackbusters\": ([], []),\n",
       " 'The Unholy': (['I', 'I', 'I', 'L', 'it'],\n",
       "  ['him', 'you', 'you', 'anybody', 'you', 'you']),\n",
       " 'Uninvited': ([], ['cat']),\n",
       " 'The Punisher': ([], []),\n",
       " 'Little Nemo: Adventures in Slumberland': ([], []),\n",
       " 'Driving Miss Daisy': ([], []),\n",
       " 'Drugstore Cowboy': ([], []),\n",
       " 'Glory': (['he'], ['him']),\n",
       " 'My Name Is Bill W.': ([], []),\n",
       " 'Tango & Cash': (['we', 'we', 'he', 'I'],\n",
       "  ['them', 'them', 'me', 'me', 'cannon']),\n",
       " 'Mystery Train': (['you', 'I'], ['him', 'guy', 'guy', 'me']),\n",
       " 'Ski School': ([], []),\n",
       " 'King of New York': (['I', 'I'], ['you', 'motherfuckers']),\n",
       " 'An Angel at My Table': ([], []),\n",
       " 'Hardware': (['you'], ['enemy', 'him', 'Jill', 'him']),\n",
       " 'Bird on a Wire': (['you', 'you', 'They', 'He'],\n",
       "  ['guy', 'me', 'her', 'you', 'me']),\n",
       " 'Hard to Kill': (['I'], ['him', 'you', 'you']),\n",
       " 'Meridian': (['her', 'you', 'I', 'you', 'you', 'I', 'He', 'I', 'him'],\n",
       "  ['you',\n",
       "   'beast',\n",
       "   'me',\n",
       "   'you',\n",
       "   'me',\n",
       "   'me',\n",
       "   'beast',\n",
       "   'me',\n",
       "   'him',\n",
       "   'me',\n",
       "   'Audrey',\n",
       "   'him',\n",
       "   'me']),\n",
       " 'Mermaids': (['I', 'I', 'it', 'She'], ['you', 'you', 'you', 'size']),\n",
       " 'Slumber Party Massacre III': (['morn', \"'s\", 'We', 'you'],\n",
       "  ['me', 'me', 'yourself', 'me', 'him', 'him', 'somebody']),\n",
       " 'Small Time': ([], []),\n",
       " 'Tales from the Darkside: The Movie': (['I', 'I', 'I', 'I', 'I', 'I', 'it'],\n",
       "  ['them',\n",
       "   'you',\n",
       "   'cat',\n",
       "   'it',\n",
       "   'it',\n",
       "   'it',\n",
       "   'it',\n",
       "   'kill',\n",
       "   'cat',\n",
       "   'Kill',\n",
       "   'you',\n",
       "   'me',\n",
       "   'him']),\n",
       " 'The NeverEnding Story II: The Next Chapter': ([], []),\n",
       " 'Cape Fear': (['you', 'she'],\n",
       "  ['him', 'myself', 'man', 'dog', 'anything', 'you']),\n",
       " 'What About Bob?': (['I'], ['you', 'you']),\n",
       " 'Wedlock': (['I'], ['you', 'you', 'you', 'him']),\n",
       " 'Chaplin': (['I'], ['you', 'beans', 'Action']),\n",
       " 'The Reincarnation of Khensur Rinpoche': ([], []),\n",
       " 'Aladdin': (['I'], ['anybody', 'you']),\n",
       " 'Medicine Man': ([], ['both']),\n",
       " 'The Cutting Edge': (['they'], []),\n",
       " 'Dr. Giggles': ([], ['me']),\n",
       " 'The Muppet Christmas Carol': ([], []),\n",
       " 'Bad Boy Bubby': ([], ['me', 'them']),\n",
       " 'Cyborg 2: Glass Shadow': (['you', 'I', 'fuck'],\n",
       "  ['Colt', 'people', 'what', 'me']),\n",
       " 'For Love or Money': (['I'], ['you']),\n",
       " 'Poetic Justice': (['husband'], ['me']),\n",
       " 'Sade - Life Promise Pride Love': ([], []),\n",
       " \"Weekend at Bernie's II\": (['you'], ['us', 'him', 'them']),\n",
       " 'For the Sake of Haniyeh': ([], []),\n",
       " 'Josef von Sternberg, the Man Who Made Dietrich': ([], []),\n",
       " 'The Browning Version': ([], []),\n",
       " 'Backbeat': (['I', 'I', 'I'], ['you', 'you', 'all']),\n",
       " 'Ace Ventura: Pet Detective': (['I'], ['me', 'dolphin', 'Marino']),\n",
       " \"City Slickers II: The Legend of Curly's Gold\": (['I'], ['you']),\n",
       " 'Radioland Murders': (['I', 'Nobody', 'I', 'I', 'I', 'I', 'I', 'you'],\n",
       "  ['revolve',\n",
       "   'them',\n",
       "   'anybody',\n",
       "   'QUACKING',\n",
       "   'him',\n",
       "   'them',\n",
       "   'them',\n",
       "   'her',\n",
       "   'me',\n",
       "   'husband',\n",
       "   '@gun_firing']),\n",
       " 'Shao nu xiao yu': ([], ['myself', 'me', 'mess']),\n",
       " 'Blue in the Face': ([], ['neighborhood']),\n",
       " 'Crimson Tide': ([], ['you']),\n",
       " 'Father of the Bride Part II': ([], []),\n",
       " 'Kids': (['We'], ['shit', 'fuck', 'him']),\n",
       " 'The Nature of the Beast': (['you', 'You'],\n",
       "  ['both', 'yourself', 'me', 'me', 'devil']),\n",
       " 'Casino': (['you', 'I', 'I', 'I', 'I', 'fuckin', 'you', 'You', 'fuckin'],\n",
       "  ['him',\n",
       "   'me',\n",
       "   'him',\n",
       "   'you',\n",
       "   'ya',\n",
       "   'simple',\n",
       "   'you',\n",
       "   'You',\n",
       "   'you',\n",
       "   'him',\n",
       "   'him',\n",
       "   'her',\n",
       "   'me']),\n",
       " 'Lupin the Third: The Legend of Twilight Gemini': (['me', 'I', 'men'],\n",
       "  ['you', 'you', 'him', 'you', 'you', 'her', 'Hmph', 'them']),\n",
       " 'Beautiful Thing': (['He'], ['me', 'you', 'you']),\n",
       " 'Michael Collins': (['you', 'They'], ['me', 'me']),\n",
       " 'Beautiful Girls': (['you'], ['me']),\n",
       " 'Beauty and the Beast: A Concert on Ice': (['we', 'We', \"'s\"],\n",
       "  ['Beast', 'COGSWORTH', 'Pardon']),\n",
       " 'Beavis and Butt-Head Do America': (['I', \"We'regonna\"],\n",
       "  ['em', 'you', 'them', 'honey', 'Ngaah']),\n",
       " 'Daylight': ([], []),\n",
       " 'George Carlin: Back in Town': (['We', 'one', 'I', 'we'],\n",
       "  ['it',\n",
       "   'I',\n",
       "   'people',\n",
       "   'rest',\n",
       "   'deal',\n",
       "   'you',\n",
       "   'motherfucker',\n",
       "   'family',\n",
       "   'others',\n",
       "   'some']),\n",
       " 'Lawnmower Man 2: Beyond Cyberspace': ([], []),\n",
       " 'The Evening Star': (['I'], ['yourself', 'you']),\n",
       " 'Unforgettable': (['He', 'he', 'you', 'It', 'He'],\n",
       "  ['her', 'wife', 'you', 'me', 'me', 'me', 'Mary', 'Eddie']),\n",
       " 'Gotti': (['You'], ['him', 'him', 'me']),\n",
       " '4 Little Girls': ([], ['guys', 'children']),\n",
       " 'Against the Law': (['he', 'I'], ['guy', 'me', 'anybody']),\n",
       " 'Bleak Future': ([], ['me', 'him']),\n",
       " 'Fools Rush In': ([], ['myself', 'me', 'me', 'him']),\n",
       " \"McHale's Navy\": (['they', 'I', 'that'], ['him', 'me', 'Vladakov', 'lot']),\n",
       " 'SUBWAYStories: Tales from the Underground': ([], []),\n",
       " 'Suicide Kings': (['You', 'we', 'fuckin'],\n",
       "  ['you', 'you', 'us', 'me', 'doubt', 'snake', 'time', 'me', 'me', 'me']),\n",
       " 'The Manson Family': (['you', 'you', 'We', 'I', 'You', 'you'],\n",
       "  ['me',\n",
       "   'us',\n",
       "   'him',\n",
       "   'anyone',\n",
       "   'somebody',\n",
       "   'Bunch',\n",
       "   'anyone',\n",
       "   'them',\n",
       "   'us',\n",
       "   'her',\n",
       "   'Patty',\n",
       "   'You',\n",
       "   'Shorty',\n",
       "   'you']),\n",
       " '8 Heads in a Duffel Bag': (['you', 'you', 'You', 'you', 'you', 'You'],\n",
       "  ['me', 'us', 'people', 'both', 'me', 'me', 'flip', 'people']),\n",
       " 'Shot Through the Heart': (['I'], ['me', 'you']),\n",
       " 'Poika ja ilves': (['It', 'You'], ['Leevi', 'him']),\n",
       " 'The Second Bakery Attack': ([], []),\n",
       " 'A Rather English Marriage': ([], []),\n",
       " 'RPM': (['Biggerman', 'You'], ['you', 'opposition', 'both', 'you']),\n",
       " '3 Ninjas: High Noon at Mega Mountain': (['she'], ['us']),\n",
       " 'Crocodile Tears': (['they'], ['everything']),\n",
       " 'Host': ([], ['us', 'everyone']),\n",
       " \"Jerry Seinfeld: 'I'm Telling You for the Last Time'\": (['what'],\n",
       "  ['me', 'kids']),\n",
       " 'Judas Kiss': (['I', 'you', 'you', 'You', 'you', 'I'],\n",
       "  ['everything', 'me', 'Patty', 'me', 'her', 'you']),\n",
       " 'Mafia!': (['I', 'I', 'I', 'I', 'you'],\n",
       "  ['Pop', 'Scoffs', 'Gorgoni', 'father', 'brother', 'me', 'them', 'son']),\n",
       " 'Species II': (['I'], ['her', 'him', 'me']),\n",
       " 'The Love Letter': (['we'], ['us', 'em']),\n",
       " 'Titanic: Untold Stories': ([], []),\n",
       " \"Video Playback: TNN's First 15 Years\": (['they'], ['you']),\n",
       " 'Dollar for the Dead': (['me', 'that', 'I', 'you', 'He'],\n",
       "  ['you',\n",
       "   'differences',\n",
       "   'differences',\n",
       "   'us',\n",
       "   'me',\n",
       "   'man',\n",
       "   'Fire',\n",
       "   'him',\n",
       "   'you',\n",
       "   'him',\n",
       "   'him',\n",
       "   'him',\n",
       "   'He',\n",
       "   'you']),\n",
       " 'Three to Tango': ([], ['you']),\n",
       " 'The Old Man and the Sea': (['who', 'I'],\n",
       "  ['them', 'him', 'stars', 'moon', 'sun', 'brothers']),\n",
       " 'Carnival of Monsters': ([], []),\n",
       " \"S Club 7 - It's an S Club Thing\": ([], ['you', 'James']),\n",
       " \"The Making of 'Walking with Dinosaurs'\": ([], []),\n",
       " 'TV Hits Awards 1999': ([], []),\n",
       " 'Grey Owl': (['we', 'bear', 'men'], ['wolf']),\n",
       " 'An Ideal Husband': ([], []),\n",
       " 'Notting Hill': (['I'], ['birds']),\n",
       " 'The Turn of the Screw': ([], []),\n",
       " 'Galapagos': ([], []),\n",
       " 'Go': (['we', 'him'], ['us', 'her', 'me']),\n",
       " 'Red Silk': ([], []),\n",
       " 'Deeply': ([], []),\n",
       " 'Moon': (['Stratos', 'Stratos'],\n",
       "  ['you',\n",
       "   'you',\n",
       "   'Alexis',\n",
       "   'you',\n",
       "   'hy',\n",
       "   'me',\n",
       "   'me',\n",
       "   'you',\n",
       "   'me',\n",
       "   'him',\n",
       "   'hat']),\n",
       " 'Greenfingers': ([], []),\n",
       " 'Beat': ([], []),\n",
       " 'Best in Show': ([], []),\n",
       " 'Dinner Rush': ([], []),\n",
       " 'Dragonheart: A New Beginning': ([], ['him']),\n",
       " 'Hate.Com: Extremists on the Internet': (['you'],\n",
       "  ['me', 'you', 'me', 'us', 'belt']),\n",
       " 'Hellraiser: Inferno': (['that', 'you', 'I', 'I'],\n",
       "  ['her', 'girl', 'child', 'people', 'king']),\n",
       " \"Locked Up Down Shorty's\": (['we', 'you'], ['girls', 'women', 'you']),\n",
       " 'Sordid Lives': (['Daddy', 'I'], ['you', 'me', 'me', 'you', 'Mama']),\n",
       " 'The Kennedy Center Presents: Speak Truth to Power': ([], ['you']),\n",
       " \"The Making of 'Evil Dead II' or The Gore the Merrier\": ([], []),\n",
       " 'The Next Best Thing': ([], []),\n",
       " 'Tripping the Rift': (['I'], ['em', 'competition']),\n",
       " 'Two Family House': ([], ['ya']),\n",
       " \"Daria in 'Is It Fall Yet?'\": ([], []),\n",
       " 'Russian Doll': ([], []),\n",
       " '18,000 Dead in Gordon Head': ([], ['her', 'shit', 'dog']),\n",
       " 'Prozac Nation': (['I', 'I', 'I'],\n",
       "  ['you', 'you', 'you', 'joy', 'myself', 'lovers']),\n",
       " 'Mean Machine': ([], ['me']),\n",
       " \"Varian's War: The Forgotten Hero\": ([], []),\n",
       " 'The Lost World': (['I', 'We', 'him', 'me', 'me'],\n",
       "  ['them', 'it', 'them', 'them']),\n",
       " 'Barbie in the Nutcracker': ([], []),\n",
       " 'Diary of a Sex Addict': (['I', 'I', 'he'], ['you', 'you', 'me']),\n",
       " 'Extreme Championship Wrestling: The Best of Cactus Jack': (['I'], ['you']),\n",
       " 'Final Exit': ([], []),\n",
       " 'Hail Sid Caesar! The Golden Age of Comedy': (['you'],\n",
       "  ['them', 'Way', 'you', 'him']),\n",
       " 'Mimic 2': ([], []),\n",
       " 'Osmosis Jones': (['He'], ['us']),\n",
       " 'Sister Mary Explains It All': (['me', 'I', 'I', 'shalt'],\n",
       "  ['babies', 'babies', 'babies', 'babies', 'You']),\n",
       " 'Two Can Play That Game': ([], []),\n",
       " 'Venomous': ([], []),\n",
       " 'Wooly Boys': ([], ['him']),\n",
       " 'Final Fantasy: The Spirits Within': (['It'], ['Phantoms']),\n",
       " 'Hard Cash': (['I', 'I', 'I', 'I'],\n",
       "  ['host',\n",
       "   'myself',\n",
       "   'him',\n",
       "   'everybody',\n",
       "   'you',\n",
       "   'Relax',\n",
       "   'people',\n",
       "   'us',\n",
       "   'you']),\n",
       " 'Edge of Madness': (['you', 'you'], ['him', 'him', 'husband']),\n",
       " 'Try Seventeen': (['fall'], ['me', 'you']),\n",
       " 'Caesar': (['you', 'him'], ['any', 'me', 'you', 'friends', 'her', 'you']),\n",
       " 'Nine Tenths': (['I', 'you', 'I'],\n",
       "  ['battery', 'me', 'us', 'us', 'sheep', 'it']),\n",
       " \"101 Dalmatians 2: Patch's London Adventure\": (['you'], ['them']),\n",
       " '13th Child': (['We', 'you'], ['dog', 'species', 'reason', 'animal']),\n",
       " 'Dead/Undead': ([], ['child']),\n",
       " 'Joan Crawford: The Ultimate Movie Star': (['I', 'I', 'I'],\n",
       "  ['you', 'you', 'you', 'you']),\n",
       " 'Rabbits': ([], []),\n",
       " 'The Hot Chick': ([], []),\n",
       " \"The Making of 'Amadeus'\": ([], []),\n",
       " 'Treasure Planet': (['we'], ['em', 'all']),\n",
       " 'White Oleander': (['She'], ['you', 'guy', 'you', 'Open', 'door']),\n",
       " \"Bang Bang You're Dead\": (['you', 'it', 'I', 'you', 'you', 'me'],\n",
       "  ['you',\n",
       "   'girl',\n",
       "   'you',\n",
       "   'you',\n",
       "   'bang',\n",
       "   'bunch',\n",
       "   'shots',\n",
       "   'me',\n",
       "   'me',\n",
       "   'you',\n",
       "   'you']),\n",
       " \"Virginia's Run\": ([], []),\n",
       " 'Undead': ([], []),\n",
       " 'Ned Kelly': (['They', 'They', 'They', 'They'],\n",
       "  ['me',\n",
       "   'him',\n",
       "   'him',\n",
       "   'me',\n",
       "   'him',\n",
       "   'him',\n",
       "   'questions',\n",
       "   'blackguard',\n",
       "   'him',\n",
       "   'him',\n",
       "   'me',\n",
       "   'him',\n",
       "   'him',\n",
       "   'questions']),\n",
       " 'Evil Breed: The Legend of Samhain': ([], []),\n",
       " 'The Event': (['someone'], ['manslaughter', 'himself']),\n",
       " 'Marilyn Manson: Rock am Ring 2003': (['men'],\n",
       "  ['battery', 'battery', 'battery', 'battery', 'battery', 'battery']),\n",
       " 'The Sunsilk Femina Miss India 2003': (['you',\n",
       "   'who',\n",
       "   'we',\n",
       "   'them',\n",
       "   'you',\n",
       "   'them',\n",
       "   'we',\n",
       "   'We',\n",
       "   'sword',\n",
       "   'I',\n",
       "   'I',\n",
       "   'I'],\n",
       "  ['whom',\n",
       "   'child',\n",
       "   'friend',\n",
       "   'them',\n",
       "   'Azumi',\n",
       "   'them',\n",
       "   'assassins',\n",
       "   'Kanbei',\n",
       "   'them',\n",
       "   'assassins',\n",
       "   'insect',\n",
       "   'you',\n",
       "   'girl',\n",
       "   'you',\n",
       "   'story',\n",
       "   'world',\n",
       "   'them',\n",
       "   'allies',\n",
       "   'him',\n",
       "   'You',\n",
       "   'I']),\n",
       " 'Dead Bodies': (['I', 'I', 'I', 'I', 'you', 'answers'],\n",
       "  ['me',\n",
       "   'me',\n",
       "   'you',\n",
       "   'her',\n",
       "   'her',\n",
       "   'her',\n",
       "   'Jean',\n",
       "   'Jean',\n",
       "   'Jean',\n",
       "   'Ellis',\n",
       "   'anyone',\n",
       "   'me']),\n",
       " 'Earth Ride': ([], []),\n",
       " 'Particles of Truth': ([], ['myself']),\n",
       " 'Scooby-Doo and the Legend of the Vampire': ([], []),\n",
       " 'Shade': ([], []),\n",
       " \"Something's Gotta Give\": (['it'], ['me', 'me', 'you']),\n",
       " 'The Hebrew Hammer': ([], []),\n",
       " 'The Lizzie McGuire Movie': ([], []),\n",
       " 'Underground': (['I',\n",
       "   'I',\n",
       "   'I',\n",
       "   'I',\n",
       "   'They',\n",
       "   'I',\n",
       "   'I',\n",
       "   'I',\n",
       "   'You',\n",
       "   'Germans',\n",
       "   'Serbs',\n",
       "   'Croats'],\n",
       "  ['them',\n",
       "   'mate',\n",
       "   'you',\n",
       "   'dirtbags',\n",
       "   'him',\n",
       "   'brother',\n",
       "   'director',\n",
       "   'you',\n",
       "   'you',\n",
       "   'Comrade',\n",
       "   'you',\n",
       "   'you',\n",
       "   'me',\n",
       "   'us',\n",
       "   'me',\n",
       "   'me',\n",
       "   'Croats',\n",
       "   'Serbs']),\n",
       " 'The Italian Job': ([], ['you']),\n",
       " 'Curse of the Ring': (['you', 'I', 'you', 'I'],\n",
       "  ['Fafnir',\n",
       "   'dragon',\n",
       "   'dragon',\n",
       "   'king',\n",
       "   'dragon',\n",
       "   'dragon',\n",
       "   'you',\n",
       "   'Fafnir',\n",
       "   'him',\n",
       "   'myself',\n",
       "   'king',\n",
       "   'man']),\n",
       " 'Rabbit on the Moon': (['they', 'we', 'we', 'I'],\n",
       "  ['Parra',\n",
       "   'someone',\n",
       "   'Parra',\n",
       "   'you',\n",
       "   'birds',\n",
       "   'woman',\n",
       "   'her',\n",
       "   'Calm',\n",
       "   'Julie',\n",
       "   'Parra',\n",
       "   'Julie',\n",
       "   'Julie',\n",
       "   'her',\n",
       "   'Santos',\n",
       "   'you',\n",
       "   'him']),\n",
       " 'Incident at Loch Ness': ([], []),\n",
       " 'Maria Callas: Living and Dying for Art and Love': ([], ['them']),\n",
       " \"The Rutles 2: Can't Buy Me Lunch\": ([], ['themselves']),\n",
       " \"It's All Gone Pete Tong\": ([], []),\n",
       " 'Harry Potter and the Prisoner of Azkaban': (['He',\n",
       "   'He',\n",
       "   'who',\n",
       "   'He',\n",
       "   \"'s\",\n",
       "   \"'s\",\n",
       "   'Voldemort'],\n",
       "  ['friend',\n",
       "   'Pettigrew',\n",
       "   'him',\n",
       "   'you',\n",
       "   'Pettigrew',\n",
       "   'Buckbeak',\n",
       "   'Harry',\n",
       "   'us',\n",
       "   'me',\n",
       "   'him',\n",
       "   'him',\n",
       "   'you',\n",
       "   'him']),\n",
       " 'Bettie Page: Dark Angel': ([], []),\n",
       " 'Collateral': (['you', 'I', 'They', 'you', 'you'],\n",
       "  ['one',\n",
       "   'him',\n",
       "   'people',\n",
       "   'you',\n",
       "   'Fanning',\n",
       "   'him',\n",
       "   'me',\n",
       "   'you',\n",
       "   'ass',\n",
       "   'us',\n",
       "   'Go',\n",
       "   'us',\n",
       "   'you',\n",
       "   'you',\n",
       "   'you']),\n",
       " 'Costume Party Capers: The Incredibles': (['They'], ['us', 'you', 'us']),\n",
       " 'Iron Jawed Angels': ([], []),\n",
       " 'Judas': (['They', 'you', 'I'], ['us', 'him', 'him']),\n",
       " 'Little Black Book': ([], ['her']),\n",
       " 'Miles Electric: A Different Kind of Blue': ([], []),\n",
       " 'Scooby-Doo and the Loch Ness Monster': ([], []),\n",
       " 'Spartacus': (['You', 'they', 'I', 'he', 'he', 'Draba', 'I'],\n",
       "  ['man', 'man', 'you', 'him', 'me', 'any', 'you', 'me', 'Move', 'Move']),\n",
       " 'Terminal 29': (['I'], ['you', 'man']),\n",
       " 'The Crusaders': (['She'], []),\n",
       " 'The Dog Days of Summer': ([], ['us', 'us', 'us', 'us']),\n",
       " 'The Perfect Husband: The Laci Peterson Story': (['That'], ['me']),\n",
       " 'Tremors 4: The Legend Begins': (['me'], ['who', 'Injun', 'it']),\n",
       " 'The Cutting Edge: The Magic of Movie Editing': (['we'], ['her', 'son']),\n",
       " 'Chasing Liberty': (['Charlie'], ['birds', 'thing', 'dimmer']),\n",
       " 'Closer': (['I'], ['you', 'you']),\n",
       " 'A Little Trip to Heaven': ([], ['us', 'CAR_HONKS_HORN']),\n",
       " 'D-Day to Berlin': ([], []),\n",
       " 'Infestation': (['air', 'terrorists', 'terrorists', 'virus', 'Hunger'],\n",
       "  ['Loki', 'them', 'people', 'them', 'age', 'them', 'youth', 'everybody']),\n",
       " 'Dead Fish': (['I', 'We', 'Danny', 'you', 'I'],\n",
       "  ['me', 'you', 'you', 'me', 'you', 'fuckin']),\n",
       " 'Discovering Monk and Trane: One Night at Carnegie Hall': ([],\n",
       "  ['them', 'Posner']),\n",
       " 'Fun with Dick and Jane': (['I'], ['witnesses', 'you']),\n",
       " 'Live from the Red Carpet: The 2005 Emmy Awards': ([], ['woman', 'someone']),\n",
       " 'Red Eye': ([], ['Keefe', 'dad', 'family', 'minutes', 'him', 'me']),\n",
       " 'The Madagascar Penguins in a Christmas Caper': ([], []),\n",
       " 'The Zodiac': (['he', 'he', 'he'], ['Newman', 'something']),\n",
       " 'War of the Worlds': ([], ['them']),\n",
       " 'The Demons Among Us': (['he'], ['me', 'her']),\n",
       " 'Dark Storm': ([], []),\n",
       " 'The Entrance': (['I'], ['you', 'Superior']),\n",
       " 'On Air': ([], []),\n",
       " 'Renaissance': (['you', 'I'], ['men', 'you', 'me']),\n",
       " 'A Thousand Kisses': ([], []),\n",
       " 'Elephants Dream': ([], []),\n",
       " 'The Real Group: Stockholm Concert Hall - April 2005': ([], []),\n",
       " 'Cashback': ([], ['me', 'ya']),\n",
       " \"Jeff Wayne's Musical Version of 'The War of the Worlds'\": ([], []),\n",
       " 'Bugcrush': ([], []),\n",
       " 'Drift': ([], []),\n",
       " 'Farce of the Penguins': (['It'], ['him']),\n",
       " 'Five Fingers': ([], ['you', 'us', 'us', 'me', 'you']),\n",
       " 'Kisses and Caroms': ([], ['bastard']),\n",
       " \"Pixar's 20th Anniversary Special\": ([], []),\n",
       " 'The Beales of Grey Gardens': ([], ['yourself']),\n",
       " 'The Hills Have Eyes': ([],\n",
       "  ['motherfuckers', 'Beast', 'me', 'me', 'me', 'me', 'Kill']),\n",
       " 'The Holiday': ([], ['myself']),\n",
       " 'The Last Kiss': ([], ['you', 'you', 'him']),\n",
       " 'Unknown': (['I', 'We', 'I'],\n",
       "  ['us', 'Fuck', 'you', 'me', 'them', 'them', 'I', 'you', 'me', 'me']),\n",
       " 'World Trade Center': (['They', 'They'], ['him', 'him', 'us']),\n",
       " 'Home of the Brave': ([], []),\n",
       " 'Wristcutters: A Love Story': (['Kneller'], ['germs', 'himself']),\n",
       " 'Jack Brooks: Monster Slayer': ([], []),\n",
       " 'Numb': ([], []),\n",
       " 'Lagerfeld Confidential': ([], []),\n",
       " 'My Dear Rosetta': ([], []),\n",
       " 'Doctor Who: The Infinite Quest': ([], []),\n",
       " 'Futureshock: Comet': ([], ['all']),\n",
       " 'Miss Marie Lloyd': ([], []),\n",
       " 'The Old, Old, Very Old Man': (['Who'], ['man', 'Steve', 'him']),\n",
       " 'The Riddle': (['you'], ['Sadie']),\n",
       " 'Amazing Journey: The Story of The Who': ([], ['Dress', 'yourself']),\n",
       " 'Joy Division': (['wife', 'We'], ['me', 'you']),\n",
       " 'A Plumm Summer': ([], []),\n",
       " 'Alvin and the Chipmunks': ([], []),\n",
       " 'Born': (['you', 'you'], ['people', 'someone', 'people', 'demons', 'father']),\n",
       " 'Cinderella 3: A Twist in Time': ([], []),\n",
       " \"Classic Game Room: The Rise and Fall of the Internet's Greatest Video Game Review Show\": ([],\n",
       "  []),\n",
       " 'Ghost Town: The Movie': (['I', 'Boys', 'He', 'we', 'I', 'He'],\n",
       "  ['you',\n",
       "   'anybody',\n",
       "   'him',\n",
       "   'us',\n",
       "   'you',\n",
       "   'him',\n",
       "   'you',\n",
       "   'us',\n",
       "   'all',\n",
       "   'us',\n",
       "   'me',\n",
       "   'you']),\n",
       " 'I Could Never Be Your Woman': ([], []),\n",
       " 'Love in the Time of Cholera': (['You', 'suffering'],\n",
       "  ['yourself', 'you', 'war', 'me', 'I']),\n",
       " \"Mama's Boy\": ([], []),\n",
       " 'New York City Serenade': (['people'], []),\n",
       " 'No Reservations': ([], []),\n",
       " 'Return of the Living Dead: The Dead Have Risen': (['I'],\n",
       "  ['it', 'it', 'me', 'myself']),\n",
       " 'Ripple Effect': ([], ['himself', 'All', 'you']),\n",
       " 'Sex Trek: Charly XXX': ([], []),\n",
       " 'Shiloh Falls': (['I', 'bullets', 'he', 'You', 'bullets'],\n",
       "  ['us',\n",
       "   'moment',\n",
       "   'you',\n",
       "   'him',\n",
       "   'brother',\n",
       "   'spirits',\n",
       "   'monster',\n",
       "   'you',\n",
       "   'them']),\n",
       " 'Stomp the Yard': (['that'], []),\n",
       " 'The Heartbreak Kid': ([], []),\n",
       " 'Postal': (['we', 'we'], ['you', 'me', 'guys', 'you', 'you', 'me']),\n",
       " 'Bloodspit': (['We'], ['them']),\n",
       " 'Infected': ([], ['you']),\n",
       " 'All Together Now': ([], []),\n",
       " 'Vinyan': ([], []),\n",
       " 'Kiss Me Deadly': (['mother', 'I', 'I', 'he'],\n",
       "  ['me', 'ya', 'ya', 'people', 'them']),\n",
       " 'Adam Resurrected': (['I'], ['woman', 'him', 'yourself']),\n",
       " 'Compulsion 1897': (['I'], ['anyone', 'anyone']),\n",
       " 'The Studebakers: Episode 1 - Money, Please!': (['I', 'he', 'he'],\n",
       "  ['daughter', 'you', 'us']),\n",
       " 'Surviving Everest: A Tribute to Sir Edmund Hillary': ([], []),\n",
       " 'Bathory: Countess of Blood': (['she', 'I', 't', 'he', 'I', 'I', 'I', 't'],\n",
       "  ['us',\n",
       "   'him',\n",
       "   't',\n",
       "   'you',\n",
       "   'you',\n",
       "   'him',\n",
       "   'you',\n",
       "   'you',\n",
       "   'lady',\n",
       "   'me',\n",
       "   'me',\n",
       "   'Ficzko']),\n",
       " 'Transsiberian': (['poison', 'They', 'He'], ['you', 'us', 'Roy', 'us', 'us']),\n",
       " 'Miss Austen Regrets': (['sort'], ['anybody', 'Fanny']),\n",
       " \"A Gunfighter's Pledge\": (['you'], ['me', 'sister', 'lawman']),\n",
       " 'Bachelor Party 2: The Last Temptation': (['she', 'it'],\n",
       "  ['both', 'you', 'me', 'me', 'you']),\n",
       " 'Beer for My Horses': (['They', 'They', 'me', 'Mexican', 'I', 'You'],\n",
       "  ['you', 'me', 'you', 'you', 'her', 'me', 'you', 'man', 'you', 'daughter']),\n",
       " 'Belly 2: Millionaire Boyz Club': ([], ['you', 'man']),\n",
       " 'Deception': (['I', 'you'], ['you', 'someone', 'her', 'me', 'you', 'I']),\n",
       " \"Disney's Christmas Favorites\": ([], []),\n",
       " 'Forgetting Sarah Marshall': (['He', 'I', 'I', 'he', 'her'],\n",
       "  ['owner',\n",
       "   'you',\n",
       "   'you',\n",
       "   'you',\n",
       "   'you',\n",
       "   'herself',\n",
       "   'yourself',\n",
       "   'people',\n",
       "   'me',\n",
       "   'Joy']),\n",
       " 'Ghost Town': (['what'], ['it']),\n",
       " 'Goliath': (['you'], ['him']),\n",
       " 'Hoochie Mamma Drama': ([], []),\n",
       " 'Nothing But the Truth': ([], []),\n",
       " 'Pathology': (['stuff', 'you', 'who', 'you', 'you'],\n",
       "  ['you',\n",
       "   'anyone',\n",
       "   'guy',\n",
       "   'Jake',\n",
       "   'simple',\n",
       "   'anyone',\n",
       "   'Anyone',\n",
       "   'anyone',\n",
       "   'Anyone']),\n",
       " 'Religulous': (['you', 'they'], ['himself', 'yourself', 'you']),\n",
       " 'Seventh Moon': (['them', 'they'], ['us', 'hell', 'you', 'Yul', 'you']),\n",
       " 'The Burrowers': (['Indians', 'we'],\n",
       "  ['them', 'girls', 'everybody', 'them', 'burrowers', 'them']),\n",
       " 'The Lost Coast': ([], []),\n",
       " 'Tru Loved': ([], []),\n",
       " 'The Burning Plain': ([], ['you']),\n",
       " 'Joy Ride 2: Dead Ahead': (['They', 'They'],\n",
       "  ['me', 'me', 'me', 'Bobby', 'us', 'us']),\n",
       " 'The Lazarus Project': ([], ['me']),\n",
       " 'Made of Honor': (['I'], ['anything']),\n",
       " 'Blue Seduction': (['I', 'he'], ['you', 'me', 'me', 'wife', 'me', 'her']),\n",
       " 'The Coca-Cola Case': (['they'], ['me', 'us']),\n",
       " 'Barbie Presents: Thumbelina': ([], []),\n",
       " 'From Time to Time': ([], []),\n",
       " 'The Shock Doctrine': ([], []),\n",
       " 'Harry Potter and the Half-Blood Prince': (['drop'],\n",
       "  ['us', 'all', 'me', 'it', 'you', 'me']),\n",
       " 'The Tournament': (['I', 'I', 'I', 'people', 'you', 'I', 'you'],\n",
       "  ['you', 'you', 'him', 'me', 'I', 'her', 'anyone', 'Mary', 'wife']),\n",
       " 'Couples Retreat': ([], []),\n",
       " 'Dead Air': (['Cats', 'Some', 'it', 'It', 'I', 'I', 'I'],\n",
       "  ['fish', 'them', 'Muslims', 'them', 'you', 'friend', 'you']),\n",
       " 'Echelon Conspiracy': (['I'], ['you', 'me']),\n",
       " 'G-Force': ([], []),\n",
       " 'Ghosts of Girlfriends Past': ([], []),\n",
       " 'Paul Blart: Mall Cop': (['I'], ['you']),\n",
       " 'Portal': (['fog', 'They', 'I'], ['somebody', 'people', 'her']),\n",
       " 'Princess Protection Program': ([], []),\n",
       " 'Superman/Batman: Public Enemies': (['We'], ['people', 'people']),\n",
       " 'ThanksKilling': (['Turkey', 'we', 'I'],\n",
       "  ['what',\n",
       "   'Billy',\n",
       "   'me',\n",
       "   'son',\n",
       "   'cock',\n",
       "   'Turkey',\n",
       "   'him',\n",
       "   'him',\n",
       "   'Darren',\n",
       "   'person',\n",
       "   'him',\n",
       "   'Turkey',\n",
       "   'him',\n",
       "   'you',\n",
       "   'me',\n",
       "   'assholes',\n",
       "   'I']),\n",
       " 'The Answer Man': (['I'], ['you', 'me']),\n",
       " 'The Brotherhood V: Alumni': (['I', 'I'], ['birds']),\n",
       " 'The Butterfly Effect 3: Revelations': (['Lonnie',\n",
       "   'You',\n",
       "   'you',\n",
       "   'I',\n",
       "   'you',\n",
       "   'you',\n",
       "   'you',\n",
       "   'he',\n",
       "   'I',\n",
       "   'you'],\n",
       "  ['her',\n",
       "   'ya',\n",
       "   'sister',\n",
       "   'them',\n",
       "   'anybody',\n",
       "   'her',\n",
       "   'sister',\n",
       "   'Flennons',\n",
       "   'Barnes',\n",
       "   'Barnes']),\n",
       " 'The Canyon': ([], []),\n",
       " 'Perestroika': ([], []),\n",
       " 'Away We Go': ([], ['you']),\n",
       " 'Tomorrow, When the War Began': (['who', 'You'], ['me']),\n",
       " 'Meant to Be': ([], []),\n",
       " 'Good Neighbors': ([], ['Victor', 'you']),\n",
       " 'Paradox': (['Magic', 'that', 'It', 'you'],\n",
       "  ['cancer', 'him', 'millions', 'him', 'me', 'him', 'us', 'us', 'billions']),\n",
       " 'This Movie Is Broken': ([], []),\n",
       " 'Brownian Movement': ([], []),\n",
       " 'Boy': (['he', 'I', 'fuckin'], ['SARCASTICALLY', 'them']),\n",
       " 'The Last Norwegian Troll': (['you'], ['troll', 'gender', 'him']),\n",
       " '4.3.2.1.': (['I'], ['bitches', 'you', 'Kerrys', 'you', 'yourself']),\n",
       " 'Bonny & Clide': (['we'], ['him']),\n",
       " 'Burke and Hare': (['you', 'he'], ['em', 'people']),\n",
       " 'Steve': ([], []),\n",
       " 'The Secret Life of Chaos': ([], []),\n",
       " \"Anton Chekhov's The Duel\": ([], []),\n",
       " 'Blood Done Sign My Name': (['you', 'you'],\n",
       "  ['me', 'him', 'boy', 'anybody', 'questions', 'him', 'snake']),\n",
       " 'Brotherhood': ([], []),\n",
       " 'Ceremony': (['You'], ['me']),\n",
       " 'Easy A': ([], ['myself']),\n",
       " 'Elena Undone': (['You', 'this'], ['me', 'him']),\n",
       " 'Firebreather': (['you', 'Duncan', 'it', 'We', 'They', 'You'],\n",
       "  ['them',\n",
       "   'me',\n",
       "   'you',\n",
       "   'xornga',\n",
       "   'you',\n",
       "   'him',\n",
       "   'monsters',\n",
       "   'Abaddon',\n",
       "   'you',\n",
       "   'them']),\n",
       " 'Inhale': (['You', 'I'], ['him', 'you']),\n",
       " 'Journey to Promethea': (['beast', 'you', 'they', 'They'],\n",
       "  ['beast',\n",
       "   'Come',\n",
       "   'king',\n",
       "   'me',\n",
       "   'you',\n",
       "   'painless',\n",
       "   'newborn',\n",
       "   'front',\n",
       "   'soldier',\n",
       "   'him',\n",
       "   'me']),\n",
       " 'Living Will...': (['I'],\n",
       "  ['myself', 'myself', 'you', 'me', 'me', 'yourself']),\n",
       " \"Madso's War\": (['GROANS', 'he', 'guys', 'I', 'I'],\n",
       "  ['him',\n",
       "   'guys',\n",
       "   'cousin',\n",
       "   'people',\n",
       "   'Colleen',\n",
       "   'them',\n",
       "   'Lep',\n",
       "   'him',\n",
       "   'you',\n",
       "   'man',\n",
       "   'him',\n",
       "   'What',\n",
       "   'me']),\n",
       " 'The Buddha': ([], []),\n",
       " 'The Client List': (['you'], ['someone']),\n",
       " 'Diary of a Wimpy Kid': (['he', 'he'],\n",
       "  ['you', 'you', 'you', 'you', 'me', 'me', 'me']),\n",
       " 'A 2nd Chance': ([], []),\n",
       " 'Lloyd the Conqueror': ([], ['you']),\n",
       " 'You Got Served: Beat the World': ([], []),\n",
       " 'Abandoned': (['I'], ['you']),\n",
       " 'The Boy in the Bubble': ([], []),\n",
       " 'Love Birds': ([], []),\n",
       " 'Winnie Mandela': ([], ['them']),\n",
       " 'Tyrannosaur': (['I', 'He', 'I', 'I'],\n",
       "  ['you', 'wankers', 'man', 'us', 'both', 'I', 'you', 'you', 'you']),\n",
       " '51': (['you'], ['man', 'her']),\n",
       " \"A Valentine's Date\": ([], []),\n",
       " \"A Warrior's Heart\": ([], []),\n",
       " 'Answers to Nothing': ([], []),\n",
       " 'Atlas Shrugged: Part I': ([], []),\n",
       " 'Barbie: A Perfect Christmas': ([], []),\n",
       " 'Captain America: The First Avenger': (['Bullets'],\n",
       "  ['Nazis', 'anyone', 'Nazis', 'you']),\n",
       " 'Certainty': (['I', 'it'], ['myself', 'you', 'Chuckles']),\n",
       " 'Donner Pass': (['they', 'dude', 'We'],\n",
       "  ['anyone', 'him', 'him', 'him', 'guy', 'Epstein']),\n",
       " 'Dragon Crusaders': (['you', 'we', 'You'], ['you', 'girl', 'him', 'me']),\n",
       " 'I Am Number Four': ([], ['me', 'Mogs']),\n",
       " 'Method to the Madness of Jerry Lewis': ([], []),\n",
       " 'Piled Higher and Deeper': (['closet', 'chemical', 'one'], ['you', 'you']),\n",
       " \"Sharpay's Fabulous Adventure\": ([], []),\n",
       " 'Sironia': ([], []),\n",
       " 'Some Guy Who Kills People': (['you', 'I', 'he', 'You'],\n",
       "  ['Marty', 'em', 'bunch', 'them', 'sheriff', 'them']),\n",
       " 'Stuck Between Stations': (['you'], ['them']),\n",
       " 'The Lincoln Lawyer': (['you', 'you', 'I', 'he', 'he', 'He', 'son'],\n",
       "  ['yourself',\n",
       "   'me',\n",
       "   'her',\n",
       "   'her',\n",
       "   'her',\n",
       "   'her',\n",
       "   'her',\n",
       "   'her',\n",
       "   'him',\n",
       "   'Levin']),\n",
       " 'The Oranges': ([], ['myself']),\n",
       " 'Thin Ice': (['they'], ['him', 'guy', 'time', 'doggy']),\n",
       " 'Apollo 18': (['you', 'you', 'you', 'you'],\n",
       "  ['me', 'Nate', 'us', 'us', 'both', 'us', 'both']),\n",
       " 'Dream House': (['I'], ['us', 'you']),\n",
       " 'Jock the Hero Dog': (['it', 'You'], ['us']),\n",
       " \"You're Next\": (['I'], ['brother', 'you', 'me']),\n",
       " '41': ([], []),\n",
       " 'Any Questions for Ben?': (['I'], ['you']),\n",
       " \"Daddy's Little Girl\": (['I', 'What'],\n",
       "  ['me', 'you', 'mate', 'you', 'her', 'part', 'him', 'me']),\n",
       " 'I Declare War': ([\"'s\", 'He', 'You', 'I'],\n",
       "  ['everyone',\n",
       "   'Kwon',\n",
       "   'him',\n",
       "   'him',\n",
       "   'him',\n",
       "   'people',\n",
       "   'him',\n",
       "   'them',\n",
       "   'you',\n",
       "   'me']),\n",
       " 'The Lesser Blessed': (['I', 'fuckin'], ['her']),\n",
       " 'Wrong': ([], []),\n",
       " 'Sins Expiation': (['you', 'They', 'they'],\n",
       "  ['bagaribossen', 'him', 'you', 'him', 'family', 'me', 'you']),\n",
       " 'A Fantastic Fear of Everything': (['you', 'nigga', 'I', 'I'],\n",
       "  ['someone', 'you', 'him']),\n",
       " 'Broken': (['I', 'I'], ['you', 'you', 'Twats', 'me', 'her']),\n",
       " 'Private Peaceful': (['I', 'I'], ['you', 'bastard', 'Prepare']),\n",
       " \"We'll Take Manhattan\": ([], []),\n",
       " 'Crossfire Hurricane': ([], []),\n",
       " 'A Late Quartet': ([], []),\n",
       " \"Bro'\": (['I'], ['you', 'it']),\n",
       " 'Firelight': ([], []),\n",
       " 'First Freedom: The Fight for Religious Liberty': ([], []),\n",
       " 'Flicka: Country Pride': ([], []),\n",
       " 'Gayby': (['I', \"'s\", 'I'], ['myself', 'it', 'you']),\n",
       " 'Hannah Has a Ho-Phase': ([], ['pride']),\n",
       " 'Hardflip': ([], []),\n",
       " \"It's a Disaster\": ([], ['Cheese', 'C', 'us']),\n",
       " 'Last Kind Words': (['I'], ['him', 'father']),\n",
       " 'Lovely': (['I', 'he', 'I', 'I'], ['you', 'girl', 'you', 'me', 'you', 'you']),\n",
       " 'Parental Guidance': (['they'], ['time', 'Carl']),\n",
       " 'Playback': ([], []),\n",
       " 'Raising Izzie': ([], []),\n",
       " 'Spring Breakers': (['I', 'we', 'I'],\n",
       "  ['you', 'me', 'him', 'ass', 'man', 'friend']),\n",
       " 'Step Up Revolution': (['Emily', 'people'], []),\n",
       " 'Sushi Girl': (['You', 'Max', 'I'], ['man', 'cops', 'you']),\n",
       " 'The 69th Annual Golden Globe Awards': (['we'], ['man']),\n",
       " 'The Frozen': ([], ['me']),\n",
       " 'Wreck-It Ralph': ([], ['you']),\n",
       " \"Wyatt Earp's Revenge\": (['that', 'I', 'they', 'Thou', 'I', 'I', 'I', 'I'],\n",
       "  ['lawman',\n",
       "   'you',\n",
       "   'him',\n",
       "   'Wyatt',\n",
       "   'you',\n",
       "   'you',\n",
       "   'you',\n",
       "   'you',\n",
       "   'Spike',\n",
       "   'man',\n",
       "   'folks',\n",
       "   'folks',\n",
       "   'man']),\n",
       " 'Branded': ([], []),\n",
       " \"Jayne Mansfield's Car\": (['Grandpa'],\n",
       "  ['us', 'us', 'cat', 'me', 'me', 'me', 'you']),\n",
       " 'The Turning': ([], ['you', 'myself']),\n",
       " 'Around the Block': ([], []),\n",
       " 'Shaolin Warrior': (['me',\n",
       "   'I',\n",
       "   'I',\n",
       "   'I',\n",
       "   'I',\n",
       "   'I',\n",
       "   'I',\n",
       "   'I',\n",
       "   'I',\n",
       "   'I',\n",
       "   'I',\n",
       "   'I',\n",
       "   'I',\n",
       "   'people'],\n",
       "  ['monk',\n",
       "   'you',\n",
       "   'you',\n",
       "   'you',\n",
       "   'You',\n",
       "   'you',\n",
       "   'him',\n",
       "   'Amt',\n",
       "   'you',\n",
       "   'him',\n",
       "   'me',\n",
       "   'you',\n",
       "   'them',\n",
       "   'you',\n",
       "   'you',\n",
       "   'him',\n",
       "   'us',\n",
       "   'us',\n",
       "   'you',\n",
       "   'you',\n",
       "   'people']),\n",
       " 'The Last Exorcism Part II': (['He', 'we', 'It'],\n",
       "  ['us', 'you', 'it', 'CALDER']),\n",
       " 'Ishkq in Paris': ([], []),\n",
       " 'The Lost Medallion: The Adventures of Billy Stone': ([], []),\n",
       " 'Not Another Happy Ending': (['We', 'you'], ['thing', 'dog', 'it', 'Scott']),\n",
       " 'The Great Martian War 1913 - 1917': ([], []),\n",
       " 'A Single Shot': ([], []),\n",
       " 'American Hustle': (['we', 'boyfriend', 'he', 'he'],\n",
       "  ['us', 'him', 'you', 'me', 'me', 'me', 'Danny', 'you']),\n",
       " 'Anchorman 2: The Legend Continues': (['I'], ['you']),\n",
       " 'Cutie and the Boxer': (['me'], ['me']),\n",
       " 'Dead Man Down': (['you',\n",
       "   'you',\n",
       "   'I',\n",
       "   'He',\n",
       "   'you',\n",
       "   'Laszlo',\n",
       "   'You',\n",
       "   'lo',\n",
       "   'I'],\n",
       "  ['me',\n",
       "   'me',\n",
       "   'man',\n",
       "   'him',\n",
       "   'man',\n",
       "   'bug',\n",
       "   'me',\n",
       "   'devil',\n",
       "   'you',\n",
       "   'you',\n",
       "   'monster',\n",
       "   'man',\n",
       "   'you',\n",
       "   'him',\n",
       "   'me',\n",
       "   'you']),\n",
       " \"Ender's Game\": (['I', 'Bonzo', 'I'], ['you', 'you', 'you', 'you']),\n",
       " 'Free Birds': ([], ['Dah', 'me']),\n",
       " \"Hallows' Eve\": (['Wan', 'Nicole'], ['women', 'me', 'me']),\n",
       " 'House of Last Things': ([], ['herself', 'herself', 'herself', 'house']),\n",
       " 'Runner Runner': (['you', 'I'], ['what', 'me', 'you']),\n",
       " 'Safe Haven': (['you'], []),\n",
       " 'Snow Bride': ([], []),\n",
       " 'The Big Ask': (['you', 'I', 'I', 'I', 'I', 'I', 'I', 'I', 'I', 'I', 'I'],\n",
       "  ['dog',\n",
       "   'it',\n",
       "   'it',\n",
       "   'it',\n",
       "   'dude',\n",
       "   'it',\n",
       "   'man',\n",
       "   'it',\n",
       "   'CRIES',\n",
       "   'him',\n",
       "   'dog',\n",
       "   'dog',\n",
       "   'dog',\n",
       "   'dog',\n",
       "   'dog',\n",
       "   'you',\n",
       "   'me']),\n",
       " 'The Falls: Testament of Love': ([], []),\n",
       " 'The Last of Robin Hood': ([], []),\n",
       " 'The Marine 3: Homefront': (['we', 'I', 'you'], ['them', 'you', 'couple']),\n",
       " 'The Office Retrospective': ([], ['myself']),\n",
       " 'Toy Story of Terror': ([], ['vampire', 'cat', 'misdirection']),\n",
       " 'Zombieland': ([], ['her']),\n",
       " 'Swindle': ([], []),\n",
       " 'The Purge': (['it', 'they', 'We'],\n",
       "  ['people',\n",
       "   'someone',\n",
       "   'me',\n",
       "   'me',\n",
       "   'you',\n",
       "   'James',\n",
       "   'him',\n",
       "   'us',\n",
       "   'all',\n",
       "   'me',\n",
       "   'them',\n",
       "   'us']),\n",
       " 'After the Dark': (['it', 'I'],\n",
       "  ['him', 'people', 'Ways', 'us', 'you', 'you']),\n",
       " 'Fast & Furious 6': (['he'], ['her']),\n",
       " \"Devil's Pass\": (['They'],\n",
       "  ['writer', 'us', 'bury', 'us', 'Holly', 'us', 'someone', 'us']),\n",
       " 'Heatstroke': ([], ['women', 'CHUCKLES']),\n",
       " 'Garm Wars: The Last Druid': (['you', 'I'], ['one', 'Garm', 'Skellig']),\n",
       " 'Wolves': (['I', 'it', 'we', 'they', 'He', 'he', 'we', 'I', 'I', 'they'],\n",
       "  ['us',\n",
       "   'her',\n",
       "   'spending',\n",
       "   'time',\n",
       "   'anyone',\n",
       "   'him',\n",
       "   'us',\n",
       "   'you',\n",
       "   'Cayden',\n",
       "   'you',\n",
       "   'me',\n",
       "   'I',\n",
       "   'them',\n",
       "   'him',\n",
       "   'you',\n",
       "   'her',\n",
       "   'you',\n",
       "   'you',\n",
       "   'me']),\n",
       " \"Quiet Riot: Well Now You're Here, There's No Way Back\": ([], ['you']),\n",
       " 'Stem Cell Universe with Stephen Hawking': ([], ['them']),\n",
       " 'Skin Trade': (['I', 'I', 'me'], ['cop', 'him', 'her']),\n",
       " '20,000 Days on Earth': ([], []),\n",
       " 'Set Fire to the Stars': ([], ['man']),\n",
       " 'The Last Showing': (['GLASSSHATTERSONSCREEN', 'you', 'he', 'he', 'STUART'],\n",
       "  ['me',\n",
       "   'me',\n",
       "   'me',\n",
       "   'me',\n",
       "   'me',\n",
       "   'ONPLAYBACK',\n",
       "   'me',\n",
       "   'GUNSHOTONSCREEN',\n",
       "   '38;4343;TOOLONG',\n",
       "   'ALLIE',\n",
       "   'him',\n",
       "   'you',\n",
       "   'MUMBLING',\n",
       "   'someone',\n",
       "   'friend',\n",
       "   'someone',\n",
       "   'Clive',\n",
       "   'me']),\n",
       " 'Seve the Movie': ([], []),\n",
       " 'Get Santa': ([], []),\n",
       " 'The Woman in Black 2: Angel of Death': ([], []),\n",
       " 'Achmed Saves America': (['I', 'I', 'I', 'it', 'I', 'I'],\n",
       "  ['you', 'call', 'myself', 'you', 'you', 'things', 'you', 'typos', 'you']),\n",
       " 'Alexander and the Terrible, Horrible, No Good, Very Bad Day': ([],\n",
       "  ['anybody', 'us', 'me']),\n",
       " 'Annabelle': ([], []),\n",
       " 'Food Chains': ([], []),\n",
       " 'Girltrash: All Night Long': (['Mom', 'sister', 'what'], ['you', 'me', 'me']),\n",
       " 'Hairy Who & The Chicago Imagists': ([], []),\n",
       " 'Horrible Bosses 2': ([\"'s\", 'We', \"'s\", 'Peter', 'they', 'guy', 'we', 'I'],\n",
       "  ['boss',\n",
       "   'Ring',\n",
       "   'motherfuckers',\n",
       "   'them',\n",
       "   'them',\n",
       "   'Bobby',\n",
       "   'me',\n",
       "   'me',\n",
       "   'bosses',\n",
       "   'anybody',\n",
       "   'Dalton']),\n",
       " 'Killer Legends': (['father', 'He', 'I'],\n",
       "  ['child', 'friends', 'wife', 'they', 'I', 'anyone']),\n",
       " 'Marvel One-Shot: All Hail the King': ([], ['you', 'Slattery']),\n",
       " 'Mr. Dynamite: The Rise of James Brown': ([], []),\n",
       " 'Night Has Settled': ([], []),\n",
       " 'Selena Gomez: Forever': ([], []),\n",
       " \"The Devil's Hand\": ([], ['What', 'me', 'me', 'me']),\n",
       " 'The Offseason: Kevin Durant': ([], []),\n",
       " 'The Other Woman': (['I'], ['him']),\n",
       " 'The Outsider': ([], ['me']),\n",
       " 'The Single Moms Club': ([], ['him']),\n",
       " 'The World Famous Kid Detective': ([], []),\n",
       " 'The Eurovision Song Contest': ([], []),\n",
       " 'Moonwalkers': (['me', 'they', 'I', 'me'],\n",
       "  ['everyone', 'me', 'you', 'you', 'somebody', 'us']),\n",
       " 'Mercenary: Absolution': (['They', 'they', 'They'],\n",
       "  ['you', 'boss', 'me', 'me', 'me', 'you', 'him', 'you']),\n",
       " '7 Cases': (['You', 'You', 'we', 'you'],\n",
       "  ['her', 'you', 'him', 'EXHALING', 'me', 'him', 'me']),\n",
       " 'Arthur & Merlin': (['me', 'they', 'You'],\n",
       "  ['him', 'her', 'woman', 'it', 'him', 'you', 'gods', 'gods']),\n",
       " 'Closets': ([], []),\n",
       " 'Robot World': ([], []),\n",
       " 'Departure': ([], []),\n",
       " 'Life': (['I', 'I', 'I'], ['you', 'you', 'Elope', 'son']),\n",
       " \"A Ballerina's Tale\": ([], []),\n",
       " 'Batman Unlimited: Animal Instincts': ([], ['me', 'work']),\n",
       " 'Beyond the Mask': ([], []),\n",
       " 'Curious George 3: Back to the Jungle': ([], []),\n",
       " 'Deep Dark': (['I'], []),\n",
       " 'Evil Bong 420': ([], ['her', 'us']),\n",
       " 'Fifty Shades of Grey': ([], []),\n",
       " 'Joe Dirt 2: Beautiful Loser': (['I', 'guys', 'we'],\n",
       "  ['nobody', 'me', 'time', 'you']),\n",
       " 'Last Girl Standing': (['you'], ['you', 'GUNSHOTS']),\n",
       " 'Love the Coopers': ([], ['hour']),\n",
       " 'Minions': (['I'], ['me', 'Villains', 'one', 'Bob']),\n",
       " \"Raven's Touch\": ([], []),\n",
       " 'Focus': (['I', 'You', 'I', 'I'],\n",
       "  ['you', 'you', 'partner', 'you', 'you', 'you', 'you']),\n",
       " 'The Age of Adaline': ([], []),\n",
       " 'Late Night Double Feature': (['You', 'guys'],\n",
       "  ['being', 'somebody', 'Jesus']),\n",
       " 'I Am Not a Serial Killer': (['I'],\n",
       "  ['somebody', 'men', 'somebody', 'All', 'him', 'you', 'anybody']),\n",
       " 'The Truth Commissioner': (['he', 'I', 'I'],\n",
       "  ['Connor', 'Roche', 'Connor', 'I']),\n",
       " 'Bunker: Project 12': ([], ['him', 'him', 'me', 'them']),\n",
       " 'The Truants': ([], []),\n",
       " 'The Legend of Tarzan': ([], ['husband', 'me']),\n",
       " 'Angel of Reckoning': (['they', 'she'], ['me', 'me', 'me', 'Ryan']),\n",
       " 'Blue Mountain State: The Rise of Thadland': (['We', 'We', 'You'],\n",
       "  ['Dean', 'family', 'me', 'you', 'I']),\n",
       " 'Cameraperson': ([], ['people']),\n",
       " 'Cell': (['We', 'we', 'you', 'you'], ['freaks', 'them', 'him', 'him']),\n",
       " \"Emma's Chance\": (['friend'], ['it']),\n",
       " 'Face 2 Face': (['he'], ['moon', 'yourself', 'you', 'you', 'I']),\n",
       " 'Freshwater': (['they', 'You', 'I'], ['kids', 'anybody', 'her', 'you']),\n",
       " 'Hidden Figures': ([], []),\n",
       " 'Ice Age: The Great Egg-Scapade': ([], []),\n",
       " 'Independence Day: Resurgence': (['You', 'You'],\n",
       "  ['him', 'them', 'Hiller', 'her', 'everyone']),\n",
       " 'Loserville': ([], ['herself']),\n",
       " 'Mothers and Daughters': ([], []),\n",
       " 'My Dead Boyfriend': ([], []),\n",
       " 'New Life': ([], []),\n",
       " 'Planet of the Sharks': ([], ['Fishing']),\n",
       " 'Sausage Party': (['me', 'we', 'I', 'gods', 'gods', 'they'],\n",
       "  ['yourself',\n",
       "   'lavash',\n",
       "   'GRITS',\n",
       "   'him',\n",
       "   'me',\n",
       "   'All',\n",
       "   'asses',\n",
       "   'asses',\n",
       "   'us',\n",
       "   'us',\n",
       "   'us',\n",
       "   'me',\n",
       "   'Brenda',\n",
       "   'us']),\n",
       " 'The Darkness': ([], ['cat']),\n",
       " 'The Trans List': (['somebody'], ['me']),\n",
       " 'When the Bough Breaks': (['It', 'I', 'I', 'She'],\n",
       "  ['her', 'you', 'her', 'baby']),\n",
       " \"I'll Be Home for Christmas\": ([], []),\n",
       " 'The BFG': (['stuff'], ['you', 'CHATTERCEASES']),\n",
       " 'Till We Meet Again': ([], ['you', 'I']),\n",
       " 'Bottom of the World': ([], []),\n",
       " 'A Christmas Star': (['I'], ['me', 'Oy']),\n",
       " 'Ghosts of Darkness': (['you'], ['her', 'something', 'it']),\n",
       " 'Fun Mom Dinner': (['I'], ['buzz', 'them', 'Ladies', 'her']),\n",
       " 'Secrets of Deception': (['I', 'I', 'I'],\n",
       "  ['kid',\n",
       "   'kid',\n",
       "   'you',\n",
       "   'us',\n",
       "   'spiral',\n",
       "   'Kim',\n",
       "   'ass',\n",
       "   'me',\n",
       "   'kid',\n",
       "   'kid',\n",
       "   'kid']),\n",
       " 'The Horse Dancer': ([], []),\n",
       " 'The Oscars': (['I'], ['friend']),\n",
       " 'To the Bone': (['I', 'I'], ['you', 'trips', 'you', 'you']),\n",
       " 'Top Coat Cash': (['mom'], ['you', 'you', 'son']),\n",
       " 'Western World': (['it', 'I', 'She'], ['you', 'him', 'him']),\n",
       " 'Smurfs: The Lost Village': (['us'], ['bird', 'bird'])}"
      ]
     },
     "execution_count": 137,
     "metadata": {},
     "output_type": "execute_result"
    }
   ],
   "source": [
    "movie_violences"
   ]
  },
  {
   "cell_type": "markdown",
   "metadata": {},
   "source": [
    "That's pretty neat: we can see who tried to kill who, or at least talked about it. A lot of 'I' killing 'you', as we'd imagine. What else can we see?\n",
    "\n",
    "The movie, about time, which is about time travel, funnily enough has:\n",
    "`'About Time': (['I'], ['Hitler'])`"
   ]
  },
  {
   "cell_type": "markdown",
   "metadata": {},
   "source": [
    "## <font color=\"red\">*Exercise 6*</font>\n",
    "\n",
    "<font color=\"red\">In the cells immediately following, parse a (modest) subset of your corpus of interest. How deep are the phrase structure and dependency parse trees nested? How does parse depth relate to perceived sentence complexity? What are five things you can extract from these parses for subsequent analysis? (e.g., nouns collocated in a noun phrase; adjectives that modify a noun; etc.) Capture these sets of things for a focal set of words (e.g., \"Bush\", \"Obama\", \"Trump\"). What do they reveal about the roles that these entities are perceive to play in the social world inscribed by your texts?"
   ]
  },
  {
   "cell_type": "code",
   "execution_count": 139,
   "metadata": {},
   "outputs": [
    {
     "data": {
      "text/html": [
       "<span class=\"tex2jax_ignore\"><svg xmlns=\"http://www.w3.org/2000/svg\" xmlns:xlink=\"http://www.w3.org/1999/xlink\" xml:lang=\"en\" id=\"54698be6e05c4cd0b6c2a9bac26f89f8-0\" class=\"displacy\" width=\"6350\" height=\"837.0\" direction=\"ltr\" style=\"max-width: none; height: 837.0px; color: #000000; background: #ffffff; font-family: Arial; direction: ltr\">\n",
       "<text class=\"displacy-token\" fill=\"currentColor\" text-anchor=\"middle\" y=\"747.0\">\n",
       "    <tspan class=\"displacy-word\" fill=\"currentColor\" x=\"50\">Former</tspan>\n",
       "    <tspan class=\"displacy-tag\" dy=\"2em\" fill=\"currentColor\" x=\"50\">ADJ</tspan>\n",
       "</text>\n",
       "\n",
       "<text class=\"displacy-token\" fill=\"currentColor\" text-anchor=\"middle\" y=\"747.0\">\n",
       "    <tspan class=\"displacy-word\" fill=\"currentColor\" x=\"225\">Presidents</tspan>\n",
       "    <tspan class=\"displacy-tag\" dy=\"2em\" fill=\"currentColor\" x=\"225\">NOUN</tspan>\n",
       "</text>\n",
       "\n",
       "<text class=\"displacy-token\" fill=\"currentColor\" text-anchor=\"middle\" y=\"747.0\">\n",
       "    <tspan class=\"displacy-word\" fill=\"currentColor\" x=\"400\">Barack</tspan>\n",
       "    <tspan class=\"displacy-tag\" dy=\"2em\" fill=\"currentColor\" x=\"400\">PROPN</tspan>\n",
       "</text>\n",
       "\n",
       "<text class=\"displacy-token\" fill=\"currentColor\" text-anchor=\"middle\" y=\"747.0\">\n",
       "    <tspan class=\"displacy-word\" fill=\"currentColor\" x=\"575\">Obama,</tspan>\n",
       "    <tspan class=\"displacy-tag\" dy=\"2em\" fill=\"currentColor\" x=\"575\">PROPN</tspan>\n",
       "</text>\n",
       "\n",
       "<text class=\"displacy-token\" fill=\"currentColor\" text-anchor=\"middle\" y=\"747.0\">\n",
       "    <tspan class=\"displacy-word\" fill=\"currentColor\" x=\"750\">George</tspan>\n",
       "    <tspan class=\"displacy-tag\" dy=\"2em\" fill=\"currentColor\" x=\"750\">PROPN</tspan>\n",
       "</text>\n",
       "\n",
       "<text class=\"displacy-token\" fill=\"currentColor\" text-anchor=\"middle\" y=\"747.0\">\n",
       "    <tspan class=\"displacy-word\" fill=\"currentColor\" x=\"925\">W.</tspan>\n",
       "    <tspan class=\"displacy-tag\" dy=\"2em\" fill=\"currentColor\" x=\"925\">PROPN</tspan>\n",
       "</text>\n",
       "\n",
       "<text class=\"displacy-token\" fill=\"currentColor\" text-anchor=\"middle\" y=\"747.0\">\n",
       "    <tspan class=\"displacy-word\" fill=\"currentColor\" x=\"1100\">Bush,</tspan>\n",
       "    <tspan class=\"displacy-tag\" dy=\"2em\" fill=\"currentColor\" x=\"1100\">PROPN</tspan>\n",
       "</text>\n",
       "\n",
       "<text class=\"displacy-token\" fill=\"currentColor\" text-anchor=\"middle\" y=\"747.0\">\n",
       "    <tspan class=\"displacy-word\" fill=\"currentColor\" x=\"1275\">Bill</tspan>\n",
       "    <tspan class=\"displacy-tag\" dy=\"2em\" fill=\"currentColor\" x=\"1275\">PROPN</tspan>\n",
       "</text>\n",
       "\n",
       "<text class=\"displacy-token\" fill=\"currentColor\" text-anchor=\"middle\" y=\"747.0\">\n",
       "    <tspan class=\"displacy-word\" fill=\"currentColor\" x=\"1450\">Clinton</tspan>\n",
       "    <tspan class=\"displacy-tag\" dy=\"2em\" fill=\"currentColor\" x=\"1450\">PROPN</tspan>\n",
       "</text>\n",
       "\n",
       "<text class=\"displacy-token\" fill=\"currentColor\" text-anchor=\"middle\" y=\"747.0\">\n",
       "    <tspan class=\"displacy-word\" fill=\"currentColor\" x=\"1625\">and</tspan>\n",
       "    <tspan class=\"displacy-tag\" dy=\"2em\" fill=\"currentColor\" x=\"1625\">CCONJ</tspan>\n",
       "</text>\n",
       "\n",
       "<text class=\"displacy-token\" fill=\"currentColor\" text-anchor=\"middle\" y=\"747.0\">\n",
       "    <tspan class=\"displacy-word\" fill=\"currentColor\" x=\"1800\">Jimmy</tspan>\n",
       "    <tspan class=\"displacy-tag\" dy=\"2em\" fill=\"currentColor\" x=\"1800\">PROPN</tspan>\n",
       "</text>\n",
       "\n",
       "<text class=\"displacy-token\" fill=\"currentColor\" text-anchor=\"middle\" y=\"747.0\">\n",
       "    <tspan class=\"displacy-word\" fill=\"currentColor\" x=\"1975\">Carter</tspan>\n",
       "    <tspan class=\"displacy-tag\" dy=\"2em\" fill=\"currentColor\" x=\"1975\">PROPN</tspan>\n",
       "</text>\n",
       "\n",
       "<text class=\"displacy-token\" fill=\"currentColor\" text-anchor=\"middle\" y=\"747.0\">\n",
       "    <tspan class=\"displacy-word\" fill=\"currentColor\" x=\"2150\">on</tspan>\n",
       "    <tspan class=\"displacy-tag\" dy=\"2em\" fill=\"currentColor\" x=\"2150\">ADP</tspan>\n",
       "</text>\n",
       "\n",
       "<text class=\"displacy-token\" fill=\"currentColor\" text-anchor=\"middle\" y=\"747.0\">\n",
       "    <tspan class=\"displacy-word\" fill=\"currentColor\" x=\"2325\">Wednesday</tspan>\n",
       "    <tspan class=\"displacy-tag\" dy=\"2em\" fill=\"currentColor\" x=\"2325\">PROPN</tspan>\n",
       "</text>\n",
       "\n",
       "<text class=\"displacy-token\" fill=\"currentColor\" text-anchor=\"middle\" y=\"747.0\">\n",
       "    <tspan class=\"displacy-word\" fill=\"currentColor\" x=\"2500\">each</tspan>\n",
       "    <tspan class=\"displacy-tag\" dy=\"2em\" fill=\"currentColor\" x=\"2500\">PRON</tspan>\n",
       "</text>\n",
       "\n",
       "<text class=\"displacy-token\" fill=\"currentColor\" text-anchor=\"middle\" y=\"747.0\">\n",
       "    <tspan class=\"displacy-word\" fill=\"currentColor\" x=\"2675\">condemned</tspan>\n",
       "    <tspan class=\"displacy-tag\" dy=\"2em\" fill=\"currentColor\" x=\"2675\">VERB</tspan>\n",
       "</text>\n",
       "\n",
       "<text class=\"displacy-token\" fill=\"currentColor\" text-anchor=\"middle\" y=\"747.0\">\n",
       "    <tspan class=\"displacy-word\" fill=\"currentColor\" x=\"2850\">the</tspan>\n",
       "    <tspan class=\"displacy-tag\" dy=\"2em\" fill=\"currentColor\" x=\"2850\">DET</tspan>\n",
       "</text>\n",
       "\n",
       "<text class=\"displacy-token\" fill=\"currentColor\" text-anchor=\"middle\" y=\"747.0\">\n",
       "    <tspan class=\"displacy-word\" fill=\"currentColor\" x=\"3025\">mob</tspan>\n",
       "    <tspan class=\"displacy-tag\" dy=\"2em\" fill=\"currentColor\" x=\"3025\">NOUN</tspan>\n",
       "</text>\n",
       "\n",
       "<text class=\"displacy-token\" fill=\"currentColor\" text-anchor=\"middle\" y=\"747.0\">\n",
       "    <tspan class=\"displacy-word\" fill=\"currentColor\" x=\"3200\">of</tspan>\n",
       "    <tspan class=\"displacy-tag\" dy=\"2em\" fill=\"currentColor\" x=\"3200\">ADP</tspan>\n",
       "</text>\n",
       "\n",
       "<text class=\"displacy-token\" fill=\"currentColor\" text-anchor=\"middle\" y=\"747.0\">\n",
       "    <tspan class=\"displacy-word\" fill=\"currentColor\" x=\"3375\">rioters</tspan>\n",
       "    <tspan class=\"displacy-tag\" dy=\"2em\" fill=\"currentColor\" x=\"3375\">NOUN</tspan>\n",
       "</text>\n",
       "\n",
       "<text class=\"displacy-token\" fill=\"currentColor\" text-anchor=\"middle\" y=\"747.0\">\n",
       "    <tspan class=\"displacy-word\" fill=\"currentColor\" x=\"3550\">who</tspan>\n",
       "    <tspan class=\"displacy-tag\" dy=\"2em\" fill=\"currentColor\" x=\"3550\">PRON</tspan>\n",
       "</text>\n",
       "\n",
       "<text class=\"displacy-token\" fill=\"currentColor\" text-anchor=\"middle\" y=\"747.0\">\n",
       "    <tspan class=\"displacy-word\" fill=\"currentColor\" x=\"3725\">stormed</tspan>\n",
       "    <tspan class=\"displacy-tag\" dy=\"2em\" fill=\"currentColor\" x=\"3725\">VERB</tspan>\n",
       "</text>\n",
       "\n",
       "<text class=\"displacy-token\" fill=\"currentColor\" text-anchor=\"middle\" y=\"747.0\">\n",
       "    <tspan class=\"displacy-word\" fill=\"currentColor\" x=\"3900\">the</tspan>\n",
       "    <tspan class=\"displacy-tag\" dy=\"2em\" fill=\"currentColor\" x=\"3900\">DET</tspan>\n",
       "</text>\n",
       "\n",
       "<text class=\"displacy-token\" fill=\"currentColor\" text-anchor=\"middle\" y=\"747.0\">\n",
       "    <tspan class=\"displacy-word\" fill=\"currentColor\" x=\"4075\">U.S.</tspan>\n",
       "    <tspan class=\"displacy-tag\" dy=\"2em\" fill=\"currentColor\" x=\"4075\">PROPN</tspan>\n",
       "</text>\n",
       "\n",
       "<text class=\"displacy-token\" fill=\"currentColor\" text-anchor=\"middle\" y=\"747.0\">\n",
       "    <tspan class=\"displacy-word\" fill=\"currentColor\" x=\"4250\">Capitol —</tspan>\n",
       "    <tspan class=\"displacy-tag\" dy=\"2em\" fill=\"currentColor\" x=\"4250\">PROPN</tspan>\n",
       "</text>\n",
       "\n",
       "<text class=\"displacy-token\" fill=\"currentColor\" text-anchor=\"middle\" y=\"747.0\">\n",
       "    <tspan class=\"displacy-word\" fill=\"currentColor\" x=\"4425\">and</tspan>\n",
       "    <tspan class=\"displacy-tag\" dy=\"2em\" fill=\"currentColor\" x=\"4425\">CCONJ</tspan>\n",
       "</text>\n",
       "\n",
       "<text class=\"displacy-token\" fill=\"currentColor\" text-anchor=\"middle\" y=\"747.0\">\n",
       "    <tspan class=\"displacy-word\" fill=\"currentColor\" x=\"4600\">lawmakers</tspan>\n",
       "    <tspan class=\"displacy-tag\" dy=\"2em\" fill=\"currentColor\" x=\"4600\">NOUN</tspan>\n",
       "</text>\n",
       "\n",
       "<text class=\"displacy-token\" fill=\"currentColor\" text-anchor=\"middle\" y=\"747.0\">\n",
       "    <tspan class=\"displacy-word\" fill=\"currentColor\" x=\"4775\">who</tspan>\n",
       "    <tspan class=\"displacy-tag\" dy=\"2em\" fill=\"currentColor\" x=\"4775\">PRON</tspan>\n",
       "</text>\n",
       "\n",
       "<text class=\"displacy-token\" fill=\"currentColor\" text-anchor=\"middle\" y=\"747.0\">\n",
       "    <tspan class=\"displacy-word\" fill=\"currentColor\" x=\"4950\">sought</tspan>\n",
       "    <tspan class=\"displacy-tag\" dy=\"2em\" fill=\"currentColor\" x=\"4950\">VERB</tspan>\n",
       "</text>\n",
       "\n",
       "<text class=\"displacy-token\" fill=\"currentColor\" text-anchor=\"middle\" y=\"747.0\">\n",
       "    <tspan class=\"displacy-word\" fill=\"currentColor\" x=\"5125\">to</tspan>\n",
       "    <tspan class=\"displacy-tag\" dy=\"2em\" fill=\"currentColor\" x=\"5125\">PART</tspan>\n",
       "</text>\n",
       "\n",
       "<text class=\"displacy-token\" fill=\"currentColor\" text-anchor=\"middle\" y=\"747.0\">\n",
       "    <tspan class=\"displacy-word\" fill=\"currentColor\" x=\"5300\">delegitimize</tspan>\n",
       "    <tspan class=\"displacy-tag\" dy=\"2em\" fill=\"currentColor\" x=\"5300\">VERB</tspan>\n",
       "</text>\n",
       "\n",
       "<text class=\"displacy-token\" fill=\"currentColor\" text-anchor=\"middle\" y=\"747.0\">\n",
       "    <tspan class=\"displacy-word\" fill=\"currentColor\" x=\"5475\">the</tspan>\n",
       "    <tspan class=\"displacy-tag\" dy=\"2em\" fill=\"currentColor\" x=\"5475\">DET</tspan>\n",
       "</text>\n",
       "\n",
       "<text class=\"displacy-token\" fill=\"currentColor\" text-anchor=\"middle\" y=\"747.0\">\n",
       "    <tspan class=\"displacy-word\" fill=\"currentColor\" x=\"5650\">presidential</tspan>\n",
       "    <tspan class=\"displacy-tag\" dy=\"2em\" fill=\"currentColor\" x=\"5650\">ADJ</tspan>\n",
       "</text>\n",
       "\n",
       "<text class=\"displacy-token\" fill=\"currentColor\" text-anchor=\"middle\" y=\"747.0\">\n",
       "    <tspan class=\"displacy-word\" fill=\"currentColor\" x=\"5825\">election</tspan>\n",
       "    <tspan class=\"displacy-tag\" dy=\"2em\" fill=\"currentColor\" x=\"5825\">NOUN</tspan>\n",
       "</text>\n",
       "\n",
       "<text class=\"displacy-token\" fill=\"currentColor\" text-anchor=\"middle\" y=\"747.0\">\n",
       "    <tspan class=\"displacy-word\" fill=\"currentColor\" x=\"6000\">results</tspan>\n",
       "    <tspan class=\"displacy-tag\" dy=\"2em\" fill=\"currentColor\" x=\"6000\">NOUN</tspan>\n",
       "</text>\n",
       "\n",
       "<text class=\"displacy-token\" fill=\"currentColor\" text-anchor=\"middle\" y=\"747.0\">\n",
       "    <tspan class=\"displacy-word\" fill=\"currentColor\" x=\"6175\">beforehand.</tspan>\n",
       "    <tspan class=\"displacy-tag\" dy=\"2em\" fill=\"currentColor\" x=\"6175\">ADV</tspan>\n",
       "</text>\n",
       "\n",
       "<g class=\"displacy-arrow\">\n",
       "    <path class=\"displacy-arc\" id=\"arrow-54698be6e05c4cd0b6c2a9bac26f89f8-0-0\" stroke-width=\"2px\" d=\"M70,702.0 C70,614.5 190.0,614.5 190.0,702.0\" fill=\"none\" stroke=\"currentColor\"/>\n",
       "    <text dy=\"1.25em\" style=\"font-size: 0.8em; letter-spacing: 1px\">\n",
       "        <textPath xlink:href=\"#arrow-54698be6e05c4cd0b6c2a9bac26f89f8-0-0\" class=\"displacy-label\" startOffset=\"50%\" side=\"left\" fill=\"currentColor\" text-anchor=\"middle\">amod</textPath>\n",
       "    </text>\n",
       "    <path class=\"displacy-arrowhead\" d=\"M70,704.0 L62,692.0 78,692.0\" fill=\"currentColor\"/>\n",
       "</g>\n",
       "\n",
       "<g class=\"displacy-arrow\">\n",
       "    <path class=\"displacy-arc\" id=\"arrow-54698be6e05c4cd0b6c2a9bac26f89f8-0-1\" stroke-width=\"2px\" d=\"M245,702.0 C245,527.0 545.0,527.0 545.0,702.0\" fill=\"none\" stroke=\"currentColor\"/>\n",
       "    <text dy=\"1.25em\" style=\"font-size: 0.8em; letter-spacing: 1px\">\n",
       "        <textPath xlink:href=\"#arrow-54698be6e05c4cd0b6c2a9bac26f89f8-0-1\" class=\"displacy-label\" startOffset=\"50%\" side=\"left\" fill=\"currentColor\" text-anchor=\"middle\">compound</textPath>\n",
       "    </text>\n",
       "    <path class=\"displacy-arrowhead\" d=\"M245,704.0 L237,692.0 253,692.0\" fill=\"currentColor\"/>\n",
       "</g>\n",
       "\n",
       "<g class=\"displacy-arrow\">\n",
       "    <path class=\"displacy-arc\" id=\"arrow-54698be6e05c4cd0b6c2a9bac26f89f8-0-2\" stroke-width=\"2px\" d=\"M420,702.0 C420,614.5 540.0,614.5 540.0,702.0\" fill=\"none\" stroke=\"currentColor\"/>\n",
       "    <text dy=\"1.25em\" style=\"font-size: 0.8em; letter-spacing: 1px\">\n",
       "        <textPath xlink:href=\"#arrow-54698be6e05c4cd0b6c2a9bac26f89f8-0-2\" class=\"displacy-label\" startOffset=\"50%\" side=\"left\" fill=\"currentColor\" text-anchor=\"middle\">compound</textPath>\n",
       "    </text>\n",
       "    <path class=\"displacy-arrowhead\" d=\"M420,704.0 L412,692.0 428,692.0\" fill=\"currentColor\"/>\n",
       "</g>\n",
       "\n",
       "<g class=\"displacy-arrow\">\n",
       "    <path class=\"displacy-arc\" id=\"arrow-54698be6e05c4cd0b6c2a9bac26f89f8-0-3\" stroke-width=\"2px\" d=\"M595,702.0 C595,2.0 2675.0,2.0 2675.0,702.0\" fill=\"none\" stroke=\"currentColor\"/>\n",
       "    <text dy=\"1.25em\" style=\"font-size: 0.8em; letter-spacing: 1px\">\n",
       "        <textPath xlink:href=\"#arrow-54698be6e05c4cd0b6c2a9bac26f89f8-0-3\" class=\"displacy-label\" startOffset=\"50%\" side=\"left\" fill=\"currentColor\" text-anchor=\"middle\">nsubj</textPath>\n",
       "    </text>\n",
       "    <path class=\"displacy-arrowhead\" d=\"M595,704.0 L587,692.0 603,692.0\" fill=\"currentColor\"/>\n",
       "</g>\n",
       "\n",
       "<g class=\"displacy-arrow\">\n",
       "    <path class=\"displacy-arc\" id=\"arrow-54698be6e05c4cd0b6c2a9bac26f89f8-0-4\" stroke-width=\"2px\" d=\"M770,702.0 C770,527.0 1070.0,527.0 1070.0,702.0\" fill=\"none\" stroke=\"currentColor\"/>\n",
       "    <text dy=\"1.25em\" style=\"font-size: 0.8em; letter-spacing: 1px\">\n",
       "        <textPath xlink:href=\"#arrow-54698be6e05c4cd0b6c2a9bac26f89f8-0-4\" class=\"displacy-label\" startOffset=\"50%\" side=\"left\" fill=\"currentColor\" text-anchor=\"middle\">compound</textPath>\n",
       "    </text>\n",
       "    <path class=\"displacy-arrowhead\" d=\"M770,704.0 L762,692.0 778,692.0\" fill=\"currentColor\"/>\n",
       "</g>\n",
       "\n",
       "<g class=\"displacy-arrow\">\n",
       "    <path class=\"displacy-arc\" id=\"arrow-54698be6e05c4cd0b6c2a9bac26f89f8-0-5\" stroke-width=\"2px\" d=\"M945,702.0 C945,614.5 1065.0,614.5 1065.0,702.0\" fill=\"none\" stroke=\"currentColor\"/>\n",
       "    <text dy=\"1.25em\" style=\"font-size: 0.8em; letter-spacing: 1px\">\n",
       "        <textPath xlink:href=\"#arrow-54698be6e05c4cd0b6c2a9bac26f89f8-0-5\" class=\"displacy-label\" startOffset=\"50%\" side=\"left\" fill=\"currentColor\" text-anchor=\"middle\">compound</textPath>\n",
       "    </text>\n",
       "    <path class=\"displacy-arrowhead\" d=\"M945,704.0 L937,692.0 953,692.0\" fill=\"currentColor\"/>\n",
       "</g>\n",
       "\n",
       "<g class=\"displacy-arrow\">\n",
       "    <path class=\"displacy-arc\" id=\"arrow-54698be6e05c4cd0b6c2a9bac26f89f8-0-6\" stroke-width=\"2px\" d=\"M595,702.0 C595,439.5 1075.0,439.5 1075.0,702.0\" fill=\"none\" stroke=\"currentColor\"/>\n",
       "    <text dy=\"1.25em\" style=\"font-size: 0.8em; letter-spacing: 1px\">\n",
       "        <textPath xlink:href=\"#arrow-54698be6e05c4cd0b6c2a9bac26f89f8-0-6\" class=\"displacy-label\" startOffset=\"50%\" side=\"left\" fill=\"currentColor\" text-anchor=\"middle\">conj</textPath>\n",
       "    </text>\n",
       "    <path class=\"displacy-arrowhead\" d=\"M1075.0,704.0 L1083.0,692.0 1067.0,692.0\" fill=\"currentColor\"/>\n",
       "</g>\n",
       "\n",
       "<g class=\"displacy-arrow\">\n",
       "    <path class=\"displacy-arc\" id=\"arrow-54698be6e05c4cd0b6c2a9bac26f89f8-0-7\" stroke-width=\"2px\" d=\"M1295,702.0 C1295,614.5 1415.0,614.5 1415.0,702.0\" fill=\"none\" stroke=\"currentColor\"/>\n",
       "    <text dy=\"1.25em\" style=\"font-size: 0.8em; letter-spacing: 1px\">\n",
       "        <textPath xlink:href=\"#arrow-54698be6e05c4cd0b6c2a9bac26f89f8-0-7\" class=\"displacy-label\" startOffset=\"50%\" side=\"left\" fill=\"currentColor\" text-anchor=\"middle\">compound</textPath>\n",
       "    </text>\n",
       "    <path class=\"displacy-arrowhead\" d=\"M1295,704.0 L1287,692.0 1303,692.0\" fill=\"currentColor\"/>\n",
       "</g>\n",
       "\n",
       "<g class=\"displacy-arrow\">\n",
       "    <path class=\"displacy-arc\" id=\"arrow-54698be6e05c4cd0b6c2a9bac26f89f8-0-8\" stroke-width=\"2px\" d=\"M1120,702.0 C1120,527.0 1420.0,527.0 1420.0,702.0\" fill=\"none\" stroke=\"currentColor\"/>\n",
       "    <text dy=\"1.25em\" style=\"font-size: 0.8em; letter-spacing: 1px\">\n",
       "        <textPath xlink:href=\"#arrow-54698be6e05c4cd0b6c2a9bac26f89f8-0-8\" class=\"displacy-label\" startOffset=\"50%\" side=\"left\" fill=\"currentColor\" text-anchor=\"middle\">conj</textPath>\n",
       "    </text>\n",
       "    <path class=\"displacy-arrowhead\" d=\"M1420.0,704.0 L1428.0,692.0 1412.0,692.0\" fill=\"currentColor\"/>\n",
       "</g>\n",
       "\n",
       "<g class=\"displacy-arrow\">\n",
       "    <path class=\"displacy-arc\" id=\"arrow-54698be6e05c4cd0b6c2a9bac26f89f8-0-9\" stroke-width=\"2px\" d=\"M1470,702.0 C1470,614.5 1590.0,614.5 1590.0,702.0\" fill=\"none\" stroke=\"currentColor\"/>\n",
       "    <text dy=\"1.25em\" style=\"font-size: 0.8em; letter-spacing: 1px\">\n",
       "        <textPath xlink:href=\"#arrow-54698be6e05c4cd0b6c2a9bac26f89f8-0-9\" class=\"displacy-label\" startOffset=\"50%\" side=\"left\" fill=\"currentColor\" text-anchor=\"middle\">cc</textPath>\n",
       "    </text>\n",
       "    <path class=\"displacy-arrowhead\" d=\"M1590.0,704.0 L1598.0,692.0 1582.0,692.0\" fill=\"currentColor\"/>\n",
       "</g>\n",
       "\n",
       "<g class=\"displacy-arrow\">\n",
       "    <path class=\"displacy-arc\" id=\"arrow-54698be6e05c4cd0b6c2a9bac26f89f8-0-10\" stroke-width=\"2px\" d=\"M1820,702.0 C1820,614.5 1940.0,614.5 1940.0,702.0\" fill=\"none\" stroke=\"currentColor\"/>\n",
       "    <text dy=\"1.25em\" style=\"font-size: 0.8em; letter-spacing: 1px\">\n",
       "        <textPath xlink:href=\"#arrow-54698be6e05c4cd0b6c2a9bac26f89f8-0-10\" class=\"displacy-label\" startOffset=\"50%\" side=\"left\" fill=\"currentColor\" text-anchor=\"middle\">compound</textPath>\n",
       "    </text>\n",
       "    <path class=\"displacy-arrowhead\" d=\"M1820,704.0 L1812,692.0 1828,692.0\" fill=\"currentColor\"/>\n",
       "</g>\n",
       "\n",
       "<g class=\"displacy-arrow\">\n",
       "    <path class=\"displacy-arc\" id=\"arrow-54698be6e05c4cd0b6c2a9bac26f89f8-0-11\" stroke-width=\"2px\" d=\"M1470,702.0 C1470,439.5 1950.0,439.5 1950.0,702.0\" fill=\"none\" stroke=\"currentColor\"/>\n",
       "    <text dy=\"1.25em\" style=\"font-size: 0.8em; letter-spacing: 1px\">\n",
       "        <textPath xlink:href=\"#arrow-54698be6e05c4cd0b6c2a9bac26f89f8-0-11\" class=\"displacy-label\" startOffset=\"50%\" side=\"left\" fill=\"currentColor\" text-anchor=\"middle\">conj</textPath>\n",
       "    </text>\n",
       "    <path class=\"displacy-arrowhead\" d=\"M1950.0,704.0 L1958.0,692.0 1942.0,692.0\" fill=\"currentColor\"/>\n",
       "</g>\n",
       "\n",
       "<g class=\"displacy-arrow\">\n",
       "    <path class=\"displacy-arc\" id=\"arrow-54698be6e05c4cd0b6c2a9bac26f89f8-0-12\" stroke-width=\"2px\" d=\"M595,702.0 C595,89.5 2145.0,89.5 2145.0,702.0\" fill=\"none\" stroke=\"currentColor\"/>\n",
       "    <text dy=\"1.25em\" style=\"font-size: 0.8em; letter-spacing: 1px\">\n",
       "        <textPath xlink:href=\"#arrow-54698be6e05c4cd0b6c2a9bac26f89f8-0-12\" class=\"displacy-label\" startOffset=\"50%\" side=\"left\" fill=\"currentColor\" text-anchor=\"middle\">prep</textPath>\n",
       "    </text>\n",
       "    <path class=\"displacy-arrowhead\" d=\"M2145.0,704.0 L2153.0,692.0 2137.0,692.0\" fill=\"currentColor\"/>\n",
       "</g>\n",
       "\n",
       "<g class=\"displacy-arrow\">\n",
       "    <path class=\"displacy-arc\" id=\"arrow-54698be6e05c4cd0b6c2a9bac26f89f8-0-13\" stroke-width=\"2px\" d=\"M2170,702.0 C2170,614.5 2290.0,614.5 2290.0,702.0\" fill=\"none\" stroke=\"currentColor\"/>\n",
       "    <text dy=\"1.25em\" style=\"font-size: 0.8em; letter-spacing: 1px\">\n",
       "        <textPath xlink:href=\"#arrow-54698be6e05c4cd0b6c2a9bac26f89f8-0-13\" class=\"displacy-label\" startOffset=\"50%\" side=\"left\" fill=\"currentColor\" text-anchor=\"middle\">pobj</textPath>\n",
       "    </text>\n",
       "    <path class=\"displacy-arrowhead\" d=\"M2290.0,704.0 L2298.0,692.0 2282.0,692.0\" fill=\"currentColor\"/>\n",
       "</g>\n",
       "\n",
       "<g class=\"displacy-arrow\">\n",
       "    <path class=\"displacy-arc\" id=\"arrow-54698be6e05c4cd0b6c2a9bac26f89f8-0-14\" stroke-width=\"2px\" d=\"M2520,702.0 C2520,614.5 2640.0,614.5 2640.0,702.0\" fill=\"none\" stroke=\"currentColor\"/>\n",
       "    <text dy=\"1.25em\" style=\"font-size: 0.8em; letter-spacing: 1px\">\n",
       "        <textPath xlink:href=\"#arrow-54698be6e05c4cd0b6c2a9bac26f89f8-0-14\" class=\"displacy-label\" startOffset=\"50%\" side=\"left\" fill=\"currentColor\" text-anchor=\"middle\">nsubj</textPath>\n",
       "    </text>\n",
       "    <path class=\"displacy-arrowhead\" d=\"M2520,704.0 L2512,692.0 2528,692.0\" fill=\"currentColor\"/>\n",
       "</g>\n",
       "\n",
       "<g class=\"displacy-arrow\">\n",
       "    <path class=\"displacy-arc\" id=\"arrow-54698be6e05c4cd0b6c2a9bac26f89f8-0-15\" stroke-width=\"2px\" d=\"M2870,702.0 C2870,614.5 2990.0,614.5 2990.0,702.0\" fill=\"none\" stroke=\"currentColor\"/>\n",
       "    <text dy=\"1.25em\" style=\"font-size: 0.8em; letter-spacing: 1px\">\n",
       "        <textPath xlink:href=\"#arrow-54698be6e05c4cd0b6c2a9bac26f89f8-0-15\" class=\"displacy-label\" startOffset=\"50%\" side=\"left\" fill=\"currentColor\" text-anchor=\"middle\">det</textPath>\n",
       "    </text>\n",
       "    <path class=\"displacy-arrowhead\" d=\"M2870,704.0 L2862,692.0 2878,692.0\" fill=\"currentColor\"/>\n",
       "</g>\n",
       "\n",
       "<g class=\"displacy-arrow\">\n",
       "    <path class=\"displacy-arc\" id=\"arrow-54698be6e05c4cd0b6c2a9bac26f89f8-0-16\" stroke-width=\"2px\" d=\"M2695,702.0 C2695,527.0 2995.0,527.0 2995.0,702.0\" fill=\"none\" stroke=\"currentColor\"/>\n",
       "    <text dy=\"1.25em\" style=\"font-size: 0.8em; letter-spacing: 1px\">\n",
       "        <textPath xlink:href=\"#arrow-54698be6e05c4cd0b6c2a9bac26f89f8-0-16\" class=\"displacy-label\" startOffset=\"50%\" side=\"left\" fill=\"currentColor\" text-anchor=\"middle\">dobj</textPath>\n",
       "    </text>\n",
       "    <path class=\"displacy-arrowhead\" d=\"M2995.0,704.0 L3003.0,692.0 2987.0,692.0\" fill=\"currentColor\"/>\n",
       "</g>\n",
       "\n",
       "<g class=\"displacy-arrow\">\n",
       "    <path class=\"displacy-arc\" id=\"arrow-54698be6e05c4cd0b6c2a9bac26f89f8-0-17\" stroke-width=\"2px\" d=\"M3045,702.0 C3045,614.5 3165.0,614.5 3165.0,702.0\" fill=\"none\" stroke=\"currentColor\"/>\n",
       "    <text dy=\"1.25em\" style=\"font-size: 0.8em; letter-spacing: 1px\">\n",
       "        <textPath xlink:href=\"#arrow-54698be6e05c4cd0b6c2a9bac26f89f8-0-17\" class=\"displacy-label\" startOffset=\"50%\" side=\"left\" fill=\"currentColor\" text-anchor=\"middle\">prep</textPath>\n",
       "    </text>\n",
       "    <path class=\"displacy-arrowhead\" d=\"M3165.0,704.0 L3173.0,692.0 3157.0,692.0\" fill=\"currentColor\"/>\n",
       "</g>\n",
       "\n",
       "<g class=\"displacy-arrow\">\n",
       "    <path class=\"displacy-arc\" id=\"arrow-54698be6e05c4cd0b6c2a9bac26f89f8-0-18\" stroke-width=\"2px\" d=\"M3220,702.0 C3220,614.5 3340.0,614.5 3340.0,702.0\" fill=\"none\" stroke=\"currentColor\"/>\n",
       "    <text dy=\"1.25em\" style=\"font-size: 0.8em; letter-spacing: 1px\">\n",
       "        <textPath xlink:href=\"#arrow-54698be6e05c4cd0b6c2a9bac26f89f8-0-18\" class=\"displacy-label\" startOffset=\"50%\" side=\"left\" fill=\"currentColor\" text-anchor=\"middle\">pobj</textPath>\n",
       "    </text>\n",
       "    <path class=\"displacy-arrowhead\" d=\"M3340.0,704.0 L3348.0,692.0 3332.0,692.0\" fill=\"currentColor\"/>\n",
       "</g>\n",
       "\n",
       "<g class=\"displacy-arrow\">\n",
       "    <path class=\"displacy-arc\" id=\"arrow-54698be6e05c4cd0b6c2a9bac26f89f8-0-19\" stroke-width=\"2px\" d=\"M3570,702.0 C3570,614.5 3690.0,614.5 3690.0,702.0\" fill=\"none\" stroke=\"currentColor\"/>\n",
       "    <text dy=\"1.25em\" style=\"font-size: 0.8em; letter-spacing: 1px\">\n",
       "        <textPath xlink:href=\"#arrow-54698be6e05c4cd0b6c2a9bac26f89f8-0-19\" class=\"displacy-label\" startOffset=\"50%\" side=\"left\" fill=\"currentColor\" text-anchor=\"middle\">nsubj</textPath>\n",
       "    </text>\n",
       "    <path class=\"displacy-arrowhead\" d=\"M3570,704.0 L3562,692.0 3578,692.0\" fill=\"currentColor\"/>\n",
       "</g>\n",
       "\n",
       "<g class=\"displacy-arrow\">\n",
       "    <path class=\"displacy-arc\" id=\"arrow-54698be6e05c4cd0b6c2a9bac26f89f8-0-20\" stroke-width=\"2px\" d=\"M3395,702.0 C3395,527.0 3695.0,527.0 3695.0,702.0\" fill=\"none\" stroke=\"currentColor\"/>\n",
       "    <text dy=\"1.25em\" style=\"font-size: 0.8em; letter-spacing: 1px\">\n",
       "        <textPath xlink:href=\"#arrow-54698be6e05c4cd0b6c2a9bac26f89f8-0-20\" class=\"displacy-label\" startOffset=\"50%\" side=\"left\" fill=\"currentColor\" text-anchor=\"middle\">relcl</textPath>\n",
       "    </text>\n",
       "    <path class=\"displacy-arrowhead\" d=\"M3695.0,704.0 L3703.0,692.0 3687.0,692.0\" fill=\"currentColor\"/>\n",
       "</g>\n",
       "\n",
       "<g class=\"displacy-arrow\">\n",
       "    <path class=\"displacy-arc\" id=\"arrow-54698be6e05c4cd0b6c2a9bac26f89f8-0-21\" stroke-width=\"2px\" d=\"M3920,702.0 C3920,527.0 4220.0,527.0 4220.0,702.0\" fill=\"none\" stroke=\"currentColor\"/>\n",
       "    <text dy=\"1.25em\" style=\"font-size: 0.8em; letter-spacing: 1px\">\n",
       "        <textPath xlink:href=\"#arrow-54698be6e05c4cd0b6c2a9bac26f89f8-0-21\" class=\"displacy-label\" startOffset=\"50%\" side=\"left\" fill=\"currentColor\" text-anchor=\"middle\">det</textPath>\n",
       "    </text>\n",
       "    <path class=\"displacy-arrowhead\" d=\"M3920,704.0 L3912,692.0 3928,692.0\" fill=\"currentColor\"/>\n",
       "</g>\n",
       "\n",
       "<g class=\"displacy-arrow\">\n",
       "    <path class=\"displacy-arc\" id=\"arrow-54698be6e05c4cd0b6c2a9bac26f89f8-0-22\" stroke-width=\"2px\" d=\"M4095,702.0 C4095,614.5 4215.0,614.5 4215.0,702.0\" fill=\"none\" stroke=\"currentColor\"/>\n",
       "    <text dy=\"1.25em\" style=\"font-size: 0.8em; letter-spacing: 1px\">\n",
       "        <textPath xlink:href=\"#arrow-54698be6e05c4cd0b6c2a9bac26f89f8-0-22\" class=\"displacy-label\" startOffset=\"50%\" side=\"left\" fill=\"currentColor\" text-anchor=\"middle\">compound</textPath>\n",
       "    </text>\n",
       "    <path class=\"displacy-arrowhead\" d=\"M4095,704.0 L4087,692.0 4103,692.0\" fill=\"currentColor\"/>\n",
       "</g>\n",
       "\n",
       "<g class=\"displacy-arrow\">\n",
       "    <path class=\"displacy-arc\" id=\"arrow-54698be6e05c4cd0b6c2a9bac26f89f8-0-23\" stroke-width=\"2px\" d=\"M3745,702.0 C3745,439.5 4225.0,439.5 4225.0,702.0\" fill=\"none\" stroke=\"currentColor\"/>\n",
       "    <text dy=\"1.25em\" style=\"font-size: 0.8em; letter-spacing: 1px\">\n",
       "        <textPath xlink:href=\"#arrow-54698be6e05c4cd0b6c2a9bac26f89f8-0-23\" class=\"displacy-label\" startOffset=\"50%\" side=\"left\" fill=\"currentColor\" text-anchor=\"middle\">dobj</textPath>\n",
       "    </text>\n",
       "    <path class=\"displacy-arrowhead\" d=\"M4225.0,704.0 L4233.0,692.0 4217.0,692.0\" fill=\"currentColor\"/>\n",
       "</g>\n",
       "\n",
       "<g class=\"displacy-arrow\">\n",
       "    <path class=\"displacy-arc\" id=\"arrow-54698be6e05c4cd0b6c2a9bac26f89f8-0-24\" stroke-width=\"2px\" d=\"M3045,702.0 C3045,177.0 4415.0,177.0 4415.0,702.0\" fill=\"none\" stroke=\"currentColor\"/>\n",
       "    <text dy=\"1.25em\" style=\"font-size: 0.8em; letter-spacing: 1px\">\n",
       "        <textPath xlink:href=\"#arrow-54698be6e05c4cd0b6c2a9bac26f89f8-0-24\" class=\"displacy-label\" startOffset=\"50%\" side=\"left\" fill=\"currentColor\" text-anchor=\"middle\">cc</textPath>\n",
       "    </text>\n",
       "    <path class=\"displacy-arrowhead\" d=\"M4415.0,704.0 L4423.0,692.0 4407.0,692.0\" fill=\"currentColor\"/>\n",
       "</g>\n",
       "\n",
       "<g class=\"displacy-arrow\">\n",
       "    <path class=\"displacy-arc\" id=\"arrow-54698be6e05c4cd0b6c2a9bac26f89f8-0-25\" stroke-width=\"2px\" d=\"M3045,702.0 C3045,89.5 4595.0,89.5 4595.0,702.0\" fill=\"none\" stroke=\"currentColor\"/>\n",
       "    <text dy=\"1.25em\" style=\"font-size: 0.8em; letter-spacing: 1px\">\n",
       "        <textPath xlink:href=\"#arrow-54698be6e05c4cd0b6c2a9bac26f89f8-0-25\" class=\"displacy-label\" startOffset=\"50%\" side=\"left\" fill=\"currentColor\" text-anchor=\"middle\">conj</textPath>\n",
       "    </text>\n",
       "    <path class=\"displacy-arrowhead\" d=\"M4595.0,704.0 L4603.0,692.0 4587.0,692.0\" fill=\"currentColor\"/>\n",
       "</g>\n",
       "\n",
       "<g class=\"displacy-arrow\">\n",
       "    <path class=\"displacy-arc\" id=\"arrow-54698be6e05c4cd0b6c2a9bac26f89f8-0-26\" stroke-width=\"2px\" d=\"M4795,702.0 C4795,614.5 4915.0,614.5 4915.0,702.0\" fill=\"none\" stroke=\"currentColor\"/>\n",
       "    <text dy=\"1.25em\" style=\"font-size: 0.8em; letter-spacing: 1px\">\n",
       "        <textPath xlink:href=\"#arrow-54698be6e05c4cd0b6c2a9bac26f89f8-0-26\" class=\"displacy-label\" startOffset=\"50%\" side=\"left\" fill=\"currentColor\" text-anchor=\"middle\">nsubj</textPath>\n",
       "    </text>\n",
       "    <path class=\"displacy-arrowhead\" d=\"M4795,704.0 L4787,692.0 4803,692.0\" fill=\"currentColor\"/>\n",
       "</g>\n",
       "\n",
       "<g class=\"displacy-arrow\">\n",
       "    <path class=\"displacy-arc\" id=\"arrow-54698be6e05c4cd0b6c2a9bac26f89f8-0-27\" stroke-width=\"2px\" d=\"M4620,702.0 C4620,527.0 4920.0,527.0 4920.0,702.0\" fill=\"none\" stroke=\"currentColor\"/>\n",
       "    <text dy=\"1.25em\" style=\"font-size: 0.8em; letter-spacing: 1px\">\n",
       "        <textPath xlink:href=\"#arrow-54698be6e05c4cd0b6c2a9bac26f89f8-0-27\" class=\"displacy-label\" startOffset=\"50%\" side=\"left\" fill=\"currentColor\" text-anchor=\"middle\">relcl</textPath>\n",
       "    </text>\n",
       "    <path class=\"displacy-arrowhead\" d=\"M4920.0,704.0 L4928.0,692.0 4912.0,692.0\" fill=\"currentColor\"/>\n",
       "</g>\n",
       "\n",
       "<g class=\"displacy-arrow\">\n",
       "    <path class=\"displacy-arc\" id=\"arrow-54698be6e05c4cd0b6c2a9bac26f89f8-0-28\" stroke-width=\"2px\" d=\"M5145,702.0 C5145,614.5 5265.0,614.5 5265.0,702.0\" fill=\"none\" stroke=\"currentColor\"/>\n",
       "    <text dy=\"1.25em\" style=\"font-size: 0.8em; letter-spacing: 1px\">\n",
       "        <textPath xlink:href=\"#arrow-54698be6e05c4cd0b6c2a9bac26f89f8-0-28\" class=\"displacy-label\" startOffset=\"50%\" side=\"left\" fill=\"currentColor\" text-anchor=\"middle\">aux</textPath>\n",
       "    </text>\n",
       "    <path class=\"displacy-arrowhead\" d=\"M5145,704.0 L5137,692.0 5153,692.0\" fill=\"currentColor\"/>\n",
       "</g>\n",
       "\n",
       "<g class=\"displacy-arrow\">\n",
       "    <path class=\"displacy-arc\" id=\"arrow-54698be6e05c4cd0b6c2a9bac26f89f8-0-29\" stroke-width=\"2px\" d=\"M4970,702.0 C4970,527.0 5270.0,527.0 5270.0,702.0\" fill=\"none\" stroke=\"currentColor\"/>\n",
       "    <text dy=\"1.25em\" style=\"font-size: 0.8em; letter-spacing: 1px\">\n",
       "        <textPath xlink:href=\"#arrow-54698be6e05c4cd0b6c2a9bac26f89f8-0-29\" class=\"displacy-label\" startOffset=\"50%\" side=\"left\" fill=\"currentColor\" text-anchor=\"middle\">xcomp</textPath>\n",
       "    </text>\n",
       "    <path class=\"displacy-arrowhead\" d=\"M5270.0,704.0 L5278.0,692.0 5262.0,692.0\" fill=\"currentColor\"/>\n",
       "</g>\n",
       "\n",
       "<g class=\"displacy-arrow\">\n",
       "    <path class=\"displacy-arc\" id=\"arrow-54698be6e05c4cd0b6c2a9bac26f89f8-0-30\" stroke-width=\"2px\" d=\"M5495,702.0 C5495,439.5 5975.0,439.5 5975.0,702.0\" fill=\"none\" stroke=\"currentColor\"/>\n",
       "    <text dy=\"1.25em\" style=\"font-size: 0.8em; letter-spacing: 1px\">\n",
       "        <textPath xlink:href=\"#arrow-54698be6e05c4cd0b6c2a9bac26f89f8-0-30\" class=\"displacy-label\" startOffset=\"50%\" side=\"left\" fill=\"currentColor\" text-anchor=\"middle\">det</textPath>\n",
       "    </text>\n",
       "    <path class=\"displacy-arrowhead\" d=\"M5495,704.0 L5487,692.0 5503,692.0\" fill=\"currentColor\"/>\n",
       "</g>\n",
       "\n",
       "<g class=\"displacy-arrow\">\n",
       "    <path class=\"displacy-arc\" id=\"arrow-54698be6e05c4cd0b6c2a9bac26f89f8-0-31\" stroke-width=\"2px\" d=\"M5670,702.0 C5670,527.0 5970.0,527.0 5970.0,702.0\" fill=\"none\" stroke=\"currentColor\"/>\n",
       "    <text dy=\"1.25em\" style=\"font-size: 0.8em; letter-spacing: 1px\">\n",
       "        <textPath xlink:href=\"#arrow-54698be6e05c4cd0b6c2a9bac26f89f8-0-31\" class=\"displacy-label\" startOffset=\"50%\" side=\"left\" fill=\"currentColor\" text-anchor=\"middle\">amod</textPath>\n",
       "    </text>\n",
       "    <path class=\"displacy-arrowhead\" d=\"M5670,704.0 L5662,692.0 5678,692.0\" fill=\"currentColor\"/>\n",
       "</g>\n",
       "\n",
       "<g class=\"displacy-arrow\">\n",
       "    <path class=\"displacy-arc\" id=\"arrow-54698be6e05c4cd0b6c2a9bac26f89f8-0-32\" stroke-width=\"2px\" d=\"M5845,702.0 C5845,614.5 5965.0,614.5 5965.0,702.0\" fill=\"none\" stroke=\"currentColor\"/>\n",
       "    <text dy=\"1.25em\" style=\"font-size: 0.8em; letter-spacing: 1px\">\n",
       "        <textPath xlink:href=\"#arrow-54698be6e05c4cd0b6c2a9bac26f89f8-0-32\" class=\"displacy-label\" startOffset=\"50%\" side=\"left\" fill=\"currentColor\" text-anchor=\"middle\">compound</textPath>\n",
       "    </text>\n",
       "    <path class=\"displacy-arrowhead\" d=\"M5845,704.0 L5837,692.0 5853,692.0\" fill=\"currentColor\"/>\n",
       "</g>\n",
       "\n",
       "<g class=\"displacy-arrow\">\n",
       "    <path class=\"displacy-arc\" id=\"arrow-54698be6e05c4cd0b6c2a9bac26f89f8-0-33\" stroke-width=\"2px\" d=\"M5320,702.0 C5320,352.0 5980.0,352.0 5980.0,702.0\" fill=\"none\" stroke=\"currentColor\"/>\n",
       "    <text dy=\"1.25em\" style=\"font-size: 0.8em; letter-spacing: 1px\">\n",
       "        <textPath xlink:href=\"#arrow-54698be6e05c4cd0b6c2a9bac26f89f8-0-33\" class=\"displacy-label\" startOffset=\"50%\" side=\"left\" fill=\"currentColor\" text-anchor=\"middle\">dobj</textPath>\n",
       "    </text>\n",
       "    <path class=\"displacy-arrowhead\" d=\"M5980.0,704.0 L5988.0,692.0 5972.0,692.0\" fill=\"currentColor\"/>\n",
       "</g>\n",
       "\n",
       "<g class=\"displacy-arrow\">\n",
       "    <path class=\"displacy-arc\" id=\"arrow-54698be6e05c4cd0b6c2a9bac26f89f8-0-34\" stroke-width=\"2px\" d=\"M5320,702.0 C5320,264.5 6160.0,264.5 6160.0,702.0\" fill=\"none\" stroke=\"currentColor\"/>\n",
       "    <text dy=\"1.25em\" style=\"font-size: 0.8em; letter-spacing: 1px\">\n",
       "        <textPath xlink:href=\"#arrow-54698be6e05c4cd0b6c2a9bac26f89f8-0-34\" class=\"displacy-label\" startOffset=\"50%\" side=\"left\" fill=\"currentColor\" text-anchor=\"middle\">advmod</textPath>\n",
       "    </text>\n",
       "    <path class=\"displacy-arrowhead\" d=\"M6160.0,704.0 L6168.0,692.0 6152.0,692.0\" fill=\"currentColor\"/>\n",
       "</g>\n",
       "</svg></span>"
      ],
      "text/plain": [
       "<IPython.core.display.HTML object>"
      ]
     },
     "metadata": {},
     "output_type": "display_data"
    }
   ],
   "source": [
    "# Quote a paragraph from Politico.com here as the corpus.\n",
    "doc = nlp(\"Former Presidents Barack Obama, George W. Bush, Bill Clinton and Jimmy Carter on Wednesday each condemned the mob of rioters who stormed the U.S. Capitol — and lawmakers who sought to delegitimize the presidential election results beforehand.\")\n",
    "displacy.render(doc, style=\"dep\")"
   ]
  },
  {
   "cell_type": "code",
   "execution_count": null,
   "metadata": {},
   "outputs": [],
   "source": []
  },
  {
   "cell_type": "markdown",
   "metadata": {},
   "source": [
    "# Distributional distances\n",
    "\n",
    "If we want to compare different corpora, we need a distance or divergence that compares the two distributions.\n",
    "\n",
    "We will use the: \n",
    "\n",
    "+ Kullback-Leibler (KL) divergence\n",
    "+ $\\chi^2$ divergence\n",
    "+ Kolmogorov-Smirnov (KS) distance\n",
    "+ Wasserstein distance\n",
    "\n",
    "### Kullback-Leibler and $x^2$ divergences ###\n",
    "\n",
    "KL and $\\chi^2$ divergences are members of the broader <a \"href=https://en.wikipedia.org/wiki/F-divergence\" target=\"_blank\">$f$-divergence</a> family, a function of $D_f (P || Q)$ that calculates the difference between two probability distributions P and Q. The KL $f(t)$ is $ t \\text{ log } t $, while the $\\chi^2$ is $t^2-1$. KL comes from information and $\\chi^2$ from measure theory. As such, the KL divergence computes the relative entropy between two distributions--how they differ in bits, while the $\\chi^2$ whether the same statistical inferences can be drawn from them both.  \n",
    "\n",
    "Specifically, given two discrete probability distributions $P$ and $Q$, the Kullback-Leibler divergence from $Q$ to $P$ is defined as:\n",
    "\n",
    "$D_{\\mathrm{KL}}(P\\|Q) = \\sum_i P(i) \\, \\log\\frac{P(i)}{Q(i)}$.\n",
    "\n",
    "The [scipy.stats.entropy()](https://docs.scipy.org/doc/scipy/reference/generated/scipy.stats.entropy.html) function does the calculation for you, which takes in two arrays of probabilities and computes the KL divergence. Note that the KL divergence is in general not commutative, i.e. $D_{\\mathrm{KL}}(P\\|Q) \\neq D_{\\mathrm{KL}}(Q\\|P)$ .\n",
    "\n",
    "Also note that the KL divernce is the sum of elementwise divergences. Scipy provides [scipy.special.kl_div()](https://docs.scipy.org/doc/scipy/reference/generated/scipy.special.kl_div.html#scipy-special-kl-div) which calculates elementwise divergences for you.\n",
    "\n",
    "The $\\chi^2$ Divergence is defined as:\n",
    "\n",
    "$D_{\\mathrm{\\chi^2}}(P\\|Q) = \\sum_i \\left(\\frac{P(i)}{Q(i)}-1\\right)^2$. \n",
    "\n",
    "This is also noncommutative, and the code can be drawn directly from scipy.\n",
    "\n",
    "### Kolmogorov-Smirnov ###\n",
    "\n",
    "The two-sample Kolmogovorov-Smirnov test statistic calculates the distance between the cumulative distribution function of the two distributions to be compared, and, along with the $x^2$ divergence, is among the most common approaches two calculating a distance in statistics. It can be interpreted as a test of whether two distributions are drawn from the same underlying distribution. As with the others, the code is readily available in scipy.\n",
    "\n",
    "### Wasserstein Distance ###\n",
    "\n",
    "When this is computed on a Euclidian metric structure (e.g., numbers of words), this is also known as the earth mover’s distance, because it can be seen as the minimum amount of \"work\" required to transform $P$ into $Q$, where \"work\" is measured as the amount of distribution weight that must be moved, multiplied by the distance it has to be moved.\n",
    "\n",
    "### Computing ###\n",
    "\n",
    "To do this we will need to create the arrays, lets compare the Whitehouse releases with the Kennedy releases. First we have to download them and load them into a DataFrame."
   ]
  },
  {
   "cell_type": "code",
   "execution_count": null,
   "metadata": {},
   "outputs": [],
   "source": [
    "kenReleases = getGithubFiles('https://api.github.com/repos/lintool/GrimmerSenatePressReleases/contents/raw/Kennedy', maxFiles = 10)\n",
    "kenReleases[:5]"
   ]
  },
  {
   "cell_type": "markdown",
   "metadata": {},
   "source": [
    "Then we can tokenize, stem and remove stop words, like we did for the Whitehouse press releases"
   ]
  },
  {
   "cell_type": "code",
   "execution_count": null,
   "metadata": {},
   "outputs": [],
   "source": [
    "kenReleases['tokenized_text'] = kenReleases['text'].apply(lambda x: word_tokenize(x))\n",
    "kenReleases['normalized_tokens'] = kenReleases['tokenized_text'].apply(lambda x: normalizeTokens(x))"
   ]
  },
  {
   "cell_type": "markdown",
   "metadata": {},
   "source": [
    "Now we need to compare the two collection of words, remove those not found in both, and assign the remaining ones indices."
   ]
  },
  {
   "cell_type": "code",
   "execution_count": null,
   "metadata": {},
   "outputs": [],
   "source": [
    "whWords = set(whReleases['normalized_tokens'].sum())\n",
    "kenWords = set(kenReleases['normalized_tokens'].sum())\n",
    "\n",
    "#Change & to | if you want to keep all words\n",
    "overlapWords = whWords & kenWords\n",
    "\n",
    "overlapWordsDict = {word: index for index, word in enumerate(overlapWords)}\n",
    "overlapWordsDict['student']"
   ]
  },
  {
   "cell_type": "markdown",
   "metadata": {},
   "source": [
    "Now we can count the occurrences of each word in the corpora and create our arrays. Note that we don't have to use numpy arrays as we do here. We could just use a list, but the arrays are faster in numpy so we encourage you to get in the habit of using them."
   ]
  },
  {
   "cell_type": "code",
   "execution_count": null,
   "metadata": {},
   "outputs": [],
   "source": [
    "def makeProbsArray(dfColumn, overlapDict):\n",
    "    words = dfColumn.sum()\n",
    "    countList = [0] * len(overlapDict)\n",
    "    for word in words:\n",
    "        try:\n",
    "            countList[overlapDict[word]] += 1\n",
    "        except KeyError:\n",
    "            #The word is not common so we skip it\n",
    "            pass\n",
    "    countArray = np.array(countList)\n",
    "    return countArray / countArray.sum()\n",
    "\n",
    "whProbArray = makeProbsArray(whReleases['normalized_tokens'], overlapWordsDict)\n",
    "kenProbArray = makeProbsArray(kenReleases['normalized_tokens'], overlapWordsDict)\n",
    "kenProbArray.sum()\n",
    "#There is a little bit of a floating point math error\n",
    "#but it's too small to see with print and too small matter here"
   ]
  },
  {
   "cell_type": "markdown",
   "metadata": {},
   "source": [
    "We can now compute the KL divergence. Pay attention to the asymmetry. Use [the Jensen–Shannon divergence](https://en.wikipedia.org/wiki/Jensen%E2%80%93Shannon_divergence), which is the average KL divergence between each distribution and the average of both distributions (i.e., the midpoint), if you want symmetry."
   ]
  },
  {
   "cell_type": "code",
   "execution_count": null,
   "metadata": {},
   "outputs": [],
   "source": [
    "wh_kenDivergence = scipy.stats.entropy(whProbArray, kenProbArray)\n",
    "print (wh_kenDivergence)\n",
    "ken_whDivergence = scipy.stats.entropy(kenProbArray, whProbArray)\n",
    "print (ken_whDivergence)"
   ]
  },
  {
   "cell_type": "markdown",
   "metadata": {},
   "source": [
    "Then, we can do the elementwise calculation and see which words best distinguish the two corpora."
   ]
  },
  {
   "cell_type": "code",
   "execution_count": null,
   "metadata": {},
   "outputs": [],
   "source": [
    "wh_kenDivergence_ew = scipy.special.kl_div(whProbArray, kenProbArray)\n",
    "kl_df = pandas.DataFrame(list(overlapWordsDict.keys()), columns = ['word'], index = list(overlapWordsDict.values()))\n",
    "kl_df = kl_df.sort_index()\n",
    "kl_df['elementwise divergence'] = wh_kenDivergence_ew\n",
    "kl_df[:10]"
   ]
  },
  {
   "cell_type": "code",
   "execution_count": null,
   "metadata": {},
   "outputs": [],
   "source": [
    "kl_df.sort_values(by='elementwise divergence', ascending=False)[:10]"
   ]
  },
  {
   "cell_type": "markdown",
   "metadata": {},
   "source": [
    "Now we will apply what we learned today \n",
    "First, let's transform every text into normalized tokens. Note that in this first step, no stopword is removed.\n",
    "We'll use only the first 11 movies: you are welcome to try more."
   ]
  },
  {
   "cell_type": "code",
   "execution_count": null,
   "metadata": {},
   "outputs": [],
   "source": [
    "corpora = []\n",
    "for index, row in movie_df.iterrows():\n",
    "    if len(corpora) > 10:\n",
    "        break\n",
    "    corpora.append(row['Tokenized Texts'])"
   ]
  },
  {
   "cell_type": "markdown",
   "metadata": {},
   "source": [
    "Then, let's separate the normalized tokens into stopwords and non-stopwords."
   ]
  },
  {
   "cell_type": "code",
   "execution_count": null,
   "metadata": {},
   "outputs": [],
   "source": [
    "corpora_s = []\n",
    "corpora_nons = []\n",
    "for corpus in corpora:\n",
    "    s = []\n",
    "    nons = []\n",
    "    doc = nlp(' '.join(corpus))\n",
    "    for word in doc:\n",
    "        if word.is_stop:\n",
    "            s.append(word.text)\n",
    "        else:\n",
    "            nons.append(word.text)\n",
    "    corpora_s.append(s)\n",
    "    corpora_nons.append(nons)"
   ]
  },
  {
   "cell_type": "markdown",
   "metadata": {},
   "source": [
    "Define some covenient funtions for calculating divergence and distances."
   ]
  },
  {
   "cell_type": "code",
   "execution_count": null,
   "metadata": {},
   "outputs": [],
   "source": [
    "def kl_divergence(X, Y):\n",
    "    P = X.copy()\n",
    "    Q = Y.copy()\n",
    "    P.columns = ['P']\n",
    "    Q.columns = ['Q']\n",
    "    df = Q.join(P).fillna(0)\n",
    "    p = df.iloc[:,1]\n",
    "    q = df.iloc[:,0]\n",
    "    D_kl = scipy.stats.entropy(p, q)\n",
    "    return D_kl\n",
    "\n",
    "def chi2_divergence(X,Y):\n",
    "    P = X.copy()\n",
    "    Q = Y.copy()\n",
    "    P.columns = ['P']\n",
    "    Q.columns = ['Q']\n",
    "    df = Q.join(P).fillna(0)\n",
    "    p = df.iloc[:,1]\n",
    "    q = df.iloc[:,0]\n",
    "    return scipy.stats.chisquare(p, q).statistic\n",
    "\n",
    "def Divergence(corpus1, corpus2, difference=\"KL\"):\n",
    "    \"\"\"Difference parameter can equal KL, Chi2, or Wass\"\"\"\n",
    "    freqP = nltk.FreqDist(corpus1)\n",
    "    P = pandas.DataFrame(list(freqP.values()), columns = ['frequency'], index = list(freqP.keys()))\n",
    "    freqQ = nltk.FreqDist(corpus2)\n",
    "    Q = pandas.DataFrame(list(freqQ.values()), columns = ['frequency'], index = list(freqQ.keys()))\n",
    "    if difference == \"KL\":\n",
    "        return kl_divergence(P, Q)\n",
    "    elif difference == \"Chi2\":\n",
    "        return chi2_divergence(P, Q)\n",
    "    elif difference == \"KS\":\n",
    "        try:\n",
    "            return scipy.stats.ks_2samp(P['frequency'], Q['frequency']).statistic\n",
    "        except:\n",
    "            return scipy.stats.ks_2samp(P['frequency'], Q['frequency'])\n",
    "    elif difference == \"Wasserstein\":\n",
    "        try:\n",
    "            return scipy.stats.wasserstein_distance(P['frequency'], Q['frequency'], u_weights=None, v_weights=None).statistic\n",
    "        except:\n",
    "            return scipy.stats.wasserstein_distance(P['frequency'], Q['frequency'], u_weights=None, v_weights=None)"
   ]
  },
  {
   "cell_type": "markdown",
   "metadata": {},
   "source": [
    "Now we will calculate the KL divergence for each pair of corpora, turn the results into a matrix, and visualize the matrix as a heatmap. Recall that $D_{\\mathrm{KL}}(P\\|Q)$ measures the amount of information loss when $Q$ is used to approximate $P$. Here, the rows are the $P$s used for calculating KL divergences, and the columns are the $Q$s. So, each cell measures the amount of information loss when the word distribution of the column text is used to approximate the word distribution of the row text. Because the KL divergence is directional, such that the divergence of $P$ from $Q$ is different from the same of $Q$ from $P$, the matrix is assymetric and contains unique information above and below the diagonal. The same is true for the $\\chi^2$ divergence."
   ]
  },
  {
   "cell_type": "code",
   "execution_count": null,
   "metadata": {},
   "outputs": [],
   "source": [
    "len(corpora)"
   ]
  },
  {
   "cell_type": "code",
   "execution_count": null,
   "metadata": {},
   "outputs": [],
   "source": [
    "fileids = list(movie_df['Movie Name'])[0:11]"
   ]
  },
  {
   "cell_type": "code",
   "execution_count": null,
   "metadata": {},
   "outputs": [],
   "source": [
    "L = []\n",
    "for p in corpora:\n",
    "    l = []\n",
    "    for q in corpora:\n",
    "        l.append(Divergence(p,q, difference = 'KL'))\n",
    "    L.append(l)\n",
    "M = np.array(L)\n",
    "fig = plt.figure()\n",
    "div = pandas.DataFrame(M, columns = fileids, index = fileids)\n",
    "ax = sns.heatmap(div)\n",
    "plt.show()"
   ]
  },
  {
   "cell_type": "markdown",
   "metadata": {},
   "source": [
    "\n",
    "To reveal more patterns, let's do a multidimensional scaling of the matrix."
   ]
  },
  {
   "cell_type": "code",
   "execution_count": null,
   "metadata": {},
   "outputs": [],
   "source": [
    "mds = sklearn.manifold.MDS()\n",
    "pos = mds.fit(M).embedding_\n",
    "x = pos[:,0]\n",
    "y = pos[:,1]\n",
    "fig, ax = plt.subplots(figsize = (6,6))\n",
    "plt.plot(x, y, ' ')\n",
    "for i, txt in enumerate(fileids):\n",
    "    ax.annotate(txt, (x[i],y[i]))"
   ]
  },
  {
   "cell_type": "markdown",
   "metadata": {},
   "source": [
    "A co-respondent's course and The Chain Gang are away from the others - any guesses why?\n",
    "\n",
    "We may just want to focus on the distrbution of stopwords or non-stopwords. Let's do the analysis again first for stopwords and then for non-stopwords."
   ]
  },
  {
   "cell_type": "code",
   "execution_count": null,
   "metadata": {},
   "outputs": [],
   "source": [
    "L = []\n",
    "for p in corpora_s:\n",
    "    l = []\n",
    "    for q in corpora_s:\n",
    "        l.append(Divergence(p,q, difference='KL'))\n",
    "    L.append(l)\n",
    "M = np.array(L)\n",
    "fig = plt.figure()\n",
    "div = pandas.DataFrame(M, columns = fileids, index = fileids)\n",
    "ax = sns.heatmap(div)\n",
    "plt.show()"
   ]
  },
  {
   "cell_type": "code",
   "execution_count": null,
   "metadata": {},
   "outputs": [],
   "source": [
    "L = []\n",
    "for p in corpora_nons:\n",
    "    l = []\n",
    "    for q in corpora_nons:\n",
    "        l.append(Divergence(p,q, difference='KL'))\n",
    "    L.append(l)\n",
    "M = np.array(L)\n",
    "fig = plt.figure()\n",
    "div = pandas.DataFrame(M, columns = fileids, index = fileids)\n",
    "ax = sns.heatmap(div)\n",
    "plt.show()"
   ]
  },
  {
   "cell_type": "markdown",
   "metadata": {},
   "source": [
    "Now we compute the same for the assymmetric $\\chi^2$ Divergence."
   ]
  },
  {
   "cell_type": "code",
   "execution_count": null,
   "metadata": {},
   "outputs": [],
   "source": [
    "L = []\n",
    "for p in corpora_nons:\n",
    "    l = []\n",
    "    for q in corpora_nons:\n",
    "        l.append(Divergence(p,q, difference='Chi2'))\n",
    "    L.append(l)\n",
    "M = np.array(L)\n",
    "fig = plt.figure()\n",
    "div = pandas.DataFrame(M, columns = fileids, index = fileids)\n",
    "ax = sns.heatmap(div)\n",
    "plt.show()"
   ]
  },
  {
   "cell_type": "markdown",
   "metadata": {},
   "source": [
    "For the KS distance:"
   ]
  },
  {
   "cell_type": "code",
   "execution_count": null,
   "metadata": {},
   "outputs": [],
   "source": [
    "L = []\n",
    "for p in corpora_nons:\n",
    "    l = []\n",
    "    for q in corpora_nons:\n",
    "        l.append(Divergence(p,q, difference='KS'))\n",
    "    L.append(l)\n",
    "M = np.array(L)\n",
    "fig = plt.figure()\n",
    "div = pandas.DataFrame(M, columns = fileids, index = fileids)\n",
    "ax = sns.heatmap(div)\n",
    "plt.show()"
   ]
  },
  {
   "cell_type": "markdown",
   "metadata": {},
   "source": [
    "And finally for the Wasserstein or \"earth mover's\" Distance."
   ]
  },
  {
   "cell_type": "code",
   "execution_count": null,
   "metadata": {},
   "outputs": [],
   "source": [
    "L = []\n",
    "for p in corpora_nons:\n",
    "    l = []\n",
    "    for q in corpora_nons:\n",
    "        l.append(Divergence(p,q, difference='Wasserstein'))\n",
    "    L.append(l)\n",
    "M = np.array(L)\n",
    "fig = plt.figure()\n",
    "div = pandas.DataFrame(M, columns = fileids, index = fileids)\n",
    "ax = sns.heatmap(div)\n",
    "plt.show()"
   ]
  },
  {
   "cell_type": "markdown",
   "metadata": {},
   "source": [
    "You can see that decade X is highly divergent and this makes reading the plot somewhat difficult. Let's fix this by taking the log of each cell, which will reduce the distance of decode X from other texts as an outlier."
   ]
  },
  {
   "cell_type": "code",
   "execution_count": null,
   "metadata": {},
   "outputs": [],
   "source": [
    "ax = sns.heatmap(div.apply(np.log).replace([np.inf, -np.inf], np.nan))\n",
    "plt.show()"
   ]
  },
  {
   "cell_type": "markdown",
   "metadata": {},
   "source": [
    "We only tried 11 movies, and from the same time period, so our signals might not be too interesting. What about different time periods?\n",
    "\n",
    "An interesting experiment to maybe get some clearer signals: documents by decade in the Davies Corpus Of Historial American English (COHA) and see if we can detect patterns between them. \n",
    "\n",
    "If we want to rerun this on a new data set of our own composition, we can be a bit more efficient with our coding. Let's use the Shakespeare texts from last week as example. Here we again make use of our convenient `lucem_illud` functions, namely `loadTextDirectory`, which is found in [loaders.py](https://github.com/UChicago-Computational-Content-Analysis/lucem_illud/blob/main/lucem_illud/loaders.py). "
   ]
  },
  {
   "cell_type": "code",
   "execution_count": null,
   "metadata": {},
   "outputs": [],
   "source": [
    "def loadTextDirectory(targetDir, encoding = 'utf-8'):\n",
    "    text = []\n",
    "    fileName = []\n",
    "\n",
    "    for file in (file for file in os.scandir(targetDir) if file.is_file() and not file.name.startswith('.')):\n",
    "        with open(file.path, encoding = encoding) as f:\n",
    "            text.append(f.read())\n",
    "        fileName.append(file.name)\n",
    "    return pandas.DataFrame({'text' : text}, index = fileName)"
   ]
  },
  {
   "cell_type": "code",
   "execution_count": null,
   "metadata": {},
   "outputs": [],
   "source": [
    "shakespeare_df = lucem_illud.loadTextDirectory('../data/Shakespeare')"
   ]
  },
  {
   "cell_type": "markdown",
   "metadata": {},
   "source": [
    "Now we stem and remove stopwords"
   ]
  },
  {
   "cell_type": "code",
   "execution_count": null,
   "metadata": {},
   "outputs": [],
   "source": [
    "shakespeare_df['tokenized_text'] = shakespeare_df['text'].apply(lambda x: word_tokenize(x))\n",
    "shakespeare_df['normalized_tokens'] = shakespeare_df['tokenized_text'].apply(lambda x: normalizeTokens(x))"
   ]
  },
  {
   "cell_type": "markdown",
   "metadata": {},
   "source": [
    "Create the corpus file and generate the heatmap:"
   ]
  },
  {
   "cell_type": "code",
   "execution_count": null,
   "metadata": {},
   "outputs": [],
   "source": [
    "measure = 'KS' #\"KL\", \"Chi2\", \"KS\", \"Wasserstein\"\n",
    "num_of_texts = 10 #The bigger this number the slower it will run, you can also try selecting your own plays\n",
    "fileids_sp = list(shakespeare_df[:num_of_texts].index)\n",
    "corpora_sp = list(shakespeare_df[:num_of_texts]['normalized_tokens'])\n",
    "L = []\n",
    "for p in corpora_sp:\n",
    "    l = []\n",
    "    for q in corpora_sp:\n",
    "        l.append(Divergence(p,q, difference=measure))\n",
    "    L.append(l)\n",
    "M = np.array(L)\n",
    "fig = plt.figure()\n",
    "div = pandas.DataFrame(M, columns = fileids_sp, index = fileids_sp)\n",
    "ax = sns.heatmap(div)\n",
    "plt.show()"
   ]
  },
  {
   "cell_type": "markdown",
   "metadata": {},
   "source": [
    "What are \"The Passionate Pilgrim\" and \"The Phoenix and the Turtle\"? Little known poems by Shakespeare that are unsurprisingly hard to classify, as they are so different from everything else he wrote."
   ]
  },
  {
   "cell_type": "markdown",
   "metadata": {},
   "source": [
    "## <font color=\"red\">*Exercise 7*</font>\n",
    "\n",
    "<font color=\"red\">Construct cells immediately below this that calculate the KL and $\\chi^2$ divergences, and the KS and Wasserstein distances between four separate corpora, plot these with heatmaps, and then array them in two dimensions with multidimensional scaling as above. What does this reveal about relations between the corpora? Which analysis (and divergence or distribution) distinguishes the authors or documents better?\n",
    "\n",
    "**Stretch**: Calculate the [Jensen-Shannon Divergence](https://en.wikipedia.org/wiki/Jensen–Shannon_divergence) between your four corpora. What is the relationship between the KL and JS divergences?</font> "
   ]
  }
 ],
 "metadata": {
  "anaconda-cloud": {},
  "kernelspec": {
   "display_name": "Python 3",
   "language": "python",
   "name": "python3"
  },
  "language_info": {
   "codemirror_mode": {
    "name": "ipython",
    "version": 3
   },
   "file_extension": ".py",
   "mimetype": "text/x-python",
   "name": "python",
   "nbconvert_exporter": "python",
   "pygments_lexer": "ipython3",
   "version": "3.8.8"
  }
 },
 "nbformat": 4,
 "nbformat_minor": 4
}
